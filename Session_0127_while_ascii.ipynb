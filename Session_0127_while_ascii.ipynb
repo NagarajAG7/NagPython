{
 "cells": [
  {
   "cell_type": "markdown",
   "id": "b5ffaf7f-ae4e-4f9c-b9da-af7ee222c16d",
   "metadata": {},
   "source": [
    "**in operator**\n"
   ]
  },
  {
   "cell_type": "code",
   "execution_count": 12,
   "id": "7d2c756d-c4ac-425f-8ac8-645c5fefab76",
   "metadata": {},
   "outputs": [
    {
     "name": "stdout",
     "output_type": "stream",
     "text": [
      "0 1 2 3 4 5 6 7 8 9 "
     ]
    }
   ],
   "source": [
    "for i in range(10):\n",
    "    print(i, end=\" \")"
   ]
  },
  {
   "cell_type": "code",
   "execution_count": 18,
   "id": "c3171b19-f700-4a22-a779-32073e9724c6",
   "metadata": {},
   "outputs": [
    {
     "ename": "TypeError",
     "evalue": "'str' object cannot be interpreted as an integer",
     "output_type": "error",
     "traceback": [
      "\u001b[1;31m---------------------------------------------------------------------------\u001b[0m",
      "\u001b[1;31mTypeError\u001b[0m                                 Traceback (most recent call last)",
      "Cell \u001b[1;32mIn[18], line 1\u001b[0m\n\u001b[1;32m----> 1\u001b[0m \u001b[38;5;28;01mfor\u001b[39;00m i \u001b[38;5;129;01min\u001b[39;00m \u001b[38;5;28mrange\u001b[39m(\u001b[38;5;124m'\u001b[39m\u001b[38;5;124mabc\u001b[39m\u001b[38;5;124m'\u001b[39m):\n\u001b[0;32m      2\u001b[0m     \u001b[38;5;28mprint\u001b[39m(i, end\u001b[38;5;241m=\u001b[39m\u001b[38;5;124m'\u001b[39m\u001b[38;5;124m'\u001b[39m)\n",
      "\u001b[1;31mTypeError\u001b[0m: 'str' object cannot be interpreted as an integer"
     ]
    }
   ],
   "source": [
    "for i in range('abc'):\n",
    "    print(i, end='')"
   ]
  },
  {
   "cell_type": "code",
   "execution_count": 22,
   "id": "fb0e7ffa-ec02-4515-804b-3c6292cd7bf4",
   "metadata": {},
   "outputs": [
    {
     "name": "stdout",
     "output_type": "stream",
     "text": [
      "a b c "
     ]
    }
   ],
   "source": [
    "for i in 'abc':\n",
    "    print(i, end=' ')"
   ]
  },
  {
   "cell_type": "code",
   "execution_count": 24,
   "id": "2455f23e-409a-439a-bba9-0faabd7f9407",
   "metadata": {},
   "outputs": [
    {
     "data": {
      "text/plain": [
       "True"
      ]
     },
     "execution_count": 24,
     "metadata": {},
     "output_type": "execute_result"
    }
   ],
   "source": [
    "'p' in 'apple'"
   ]
  },
  {
   "cell_type": "code",
   "execution_count": 26,
   "id": "8b794588-ad81-41e6-8019-189529fc478f",
   "metadata": {},
   "outputs": [
    {
     "data": {
      "text/plain": [
       "False"
      ]
     },
     "execution_count": 26,
     "metadata": {},
     "output_type": "execute_result"
    }
   ],
   "source": [
    "'N' in 'nag'"
   ]
  },
  {
   "cell_type": "code",
   "execution_count": 28,
   "id": "b1add63b-32e5-4d87-9eb5-811c9c83df0c",
   "metadata": {},
   "outputs": [
    {
     "data": {
      "text/plain": [
       "True"
      ]
     },
     "execution_count": 28,
     "metadata": {},
     "output_type": "execute_result"
    }
   ],
   "source": [
    "'N' in 'Nag'"
   ]
  },
  {
   "cell_type": "code",
   "execution_count": 30,
   "id": "35b9df70-bf33-4482-b2d1-2d0212b82e42",
   "metadata": {},
   "outputs": [
    {
     "data": {
      "text/plain": [
       "False"
      ]
     },
     "execution_count": 30,
     "metadata": {},
     "output_type": "execute_result"
    }
   ],
   "source": [
    "'A'=='a'"
   ]
  },
  {
   "cell_type": "code",
   "execution_count": 32,
   "id": "16aeac3c-87e8-4dd8-bb75-bbef936e6862",
   "metadata": {},
   "outputs": [
    {
     "data": {
      "text/plain": [
       "False"
      ]
     },
     "execution_count": 32,
     "metadata": {},
     "output_type": "execute_result"
    }
   ],
   "source": [
    "'A'>'a'"
   ]
  },
  {
   "cell_type": "code",
   "execution_count": 34,
   "id": "7fee7091-9707-4366-8fd0-e2f828328d05",
   "metadata": {},
   "outputs": [
    {
     "data": {
      "text/plain": [
       "True"
      ]
     },
     "execution_count": 34,
     "metadata": {},
     "output_type": "execute_result"
    }
   ],
   "source": [
    "'A'<'a'"
   ]
  },
  {
   "cell_type": "markdown",
   "id": "e6e890cb-e0eb-4d7d-b3f3-6dd1b3e712bf",
   "metadata": {},
   "source": [
    "**ASCII**\n",
    "- Americal Standard Code for Information Interchange"
   ]
  },
  {
   "cell_type": "markdown",
   "id": "c7c1015c-2448-4cec-a101-5361be61b097",
   "metadata": {},
   "source": [
    "# 'A' === 65\n",
    "# 'a' === 97\n",
    "\n",
    "# so 'A' < 'a'"
   ]
  },
  {
   "cell_type": "markdown",
   "id": "1ce7b183-972b-404c-845c-0670a5494cba",
   "metadata": {},
   "source": [
    "- how to convert char to number\n",
    "\n",
    "- how to convert number to char\n",
    "\n",
    "**chr-ord**\n",
    "\n",
    "- chr converting number to character\n",
    "\n",
    "- ord converting character to number"
   ]
  },
  {
   "cell_type": "code",
   "execution_count": 57,
   "id": "8ad7879e-fe56-49d5-90cd-01bd857ed7bf",
   "metadata": {},
   "outputs": [
    {
     "data": {
      "text/plain": [
       "'a'"
      ]
     },
     "execution_count": 57,
     "metadata": {},
     "output_type": "execute_result"
    }
   ],
   "source": [
    "chr(97)"
   ]
  },
  {
   "cell_type": "code",
   "execution_count": 53,
   "id": "509ab492-fd9f-42ec-a507-05fb73d704da",
   "metadata": {},
   "outputs": [
    {
     "data": {
      "text/plain": [
       "97"
      ]
     },
     "execution_count": 53,
     "metadata": {},
     "output_type": "execute_result"
    }
   ],
   "source": [
    "ord('a')"
   ]
  },
  {
   "cell_type": "code",
   "execution_count": 62,
   "id": "67b5e1fd-0cdf-41e3-936b-208738fdb747",
   "metadata": {},
   "outputs": [
    {
     "data": {
      "text/plain": [
       "78"
      ]
     },
     "execution_count": 62,
     "metadata": {},
     "output_type": "execute_result"
    }
   ],
   "source": [
    "ord('N')"
   ]
  },
  {
   "cell_type": "code",
   "execution_count": 64,
   "id": "367d65e5-e3b9-4197-adcd-5efca84a25e7",
   "metadata": {},
   "outputs": [
    {
     "data": {
      "text/plain": [
       "'N'"
      ]
     },
     "execution_count": 64,
     "metadata": {},
     "output_type": "execute_result"
    }
   ],
   "source": [
    "chr(78)"
   ]
  },
  {
   "cell_type": "code",
   "execution_count": 75,
   "id": "c7638b77-61ee-4730-a860-abbaeecba482",
   "metadata": {},
   "outputs": [
    {
     "data": {
      "text/plain": [
       "False"
      ]
     },
     "execution_count": 75,
     "metadata": {},
     "output_type": "execute_result"
    }
   ],
   "source": [
    "ord('N')==chr(78)"
   ]
  },
  {
   "cell_type": "code",
   "execution_count": 70,
   "id": "3e0b0d61-3ed7-4d42-9cc2-30a414009ef1",
   "metadata": {},
   "outputs": [
    {
     "data": {
      "text/plain": [
       "True"
      ]
     },
     "execution_count": 70,
     "metadata": {},
     "output_type": "execute_result"
    }
   ],
   "source": [
    "1==1"
   ]
  },
  {
   "cell_type": "code",
   "execution_count": 77,
   "id": "0bdc757d-3a69-4036-bdca-d14d0f7f46b4",
   "metadata": {},
   "outputs": [
    {
     "data": {
      "text/plain": [
       "'\\x01'"
      ]
     },
     "execution_count": 77,
     "metadata": {},
     "output_type": "execute_result"
    }
   ],
   "source": [
    "chr(1)"
   ]
  },
  {
   "cell_type": "code",
   "execution_count": 79,
   "id": "3dc69c47-7402-42d0-ada1-1e8cf5c61621",
   "metadata": {},
   "outputs": [
    {
     "data": {
      "text/plain": [
       "97"
      ]
     },
     "execution_count": 79,
     "metadata": {},
     "output_type": "execute_result"
    }
   ],
   "source": [
    "ord('a')"
   ]
  },
  {
   "cell_type": "code",
   "execution_count": 97,
   "id": "6042c12d-94f8-40ac-8c65-31b3cef3d277",
   "metadata": {},
   "outputs": [
    {
     "name": "stdout",
     "output_type": "stream",
     "text": [
      "A : 65\n",
      "B : 66\n",
      "C : 67\n",
      "D : 68\n",
      "E : 69\n",
      "F : 70\n",
      "G : 71\n",
      "H : 72\n",
      "I : 73\n",
      "J : 74\n",
      "K : 75\n",
      "L : 76\n",
      "M : 77\n",
      "N : 78\n",
      "O : 79\n",
      "P : 80\n",
      "Q : 81\n",
      "R : 82\n",
      "S : 83\n",
      "T : 84\n",
      "U : 85\n",
      "V : 86\n",
      "W : 87\n",
      "X : 88\n",
      "Y : 89\n",
      "Z : 90\n"
     ]
    }
   ],
   "source": [
    "for i in range(ord('A'), ord('Z') + 1):\n",
    "    print(chr(i), \":\", i)"
   ]
  },
  {
   "cell_type": "code",
   "execution_count": 101,
   "id": "549e4e64-5e9f-47a1-9a14-6a72ccf0bfac",
   "metadata": {},
   "outputs": [
    {
     "name": "stdout",
     "output_type": "stream",
     "text": [
      "97 : a\n",
      "98 : b\n",
      "99 : c\n",
      "100 : d\n",
      "101 : e\n",
      "102 : f\n",
      "103 : g\n",
      "104 : h\n",
      "105 : i\n",
      "106 : j\n",
      "107 : k\n",
      "108 : l\n",
      "109 : m\n",
      "110 : n\n",
      "111 : o\n",
      "112 : p\n",
      "113 : q\n",
      "114 : r\n",
      "115 : s\n",
      "116 : t\n",
      "117 : u\n",
      "118 : v\n",
      "119 : w\n",
      "120 : x\n",
      "121 : y\n",
      "122 : z\n"
     ]
    }
   ],
   "source": [
    "for i in range(ord('a'),ord('z')+1):\n",
    "    print(i,':',chr(i))"
   ]
  },
  {
   "cell_type": "code",
   "execution_count": 109,
   "id": "9fb8a8d1-a1ef-4356-a699-8ae7afe441e6",
   "metadata": {},
   "outputs": [
    {
     "name": "stdout",
     "output_type": "stream",
     "text": [
      "A : 65\n",
      "B : 66\n",
      "C : 67\n",
      "D : 68\n",
      "E : 69\n",
      "F : 70\n",
      "G : 71\n",
      "H : 72\n",
      "I : 73\n",
      "J : 74\n",
      "K : 75\n",
      "L : 76\n",
      "M : 77\n",
      "N : 78\n",
      "O : 79\n",
      "P : 80\n",
      "Q : 81\n",
      "R : 82\n",
      "S : 83\n",
      "T : 84\n",
      "U : 85\n",
      "V : 86\n",
      "W : 87\n",
      "X : 88\n",
      "Y : 89\n",
      "Z : 90\n"
     ]
    }
   ],
   "source": [
    "for i in 'ABCDEFGHIJKLMNOPQRSTUVWXYZ':\n",
    "    print(i,':',ord(i))\n"
   ]
  },
  {
   "cell_type": "code",
   "execution_count": 111,
   "id": "2a4d0d23-c034-4772-98bd-2b6698a2d205",
   "metadata": {},
   "outputs": [
    {
     "name": "stdout",
     "output_type": "stream",
     "text": [
      "z : 122\n",
      "y : 121\n",
      "x : 120\n",
      "w : 119\n",
      "v : 118\n",
      "u : 117\n",
      "t : 116\n",
      "s : 115\n",
      "r : 114\n",
      "q : 113\n",
      "p : 112\n",
      "o : 111\n",
      "n : 110\n",
      "m : 109\n",
      "l : 108\n",
      "k : 107\n",
      "j : 106\n",
      "i : 105\n",
      "h : 104\n",
      "g : 103\n",
      "f : 102\n",
      "e : 101\n",
      "d : 100\n",
      "c : 99\n",
      "b : 98\n",
      "a : 97\n"
     ]
    }
   ],
   "source": [
    "for i in 'zyxwvutsrqponmlkjihgfedcba':\n",
    "    print(i,':',ord(i))\n"
   ]
  },
  {
   "cell_type": "code",
   "execution_count": 113,
   "id": "6e464447-e1b9-466d-adba-93339300cbd2",
   "metadata": {},
   "outputs": [
    {
     "name": "stdout",
     "output_type": "stream",
     "text": [
      "N : 78\n",
      "a : 97\n",
      "g : 103\n",
      "a : 97\n",
      "r : 114\n",
      "a : 97\n",
      "j : 106\n"
     ]
    }
   ],
   "source": [
    "for i in 'Nagaraj':\n",
    "    print(i,':',ord(i))\n"
   ]
  },
  {
   "cell_type": "markdown",
   "id": "3cb4a6b3-81ab-4436-b5f8-edbc913720af",
   "metadata": {},
   "source": [
    "**package: string**"
   ]
  },
  {
   "cell_type": "code",
   "execution_count": 124,
   "id": "e8246c1b-7f19-4a7f-aac7-79895914efee",
   "metadata": {},
   "outputs": [
    {
     "data": {
      "text/plain": [
       "['Formatter',\n",
       " 'Template',\n",
       " '_ChainMap',\n",
       " '__all__',\n",
       " '__builtins__',\n",
       " '__cached__',\n",
       " '__doc__',\n",
       " '__file__',\n",
       " '__loader__',\n",
       " '__name__',\n",
       " '__package__',\n",
       " '__spec__',\n",
       " '_re',\n",
       " '_sentinel_dict',\n",
       " '_string',\n",
       " 'ascii_letters',\n",
       " 'ascii_lowercase',\n",
       " 'ascii_uppercase',\n",
       " 'capwords',\n",
       " 'digits',\n",
       " 'hexdigits',\n",
       " 'octdigits',\n",
       " 'printable',\n",
       " 'punctuation',\n",
       " 'whitespace']"
      ]
     },
     "execution_count": 124,
     "metadata": {},
     "output_type": "execute_result"
    }
   ],
   "source": [
    "import string\n",
    "dir(string)"
   ]
  },
  {
   "cell_type": "code",
   "execution_count": 126,
   "id": "96d8dadf-605b-48bf-9b86-d3f935b6a3b2",
   "metadata": {},
   "outputs": [
    {
     "data": {
      "text/plain": [
       "'abcdefghijklmnopqrstuvwxyzABCDEFGHIJKLMNOPQRSTUVWXYZ'"
      ]
     },
     "execution_count": 126,
     "metadata": {},
     "output_type": "execute_result"
    }
   ],
   "source": [
    "import string\n",
    "string.ascii_letters"
   ]
  },
  {
   "cell_type": "code",
   "execution_count": 128,
   "id": "8a278e63-1d3f-4541-95ae-75059e1c363b",
   "metadata": {},
   "outputs": [
    {
     "data": {
      "text/plain": [
       "'abcdefghijklmnopqrstuvwxyz'"
      ]
     },
     "execution_count": 128,
     "metadata": {},
     "output_type": "execute_result"
    }
   ],
   "source": [
    "import string\n",
    "string.ascii_lowercase"
   ]
  },
  {
   "cell_type": "code",
   "execution_count": 130,
   "id": "ddedb588-edcd-46f0-91d1-5de1d17bb87d",
   "metadata": {},
   "outputs": [
    {
     "data": {
      "text/plain": [
       "'ABCDEFGHIJKLMNOPQRSTUVWXYZ'"
      ]
     },
     "execution_count": 130,
     "metadata": {},
     "output_type": "execute_result"
    }
   ],
   "source": [
    "import string\n",
    "string.ascii_uppercase"
   ]
  },
  {
   "cell_type": "code",
   "execution_count": 132,
   "id": "1f5a4d03-dc7a-47c3-b4fe-5c5b03429cdc",
   "metadata": {},
   "outputs": [
    {
     "name": "stdout",
     "output_type": "stream",
     "text": [
      "a : 97\n",
      "b : 98\n",
      "c : 99\n",
      "d : 100\n",
      "e : 101\n",
      "f : 102\n",
      "g : 103\n",
      "h : 104\n",
      "i : 105\n",
      "j : 106\n",
      "k : 107\n",
      "l : 108\n",
      "m : 109\n",
      "n : 110\n",
      "o : 111\n",
      "p : 112\n",
      "q : 113\n",
      "r : 114\n",
      "s : 115\n",
      "t : 116\n",
      "u : 117\n",
      "v : 118\n",
      "w : 119\n",
      "x : 120\n",
      "y : 121\n",
      "z : 122\n",
      "A : 65\n",
      "B : 66\n",
      "C : 67\n",
      "D : 68\n",
      "E : 69\n",
      "F : 70\n",
      "G : 71\n",
      "H : 72\n",
      "I : 73\n",
      "J : 74\n",
      "K : 75\n",
      "L : 76\n",
      "M : 77\n",
      "N : 78\n",
      "O : 79\n",
      "P : 80\n",
      "Q : 81\n",
      "R : 82\n",
      "S : 83\n",
      "T : 84\n",
      "U : 85\n",
      "V : 86\n",
      "W : 87\n",
      "X : 88\n",
      "Y : 89\n",
      "Z : 90\n"
     ]
    }
   ],
   "source": [
    "import string\n",
    "for i in string.ascii_letters:\n",
    "    print(i,':',ord(i))"
   ]
  },
  {
   "cell_type": "code",
   "execution_count": 134,
   "id": "3a863b04-93ac-49c6-a91a-ae19c78b79d7",
   "metadata": {},
   "outputs": [
    {
     "name": "stdout",
     "output_type": "stream",
     "text": [
      "! : 33\n",
      "\" : 34\n",
      "# : 35\n",
      "$ : 36\n",
      "% : 37\n",
      "& : 38\n",
      "' : 39\n",
      "( : 40\n",
      ") : 41\n",
      "* : 42\n",
      "+ : 43\n",
      ", : 44\n",
      "- : 45\n",
      ". : 46\n",
      "/ : 47\n",
      ": : 58\n",
      "; : 59\n",
      "< : 60\n",
      "= : 61\n",
      "> : 62\n",
      "? : 63\n",
      "@ : 64\n",
      "[ : 91\n",
      "\\ : 92\n",
      "] : 93\n",
      "^ : 94\n",
      "_ : 95\n",
      "` : 96\n",
      "{ : 123\n",
      "| : 124\n",
      "} : 125\n",
      "~ : 126\n"
     ]
    }
   ],
   "source": [
    "for i in string.punctuation:\n",
    "    print(i,':',ord(i))"
   ]
  },
  {
   "cell_type": "code",
   "execution_count": 140,
   "id": "b48547aa-e6d6-4507-966d-32e893ff192f",
   "metadata": {},
   "outputs": [
    {
     "name": "stdout",
     "output_type": "stream",
     "text": [
      "33 : !\n",
      "34 : \"\n",
      "35 : #\n",
      "36 : $\n",
      "37 : %\n",
      "38 : &\n",
      "39 : '\n",
      "40 : (\n",
      "41 : )\n",
      "42 : *\n",
      "43 : +\n",
      "44 : ,\n",
      "45 : -\n",
      "46 : .\n",
      "47 : /\n",
      "48 : 0\n",
      "49 : 1\n",
      "50 : 2\n",
      "51 : 3\n",
      "52 : 4\n",
      "53 : 5\n",
      "54 : 6\n",
      "55 : 7\n",
      "56 : 8\n",
      "57 : 9\n",
      "58 : :\n",
      "59 : ;\n",
      "60 : <\n",
      "61 : =\n",
      "62 : >\n",
      "63 : ?\n",
      "64 : @\n",
      "65 : A\n",
      "66 : B\n",
      "67 : C\n",
      "68 : D\n",
      "69 : E\n",
      "70 : F\n",
      "71 : G\n",
      "72 : H\n",
      "73 : I\n",
      "74 : J\n",
      "75 : K\n",
      "76 : L\n",
      "77 : M\n",
      "78 : N\n",
      "79 : O\n",
      "80 : P\n",
      "81 : Q\n",
      "82 : R\n",
      "83 : S\n",
      "84 : T\n",
      "85 : U\n",
      "86 : V\n",
      "87 : W\n",
      "88 : X\n",
      "89 : Y\n",
      "90 : Z\n",
      "91 : [\n",
      "92 : \\\n",
      "93 : ]\n",
      "94 : ^\n",
      "95 : _\n",
      "96 : `\n",
      "97 : a\n",
      "98 : b\n",
      "99 : c\n",
      "100 : d\n",
      "101 : e\n",
      "102 : f\n",
      "103 : g\n",
      "104 : h\n",
      "105 : i\n",
      "106 : j\n",
      "107 : k\n",
      "108 : l\n",
      "109 : m\n",
      "110 : n\n",
      "111 : o\n",
      "112 : p\n",
      "113 : q\n",
      "114 : r\n",
      "115 : s\n",
      "116 : t\n",
      "117 : u\n",
      "118 : v\n",
      "119 : w\n",
      "120 : x\n",
      "121 : y\n",
      "122 : z\n",
      "123 : {\n",
      "124 : |\n",
      "125 : }\n",
      "126 : ~\n"
     ]
    }
   ],
   "source": [
    "for i in range(33,126+1):\n",
    "    print(i,\":\",chr(i))"
   ]
  },
  {
   "cell_type": "code",
   "execution_count": 150,
   "id": "554cc6a6-f40c-40e6-b408-260d6d4c3dab",
   "metadata": {},
   "outputs": [
    {
     "name": "stdout",
     "output_type": "stream",
     "text": [
      "161 : ¡162 : ¢163 : £164 : ¤165 : ¥166 : ¦167 : §168 : ¨169 : ©170 : ª171 : «172 : ¬173 : ­174 : ®175 : ¯176 : °177 : ±178 : ²179 : ³180 : ´181 : µ182 : ¶183 : ·184 : ¸185 : ¹186 : º187 : »188 : ¼189 : ½190 : ¾191 : ¿192 : À193 : Á194 : Â195 : Ã196 : Ä197 : Å198 : Æ199 : Ç200 : È201 : É202 : Ê203 : Ë204 : Ì205 : Í206 : Î207 : Ï208 : Ð209 : Ñ210 : Ò211 : Ó212 : Ô213 : Õ214 : Ö215 : ×216 : Ø217 : Ù218 : Ú219 : Û220 : Ü221 : Ý222 : Þ223 : ß224 : à225 : á226 : â227 : ã228 : ä229 : å230 : æ231 : ç232 : è233 : é234 : ê235 : ë236 : ì237 : í238 : î239 : ï240 : ð241 : ñ242 : ò243 : ó244 : ô245 : õ246 : ö247 : ÷248 : ø249 : ù250 : ú251 : û252 : ü253 : ý254 : þ255 : ÿ256 : Ā257 : ā258 : Ă259 : ă260 : Ą261 : ą262 : Ć263 : ć264 : Ĉ265 : ĉ266 : Ċ267 : ċ268 : Č269 : č270 : Ď271 : ď272 : Đ273 : đ274 : Ē275 : ē276 : Ĕ277 : ĕ278 : Ė279 : ė280 : Ę281 : ę282 : Ě283 : ě284 : Ĝ285 : ĝ286 : Ğ287 : ğ288 : Ġ289 : ġ290 : Ģ291 : ģ292 : Ĥ293 : ĥ294 : Ħ295 : ħ296 : Ĩ297 : ĩ298 : Ī299 : ī"
     ]
    }
   ],
   "source": [
    "for i in range(161,300):\n",
    "    print(i,\":\",chr(i),end='')"
   ]
  },
  {
   "cell_type": "code",
   "execution_count": 152,
   "id": "5c1f3c57-d7dd-456a-80c3-ca936424b25a",
   "metadata": {},
   "outputs": [
    {
     "data": {
      "text/plain": [
       "3077"
      ]
     },
     "execution_count": 152,
     "metadata": {},
     "output_type": "execute_result"
    }
   ],
   "source": [
    "ord('అ')"
   ]
  },
  {
   "cell_type": "code",
   "execution_count": 194,
   "id": "8ff0ffcf-0420-4251-aa9d-5ce6a84b37d2",
   "metadata": {},
   "outputs": [
    {
     "name": "stdout",
     "output_type": "stream",
     "text": [
      "3077 : అ 3078 : ఆ 3079 : ఇ 3080 : ఈ 3081 : ఉ 3082 : ఊ 3083 : ఋ 3084 : ఌ 3085 : ఍ 3086 : ఎ 3087 : ఏ 3088 : ఐ 3089 : ఑ 3090 : ఒ 3091 : ఓ 3092 : ఔ 3093 : క 3094 : ఖ 3095 : గ 3096 : ఘ 3097 : ఙ 3098 : చ 3099 : ఛ 3100 : జ 3101 : ఝ 3102 : ఞ 3103 : ట 3104 : ఠ 3105 : డ 3106 : ఢ 3107 : ణ 3108 : త 3109 : థ 3110 : ద 3111 : ధ 3112 : న 3113 : ఩ 3114 : ప 3115 : ఫ 3116 : బ 3117 : భ 3118 : మ 3119 : య 3120 : ర 3121 : ఱ 3122 : ల 3123 : ళ 3124 : ఴ 3125 : వ 3126 : శ 3127 : ష 3128 : స 3129 : హ 3130 : ఺ 3131 : ఻ 3132 : ఼ 3133 : ఽ 3134 : ా 3135 : ి 3136 : ీ 3137 : ు 3138 : ూ 3139 : ృ 3140 : ౄ 3141 : ౅ 3142 : ె 3143 : ే 3144 : ై 3145 : ౉ 3146 : ొ 3147 : ో 3148 : ౌ 3149 : ్ "
     ]
    }
   ],
   "source": [
    "for i in range(3077,3150):\n",
    "    print(i,\":\",chr(i),end=\" \")"
   ]
  },
  {
   "cell_type": "markdown",
   "id": "3829b9ce-ca7d-45c5-9919-5bd16864fc1f",
   "metadata": {},
   "source": [
    "**While Loop**\n",
    "- initialization to start\n",
    "- increment or decrement\n",
    "- condition to stop\n",
    "\n",
    "  "
   ]
  },
  {
   "cell_type": "code",
   "execution_count": 219,
   "id": "0716b718-76a1-4c62-bd92-189bcf19b3cf",
   "metadata": {},
   "outputs": [
    {
     "name": "stdout",
     "output_type": "stream",
     "text": [
      "1\n",
      "11\n",
      "21\n",
      "31\n",
      "41\n"
     ]
    }
   ],
   "source": [
    "for i in range(1,50,10):\n",
    "    print(i)"
   ]
  },
  {
   "cell_type": "code",
   "execution_count": 217,
   "id": "3c06c467-d52a-40f9-9b58-38ec7b9bbf96",
   "metadata": {},
   "outputs": [
    {
     "name": "stdout",
     "output_type": "stream",
     "text": [
      "1\n",
      "2\n",
      "3\n",
      "4\n",
      "5\n",
      "6\n",
      "7\n",
      "8\n",
      "9\n"
     ]
    }
   ],
   "source": [
    "i1=1\n",
    "while i1<10:\n",
    "    print(i1)\n",
    "    i1+=1\n"
   ]
  },
  {
   "cell_type": "code",
   "execution_count": 221,
   "id": "dd5e0603-2f2d-46c1-857c-ff2ad808be72",
   "metadata": {},
   "outputs": [
    {
     "name": "stdout",
     "output_type": "stream",
     "text": [
      "1\n",
      "2\n",
      "3\n",
      "4\n",
      "5\n",
      "6\n",
      "7\n",
      "8\n",
      "9\n"
     ]
    }
   ],
   "source": [
    "for i in range(1,10):\n",
    "    print(i)"
   ]
  },
  {
   "cell_type": "code",
   "execution_count": 227,
   "id": "b5b6f2a2-e040-41a1-a61c-de0947c8c819",
   "metadata": {},
   "outputs": [
    {
     "name": "stdout",
     "output_type": "stream",
     "text": [
      "1\n",
      "2\n",
      "3\n",
      "4\n",
      "5\n",
      "6\n",
      "7\n",
      "8\n",
      "9\n"
     ]
    }
   ],
   "source": [
    "i=1\n",
    "while i<10:\n",
    "    print(i)\n",
    "    i += 1\n",
    "    #i=i+1"
   ]
  },
  {
   "cell_type": "code",
   "execution_count": 231,
   "id": "50eb5cd2-6b1b-4b82-884b-55f1e5e0503a",
   "metadata": {},
   "outputs": [
    {
     "name": "stdout",
     "output_type": "stream",
     "text": [
      "1\n",
      "1.1\n",
      "1.2\n",
      "1.3\n",
      "1.4\n",
      "1.5\n",
      "1.6\n",
      "1.7\n",
      "1.8\n",
      "1.9\n"
     ]
    }
   ],
   "source": [
    "i=1\n",
    "while i<2:\n",
    "    print(round(i,2))\n",
    "    i=i+0.1"
   ]
  },
  {
   "cell_type": "code",
   "execution_count": 239,
   "id": "fb9f265e-0e74-43c4-8522-fc0c8f9bd62b",
   "metadata": {},
   "outputs": [
    {
     "name": "stdout",
     "output_type": "stream",
     "text": [
      "1 2 3 4 5 6 7 8 9 10 "
     ]
    }
   ],
   "source": [
    "i=1\n",
    "while i<11:\n",
    "    print(i,end=\" \")\n",
    "    i += 1"
   ]
  },
  {
   "cell_type": "code",
   "execution_count": 241,
   "id": "8063dbe0-c8e1-4143-b305-8b37e5770f86",
   "metadata": {},
   "outputs": [
    {
     "name": "stdout",
     "output_type": "stream",
     "text": [
      "10 9 8 7 6 5 4 3 2 1 "
     ]
    }
   ],
   "source": [
    "i=10\n",
    "while i>0:\n",
    "    print(i,end=\" \")\n",
    "    i -= 1"
   ]
  },
  {
   "cell_type": "code",
   "execution_count": 246,
   "id": "c4b92fc3-fdd3-4b10-8fed-2619fa029a97",
   "metadata": {},
   "outputs": [
    {
     "name": "stdout",
     "output_type": "stream",
     "text": [
      "-1 -2 -3 -4 -5 -6 -7 -8 -9 -10 "
     ]
    }
   ],
   "source": [
    "i=-1\n",
    "while i>-11:\n",
    "    print(i,end=\" \")\n",
    "    i -= 1"
   ]
  },
  {
   "cell_type": "code",
   "execution_count": 250,
   "id": "c5d0175e-85c5-4112-a5fb-1473a391226b",
   "metadata": {},
   "outputs": [
    {
     "name": "stdout",
     "output_type": "stream",
     "text": [
      "-10 -9 -8 -7 -6 -5 -4 -3 -2 -1 "
     ]
    }
   ],
   "source": [
    "i=-10\n",
    "while i<=-1:\n",
    "    print(i,end=\" \")\n",
    "    i += 1    "
   ]
  },
  {
   "cell_type": "code",
   "execution_count": 258,
   "id": "88fff8ac-842a-47ba-ac7e-c3161763f1d4",
   "metadata": {},
   "outputs": [
    {
     "name": "stdout",
     "output_type": "stream",
     "text": [
      "5   4   3   2   1   "
     ]
    }
   ],
   "source": [
    "i=5\n",
    "while True:\n",
    "    print(i,end=\"   \")\n",
    "    i=i-1\n",
    "    if i==0:\n",
    "        break"
   ]
  },
  {
   "cell_type": "code",
   "execution_count": 3,
   "id": "bf104c51-b060-43a1-9a97-206fc6fd38ee",
   "metadata": {},
   "outputs": [
    {
     "ename": "IndentationError",
     "evalue": "unexpected indent (1794558497.py, line 3)",
     "output_type": "error",
     "traceback": [
      "\u001b[1;36m  Cell \u001b[1;32mIn[3], line 3\u001b[1;36m\u001b[0m\n\u001b[1;33m    while True:\u001b[0m\n\u001b[1;37m    ^\u001b[0m\n\u001b[1;31mIndentationError\u001b[0m\u001b[1;31m:\u001b[0m unexpected indent\n"
     ]
    }
   ],
   "source": [
    "# import random\n",
    "#for i in range(3):\n",
    "    while True:\n",
    "        n1 = random.randint(1,10)\n",
    "        n2 = eval(input(\"Enter number:\"))\n",
    "        print(i, end=\" \")\n",
    "        #i += 1\n",
    "        if n1 == n2:\n",
    "            print(\"Won\")\n",
    "            break\n",
    "        else:\n",
    "            print(\"Lost\")"
   ]
  },
  {
   "cell_type": "code",
   "execution_count": null,
   "id": "7b96e056-c3fd-44c8-a482-2ce661bd4678",
   "metadata": {},
   "outputs": [],
   "source": []
  }
 ],
 "metadata": {
  "kernelspec": {
   "display_name": "Python [conda env:base] *",
   "language": "python",
   "name": "conda-base-py"
  },
  "language_info": {
   "codemirror_mode": {
    "name": "ipython",
    "version": 3
   },
   "file_extension": ".py",
   "mimetype": "text/x-python",
   "name": "python",
   "nbconvert_exporter": "python",
   "pygments_lexer": "ipython3",
   "version": "3.12.7"
  }
 },
 "nbformat": 4,
 "nbformat_minor": 5
}
