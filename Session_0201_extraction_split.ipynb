{
 "cells": [
  {
   "cell_type": "code",
   "execution_count": 17,
   "id": "6f85f43c-45b8-4c28-9fc0-2e057f601f08",
   "metadata": {},
   "outputs": [
    {
     "name": "stdout",
     "output_type": "stream",
     "text": [
      "virat.kohli@rcb.com\n"
     ]
    }
   ],
   "source": [
    "str1='virat.kohli@rcb.com'\n",
    "str2='rohit.sharma@mi.com'\n",
    "str3='ms.dhoni@csk.com'\n",
    "firstname=str1.split('.')[0]\n",
    "secondname=str1.split('.')[1]\n",
    "thirdname=str1.split('.')[2]\n",
    "print(firstname+'.'+secondname+'.'+thirdname)"
   ]
  },
  {
   "cell_type": "code",
   "execution_count": 29,
   "id": "58bb61f9-566d-4572-b63c-ccb334198cc0",
   "metadata": {},
   "outputs": [
    {
     "data": {
      "text/plain": [
       "'Nagaraj'"
      ]
     },
     "execution_count": 29,
     "metadata": {},
     "output_type": "execute_result"
    }
   ],
   "source": [
    "str5='nagaraj.ag1@genpact.com'\n",
    "str6=str5.split('.')[0]\n",
    "str6.title()"
   ]
  },
  {
   "cell_type": "markdown",
   "id": "d7f78038-2444-445d-8969-b0a350c20aa6",
   "metadata": {},
   "source": [
    "**extract**"
   ]
  },
  {
   "cell_type": "code",
   "execution_count": 49,
   "id": "31bd05ec-38fc-4d15-8ab9-737a99c89db2",
   "metadata": {},
   "outputs": [
    {
     "name": "stdout",
     "output_type": "stream",
     "text": [
      "virat\n",
      "kohli\n",
      "rcb\n"
     ]
    }
   ],
   "source": [
    "str1='virat.kohli@rcb.com'\n",
    "first_dot=str1.index('.')\n",
    "second_dot=str1.index('.',first_dot+1)\n",
    "at_the_rate=str1.index('@')\n",
    "\n",
    "first_name=str1[:first_dot]\n",
    "second_name=str1[first_dot+1:at_the_rate]\n",
    "cname=str1[at_the_rate+1:second_dot]\n",
    "print(first_name)\n",
    "print(second_name)\n",
    "print(cname)\n"
   ]
  },
  {
   "cell_type": "code",
   "execution_count": 112,
   "id": "01290526-6cda-409a-9c6e-88682b8b512b",
   "metadata": {},
   "outputs": [
    {
     "name": "stdout",
     "output_type": "stream",
     "text": [
      "7 17 11\n",
      "nagaraj ag7 gmail\n"
     ]
    }
   ],
   "source": [
    "strn='nagaraj.ag7@gmail.com'\n",
    "def extract(strn):\n",
    "    dot1=strn.index('.')\n",
    "    dot2=strn.index('.',dot1+1)\n",
    "    atrate=strn.index('@')\n",
    "    print(dot1,dot2,atrate)\n",
    "\n",
    "    fname=strn[:dot1]\n",
    "    sname=strn[dot1+1:atrate]\n",
    "    cname=strn[atrate+1:dot2]\n",
    "\n",
    "    print(fname,sname,cname)\n",
    "    print()\n",
    "extract('nagaraj.ag7@gmail.com')\n"
   ]
  },
  {
   "cell_type": "markdown",
   "id": "bab919eb-cc1f-4af0-8838-6bac2f20830b",
   "metadata": {},
   "source": [
    "**split**"
   ]
  },
  {
   "cell_type": "code",
   "execution_count": 63,
   "id": "9d1a5c0e-7ce4-41ed-8c57-19992b9a48c2",
   "metadata": {},
   "outputs": [
    {
     "data": {
      "text/plain": [
       "['Hai,', 'how', 'are', 'you']"
      ]
     },
     "execution_count": 63,
     "metadata": {},
     "output_type": "execute_result"
    }
   ],
   "source": [
    "str1='Hai, how are you'\n",
    "str1.split()"
   ]
  },
  {
   "cell_type": "code",
   "execution_count": 65,
   "id": "0f4668a9-46f6-42b7-bd14-52865aa02640",
   "metadata": {},
   "outputs": [
    {
     "data": {
      "text/plain": [
       "['Hai,', 'how', 'are', 'you']"
      ]
     },
     "execution_count": 65,
     "metadata": {},
     "output_type": "execute_result"
    }
   ],
   "source": [
    "str1='Hai, how are you'\n",
    "str1.split(' ')"
   ]
  },
  {
   "cell_type": "code",
   "execution_count": 67,
   "id": "d7b62d02-ea5d-449b-80de-4aceb7e8f799",
   "metadata": {},
   "outputs": [
    {
     "data": {
      "text/plain": [
       "['Hai', ' how are you']"
      ]
     },
     "execution_count": 67,
     "metadata": {},
     "output_type": "execute_result"
    }
   ],
   "source": [
    "str1='Hai, how are you'\n",
    "str1.split(',')"
   ]
  },
  {
   "cell_type": "code",
   "execution_count": 118,
   "id": "329084d8-1333-4772-9cf6-a7d687f51260",
   "metadata": {},
   "outputs": [
    {
     "name": "stdout",
     "output_type": "stream",
     "text": [
      "['Hai', ' how are you']\n"
     ]
    },
    {
     "data": {
      "text/plain": [
       "'Hai: how are you'"
      ]
     },
     "execution_count": 118,
     "metadata": {},
     "output_type": "execute_result"
    }
   ],
   "source": [
    "str1='Hai, how are you'\n",
    "abc=str1.split(',')\n",
    "print(abc)\n",
    "':'.join(abc)\n"
   ]
  },
  {
   "cell_type": "code",
   "execution_count": 124,
   "id": "c7594500-53c0-4db2-a8aa-c5b746a48f68",
   "metadata": {},
   "outputs": [
    {
     "data": {
      "text/plain": [
       "['__add__',\n",
       " '__class__',\n",
       " '__contains__',\n",
       " '__delattr__',\n",
       " '__dir__',\n",
       " '__doc__',\n",
       " '__eq__',\n",
       " '__format__',\n",
       " '__ge__',\n",
       " '__getattribute__',\n",
       " '__getitem__',\n",
       " '__getnewargs__',\n",
       " '__getstate__',\n",
       " '__gt__',\n",
       " '__hash__',\n",
       " '__init__',\n",
       " '__init_subclass__',\n",
       " '__iter__',\n",
       " '__le__',\n",
       " '__len__',\n",
       " '__lt__',\n",
       " '__mod__',\n",
       " '__mul__',\n",
       " '__ne__',\n",
       " '__new__',\n",
       " '__reduce__',\n",
       " '__reduce_ex__',\n",
       " '__repr__',\n",
       " '__rmod__',\n",
       " '__rmul__',\n",
       " '__setattr__',\n",
       " '__sizeof__',\n",
       " '__str__',\n",
       " '__subclasshook__',\n",
       " 'capitalize',\n",
       " 'casefold',\n",
       " 'center',\n",
       " 'count',\n",
       " 'encode',\n",
       " 'endswith',\n",
       " 'expandtabs',\n",
       " 'find',\n",
       " 'format',\n",
       " 'format_map',\n",
       " 'index',\n",
       " 'isalnum',\n",
       " 'isalpha',\n",
       " 'isascii',\n",
       " 'isdecimal',\n",
       " 'isdigit',\n",
       " 'isidentifier',\n",
       " 'islower',\n",
       " 'isnumeric',\n",
       " 'isprintable',\n",
       " 'isspace',\n",
       " 'istitle',\n",
       " 'isupper',\n",
       " 'join',\n",
       " 'ljust',\n",
       " 'lower',\n",
       " 'lstrip',\n",
       " 'maketrans',\n",
       " 'partition',\n",
       " 'removeprefix',\n",
       " 'removesuffix',\n",
       " 'replace',\n",
       " 'rfind',\n",
       " 'rindex',\n",
       " 'rjust',\n",
       " 'rpartition',\n",
       " 'rsplit',\n",
       " 'rstrip',\n",
       " 'split',\n",
       " 'splitlines',\n",
       " 'startswith',\n",
       " 'strip',\n",
       " 'swapcase',\n",
       " 'title',\n",
       " 'translate',\n",
       " 'upper',\n",
       " 'zfill']"
      ]
     },
     "execution_count": 124,
     "metadata": {},
     "output_type": "execute_result"
    }
   ],
   "source": [
    "dir('')"
   ]
  },
  {
   "cell_type": "markdown",
   "id": "c34a717a-657e-45f2-b60a-a6e41ccfeecc",
   "metadata": {},
   "source": [
    "'isalnum',\n",
    " 'isalpha',\n",
    " 'isascii',\n",
    " 'isdecimal',\n",
    " 'isdigit',\n",
    " 'isidentifier',\n",
    " 'islower',\n",
    " 'isnumeric',\n",
    " 'isprintable',\n",
    " 'isspace',\n",
    " 'istitle',\n",
    " 'isupper',"
   ]
  },
  {
   "cell_type": "code",
   "execution_count": 163,
   "id": "6bd794bc-1490-46d6-9542-14d5e731c7c7",
   "metadata": {},
   "outputs": [
    {
     "data": {
      "text/plain": [
       "(False, False, True)"
      ]
     },
     "execution_count": 163,
     "metadata": {},
     "output_type": "execute_result"
    }
   ],
   "source": [
    "str1 = 'NAGARAJ'\n",
    "str1.isalnum(),str1.isalpha(),str1.isascii(),str1.isdecimal(),str1.isdigit()\n",
    "\n",
    "str1.isidentifier(),str1.islower(),str1.isnumeric(),str1.isprintable()\n",
    "\n",
    "str1.isspace(),str1.istitle(),str1.isupper()"
   ]
  },
  {
   "cell_type": "code",
   "execution_count": null,
   "id": "c963a1eb-0fd0-4556-9a17-c6f79e1ceacd",
   "metadata": {},
   "outputs": [],
   "source": []
  }
 ],
 "metadata": {
  "kernelspec": {
   "display_name": "Python [conda env:base] *",
   "language": "python",
   "name": "conda-base-py"
  },
  "language_info": {
   "codemirror_mode": {
    "name": "ipython",
    "version": 3
   },
   "file_extension": ".py",
   "mimetype": "text/x-python",
   "name": "python",
   "nbconvert_exporter": "python",
   "pygments_lexer": "ipython3",
   "version": "3.12.7"
  }
 },
 "nbformat": 4,
 "nbformat_minor": 5
}
