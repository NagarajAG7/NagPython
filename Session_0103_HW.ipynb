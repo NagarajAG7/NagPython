{
 "cells": [
  {
   "cell_type": "code",
   "execution_count": 23,
   "id": "3add3ca2-2270-4744-a9d7-b04d27805dfd",
   "metadata": {},
   "outputs": [
    {
     "name": "stdout",
     "output_type": "stream",
     "text": [
      "For the Circle whose radius is 14 the area is 616.0 and Circumference is 88.0\n",
      "For the Circle whose radius is 14 the area is 616.0 and circumference is 88.0\n",
      "For the Circle whose radius is 14 the area is 616.0 and circumference is 88.0\n"
     ]
    }
   ],
   "source": [
    "# Area and Circumference of Circle\n",
    "r=14\n",
    "pi=(22/7)\n",
    "ar = r*r*pi\n",
    "cr=2*pi*r\n",
    "print(\"For the Circle whose radius is\", r, \"the area is\",ar,\"and Circumference is\",cr)\n",
    "print(\"For the Circle whose radius is {} the area is {} and circumference is {}\".format(r,ar,cr))\n",
    "print(f\"For the Circle whose radius is {r} the area is {ar} and circumference is {cr}\")"
   ]
  },
  {
   "cell_type": "code",
   "execution_count": 25,
   "id": "16d201d9-8b69-4c8c-88ec-dabbfc3a5e52",
   "metadata": {},
   "outputs": [
    {
     "name": "stdout",
     "output_type": "stream",
     "text": [
      "Area of Right Angled Triangle whose base 10 and height 20 is 100.0\n",
      "Area of Right Angled Triangle whose base 10 and height 20 is 100.0\n",
      "Area of Right Angled Triangle whose base 10 and height 20 is 100.0\n"
     ]
    }
   ],
   "source": [
    "# Area of a Right Angled Triangle\n",
    "b=10\n",
    "h=20\n",
    "ar = (1/2)*b*h\n",
    "print(\"Area of Right Angled Triangle whose base\", b, \"and height\",h, \"is\",ar)\n",
    "print(\"Area of Right Angled Triangle whose base {} and height {} is {}\".format(b,h,ar))\n",
    "print(f\"Area of Right Angled Triangle whose base {b} and height {h} is {ar}\")"
   ]
  },
  {
   "cell_type": "code",
   "execution_count": 49,
   "id": "f9382d0b-2e2b-426c-8166-7e7719d55ca2",
   "metadata": {},
   "outputs": [
    {
     "name": "stdout",
     "output_type": "stream",
     "text": [
      "For bill 200 with GST 36.0 and tip 20 , the total bill is 256.0\n",
      "For bill 200 with GST 36.0 and tip 20, the total bill is 256.0\n",
      "For bill 200 with GST 36.0 and tip 20, the total bill is 256.0\n"
     ]
    }
   ],
   "source": [
    "# Total Bill Calculation\n",
    "bill=200\n",
    "tip=20\n",
    "gst=bill*18/100\n",
    "totalbill = bill+tip+gst\n",
    "print(\"For bill\", bill,\"with GST\",gst, \"and tip\",tip,\", the total bill is\",totalbill)\n",
    "print(\"For bill {} with GST {} and tip {}, the total bill is {}\".format(bill,gst,tip,totalbill))\n",
    "print(f\"For bill {bill} with GST {gst} and tip {tip}, the total bill is {totalbill}\")"
   ]
  },
  {
   "cell_type": "code",
   "execution_count": 57,
   "id": "f2b6038b-182d-40dc-aa46-b47111370113",
   "metadata": {},
   "outputs": [
    {
     "name": "stdout",
     "output_type": "stream",
     "text": [
      "Area of Rectangle whose Length 30 and Breadth 20 is 600 and its perimeter is 100\n",
      "Area of Rectangle whose Length 30 and Breadth 20 is 600 and its perimeter is 100\n",
      "Area of Rectangle whose Length 30 and Breadth 20 is 600 and its perimeter is 100\n"
     ]
    }
   ],
   "source": [
    "# Area and Perimeter of a Rectangle\n",
    "l=30\n",
    "b=20\n",
    "ar = b*l\n",
    "p=2*(l+b)\n",
    "print(\"Area of Rectangle whose Length\", l, \"and Breadth\",b, \"is\",ar, \"and its perimeter is\", p)\n",
    "print(\"Area of Rectangle whose Length {} and Breadth {} is {} and its perimeter is {}\".format(l,b,ar,p))\n",
    "print(f\"Area of Rectangle whose Length {l} and Breadth {b} is {ar} and its perimeter is {p}\")"
   ]
  },
  {
   "cell_type": "code",
   "execution_count": null,
   "id": "48968296-434b-4709-a313-6d5e31dfd881",
   "metadata": {},
   "outputs": [],
   "source": []
  }
 ],
 "metadata": {
  "kernelspec": {
   "display_name": "Python [conda env:base] *",
   "language": "python",
   "name": "conda-base-py"
  },
  "language_info": {
   "codemirror_mode": {
    "name": "ipython",
    "version": 3
   },
   "file_extension": ".py",
   "mimetype": "text/x-python",
   "name": "python",
   "nbconvert_exporter": "python",
   "pygments_lexer": "ipython3",
   "version": "3.12.7"
  }
 },
 "nbformat": 4,
 "nbformat_minor": 5
}
