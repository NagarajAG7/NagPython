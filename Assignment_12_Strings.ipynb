{
 "cells": [
  {
   "cell_type": "code",
   "execution_count": 1,
   "id": "3f268735-a57f-4576-b78d-cbf6dd8072ee",
   "metadata": {},
   "outputs": [
    {
     "data": {
      "text/plain": [
       "'I AM NAGARAJ'"
      ]
     },
     "execution_count": 1,
     "metadata": {},
     "output_type": "execute_result"
    }
   ],
   "source": [
    "str2='i am nagaraj'\n",
    "str2.upper()"
   ]
  },
  {
   "cell_type": "code",
   "execution_count": 5,
   "id": "0f929dd3-36ab-4f8d-8785-6b0f194eb98c",
   "metadata": {},
   "outputs": [
    {
     "data": {
      "text/plain": [
       "'i am nagaraj'"
      ]
     },
     "execution_count": 5,
     "metadata": {},
     "output_type": "execute_result"
    }
   ],
   "source": [
    "str2='I am Nagaraj'\n",
    "str2.lower()"
   ]
  },
  {
   "cell_type": "code",
   "execution_count": 7,
   "id": "cc9fb64e-2619-408e-9ab0-8638e0008407",
   "metadata": {},
   "outputs": [
    {
     "data": {
      "text/plain": [
       "'I Am Nagaraj'"
      ]
     },
     "execution_count": 7,
     "metadata": {},
     "output_type": "execute_result"
    }
   ],
   "source": [
    "str2='i am nagaraj'\n",
    "str2.title()"
   ]
  },
  {
   "cell_type": "code",
   "execution_count": 17,
   "id": "f03dc091-966b-44d8-b388-60c6dad23be7",
   "metadata": {},
   "outputs": [
    {
     "data": {
      "text/plain": [
       "'Nagaraj studying python'"
      ]
     },
     "execution_count": 17,
     "metadata": {},
     "output_type": "execute_result"
    }
   ],
   "source": [
    "str2='nagaraj studying python'\n",
    "str2.capitalize()"
   ]
  },
  {
   "cell_type": "code",
   "execution_count": 23,
   "id": "31bf8af7-c4df-4c87-8ef9-13d7af65bc1e",
   "metadata": {},
   "outputs": [
    {
     "data": {
      "text/plain": [
       "'nagaraj studying python'"
      ]
     },
     "execution_count": 23,
     "metadata": {},
     "output_type": "execute_result"
    }
   ],
   "source": [
    "str2='Nagaraj studying Python'\n",
    "str2.casefold()"
   ]
  },
  {
   "cell_type": "code",
   "execution_count": 35,
   "id": "fea7e21f-346e-4e1e-9b21-e95e76b827ff",
   "metadata": {},
   "outputs": [
    {
     "data": {
      "text/plain": [
       "False"
      ]
     },
     "execution_count": 35,
     "metadata": {},
     "output_type": "execute_result"
    }
   ],
   "source": [
    "str1='I have Straße in my text'  # German letters\"\n",
    "str2='I have Strasse in My Text'\n",
    "#str1.casefold()=str2.casefold()\n",
    "str1.lower()==str2.lower()"
   ]
  },
  {
   "cell_type": "code",
   "execution_count": 39,
   "id": "1250031d-f12e-4282-a836-02431b5a6682",
   "metadata": {},
   "outputs": [
    {
     "data": {
      "text/plain": [
       "True"
      ]
     },
     "execution_count": 39,
     "metadata": {},
     "output_type": "execute_result"
    }
   ],
   "source": [
    "str1='I have Straße in my text'  # German letters\"\n",
    "str2='I have Strasse in My Text'\n",
    "str1.casefold()==str2.casefold()\n",
    "#str1.lower()==str2.lower()"
   ]
  },
  {
   "cell_type": "code",
   "execution_count": 43,
   "id": "a13b875e-125b-4933-9bcd-15bfba294663",
   "metadata": {},
   "outputs": [
    {
     "data": {
      "text/plain": [
       "'    Nagaraj    '"
      ]
     },
     "execution_count": 43,
     "metadata": {},
     "output_type": "execute_result"
    }
   ],
   "source": [
    "str11='Nagaraj'\n",
    "str11.center(15)"
   ]
  },
  {
   "cell_type": "code",
   "execution_count": 47,
   "id": "071adee6-015d-456f-9512-009353ade55d",
   "metadata": {},
   "outputs": [
    {
     "data": {
      "text/plain": [
       "'    Nagaraj    '"
      ]
     },
     "execution_count": 47,
     "metadata": {},
     "output_type": "execute_result"
    }
   ],
   "source": [
    "str11.center(15,' ')"
   ]
  },
  {
   "cell_type": "code",
   "execution_count": 5,
   "id": "f8a81531-ba85-457d-a1d0-fb7a27432480",
   "metadata": {},
   "outputs": [
    {
     "name": "stdout",
     "output_type": "stream",
     "text": [
      "***Nagaraj\n"
     ]
    }
   ],
   "source": [
    "str12 = '***Nagaraj***'\n",
    "a = str12.rstrip('*')\n",
    "print(a)"
   ]
  },
  {
   "cell_type": "code",
   "execution_count": 7,
   "id": "e9da6b1e-7681-4a6b-a3e5-364f77e57af8",
   "metadata": {},
   "outputs": [
    {
     "name": "stdout",
     "output_type": "stream",
     "text": [
      "Nagaraj***\n"
     ]
    }
   ],
   "source": [
    "str1='***Nagaraj***'\n",
    "a=str1.lstrip('*')\n",
    "print(a)"
   ]
  },
  {
   "cell_type": "code",
   "execution_count": 17,
   "id": "ed3cca1c-6c17-4a85-97ee-4c82491cb958",
   "metadata": {},
   "outputs": [
    {
     "data": {
      "text/plain": [
       "'Nagaraj'"
      ]
     },
     "execution_count": 17,
     "metadata": {},
     "output_type": "execute_result"
    }
   ],
   "source": [
    "str12 = \"***Nagaraj***\"\n",
    "str12.rstrip('*').lstrip('*')"
   ]
  },
  {
   "cell_type": "code",
   "execution_count": 23,
   "id": "c6128f97-1783-4090-a297-9ee593ddf1c6",
   "metadata": {},
   "outputs": [
    {
     "name": "stdout",
     "output_type": "stream",
     "text": [
      "Nagaraj\n"
     ]
    }
   ],
   "source": [
    "str12='+++Nagaraj***'\n",
    "print(str12.lstrip('+').rstrip('*'))\n"
   ]
  },
  {
   "cell_type": "code",
   "execution_count": 39,
   "id": "ed03f0be-c077-41a8-95ae-76cb23b8dbc3",
   "metadata": {},
   "outputs": [
    {
     "name": "stdout",
     "output_type": "stream",
     "text": [
      "True\n"
     ]
    }
   ],
   "source": [
    "text1 = \"Python Programming\"\n",
    "print(text1.startswith(\"Python\"))"
   ]
  },
  {
   "cell_type": "code",
   "execution_count": 43,
   "id": "d46a57e7-46c2-4ecb-b0e7-d94ec2b93e55",
   "metadata": {},
   "outputs": [
    {
     "data": {
      "text/plain": [
       "True"
      ]
     },
     "execution_count": 43,
     "metadata": {},
     "output_type": "execute_result"
    }
   ],
   "source": [
    "text2 = \"Python Programming\"\n",
    "text2.endswith('Programming')"
   ]
  },
  {
   "cell_type": "code",
   "execution_count": 53,
   "id": "8628eae5-50c7-4153-9e4d-9d57e61e84a2",
   "metadata": {},
   "outputs": [
    {
     "data": {
      "text/plain": [
       "True"
      ]
     },
     "execution_count": 53,
     "metadata": {},
     "output_type": "execute_result"
    }
   ],
   "source": [
    "text3='I am Nagaraj learning python'\n",
    "text3.endswith(('Nagaraj','python','java'))"
   ]
  },
  {
   "cell_type": "code",
   "execution_count": null,
   "id": "6c3c555d-bd82-44d7-b8f7-95a9aadec070",
   "metadata": {},
   "outputs": [],
   "source": []
  }
 ],
 "metadata": {
  "kernelspec": {
   "display_name": "Python [conda env:base] *",
   "language": "python",
   "name": "conda-base-py"
  },
  "language_info": {
   "codemirror_mode": {
    "name": "ipython",
    "version": 3
   },
   "file_extension": ".py",
   "mimetype": "text/x-python",
   "name": "python",
   "nbconvert_exporter": "python",
   "pygments_lexer": "ipython3",
   "version": "3.12.7"
  }
 },
 "nbformat": 4,
 "nbformat_minor": 5
}
