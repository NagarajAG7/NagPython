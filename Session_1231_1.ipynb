{
 "cells": [
  {
   "cell_type": "code",
   "execution_count": 30,
   "id": "e5c56283-7970-4c2c-9013-fec53b6bc3d0",
   "metadata": {},
   "outputs": [
    {
     "data": {
      "text/plain": [
       "197.0"
      ]
     },
     "execution_count": 30,
     "metadata": {},
     "output_type": "execute_result"
    }
   ],
   "source": [
    "number=100\n",
    "Number=200\n",
    "NUMBER=300\n",
    "# variable should be always in black colour only\n",
    "a=number* Number+NUMBER\n",
    "b=number+ Number*NUMBER\n",
    "c=Number-NUMBER/number\n",
    "b\n",
    "a\n",
    "c"
   ]
  },
  {
   "cell_type": "markdown",
   "id": "b0ec3a80-ad42-4d32-be7f-99da733c406f",
   "metadata": {},
   "source": [
    "# **Note for Variables**\n",
    "- Variables generally in black color\n",
    "- Green colored letters are not variables\n",
    "- Numbers as sufix can work as variables\n",
    "- Numbers as Prefix cannot work as variables\n",
    "- special characters are not allowed as variables (underscore '_' can be used)\n",
    "- spaces are not allowed for variables"
   ]
  },
  {
   "cell_type": "code",
   "execution_count": null,
   "id": "614899da-f8dc-4305-a00f-817ae74dc9d7",
   "metadata": {},
   "outputs": [],
   "source": []
  }
 ],
 "metadata": {
  "kernelspec": {
   "display_name": "Python [conda env:base] *",
   "language": "python",
   "name": "conda-base-py"
  },
  "language_info": {
   "codemirror_mode": {
    "name": "ipython",
    "version": 3
   },
   "file_extension": ".py",
   "mimetype": "text/x-python",
   "name": "python",
   "nbconvert_exporter": "python",
   "pygments_lexer": "ipython3",
   "version": "3.12.7"
  }
 },
 "nbformat": 4,
 "nbformat_minor": 5
}
