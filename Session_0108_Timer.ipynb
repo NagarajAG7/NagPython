{
 "cells": [
  {
   "cell_type": "code",
   "execution_count": 1,
   "id": "d1b5a71c-6961-4904-86f6-2b592115de98",
   "metadata": {},
   "outputs": [
    {
     "name": "stdout",
     "output_type": "stream",
     "text": [
      "Average of 54, 16 and 29 is 33\n"
     ]
    }
   ],
   "source": [
    "import random\n",
    "import math\n",
    "n1=random.randint(1,100)\n",
    "n2=random.randint(1,100)\n",
    "n3=random.randint(1,100)\n",
    "avg1=math.ceil((n1+n2+n3)/3)\n",
    "print(f'Average of {n1}, {n2} and {n3} is {avg1}')"
   ]
  },
  {
   "cell_type": "code",
   "execution_count": 9,
   "id": "c91fda5f-6bee-46ef-b881-2d13ce60034c",
   "metadata": {},
   "outputs": [
    {
     "name": "stdin",
     "output_type": "stream",
     "text": [
      "Enter the name: Nag\n",
      "Enter the city: Hyd\n"
     ]
    },
    {
     "name": "stdout",
     "output_type": "stream",
     "text": [
      "My name is Nag and age is 58 stays at Hyd\n"
     ]
    }
   ],
   "source": [
    "import random\n",
    "name=input('Enter the name:')\n",
    "age=random.randint(21,60)\n",
    "#city=random.randrange([\"Hyd\",\"Bang\",\"Chen\"])\n",
    "city=input('Enter the city:')\n",
    "print(f'My name is {name} and age is {age} stays at {city}')"
   ]
  },
  {
   "cell_type": "code",
   "execution_count": 41,
   "id": "0e87c5da-3b83-464a-80b3-e0c67511f9ef",
   "metadata": {},
   "outputs": [
    {
     "name": "stdout",
     "output_type": "stream",
     "text": [
      "Son: Hi Papa\n",
      "Father: Hi Beta\n",
      "Son: I am going to school\n",
      "Father: Ok Beta, I heard results were out\n",
      "Son: Yes Papa\n",
      "Father: Give me Marks\n"
     ]
    },
    {
     "name": "stdin",
     "output_type": "stream",
     "text": [
      "How much you got in Telugu:  67\n",
      "Then Hindi:  77.7\n",
      "English:  33.3\n",
      "Maths:  99\n",
      "Science:  91.45\n",
      "Social:  34.34\n"
     ]
    },
    {
     "name": "stdout",
     "output_type": "stream",
     "text": [
      "The Total of 67,77.7,33.3,99,91.45,34.34 is 402.79\n",
      "The Average of 67,77.7,33.3,99,91.45,34.34 is 68\n"
     ]
    }
   ],
   "source": [
    "import time\n",
    "import math\n",
    "print('Son: Hi Papa')\n",
    "time.sleep(1)\n",
    "print('Father: Hi Beta')\n",
    "time.sleep(1)\n",
    "print('Son: I am going to school')\n",
    "time.sleep(1)\n",
    "print('Father: Ok Beta, I heard results were out')\n",
    "time.sleep(1)\n",
    "print('Son: Yes Papa')\n",
    "time.sleep(1)\n",
    "print('Father: Give me Marks')\n",
    "time.sleep(1)\n",
    "t1=input('How much you got in Telugu: ')\n",
    "h1=input('Then Hindi: ')\n",
    "e1=input('English: ')\n",
    "m1=input('Maths: ')\n",
    "sc1=input('Science: ')\n",
    "so1=input('Social: ')\n",
    "time.sleep(2)\n",
    "tot1= round(eval(t1)+eval(h1)+eval(e1)+eval(m1)+eval(sc1)+eval(so1),2)\n",
    "avg1=math.ceil((tot1)/6)\n",
    "print(f'The Total of {t1},{h1},{e1},{m1},{sc1},{so1} is {tot1}')\n",
    "print(f'The Average of {t1},{h1},{e1},{m1},{sc1},{so1} is {avg1}')\n",
    "\n"
   ]
  },
  {
   "cell_type": "code",
   "execution_count": 29,
   "id": "e3404827-8e04-4a2d-a25a-2685e8efddac",
   "metadata": {},
   "outputs": [
    {
     "name": "stdout",
     "output_type": "stream",
     "text": [
      "Son: Hi Papa\n",
      "Father: Hi Beta\n",
      "Son: I am going to school\n",
      "Father: Ok Beta, I heard results were out\n",
      "Son: Yes Papa\n",
      "Father: Give me Marks\n",
      "Telugu:63\n",
      "Hindi:68\n",
      "English:74\n",
      "Maths:86\n",
      "Sciend:64\n",
      "Social:68\n",
      "The Total of 63,68,74,86,64,68 is 435\n",
      "The Average of 63,68,74,86,64,68 is 72.5\n"
     ]
    }
   ],
   "source": [
    "import time\n",
    "import math\n",
    "import random\n",
    "\n",
    "print('Son: Hi Papa')\n",
    "time.sleep(1)\n",
    "print('Father: Hi Beta')\n",
    "time.sleep(1)\n",
    "print('Son: I am going to school')\n",
    "time.sleep(1)\n",
    "print('Father: Ok Beta, I heard results were out')\n",
    "time.sleep(1)\n",
    "print('Son: Yes Papa')\n",
    "time.sleep(1)\n",
    "print('Father: Give me Marks')\n",
    "time.sleep(1)\n",
    "t1= random.randint(60,100)\n",
    "print(f'Telugu:{t1}')\n",
    "h1= random.randint(60,100)\n",
    "print(f'Hindi:{h1}')\n",
    "e1= random.randint(60,100)\n",
    "print(f'English:{e1}')\n",
    "m1= random.randint(60,100)\n",
    "print(f'Maths:{m1}')\n",
    "sc1= random.randint(60,100)\n",
    "print(f'Sciend:{sc1}')\n",
    "so1= random.randint(60,100)\n",
    "print(f'Social:{so1}')\n",
    "\n",
    "time.sleep(2)\n",
    "#tot1=math.eval(t1)+eval(h1)+eval(m1)+eval(sc1)+eval(so1)+eval(e1)\n",
    "tot=t1+h1+e1+m1+sc1+so1\n",
    "time.sleep(2)\n",
    "avg1=(tot1)/6\n",
    "print(f'The Total of {t1},{h1},{e1},{m1},{sc1},{so1} is {tot1}')\n",
    "print(f'The Average of {t1},{h1},{e1},{m1},{sc1},{so1} is {avg1}')\n",
    "\n"
   ]
  },
  {
   "cell_type": "code",
   "execution_count": 49,
   "id": "c7757bc1-f8ad-4f0b-b7c7-2753b233fe33",
   "metadata": {},
   "outputs": [
    {
     "name": "stdout",
     "output_type": "stream",
     "text": [
      "False\n",
      "False\n",
      "True\n",
      "False\n",
      "True\n"
     ]
    }
   ],
   "source": [
    "## Conditional Statements\n",
    "\n",
    "num=10 # assignment 10 is stored in variable\n",
    "print(num==20)     # condition check. if num = 10 or not\n",
    "print(num>20)\n",
    "print(num<20)\n",
    "print(num>=20)\n",
    "print(num<=20)\n",
    "\n"
   ]
  },
  {
   "cell_type": "code",
   "execution_count": 53,
   "id": "0be5950f-7b52-4a6c-a935-00d8ac9990f5",
   "metadata": {},
   "outputs": [
    {
     "name": "stdout",
     "output_type": "stream",
     "text": [
      "Correct\n"
     ]
    }
   ],
   "source": [
    "if 100>10:\n",
    "    print('Correct')"
   ]
  },
  {
   "cell_type": "code",
   "execution_count": 59,
   "id": "e2afb30b-33fe-434a-88b1-b67f8521b6c7",
   "metadata": {},
   "outputs": [
    {
     "ename": "IndentationError",
     "evalue": "expected an indented block after 'if' statement on line 1 (1205458993.py, line 2)",
     "output_type": "error",
     "traceback": [
      "\u001b[1;36m  Cell \u001b[1;32mIn[59], line 2\u001b[1;36m\u001b[0m\n\u001b[1;33m    print('Correct')\u001b[0m\n\u001b[1;37m    ^\u001b[0m\n\u001b[1;31mIndentationError\u001b[0m\u001b[1;31m:\u001b[0m expected an indented block after 'if' statement on line 1\n"
     ]
    }
   ],
   "source": [
    "if 100>10:\n",
    "print('Correct')"
   ]
  },
  {
   "cell_type": "code",
   "execution_count": 67,
   "id": "81040d34-db8c-4d3a-ba94-23db89ceec8b",
   "metadata": {},
   "outputs": [
    {
     "name": "stdout",
     "output_type": "stream",
     "text": [
      "Correct\n",
      "Msg with condition\n",
      "without condition\n"
     ]
    }
   ],
   "source": [
    "if 100>10:\n",
    "    print('Correct')\n",
    "    print('Msg with condition')\n",
    "print('without condition')"
   ]
  },
  {
   "cell_type": "code",
   "execution_count": null,
   "id": "b07810d1-7021-47cb-853c-13fe36c48b4e",
   "metadata": {},
   "outputs": [],
   "source": []
  }
 ],
 "metadata": {
  "kernelspec": {
   "display_name": "Python [conda env:base] *",
   "language": "python",
   "name": "conda-base-py"
  },
  "language_info": {
   "codemirror_mode": {
    "name": "ipython",
    "version": 3
   },
   "file_extension": ".py",
   "mimetype": "text/x-python",
   "name": "python",
   "nbconvert_exporter": "python",
   "pygments_lexer": "ipython3",
   "version": "3.12.7"
  }
 },
 "nbformat": 4,
 "nbformat_minor": 5
}
