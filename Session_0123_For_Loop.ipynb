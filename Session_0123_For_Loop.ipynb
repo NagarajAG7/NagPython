{
 "cells": [
  {
   "cell_type": "code",
   "execution_count": 5,
   "id": "46653238-8f37-46f6-a65a-5b03d2a0841d",
   "metadata": {},
   "outputs": [
    {
     "name": "stdin",
     "output_type": "stream",
     "text": [
      "Enter Salary: 1000\n",
      "Enter tax percentage: 10\n"
     ]
    },
    {
     "name": "stdout",
     "output_type": "stream",
     "text": [
      "100.0\n"
     ]
    }
   ],
   "source": [
    "def tax_pay():\n",
    "    sal=eval(input('Enter Salary:'))\n",
    "    tp=eval(input('Enter tax percentage:'))\n",
    "    taxpay=sal*tp/100\n",
    "    print(taxpay)\n",
    "\n",
    "tax_pay()\n"
   ]
  },
  {
   "cell_type": "markdown",
   "id": "388b151f-ddc3-4701-b088-3442e95b4886",
   "metadata": {},
   "source": [
    "**For loop**"
   ]
  },
  {
   "cell_type": "code",
   "execution_count": 68,
   "id": "8aac493d-f89f-4cbb-affd-59bec0c22c0a",
   "metadata": {},
   "outputs": [
    {
     "name": "stdout",
     "output_type": "stream",
     "text": [
      "0\n",
      "1\n",
      "2\n",
      "3\n",
      "4\n",
      "5\n",
      "6\n",
      "7\n",
      "8\n",
      "9\n"
     ]
    }
   ],
   "source": [
    "#**case 1: range(<stop>)**\n",
    "\n",
    "for i in range(10):\n",
    "    print(i)\n"
   ]
  },
  {
   "cell_type": "code",
   "execution_count": 30,
   "id": "393b72d5-6d9e-40fc-ad74-9dc0dc2266f4",
   "metadata": {},
   "outputs": [
    {
     "name": "stdout",
     "output_type": "stream",
     "text": [
      "567891011121314"
     ]
    }
   ],
   "source": [
    "for i in range(10):\n",
    "    print(i+5,end='')\n",
    "    \n"
   ]
  },
  {
   "cell_type": "code",
   "execution_count": 32,
   "id": "a2d94622-a11a-4fc4-8b77-6a084c2fb714",
   "metadata": {},
   "outputs": [
    {
     "name": "stdout",
     "output_type": "stream",
     "text": [
      "5 6 7 8 9 10 11 12 13 14 "
     ]
    }
   ],
   "source": [
    "for i in range(10):\n",
    "    print(i+5,end=' ')\n",
    "    \n"
   ]
  },
  {
   "cell_type": "code",
   "execution_count": 34,
   "id": "0347da38-cd04-46fb-951b-71d2e8951cdc",
   "metadata": {},
   "outputs": [
    {
     "name": "stdout",
     "output_type": "stream",
     "text": [
      "0\n",
      "-1\n",
      "-2\n"
     ]
    }
   ],
   "source": [
    "for i in range(3):\n",
    "    print(-i)"
   ]
  },
  {
   "cell_type": "code",
   "execution_count": 42,
   "id": "a54fc965-9458-46b0-acfa-febe2a61c87d",
   "metadata": {},
   "outputs": [
    {
     "name": "stdout",
     "output_type": "stream",
     "text": [
      "0 %^ 1 %^ 2 %^ 3 %^ 4 %^ "
     ]
    }
   ],
   "source": [
    "for i in range(5):\n",
    "    print(i, end=' %^ ')"
   ]
  },
  {
   "cell_type": "code",
   "execution_count": 50,
   "id": "ab000d14-4a48-436c-b095-52ced4fb699d",
   "metadata": {},
   "outputs": [
    {
     "name": "stdout",
     "output_type": "stream",
     "text": [
      "-10 ^ -9 ^ -8 ^ -7 ^ -6 ^ -5 ^ -4 ^ -3 ^ -2 ^ -1 ^ "
     ]
    }
   ],
   "source": [
    "for i in range(10):\n",
    "    print(i-10,end=' ^ ')"
   ]
  },
  {
   "cell_type": "code",
   "execution_count": 60,
   "id": "9a3ff361-e226-4d2e-809a-3aae0793ef27",
   "metadata": {},
   "outputs": [
    {
     "name": "stdout",
     "output_type": "stream",
     "text": [
      "Good Morn\n",
      "Good Night\n",
      "I am Nagaraj\n",
      "Good Morn\n",
      "Good Night\n",
      "I am Nagaraj\n",
      "Good Morn\n",
      "Good Night\n",
      "I am Nagaraj\n"
     ]
    }
   ],
   "source": [
    "for i in range(3):\n",
    "    print('Good Morn')\n",
    "    print('Good Night')\n",
    "    print('I am Nagaraj')"
   ]
  },
  {
   "cell_type": "markdown",
   "id": "8bb60cd2-572a-4b82-9822-0ad4abfe9b19",
   "metadata": {},
   "source": [
    "**Case 2: range(start,stop)**"
   ]
  },
  {
   "cell_type": "code",
   "execution_count": 81,
   "id": "379aea41-95a1-4112-894a-309a6e14b450",
   "metadata": {},
   "outputs": [
    {
     "name": "stdout",
     "output_type": "stream",
     "text": [
      "11 Nag 12 Nag 13 Nag 14 Nag 15 Nag 16 Nag 17 Nag 18 Nag 19 Nag 20 Nag "
     ]
    }
   ],
   "source": [
    "for i in range(11,21):\n",
    "    #print(i,'Nag')\n",
    "    print(i,end=' Nag ')"
   ]
  },
  {
   "cell_type": "code",
   "execution_count": 87,
   "id": "ed67ea29-c684-4b60-b937-5634f26447ce",
   "metadata": {},
   "outputs": [
    {
     "name": "stdout",
     "output_type": "stream",
     "text": [
      "Square of 5 is 25\n",
      "Square of 6 is 36\n",
      "Square of 7 is 49\n",
      "Square of 8 is 64\n",
      "Square of 9 is 81\n",
      "Square of 10 is 100\n"
     ]
    }
   ],
   "source": [
    "for i in range(5,11):\n",
    "    print(f'Square of {i} is',i*i)"
   ]
  },
  {
   "cell_type": "code",
   "execution_count": 105,
   "id": "e75c0309-2a77-4653-9c20-5dae8b4d6fda",
   "metadata": {},
   "outputs": [
    {
     "name": "stdin",
     "output_type": "stream",
     "text": [
      "Give a number: 1\n"
     ]
    },
    {
     "name": "stdout",
     "output_type": "stream",
     "text": [
      "Double of 1 is 2\n",
      "Square of 1 is 1\n",
      "\n"
     ]
    },
    {
     "name": "stdin",
     "output_type": "stream",
     "text": [
      "Give a number: 2\n"
     ]
    },
    {
     "name": "stdout",
     "output_type": "stream",
     "text": [
      "Double of 2 is 4\n",
      "Square of 2 is 4\n",
      "\n"
     ]
    },
    {
     "name": "stdin",
     "output_type": "stream",
     "text": [
      "Give a number: 8\n"
     ]
    },
    {
     "name": "stdout",
     "output_type": "stream",
     "text": [
      "Double of 8 is 16\n",
      "Square of 8 is 64\n",
      "\n"
     ]
    },
    {
     "name": "stdin",
     "output_type": "stream",
     "text": [
      "Give a number: 10\n"
     ]
    },
    {
     "name": "stdout",
     "output_type": "stream",
     "text": [
      "Double of 10 is 20\n",
      "Square of 10 is 100\n",
      "\n"
     ]
    },
    {
     "name": "stdin",
     "output_type": "stream",
     "text": [
      "Give a number: 1002\n"
     ]
    },
    {
     "name": "stdout",
     "output_type": "stream",
     "text": [
      "Double of 1002 is 2004\n",
      "Square of 1002 is 1004004\n",
      "\n"
     ]
    }
   ],
   "source": [
    "for i in range(1,6):\n",
    "    n1=eval(input(\"Give a number:\"))\n",
    "    print(f\"Double of {n1} is {n1+n1}\")\n",
    "    print(f\"Square of {n1} is {n1*n1}\")\n",
    "    print('')"
   ]
  },
  {
   "cell_type": "code",
   "execution_count": 111,
   "id": "443c055d-633f-4525-9ee0-97865925d202",
   "metadata": {},
   "outputs": [
    {
     "name": "stdin",
     "output_type": "stream",
     "text": [
      "Enter a number: 1\n"
     ]
    },
    {
     "name": "stdout",
     "output_type": "stream",
     "text": [
      "Square of 1 is 1\n"
     ]
    },
    {
     "name": "stdin",
     "output_type": "stream",
     "text": [
      "Enter a number: 5\n"
     ]
    },
    {
     "name": "stdout",
     "output_type": "stream",
     "text": [
      "Square of 5 is 25\n"
     ]
    },
    {
     "name": "stdin",
     "output_type": "stream",
     "text": [
      "Enter a number: 100\n"
     ]
    },
    {
     "name": "stdout",
     "output_type": "stream",
     "text": [
      "Square of 100 is 10000\n"
     ]
    }
   ],
   "source": [
    "def sq1():\n",
    "    n2=eval(input('Enter a number:'))\n",
    "    print(f'Square of {n2} is {n2*n2}')\n",
    "\n",
    "for i in range(11,14):\n",
    "    sq1()"
   ]
  },
  {
   "cell_type": "markdown",
   "id": "93e7d739-d191-486d-a218-255718474e73",
   "metadata": {},
   "source": [
    "**Case 3: range(start,stop,step)**"
   ]
  },
  {
   "cell_type": "code",
   "execution_count": 122,
   "id": "f6a75ef9-a499-4495-8289-9887685e7bed",
   "metadata": {},
   "outputs": [
    {
     "name": "stdout",
     "output_type": "stream",
     "text": [
      "5\n",
      "15\n",
      "25\n",
      "35\n",
      "45\n",
      "55\n",
      "65\n",
      "75\n",
      "85\n",
      "95\n"
     ]
    }
   ],
   "source": [
    "for i in range(5,100,10):\n",
    "    print(i)"
   ]
  },
  {
   "cell_type": "code",
   "execution_count": 126,
   "id": "c31297aa-401a-4fc6-97c1-370eb37bcc3b",
   "metadata": {},
   "outputs": [
    {
     "name": "stdout",
     "output_type": "stream",
     "text": [
      "10\n",
      "8\n",
      "6\n",
      "4\n",
      "2\n"
     ]
    }
   ],
   "source": [
    "for i in range(10,0,-2):\n",
    "    print(i)"
   ]
  },
  {
   "cell_type": "code",
   "execution_count": 152,
   "id": "39a3a933-88fb-44c8-9476-0b8cf847219c",
   "metadata": {},
   "outputs": [
    {
     "name": "stdout",
     "output_type": "stream",
     "text": [
      "10\n",
      "8\n",
      "6\n",
      "4\n",
      "2\n",
      "0\n",
      "-2\n",
      "-4\n",
      "-6\n",
      "-8\n"
     ]
    }
   ],
   "source": [
    "for i in range(10,-10,-2):\n",
    "    print(i)"
   ]
  },
  {
   "cell_type": "code",
   "execution_count": 146,
   "id": "3bd97a5b-a246-4f9f-b3fd-3c1a2f0ede16",
   "metadata": {},
   "outputs": [
    {
     "name": "stdout",
     "output_type": "stream",
     "text": [
      "100\n",
      "50\n",
      "0\n",
      "-50\n"
     ]
    }
   ],
   "source": [
    "for i in range(100,-100,-50):\n",
    "    print(i)"
   ]
  },
  {
   "cell_type": "code",
   "execution_count": 148,
   "id": "418c650b-ccaa-4a53-948d-a7cfc54de180",
   "metadata": {},
   "outputs": [
    {
     "name": "stdout",
     "output_type": "stream",
     "text": [
      "1 x 1 = 1\n",
      "2 x 2 = 4\n",
      "3 x 3 = 9\n",
      "4 x 4 = 16\n",
      "5 x 5 = 25\n",
      "6 x 6 = 36\n",
      "7 x 7 = 49\n",
      "8 x 8 = 64\n",
      "9 x 9 = 81\n",
      "10 x 10 = 100\n"
     ]
    }
   ],
   "source": [
    "for i in range(1,11,1):\n",
    "    print(i, end=' x ')\n",
    "    print(i, end= ' = ')\n",
    "    print(i*i)"
   ]
  },
  {
   "cell_type": "code",
   "execution_count": 150,
   "id": "3c91c789-73b1-478e-bf7c-7a1c42c494ca",
   "metadata": {},
   "outputs": [
    {
     "name": "stdout",
     "output_type": "stream",
     "text": [
      "1 + 1 = 2\n",
      "2 + 2 = 4\n",
      "3 + 3 = 6\n",
      "4 + 4 = 8\n",
      "5 + 5 = 10\n",
      "6 + 6 = 12\n",
      "7 + 7 = 14\n",
      "8 + 8 = 16\n",
      "9 + 9 = 18\n",
      "10 + 10 = 20\n"
     ]
    }
   ],
   "source": [
    "for i in range(1,11,1):\n",
    "    print(i, end=' + ')\n",
    "    print(i, end= ' = ')\n",
    "    print(i+i)"
   ]
  },
  {
   "cell_type": "code",
   "execution_count": 160,
   "id": "c7fd67f9-2ce6-490c-b50c-738af0a60935",
   "metadata": {},
   "outputs": [
    {
     "name": "stdin",
     "output_type": "stream",
     "text": [
      "Enter a number for multiple table: 5\n"
     ]
    },
    {
     "name": "stdout",
     "output_type": "stream",
     "text": [
      "5 x 1 = 5\n",
      "5 x 2 = 10\n",
      "5 x 3 = 15\n",
      "5 x 4 = 20\n",
      "5 x 5 = 25\n",
      "5 x 6 = 30\n",
      "5 x 7 = 35\n",
      "5 x 8 = 40\n",
      "5 x 9 = 45\n",
      "5 x 10 = 50\n"
     ]
    }
   ],
   "source": [
    "# Multiple Table\n",
    "\n",
    "j=eval(input('Enter a number for multiple table:'))\n",
    "for i in range(1,11,1):\n",
    "    print(j, end=' x ')\n",
    "    print(i, end= ' = ')\n",
    "    print(j*i)"
   ]
  },
  {
   "cell_type": "code",
   "execution_count": 11,
   "id": "3a5f4572-ac32-403d-bfe4-94da05ac6306",
   "metadata": {},
   "outputs": [
    {
     "name": "stdin",
     "output_type": "stream",
     "text": [
      "Enter a number to find all the Divisors: 75\n"
     ]
    },
    {
     "name": "stdout",
     "output_type": "stream",
     "text": [
      "1\n",
      "3\n",
      "5\n",
      "15\n",
      "25\n",
      "75\n"
     ]
    }
   ],
   "source": [
    "# All divisors\n",
    "j=eval(input(\"Enter a number to find all the Divisors:\"))\n",
    "for i in range(1,j+1):\n",
    "    if j%i==0:\n",
    "        print(i)\n"
   ]
  },
  {
   "cell_type": "code",
   "execution_count": 13,
   "id": "cc8a02a7-6ac2-4887-9241-b15a6f23c415",
   "metadata": {},
   "outputs": [
    {
     "name": "stdin",
     "output_type": "stream",
     "text": [
      "Display multiplication table of : 10\n"
     ]
    },
    {
     "name": "stdout",
     "output_type": "stream",
     "text": [
      "10 X 1 = 10\n",
      "10 X 2 = 20\n",
      "10 X 3 = 30\n",
      "10 X 4 = 40\n",
      "10 X 5 = 50\n",
      "10 X 6 = 60\n",
      "10 X 7 = 70\n",
      "10 X 8 = 80\n",
      "10 X 9 = 90\n",
      "10 X 10 = 100\n"
     ]
    }
   ],
   "source": [
    "num=eval(input('Display multiplication table of :'))\n",
    "for i in range(1,11):\n",
    "        print(f\"{num} X {i} = {num*i}\")"
   ]
  },
  {
   "cell_type": "code",
   "execution_count": null,
   "id": "f1c62594-c944-46f4-8c45-c3fa1345195b",
   "metadata": {},
   "outputs": [],
   "source": []
  }
 ],
 "metadata": {
  "kernelspec": {
   "display_name": "Python [conda env:base] *",
   "language": "python",
   "name": "conda-base-py"
  },
  "language_info": {
   "codemirror_mode": {
    "name": "ipython",
    "version": 3
   },
   "file_extension": ".py",
   "mimetype": "text/x-python",
   "name": "python",
   "nbconvert_exporter": "python",
   "pygments_lexer": "ipython3",
   "version": "3.12.7"
  }
 },
 "nbformat": 4,
 "nbformat_minor": 5
}
