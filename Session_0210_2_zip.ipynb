{
 "cells": [
  {
   "cell_type": "code",
   "execution_count": 13,
   "id": "bc919d55-787b-49d2-8f65-5b2cc5c6e799",
   "metadata": {},
   "outputs": [
    {
     "name": "stdout",
     "output_type": "stream",
     "text": [
      "Ramesh age is 20\n",
      "Suresh age is 25\n",
      "Sathish age is 30\n"
     ]
    }
   ],
   "source": [
    "names=['Ramesh','Suresh','Sathish']\n",
    "age=[20,25,30]\n",
    "for i in range(len(names)):\n",
    "    print(f\"{names[i]} age is {age[i]}\")\n"
   ]
  },
  {
   "cell_type": "markdown",
   "id": "2356cd9e-9faf-467b-8414-ca395af1af3f",
   "metadata": {},
   "source": [
    "**zip operator**\n",
    "\n",
    "-means combine"
   ]
  },
  {
   "cell_type": "code",
   "execution_count": 18,
   "id": "3c9d89a5-864c-40a3-8f6d-c8fba21b80df",
   "metadata": {},
   "outputs": [
    {
     "name": "stdout",
     "output_type": "stream",
     "text": [
      "('Ramesh', 20)\n",
      "('Suresh', 25)\n",
      "('Sathish', 30)\n"
     ]
    }
   ],
   "source": [
    "names=['Ramesh','Suresh','Sathish']\n",
    "age=[20,25,30]\n",
    "for i in zip(names, age):\n",
    "    print(i)"
   ]
  },
  {
   "cell_type": "code",
   "execution_count": 24,
   "id": "d7285eb2-7d98-43fc-96a4-2bf920efe23c",
   "metadata": {},
   "outputs": [
    {
     "name": "stdout",
     "output_type": "stream",
     "text": [
      "Ramesh 20\n",
      "Ramesh age is 20\n",
      "Suresh 25\n",
      "Suresh age is 25\n",
      "Sathish 30\n",
      "Sathish age is 30\n"
     ]
    }
   ],
   "source": [
    "names=['Ramesh','Suresh','Sathish']\n",
    "age=[20,25,30]\n",
    "for i, j in zip(names, age):\n",
    "    print(i,j)\n",
    "    print(f'{i} age is {j}')"
   ]
  },
  {
   "cell_type": "code",
   "execution_count": 40,
   "id": "3f867ab3-70d9-43cf-b840-3900b4e4d752",
   "metadata": {},
   "outputs": [
    {
     "name": "stdout",
     "output_type": "stream",
     "text": [
      "Ramesh\n",
      "Ramesh age is 20\n",
      "Suresh\n",
      "Suresh age is 25\n"
     ]
    }
   ],
   "source": [
    "names=['Ramesh','Suresh']\n",
    "age=[20,25,30]\n",
    "for i,j in zip(names, age):\n",
    "    print(i)\n",
    "    print(f'{i} age is {j}')"
   ]
  },
  {
   "cell_type": "code",
   "execution_count": 46,
   "id": "07cb55fe-8462-4aec-896d-8547d327e289",
   "metadata": {},
   "outputs": [
    {
     "data": {
      "text/plain": [
       "['Suresh, 25', 'Sathish, 30']"
      ]
     },
     "execution_count": 46,
     "metadata": {},
     "output_type": "execute_result"
    }
   ],
   "source": [
    "names=['Ramesh','Suresh','Sathish']\n",
    "age=[20,25,30]\n",
    "[f\"{i}, {j}\" for i,j in zip(names,age) if j>20]"
   ]
  },
  {
   "cell_type": "markdown",
   "id": "8f7831d6-b2e6-4713-9602-180cfab8a8a1",
   "metadata": {},
   "source": [
    "**Dictionary**\n",
    "\n",
    "-names and age are together\n",
    "\n",
    "-when both are together we can pair them\n",
    "\n",
    "-we can do it using Dictionary\n",
    "\n",
    "-Dictionary is called as **key-value** pair\n",
    "\n",
    "-it represents with curly braces: **{key:value}**\n"
   ]
  },
  {
   "cell_type": "code",
   "execution_count": 51,
   "id": "d65d9b9e-ea3d-4a23-b34e-ab8ddf3edae7",
   "metadata": {},
   "outputs": [
    {
     "data": {
      "text/plain": [
       "{'Ramesh': 20, 'Suresh': 25, 'Sathish': 30}"
      ]
     },
     "execution_count": 51,
     "metadata": {},
     "output_type": "execute_result"
    }
   ],
   "source": [
    "d1={'Ramesh':20,'Suresh':25,'Sathish':30}\n",
    "d1"
   ]
  },
  {
   "cell_type": "code",
   "execution_count": 53,
   "id": "e0c0ca9e-3bd9-4b6a-a627-ce0f9e7ff57a",
   "metadata": {},
   "outputs": [
    {
     "data": {
      "text/plain": [
       "{20: 'Ramesh', 25: 'Suresh', 30: 'Sathish'}"
      ]
     },
     "execution_count": 53,
     "metadata": {},
     "output_type": "execute_result"
    }
   ],
   "source": [
    "d1={20:'Ramesh',25:'Suresh',30:'Sathish'}\n",
    "d1"
   ]
  },
  {
   "cell_type": "code",
   "execution_count": 81,
   "id": "869034e0-f612-4365-b1ac-4bd17ed4a212",
   "metadata": {},
   "outputs": [
    {
     "data": {
      "text/plain": [
       "{'20': 'Ramesh', '25': 'Suresh', 30: 'Sathish'}"
      ]
     },
     "execution_count": 81,
     "metadata": {},
     "output_type": "execute_result"
    }
   ],
   "source": [
    "d1={'20':'Ramesh','25':'Suresh',30:'Sathish'}\n",
    "d1"
   ]
  },
  {
   "cell_type": "code",
   "execution_count": 87,
   "id": "78f81a8e-a00a-4c59-9c8c-8a9202dc1b95",
   "metadata": {},
   "outputs": [
    {
     "data": {
      "text/plain": [
       "{'Ramesh': 25}"
      ]
     },
     "execution_count": 87,
     "metadata": {},
     "output_type": "execute_result"
    }
   ],
   "source": [
    "d5={'Ramesh':20,'Ramesh':25} #latest value will be displayed\n",
    "d5"
   ]
  },
  {
   "cell_type": "code",
   "execution_count": 107,
   "id": "f8024a23-e899-49c8-b631-8c7f6c955aa7",
   "metadata": {},
   "outputs": [
    {
     "data": {
      "text/plain": [
       "{'Ramesh': 20, 'Suresh': 20}"
      ]
     },
     "execution_count": 107,
     "metadata": {},
     "output_type": "execute_result"
    }
   ],
   "source": [
    "d5={'Ramesh':20,'Suresh':20} #Keys cannot be duplicate but values can be duplicate\n",
    "d5"
   ]
  },
  {
   "cell_type": "code",
   "execution_count": 109,
   "id": "cad656cd-5138-49eb-9ee4-afed632b4133",
   "metadata": {},
   "outputs": [
    {
     "data": {
      "text/plain": [
       "{'Ramesh': 20}"
      ]
     },
     "execution_count": 109,
     "metadata": {},
     "output_type": "execute_result"
    }
   ],
   "source": [
    "d5={'Ramesh':20,'Ramesh':20} #Dictinary doesnot allow duplicates\n",
    "d5"
   ]
  },
  {
   "cell_type": "code",
   "execution_count": 111,
   "id": "0ceeae20-5aec-4888-86cc-570e663cdefa",
   "metadata": {},
   "outputs": [
    {
     "data": {
      "text/plain": [
       "{20: 'Ramesh', 25: 'Sathish'}"
      ]
     },
     "execution_count": 111,
     "metadata": {},
     "output_type": "execute_result"
    }
   ],
   "source": [
    "d1={20:'Ramesh',25:'Ramesh',25:'Sathish'}\n",
    "d1"
   ]
  },
  {
   "cell_type": "code",
   "execution_count": 113,
   "id": "174edd75-0e5b-4ac3-8db1-da28897b5378",
   "metadata": {},
   "outputs": [
    {
     "data": {
      "text/plain": [
       "{20: 'Suresh'}"
      ]
     },
     "execution_count": 113,
     "metadata": {},
     "output_type": "execute_result"
    }
   ],
   "source": [
    "d8={20:'Ramesh',20:'Suresh'}\n",
    "d8"
   ]
  },
  {
   "cell_type": "code",
   "execution_count": 119,
   "id": "06b583e1-fc9e-4547-a120-e2627d5520e6",
   "metadata": {},
   "outputs": [
    {
     "data": {
      "text/plain": [
       "{True: 'true'}"
      ]
     },
     "execution_count": 119,
     "metadata": {},
     "output_type": "execute_result"
    }
   ],
   "source": [
    "d9={True:'true'}\n",
    "d9"
   ]
  },
  {
   "cell_type": "code",
   "execution_count": 121,
   "id": "a16804c3-5769-4add-91e2-47d82a97c216",
   "metadata": {},
   "outputs": [
    {
     "data": {
      "text/plain": [
       "{'Fruits': ['Apple', 'Banana']}"
      ]
     },
     "execution_count": 121,
     "metadata": {},
     "output_type": "execute_result"
    }
   ],
   "source": [
    "d10={'Fruits':['Apple','Banana']}\n",
    "d10"
   ]
  },
  {
   "cell_type": "code",
   "execution_count": 125,
   "id": "30f7be7b-1160-4e6c-a577-1c0874d14255",
   "metadata": {},
   "outputs": [
    {
     "ename": "TypeError",
     "evalue": "unhashable type: 'list'",
     "output_type": "error",
     "traceback": [
      "\u001b[1;31m---------------------------------------------------------------------------\u001b[0m",
      "\u001b[1;31mTypeError\u001b[0m                                 Traceback (most recent call last)",
      "Cell \u001b[1;32mIn[125], line 1\u001b[0m\n\u001b[1;32m----> 1\u001b[0m d10\u001b[38;5;241m=\u001b[39m{[\u001b[38;5;124m'\u001b[39m\u001b[38;5;124mApple\u001b[39m\u001b[38;5;124m'\u001b[39m,\u001b[38;5;124m'\u001b[39m\u001b[38;5;124mBanana\u001b[39m\u001b[38;5;124m'\u001b[39m]:\u001b[38;5;124m'\u001b[39m\u001b[38;5;124mFruits\u001b[39m\u001b[38;5;124m'\u001b[39m} \u001b[38;5;66;03m#List cannot be key in Dictionary\u001b[39;00m\n\u001b[0;32m      2\u001b[0m d10\n",
      "\u001b[1;31mTypeError\u001b[0m: unhashable type: 'list'"
     ]
    }
   ],
   "source": [
    "d10={['Apple','Banana']:'Fruits'} #List cannot be key in Dictionary\n",
    "d10"
   ]
  },
  {
   "cell_type": "code",
   "execution_count": 127,
   "id": "817c3d04-d4ca-41a7-a5f1-67644a5ffef2",
   "metadata": {},
   "outputs": [
    {
     "data": {
      "text/plain": [
       "{'Fruits': ('Apple', 'Banana')}"
      ]
     },
     "execution_count": 127,
     "metadata": {},
     "output_type": "execute_result"
    }
   ],
   "source": [
    "d11={'Fruits':('Apple','Banana')}\n",
    "d11"
   ]
  },
  {
   "cell_type": "code",
   "execution_count": 131,
   "id": "36bd662e-fb57-4af7-9dad-294d9569e7e7",
   "metadata": {},
   "outputs": [
    {
     "data": {
      "text/plain": [
       "{('Apple', 'Banana'): 'Fruits'}"
      ]
     },
     "execution_count": 131,
     "metadata": {},
     "output_type": "execute_result"
    }
   ],
   "source": [
    "d12={('Apple','Banana'):'Fruits'} #tuple can be key in Dictionary\n",
    "d12"
   ]
  },
  {
   "cell_type": "markdown",
   "id": "89c2a44e-c24d-4f46-808d-c37cd0956451",
   "metadata": {},
   "source": [
    "**Keys cannot be Mutable**\n",
    "\n",
    "-list as keys fails as list has a mutable behaviour\n",
    "\n",
    "-tuple as keys works as tuple has immutable hehaviour\n",
    "\n",
    "=Keys are very important in Dictionary\n",
    "\n",
    "keys does not change so when we apply list it is failing\n"
   ]
  },
  {
   "cell_type": "code",
   "execution_count": 139,
   "id": "478160cb-63c6-429b-9525-bfce6665c139",
   "metadata": {},
   "outputs": [
    {
     "ename": "SyntaxError",
     "evalue": "unterminated string literal (detected at line 1) (1366740853.py, line 1)",
     "output_type": "error",
     "traceback": [
      "\u001b[1;36m  Cell \u001b[1;32mIn[139], line 1\u001b[1;36m\u001b[0m\n\u001b[1;33m    d12={{Apple','Banana'}:'Fruits'}\u001b[0m\n\u001b[1;37m                                  ^\u001b[0m\n\u001b[1;31mSyntaxError\u001b[0m\u001b[1;31m:\u001b[0m unterminated string literal (detected at line 1)\n"
     ]
    }
   ],
   "source": [
    "d12={{Apple','Banana'}:'Fruits'}\n",
    "d12"
   ]
  },
  {
   "cell_type": "code",
   "execution_count": null,
   "id": "7f894587-a12f-4938-a174-949f3c54cb87",
   "metadata": {},
   "outputs": [],
   "source": []
  }
 ],
 "metadata": {
  "kernelspec": {
   "display_name": "Python [conda env:base] *",
   "language": "python",
   "name": "conda-base-py"
  },
  "language_info": {
   "codemirror_mode": {
    "name": "ipython",
    "version": 3
   },
   "file_extension": ".py",
   "mimetype": "text/x-python",
   "name": "python",
   "nbconvert_exporter": "python",
   "pygments_lexer": "ipython3",
   "version": "3.12.7"
  }
 },
 "nbformat": 4,
 "nbformat_minor": 5
}
