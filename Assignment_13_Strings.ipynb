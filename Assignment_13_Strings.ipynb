{
 "cells": [
  {
   "cell_type": "code",
   "execution_count": 35,
   "id": "5d65ac80-a155-4885-bcb0-0444fbfa04c0",
   "metadata": {},
   "outputs": [
    {
     "data": {
      "text/plain": [
       "3"
      ]
     },
     "execution_count": 35,
     "metadata": {},
     "output_type": "execute_result"
    }
   ],
   "source": [
    "#count\n",
    "str1='Nagaraj'\n",
    "str1.count('a')"
   ]
  },
  {
   "cell_type": "code",
   "execution_count": 37,
   "id": "47fd1190-8174-4f3a-bceb-f91277487d81",
   "metadata": {},
   "outputs": [
    {
     "data": {
      "text/plain": [
       "2"
      ]
     },
     "execution_count": 37,
     "metadata": {},
     "output_type": "execute_result"
    }
   ],
   "source": [
    "#count\n",
    "str1='I am Nagaraj'\n",
    "str1.count('a',2,8)"
   ]
  },
  {
   "cell_type": "code",
   "execution_count": 33,
   "id": "ae2b7951-d790-474c-bae0-6db3922694ed",
   "metadata": {},
   "outputs": [
    {
     "data": {
      "text/plain": [
       "'N@g@raj'"
      ]
     },
     "execution_count": 33,
     "metadata": {},
     "output_type": "execute_result"
    }
   ],
   "source": [
    "#replace\n",
    "str1='Nagaraj'\n",
    "str1.replace('a','@',2)"
   ]
  },
  {
   "cell_type": "code",
   "execution_count": 51,
   "id": "526c5c67-4638-4e67-9576-65161202d632",
   "metadata": {},
   "outputs": [
    {
     "data": {
      "text/plain": [
       "6"
      ]
     },
     "execution_count": 51,
     "metadata": {},
     "output_type": "execute_result"
    }
   ],
   "source": [
    "#find\n",
    "str1='I am Nagaraj'\n",
    "str1.find('a',3,9)"
   ]
  },
  {
   "cell_type": "code",
   "execution_count": 69,
   "id": "b3a90ea7-186f-4dcf-9789-9497354157fd",
   "metadata": {},
   "outputs": [
    {
     "data": {
      "text/plain": [
       "6"
      ]
     },
     "execution_count": 69,
     "metadata": {},
     "output_type": "execute_result"
    }
   ],
   "source": [
    "#index\n",
    "str1='I am Nagaraj'\n",
    "str1.index('a',3,7)"
   ]
  },
  {
   "cell_type": "code",
   "execution_count": null,
   "id": "5f5bac08-05ad-47a5-8cfe-815623e969c4",
   "metadata": {},
   "outputs": [],
   "source": []
  }
 ],
 "metadata": {
  "kernelspec": {
   "display_name": "Python [conda env:base] *",
   "language": "python",
   "name": "conda-base-py"
  },
  "language_info": {
   "codemirror_mode": {
    "name": "ipython",
    "version": 3
   },
   "file_extension": ".py",
   "mimetype": "text/x-python",
   "name": "python",
   "nbconvert_exporter": "python",
   "pygments_lexer": "ipython3",
   "version": "3.12.7"
  }
 },
 "nbformat": 4,
 "nbformat_minor": 5
}
