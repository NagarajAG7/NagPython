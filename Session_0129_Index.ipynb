{
 "cells": [
  {
   "cell_type": "markdown",
   "id": "686d1233-7846-4593-b31e-925f3cc2e7b4",
   "metadata": {},
   "source": [
    "**Index**"
   ]
  },
  {
   "cell_type": "code",
   "execution_count": 11,
   "id": "8d6235f5-1f68-45ff-937f-ce3e01519e36",
   "metadata": {},
   "outputs": [
    {
     "name": "stdout",
     "output_type": "stream",
     "text": [
      "e\n",
      "e\n"
     ]
    }
   ],
   "source": [
    "#str1='hello how are you'\n",
    "#n=len(str1)\n",
    "str1[1]\n",
    "for i in range (0,2):\n",
    "    print(str1[1])\n"
   ]
  },
  {
   "cell_type": "code",
   "execution_count": 5,
   "id": "60ce2aab-33e4-4f2a-ae81-2fef6df042a2",
   "metadata": {},
   "outputs": [
    {
     "name": "stdout",
     "output_type": "stream",
     "text": [
      "h\n",
      "e\n",
      "l\n",
      "l\n",
      "o\n",
      " \n",
      "h\n",
      "o\n",
      "w\n",
      " \n",
      "a\n",
      "r\n",
      "e\n",
      " \n",
      "y\n",
      "o\n",
      "u\n"
     ]
    }
   ],
   "source": [
    "str1='hello how are you'\n",
    "n=len(str1)\n",
    "for i in range (0,n):\n",
    "    print(str1[i])\n"
   ]
  },
  {
   "cell_type": "code",
   "execution_count": 15,
   "id": "e2974e3b-f420-4276-be67-147015c85267",
   "metadata": {},
   "outputs": [
    {
     "name": "stdout",
     "output_type": "stream",
     "text": [
      "p\n",
      "y\n",
      "t\n",
      "h\n",
      "o\n",
      "n\n"
     ]
    }
   ],
   "source": [
    "str1='python'\n",
    "n=len(str1)\n",
    "for i in range(0,n,1):\n",
    "    print(str1[i])"
   ]
  },
  {
   "cell_type": "code",
   "execution_count": 17,
   "id": "d393f167-8147-4d1f-8300-f2d5f83011f1",
   "metadata": {},
   "outputs": [
    {
     "name": "stdout",
     "output_type": "stream",
     "text": [
      "p\n",
      "n\n",
      "o\n",
      "h\n",
      "t\n",
      "y\n"
     ]
    }
   ],
   "source": [
    "str1='python'\n",
    "n=len(str1)\n",
    "for i in range(0,-n,-1):\n",
    "    print(str1[i])"
   ]
  },
  {
   "cell_type": "code",
   "execution_count": 19,
   "id": "5bcefb6c-1b8b-4eeb-984a-e75145ce413f",
   "metadata": {},
   "outputs": [
    {
     "name": "stdout",
     "output_type": "stream",
     "text": [
      "the negative index of p is -6\n",
      "the negative index of y is -5\n",
      "the negative index of t is -4\n",
      "the negative index of h is -3\n",
      "the negative index of o is -2\n",
      "the negative index of n is -1\n"
     ]
    }
   ],
   "source": [
    "str='python'\n",
    "for i in range(0,6):\n",
    "    print(f'the negative index of {str[i]} is {-(len(str)-i)}')"
   ]
  },
  {
   "cell_type": "code",
   "execution_count": 25,
   "id": "25afab5a-c05d-40a1-8694-c050ac7e7848",
   "metadata": {},
   "outputs": [
    {
     "name": "stdout",
     "output_type": "stream",
     "text": [
      "Negative index of a is 0\n",
      "Negative index of c is -1\n",
      "Negative index of b is -2\n"
     ]
    }
   ],
   "source": [
    "str2='abc'\n",
    "n=len(str2)\n",
    "for i in range(0,-n,-1):\n",
    "    print(f'Negative index of {str2[i]} is {i}')"
   ]
  },
  {
   "cell_type": "code",
   "execution_count": 35,
   "id": "cd66bf6f-3628-4268-be65-5e956653cf02",
   "metadata": {},
   "outputs": [
    {
     "name": "stdout",
     "output_type": "stream",
     "text": [
      "Positive index of N is 1\n",
      "Positive index of a is 2\n",
      "Positive index of g is 3\n",
      "Positive index of a is 4\n",
      "Positive index of r is 5\n",
      "Positive index of a is 6\n",
      "Positive index of j is 7\n"
     ]
    }
   ],
   "source": [
    "str3='Nagaraj'\n",
    "n=len(str3)\n",
    "for i in range(0,n,1):\n",
    "    print(f'Positive index of {str3[i]} is {i+1}')\n"
   ]
  },
  {
   "cell_type": "code",
   "execution_count": 33,
   "id": "01c967f2-c30f-4fd4-9c46-a7eec0640ce1",
   "metadata": {},
   "outputs": [
    {
     "name": "stdout",
     "output_type": "stream",
     "text": [
      "Negative index of N is -7\n",
      "Negative index of j is -6\n",
      "Negative index of a is -5\n",
      "Negative index of r is -4\n",
      "Negative index of a is -3\n",
      "Negative index of g is -2\n",
      "Negative index of a is -1\n"
     ]
    }
   ],
   "source": [
    "str4='Nagaraj'\n",
    "n=len(str4)\n",
    "for i in range(0,-n,-1):\n",
    "    print(f'Negative index of {str4[i]} is {-n-i}')"
   ]
  },
  {
   "cell_type": "code",
   "execution_count": 57,
   "id": "18bd20cc-be7f-4252-9f6e-2f1212e8db6b",
   "metadata": {},
   "outputs": [
    {
     "name": "stdout",
     "output_type": "stream",
     "text": [
      "Negative index of N is -7\n",
      "Negative index of a is -6\n",
      "Negative index of g is -5\n",
      "Negative index of a is -4\n",
      "Negative index of r is -3\n",
      "Negative index of a is -2\n",
      "Negative index of j is -1\n"
     ]
    }
   ],
   "source": [
    "str5='Nagaraj'\n",
    "n=len(str5)\n",
    "for i in range(-n,0,1):\n",
    "    print(f'Negative index of {str5[i]} is {i}')"
   ]
  },
  {
   "cell_type": "markdown",
   "id": "d00a9c95-1b85-49ac-b872-c23a08b32a28",
   "metadata": {},
   "source": [
    "**When to use 'in' and When to use 'range' operator**\n",
    "\n",
    "- 'in' operator directly access the elements\n",
    "- 'range' operator access the elements using index or number\n",
    "- any problem statement if you need numbers then go for range\n",
    "- otherwise go for in operator directly"
   ]
  },
  {
   "cell_type": "code",
   "execution_count": 71,
   "id": "4432a833-0a6b-4378-bb1a-e406352bedb1",
   "metadata": {},
   "outputs": [
    {
     "name": "stdout",
     "output_type": "stream",
     "text": [
      "p\n",
      "y\n",
      "t\n",
      "h\n",
      "o\n",
      "n\n"
     ]
    }
   ],
   "source": [
    "str1='python'\n",
    "for i in str1:\n",
    "    print(i)"
   ]
  },
  {
   "cell_type": "code",
   "execution_count": 66,
   "id": "a9d21247-7397-44ae-85ca-3ac5e0e76a6e",
   "metadata": {},
   "outputs": [
    {
     "name": "stdout",
     "output_type": "stream",
     "text": [
      "0 p\n",
      "1 y\n",
      "2 t\n",
      "3 h\n",
      "4 o\n",
      "5 n\n"
     ]
    }
   ],
   "source": [
    "str2='python'\n",
    "for i in range(6):\n",
    "    print(i,str2[i])"
   ]
  },
  {
   "cell_type": "code",
   "execution_count": null,
   "id": "e4b3b3a9-d23a-486f-b06a-77293e65c52e",
   "metadata": {},
   "outputs": [],
   "source": [
    "#wap to find the indexes of 'a' in a given string\n",
    "#str1='ola ola ola'\n",
    "\n",
    "#wap to find the sum of all indexes of 'a' in a given string\n",
    "#str1='ola ola ola'\n",
    "\n",
    "#wap to find the number of 'a' in a given string\n",
    "#str1='ola ola ola'\n",
    "\n",
    "#wap to find the vowels and its count in a given string\n",
    "#str1='hai how are you'\n",
    "\n",
    "#wap to find the vowels which are repeating then print only one time\n",
    "#example: hello\n",
    "#l is coming two times but we want to print only one time"
   ]
  },
  {
   "cell_type": "code",
   "execution_count": 96,
   "id": "4caf3549-e234-4284-a30b-4ba367c03af4",
   "metadata": {},
   "outputs": [
    {
     "name": "stdout",
     "output_type": "stream",
     "text": [
      "a 2\n",
      "a 6\n",
      "a 10\n"
     ]
    }
   ],
   "source": [
    "#wap to find the indexes of 'a' in a given string\n",
    "#str1='ola ola ola'\n",
    "\n",
    "str1='ola ola ola'\n",
    "n=len(str1)\n",
    "for i in range(n):\n",
    "    if str1[i]=='a':\n",
    "        print(str1[i],i)\n"
   ]
  },
  {
   "cell_type": "code",
   "execution_count": 102,
   "id": "faaaf500-14e8-4fe9-af02-3fc59fde84cb",
   "metadata": {},
   "outputs": [
    {
     "name": "stdout",
     "output_type": "stream",
     "text": [
      "a 2 2\n",
      "a 6 8\n",
      "a 10 18\n"
     ]
    }
   ],
   "source": [
    "#wap to find the sum of all indexes of 'a' in a given string\n",
    "#str1='ola ola ola'\n",
    "\n",
    "str2='ola ola ola'\n",
    "n=len(str2)\n",
    "j=0\n",
    "for i in range(n):\n",
    "    if str2[i]=='a':\n",
    "        j=j+i\n",
    "        print(str2[i],i,j)\n"
   ]
  },
  {
   "cell_type": "code",
   "execution_count": 122,
   "id": "9ad6c0f8-1571-4fca-a5ad-5205ccaa13d9",
   "metadata": {},
   "outputs": [
    {
     "name": "stdout",
     "output_type": "stream",
     "text": [
      "a 2 1\n",
      "a 6 2\n",
      "a 10 3\n"
     ]
    }
   ],
   "source": [
    "#wap to find the count of 'a' in a given string\n",
    "#str1='ola ola ola'\n",
    "\n",
    "str3='ola ola ola'\n",
    "j=0\n",
    "for i in range(len(str3)):\n",
    "    if str3[i]=='a':\n",
    "        j=j+1\n",
    "        print(str3[i],i,j)"
   ]
  },
  {
   "cell_type": "code",
   "execution_count": 130,
   "id": "cb7e0ddb-45e3-45d0-b8cb-dee3563d472d",
   "metadata": {},
   "outputs": [
    {
     "name": "stdout",
     "output_type": "stream",
     "text": [
      "3\n"
     ]
    }
   ],
   "source": [
    "#wap to find the count of 'a' in a given string\n",
    "#str1='ola ola ola'\n",
    "\n",
    "str3='ola ola ola'\n",
    "j=0\n",
    "for i in str3:\n",
    "    if i=='a':\n",
    "        j=j+1\n",
    "print(j)"
   ]
  },
  {
   "cell_type": "code",
   "execution_count": 134,
   "id": "76a78fec-fce3-43d1-9a8e-39bb15c0620d",
   "metadata": {},
   "outputs": [
    {
     "name": "stdout",
     "output_type": "stream",
     "text": [
      "7\n"
     ]
    }
   ],
   "source": [
    "#wap to find the vowels and its count in a given string\n",
    "#str1='hai how are you'\n",
    "\n",
    "str4='hai how are you'\n",
    "j=0\n",
    "for i in str4:\n",
    "    if i in ['a','e','i','o','u']:\n",
    "        j += 1\n",
    "print(j)"
   ]
  },
  {
   "cell_type": "code",
   "execution_count": 146,
   "id": "2297fa20-ef1c-4805-9d2f-d0a79338bcac",
   "metadata": {},
   "outputs": [
    {
     "name": "stdout",
     "output_type": "stream",
     "text": [
      "4\n"
     ]
    }
   ],
   "source": [
    "#wap to find the vowels and its count in a given string\n",
    "#str1='hai how are you'\n",
    "\n",
    "str5='Nagaraju'\n",
    "str6='aeiou'\n",
    "j=0\n",
    "for i in str5:\n",
    "    if i in str6:\n",
    "        j += 1\n",
    "print(j)"
   ]
  },
  {
   "cell_type": "code",
   "execution_count": 154,
   "id": "e0156df3-3872-4d40-956c-bd76776666f3",
   "metadata": {},
   "outputs": [
    {
     "name": "stdout",
     "output_type": "stream",
     "text": [
      "4\n"
     ]
    }
   ],
   "source": [
    "#wap to find the vowels which are repeating then print only one time\n",
    "#example: hello\n",
    "#l is coming two times but we want to print only one time\n",
    "\n",
    "str5='how are you'\n",
    "str6='aeiou'\n",
    "j=0\n",
    "str7=''\n",
    "for i in str5:\n",
    "    if i in str6 and i not in str7:\n",
    "        j += 1\n",
    "        str7=str7+i\n",
    "print(j)"
   ]
  },
  {
   "cell_type": "markdown",
   "id": "a16a9587-9759-4d09-9503-881c1615dadd",
   "metadata": {},
   "source": [
    "**mutable-immutable**\n",
    "\n",
    "- mutable means change\n",
    "- immutable means cannot change\n",
    "- we cannot change the elements using index operations"
   ]
  },
  {
   "cell_type": "code",
   "execution_count": 171,
   "id": "dd1ae37a-90ed-4261-8552-4378df17d8aa",
   "metadata": {},
   "outputs": [
    {
     "ename": "TypeError",
     "evalue": "'str' object does not support item assignment",
     "output_type": "error",
     "traceback": [
      "\u001b[1;31m---------------------------------------------------------------------------\u001b[0m",
      "\u001b[1;31mTypeError\u001b[0m                                 Traceback (most recent call last)",
      "Cell \u001b[1;32mIn[171], line 3\u001b[0m\n\u001b[0;32m      1\u001b[0m \u001b[38;5;66;03m#immutable\u001b[39;00m\n\u001b[0;32m      2\u001b[0m str1\u001b[38;5;241m=\u001b[39m\u001b[38;5;124m'\u001b[39m\u001b[38;5;124mhello\u001b[39m\u001b[38;5;124m'\u001b[39m\n\u001b[1;32m----> 3\u001b[0m str1[\u001b[38;5;241m2\u001b[39m]\u001b[38;5;241m=\u001b[39m\u001b[38;5;124m'\u001b[39m\u001b[38;5;124mL\u001b[39m\u001b[38;5;124m'\u001b[39m\n",
      "\u001b[1;31mTypeError\u001b[0m: 'str' object does not support item assignment"
     ]
    }
   ],
   "source": [
    "#immutable\n",
    "str1='hello'\n",
    "str1[2]='L'"
   ]
  },
  {
   "cell_type": "code",
   "execution_count": 169,
   "id": "ffac20e1-063c-4190-b1f5-4d51d07c9ca0",
   "metadata": {},
   "outputs": [
    {
     "data": {
      "text/plain": [
       "[10, 200, 30]"
      ]
     },
     "execution_count": 169,
     "metadata": {},
     "output_type": "execute_result"
    }
   ],
   "source": [
    "#mutable\n",
    "val1=[10,20,30]\n",
    "val1[1]=200\n",
    "val1"
   ]
  },
  {
   "cell_type": "code",
   "execution_count": null,
   "id": "f5db338f-19e0-4faf-8ec6-7c914129a262",
   "metadata": {},
   "outputs": [],
   "source": []
  }
 ],
 "metadata": {
  "kernelspec": {
   "display_name": "Python [conda env:base] *",
   "language": "python",
   "name": "conda-base-py"
  },
  "language_info": {
   "codemirror_mode": {
    "name": "ipython",
    "version": 3
   },
   "file_extension": ".py",
   "mimetype": "text/x-python",
   "name": "python",
   "nbconvert_exporter": "python",
   "pygments_lexer": "ipython3",
   "version": "3.12.7"
  }
 },
 "nbformat": 4,
 "nbformat_minor": 5
}
