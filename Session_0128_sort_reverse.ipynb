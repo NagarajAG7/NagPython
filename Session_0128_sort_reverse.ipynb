{
 "cells": [
  {
   "cell_type": "markdown",
   "id": "3f5e65af-6a23-4262-99c2-29c17b53504b",
   "metadata": {},
   "source": [
    "**Basic Representations**"
   ]
  },
  {
   "cell_type": "code",
   "execution_count": 1,
   "id": "c8551e55-eeae-46e3-8b96-35bfd78a1cc8",
   "metadata": {},
   "outputs": [
    {
     "data": {
      "text/plain": [
       "'python'"
      ]
     },
     "execution_count": 1,
     "metadata": {},
     "output_type": "execute_result"
    }
   ],
   "source": [
    "name = 'python'\n",
    "name"
   ]
  },
  {
   "cell_type": "code",
   "execution_count": 3,
   "id": "59f407b9-e850-42dc-a310-67e23710dd8a",
   "metadata": {},
   "outputs": [
    {
     "name": "stdout",
     "output_type": "stream",
     "text": [
      "python\n"
     ]
    }
   ],
   "source": [
    "print(name)"
   ]
  },
  {
   "cell_type": "markdown",
   "id": "942f58fc-1a4e-49c0-befe-e606f54fc872",
   "metadata": {},
   "source": [
    "- python by default give output in **Single quotes**\n",
    "- when we print the string the output display **without quotes**"
   ]
  },
  {
   "cell_type": "code",
   "execution_count": 13,
   "id": "4dbf9d68-f44d-4332-8c13-3f5e85816fbf",
   "metadata": {},
   "outputs": [
    {
     "name": "stdout",
     "output_type": "stream",
     "text": [
      "I love 'Python'\n"
     ]
    }
   ],
   "source": [
    "str1=\"I love 'Python'\"\n",
    "print(str1)"
   ]
  },
  {
   "cell_type": "code",
   "execution_count": 15,
   "id": "c5c25316-b0a0-4ab5-baf5-064e6eab2715",
   "metadata": {},
   "outputs": [
    {
     "name": "stdout",
     "output_type": "stream",
     "text": [
      "I love \"Python\"\n"
     ]
    }
   ],
   "source": [
    "str2='I love \"Python\"'\n",
    "print(str2)"
   ]
  },
  {
   "cell_type": "markdown",
   "id": "658d7b40-6571-4232-a225-aef6b7cfcf97",
   "metadata": {},
   "source": [
    "**Doc string**\n",
    "\n",
    "- triple quotes also called as doc string\n",
    "\n",
    " - triple quotes means the user try to convey some information"
   ]
  },
  {
   "cell_type": "markdown",
   "id": "bf47c398-a8fc-43d3-8fa8-cc770e5791db",
   "metadata": {},
   "source": [
    "***type***"
   ]
  },
  {
   "cell_type": "code",
   "execution_count": 20,
   "id": "beb4358f-75e7-453e-9d47-f9138a984272",
   "metadata": {},
   "outputs": [
    {
     "data": {
      "text/plain": [
       "str"
      ]
     },
     "execution_count": 20,
     "metadata": {},
     "output_type": "execute_result"
    }
   ],
   "source": [
    "a='Python'\n",
    "type(a)"
   ]
  },
  {
   "cell_type": "code",
   "execution_count": 22,
   "id": "e63d11ef-9057-465a-8526-baa566688959",
   "metadata": {},
   "outputs": [
    {
     "data": {
      "text/plain": [
       "int"
      ]
     },
     "execution_count": 22,
     "metadata": {},
     "output_type": "execute_result"
    }
   ],
   "source": [
    "b=123\n",
    "type(b)"
   ]
  },
  {
   "cell_type": "code",
   "execution_count": 24,
   "id": "c637873f-7e67-4c3e-8301-98232b74412e",
   "metadata": {},
   "outputs": [
    {
     "data": {
      "text/plain": [
       "7"
      ]
     },
     "execution_count": 24,
     "metadata": {},
     "output_type": "execute_result"
    }
   ],
   "source": [
    "c='Nagaraj'\n",
    "len(c)"
   ]
  },
  {
   "cell_type": "code",
   "execution_count": 44,
   "id": "9af3f1a3-06db-4ee6-9526-61a01b4e4a5c",
   "metadata": {},
   "outputs": [
    {
     "data": {
      "text/plain": [
       "'z'"
      ]
     },
     "execution_count": 44,
     "metadata": {},
     "output_type": "execute_result"
    }
   ],
   "source": [
    "d='zabc'\n",
    "max(d)"
   ]
  },
  {
   "cell_type": "code",
   "execution_count": 48,
   "id": "8b87fa7f-0b13-4a6a-b0e7-2048af51576c",
   "metadata": {},
   "outputs": [
    {
     "data": {
      "text/plain": [
       "'c'"
      ]
     },
     "execution_count": 48,
     "metadata": {},
     "output_type": "execute_result"
    }
   ],
   "source": [
    "e='zywtc'\n",
    "min(e)"
   ]
  },
  {
   "cell_type": "code",
   "execution_count": 67,
   "id": "657c8864-2306-448e-8965-372cdb3e2a09",
   "metadata": {},
   "outputs": [
    {
     "data": {
      "text/plain": [
       "10"
      ]
     },
     "execution_count": 67,
     "metadata": {},
     "output_type": "execute_result"
    }
   ],
   "source": [
    "f=([1,2,3,4])\n",
    "sum(f)"
   ]
  },
  {
   "cell_type": "code",
   "execution_count": 69,
   "id": "e848b662-3438-4388-b735-75a0a4fd8663",
   "metadata": {},
   "outputs": [
    {
     "data": {
      "text/plain": [
       "10"
      ]
     },
     "execution_count": 69,
     "metadata": {},
     "output_type": "execute_result"
    }
   ],
   "source": [
    "g=(1,2,3,4)\n",
    "sum(g)"
   ]
  },
  {
   "cell_type": "code",
   "execution_count": 71,
   "id": "448807bb-e707-4332-9785-804deb3b66c3",
   "metadata": {},
   "outputs": [
    {
     "name": "stdout",
     "output_type": "stream",
     "text": [
      "110 n\n",
      "97 a\n",
      "103 g\n",
      "97 a\n",
      "114 r\n",
      "97 a\n",
      "106 j\n"
     ]
    }
   ],
   "source": [
    "for i in 'nagaraj':\n",
    "    print(ord(i),i)"
   ]
  },
  {
   "cell_type": "markdown",
   "id": "93edfc89-51a0-403c-a3cb-3a48801f7584",
   "metadata": {},
   "source": [
    "**sorted** - **reversed**\n",
    "\n",
    "- sorted either ascending or descending order\n",
    "\n",
    "    - iterable: Anything that can be print using loop\n",
    "\n",
    "- reversed means changing the order\n",
    "\n",
    "    "
   ]
  },
  {
   "cell_type": "code",
   "execution_count": 77,
   "id": "6320f956-514b-4b25-b02b-cecd370d39f8",
   "metadata": {},
   "outputs": [
    {
     "data": {
      "text/plain": [
       "['N', 'a', 'a', 'a', 'g', 'j', 'r']"
      ]
     },
     "execution_count": 77,
     "metadata": {},
     "output_type": "execute_result"
    }
   ],
   "source": [
    "sorted('Nagaraj')"
   ]
  },
  {
   "cell_type": "code",
   "execution_count": 31,
   "id": "e3ac1fcb-72b3-4347-8e22-5c41f9c9c425",
   "metadata": {},
   "outputs": [
    {
     "data": {
      "text/plain": [
       "['r', 'j', 'g', 'a', 'a', 'a', 'N']"
      ]
     },
     "execution_count": 31,
     "metadata": {},
     "output_type": "execute_result"
    }
   ],
   "source": [
    "sorted('Nagaraj',reverse=True)"
   ]
  },
  {
   "cell_type": "code",
   "execution_count": 33,
   "id": "ca45395d-534c-4ef7-b8b0-a4a8c673c6f2",
   "metadata": {},
   "outputs": [
    {
     "data": {
      "text/plain": [
       "['N', 'a', 'a', 'a', 'g', 'j', 'r']"
      ]
     },
     "execution_count": 33,
     "metadata": {},
     "output_type": "execute_result"
    }
   ],
   "source": [
    "sorted('Nagaraj',reverse=False)"
   ]
  },
  {
   "cell_type": "code",
   "execution_count": 86,
   "id": "28c21b40-b106-439d-a6f8-5cb9e5d0843f",
   "metadata": {},
   "outputs": [
    {
     "name": "stdout",
     "output_type": "stream",
     "text": [
      "50\n"
     ]
    }
   ],
   "source": [
    "def add(a,b):\n",
    "    print(a+b)\n",
    "add(a=20,b=30)"
   ]
  },
  {
   "cell_type": "code",
   "execution_count": 92,
   "id": "7978deb2-fdb7-4d03-bdd9-ab78ddb4827d",
   "metadata": {},
   "outputs": [
    {
     "ename": "TypeError",
     "evalue": "add1() got some positional-only arguments passed as keyword arguments: 'c'",
     "output_type": "error",
     "traceback": [
      "\u001b[1;31m---------------------------------------------------------------------------\u001b[0m",
      "\u001b[1;31mTypeError\u001b[0m                                 Traceback (most recent call last)",
      "Cell \u001b[1;32mIn[92], line 3\u001b[0m\n\u001b[0;32m      1\u001b[0m \u001b[38;5;28;01mdef\u001b[39;00m \u001b[38;5;21madd1\u001b[39m(c,\u001b[38;5;241m/\u001b[39m,d):\n\u001b[0;32m      2\u001b[0m     \u001b[38;5;28mprint\u001b[39m(c\u001b[38;5;241m+\u001b[39md)\n\u001b[1;32m----> 3\u001b[0m add1(c\u001b[38;5;241m=\u001b[39m\u001b[38;5;241m10\u001b[39m,d\u001b[38;5;241m=\u001b[39m\u001b[38;5;241m20\u001b[39m)\n",
      "\u001b[1;31mTypeError\u001b[0m: add1() got some positional-only arguments passed as keyword arguments: 'c'"
     ]
    }
   ],
   "source": [
    "def add1(c,/,d):\n",
    "    print(c+d)\n",
    "add1(c=10,d=20)"
   ]
  },
  {
   "cell_type": "code",
   "execution_count": 1,
   "id": "c18e45a6-b31b-40ba-8e12-3dec454ddf9a",
   "metadata": {},
   "outputs": [
    {
     "name": "stdout",
     "output_type": "stream",
     "text": [
      "30\n"
     ]
    }
   ],
   "source": [
    "def add2(e,/,f):\n",
    "    print(e+f)\n",
    "add2(10,f=20)"
   ]
  },
  {
   "cell_type": "code",
   "execution_count": 17,
   "id": "752d81dd-940a-4c38-9841-493b7a1cffbf",
   "metadata": {},
   "outputs": [
    {
     "ename": "SyntaxError",
     "evalue": "positional argument follows keyword argument (3350242750.py, line 3)",
     "output_type": "error",
     "traceback": [
      "\u001b[1;36m  Cell \u001b[1;32mIn[17], line 3\u001b[1;36m\u001b[0m\n\u001b[1;33m    add3(g=10,20)\u001b[0m\n\u001b[1;37m                ^\u001b[0m\n\u001b[1;31mSyntaxError\u001b[0m\u001b[1;31m:\u001b[0m positional argument follows keyword argument\n"
     ]
    }
   ],
   "source": [
    "def add3(g,/,h):\n",
    "    print(g+h)\n",
    "add3(g=10,20)"
   ]
  },
  {
   "cell_type": "code",
   "execution_count": 19,
   "id": "51916a01-a297-46f7-94e3-498fb068c3aa",
   "metadata": {},
   "outputs": [
    {
     "name": "stdout",
     "output_type": "stream",
     "text": [
      "30\n"
     ]
    }
   ],
   "source": [
    "def add4(i,/,j):\n",
    "    print(i+j)\n",
    "add4(10,20)"
   ]
  },
  {
   "cell_type": "markdown",
   "id": "3bc9a65c-efb9-4caa-9ba0-733f28e825ea",
   "metadata": {},
   "source": [
    "**Note:**\n",
    "- / before, don't use argument name\n",
    "- / after, you can use argument name, our wish\n",
    "- (*) indicates no need to maintain the order of the arguments\n",
    "  "
   ]
  },
  {
   "cell_type": "code",
   "execution_count": 38,
   "id": "cd690fca-e557-443f-a586-281da9660123",
   "metadata": {},
   "outputs": [
    {
     "name": "stdout",
     "output_type": "stream",
     "text": [
      "60\n"
     ]
    }
   ],
   "source": [
    "def add5(a,/,*,b,c):\n",
    "    print(a+b+c)\n",
    "add5(10,b=20,c=30)"
   ]
  },
  {
   "cell_type": "code",
   "execution_count": 66,
   "id": "dfdd3bff-a10d-46e9-807f-8a1e43787e5a",
   "metadata": {},
   "outputs": [
    {
     "ename": "TypeError",
     "evalue": "add6() got some positional-only arguments passed as keyword arguments: 'a'",
     "output_type": "error",
     "traceback": [
      "\u001b[1;31m---------------------------------------------------------------------------\u001b[0m",
      "\u001b[1;31mTypeError\u001b[0m                                 Traceback (most recent call last)",
      "Cell \u001b[1;32mIn[66], line 3\u001b[0m\n\u001b[0;32m      1\u001b[0m \u001b[38;5;28;01mdef\u001b[39;00m \u001b[38;5;21madd6\u001b[39m(a,\u001b[38;5;241m/\u001b[39m,\u001b[38;5;241m*\u001b[39m,b,c):\n\u001b[0;32m      2\u001b[0m     \u001b[38;5;28mprint\u001b[39m(a\u001b[38;5;241m+\u001b[39mb\u001b[38;5;241m+\u001b[39mc)\n\u001b[1;32m----> 3\u001b[0m add6(a\u001b[38;5;241m=\u001b[39m\u001b[38;5;241m10\u001b[39m,c\u001b[38;5;241m=\u001b[39m\u001b[38;5;241m20\u001b[39m,b\u001b[38;5;241m=\u001b[39m\u001b[38;5;241m30\u001b[39m)\n",
      "\u001b[1;31mTypeError\u001b[0m: add6() got some positional-only arguments passed as keyword arguments: 'a'"
     ]
    }
   ],
   "source": [
    "def add6(a,/,*,b,c):\n",
    "    print(a+b+c)\n",
    "add6(a=10,c=20,b=30)"
   ]
  },
  {
   "cell_type": "code",
   "execution_count": 64,
   "id": "d88f9a6c-8365-4f62-b137-d7230ac78de7",
   "metadata": {},
   "outputs": [
    {
     "name": "stdout",
     "output_type": "stream",
     "text": [
      "30\n"
     ]
    }
   ],
   "source": [
    "def add6(a,/,b,c):\n",
    "    print(a+c)\n",
    "add6(10,c=20,b=30)"
   ]
  },
  {
   "cell_type": "code",
   "execution_count": 76,
   "id": "bbb9371c-1d58-4f00-8df5-0e89cd586104",
   "metadata": {},
   "outputs": [
    {
     "ename": "TypeError",
     "evalue": "sorted expected 1 argument, got 2",
     "output_type": "error",
     "traceback": [
      "\u001b[1;31m---------------------------------------------------------------------------\u001b[0m",
      "\u001b[1;31mTypeError\u001b[0m                                 Traceback (most recent call last)",
      "Cell \u001b[1;32mIn[76], line 1\u001b[0m\n\u001b[1;32m----> 1\u001b[0m \u001b[38;5;28msorted\u001b[39m(\u001b[38;5;124m'\u001b[39m\u001b[38;5;124mnag\u001b[39m\u001b[38;5;124m'\u001b[39m,\u001b[38;5;28;01mTrue\u001b[39;00m)\n",
      "\u001b[1;31mTypeError\u001b[0m: sorted expected 1 argument, got 2"
     ]
    }
   ],
   "source": [
    "sorted('nag',True)"
   ]
  },
  {
   "cell_type": "code",
   "execution_count": 78,
   "id": "54135b94-95f6-424e-8196-ce9fe900e068",
   "metadata": {},
   "outputs": [
    {
     "data": {
      "text/plain": [
       "['n', 'g', 'a']"
      ]
     },
     "execution_count": 78,
     "metadata": {},
     "output_type": "execute_result"
    }
   ],
   "source": [
    "sorted('nag',reverse=True)"
   ]
  },
  {
   "cell_type": "code",
   "execution_count": 82,
   "id": "51f9d446-4ee9-4b81-b3ef-4e2c57305d9a",
   "metadata": {},
   "outputs": [
    {
     "ename": "TypeError",
     "evalue": "sorted expected 1 argument, got 0",
     "output_type": "error",
     "traceback": [
      "\u001b[1;31m---------------------------------------------------------------------------\u001b[0m",
      "\u001b[1;31mTypeError\u001b[0m                                 Traceback (most recent call last)",
      "Cell \u001b[1;32mIn[82], line 2\u001b[0m\n\u001b[0;32m      1\u001b[0m \u001b[38;5;28msorted\u001b[39m(\u001b[38;5;124m'\u001b[39m\u001b[38;5;124mpython\u001b[39m\u001b[38;5;124m'\u001b[39m) \u001b[38;5;66;03m#works\u001b[39;00m\n\u001b[1;32m----> 2\u001b[0m \u001b[38;5;28msorted\u001b[39m(iterable\u001b[38;5;241m=\u001b[39m\u001b[38;5;124m'\u001b[39m\u001b[38;5;124mpython\u001b[39m\u001b[38;5;124m'\u001b[39m) \u001b[38;5;66;03m#fails\u001b[39;00m\n\u001b[0;32m      3\u001b[0m \u001b[38;5;28msorted\u001b[39m(\u001b[38;5;124m'\u001b[39m\u001b[38;5;124mpython\u001b[39m\u001b[38;5;124m'\u001b[39m,reverse\u001b[38;5;241m=\u001b[39m\u001b[38;5;28;01mTrue\u001b[39;00m) \u001b[38;5;66;03m#works\u001b[39;00m\n\u001b[0;32m      4\u001b[0m \u001b[38;5;28msorted\u001b[39m(\u001b[38;5;124m'\u001b[39m\u001b[38;5;124mpython\u001b[39m\u001b[38;5;124m'\u001b[39m,\u001b[38;5;28;01mTrue\u001b[39;00m) \u001b[38;5;66;03m#fails\u001b[39;00m\n",
      "\u001b[1;31mTypeError\u001b[0m: sorted expected 1 argument, got 0"
     ]
    }
   ],
   "source": [
    "sorted('python') #works\n",
    "sorted(iterable='python') #fails\n",
    "sorted('python',reverse=True) #works\n",
    "sorted('python',True) #fails\n",
    "sorted(iterable='python',revers=True) #fails\n",
    "sorted('python',reverse=True) #works\n"
   ]
  },
  {
   "cell_type": "markdown",
   "id": "8f43fa86-a063-4740-ad62-58b57c4d3b8e",
   "metadata": {},
   "source": [
    "***reversed***"
   ]
  },
  {
   "cell_type": "code",
   "execution_count": 87,
   "id": "45916044-9ed8-448c-ae80-ed04ee9c578f",
   "metadata": {},
   "outputs": [
    {
     "data": {
      "text/plain": [
       "<reversed at 0x1619676fd30>"
      ]
     },
     "execution_count": 87,
     "metadata": {},
     "output_type": "execute_result"
    }
   ],
   "source": [
    "reversed('nagaraj')"
   ]
  },
  {
   "cell_type": "markdown",
   "id": "c0abe1c5-810c-4783-971c-f866b269bebe",
   "metadata": {},
   "source": [
    "- Answer is saved at an address, we can see that answer by using a for loop"
   ]
  },
  {
   "cell_type": "code",
   "execution_count": 96,
   "id": "8cfb2212-dd54-4ed1-be7d-f95ba1d61285",
   "metadata": {},
   "outputs": [
    {
     "name": "stdout",
     "output_type": "stream",
     "text": [
      "j\n",
      "a\n",
      "r\n",
      "a\n",
      "g\n",
      "a\n",
      "N\n"
     ]
    }
   ],
   "source": [
    "ans=reversed('Nagaraj')\n",
    "for i in ans:\n",
    "    print(i)"
   ]
  },
  {
   "cell_type": "code",
   "execution_count": 98,
   "id": "1702c764-aed2-4eed-a621-814fd9b6af1c",
   "metadata": {},
   "outputs": [
    {
     "name": "stdout",
     "output_type": "stream",
     "text": [
      "j/a/r/a/g/a/N/"
     ]
    }
   ],
   "source": [
    "ans=reversed('Nagaraj')\n",
    "for i in ans:\n",
    "    print(i,end=\"/\")"
   ]
  },
  {
   "cell_type": "code",
   "execution_count": 102,
   "id": "46c9a370-d49c-46ac-b0f4-0c692783dcbe",
   "metadata": {},
   "outputs": [
    {
     "name": "stdout",
     "output_type": "stream",
     "text": [
      "N\n",
      "a\n",
      "g\n"
     ]
    }
   ],
   "source": [
    "abc='Nag'\n",
    "for i in abc:\n",
    "    print(i)"
   ]
  },
  {
   "cell_type": "code",
   "execution_count": 104,
   "id": "aa920eb7-392c-48b0-84a3-72c8fceada04",
   "metadata": {},
   "outputs": [
    {
     "data": {
      "text/plain": [
       "['N', 'a', 'g', 'a', 'r', 'a', 'j']"
      ]
     },
     "execution_count": 104,
     "metadata": {},
     "output_type": "execute_result"
    }
   ],
   "source": [
    "aaa='Nagaraj'\n",
    "list(aaa)"
   ]
  },
  {
   "cell_type": "code",
   "execution_count": 108,
   "id": "0ae93c96-20b9-4173-8626-362be282578e",
   "metadata": {},
   "outputs": [
    {
     "data": {
      "text/plain": [
       "['j', 'a', 'r', 'a', 'g', 'a', 'N']"
      ]
     },
     "execution_count": 108,
     "metadata": {},
     "output_type": "execute_result"
    }
   ],
   "source": [
    "bbb=reversed('Nagaraj')\n",
    "list(bbb)"
   ]
  },
  {
   "cell_type": "markdown",
   "id": "eb51de4f-9419-4855-ae32-2f009d108883",
   "metadata": {},
   "source": [
    "**Concatenation**"
   ]
  },
  {
   "cell_type": "code",
   "execution_count": 113,
   "id": "689bf1c9-c75b-4b8e-aa3e-66d045e26756",
   "metadata": {},
   "outputs": [
    {
     "data": {
      "text/plain": [
       "'hellopython'"
      ]
     },
     "execution_count": 113,
     "metadata": {},
     "output_type": "execute_result"
    }
   ],
   "source": [
    "str1='hello'\n",
    "str2='python'\n",
    "str1+str2"
   ]
  },
  {
   "cell_type": "code",
   "execution_count": 121,
   "id": "6972d77c-0d55-4ac2-a571-2520e65291d8",
   "metadata": {},
   "outputs": [
    {
     "data": {
      "text/plain": [
       "'hello python'"
      ]
     },
     "execution_count": 121,
     "metadata": {},
     "output_type": "execute_result"
    }
   ],
   "source": [
    "str1='hello'\n",
    "str2='python'\n",
    "str1+\" \"+str2"
   ]
  },
  {
   "cell_type": "code",
   "execution_count": 127,
   "id": "2b679560-1b48-46e5-a77c-2b24dfc3d2ed",
   "metadata": {},
   "outputs": [
    {
     "ename": "TypeError",
     "evalue": "unsupported operand type(s) for /: 'str' and 'str'",
     "output_type": "error",
     "traceback": [
      "\u001b[1;31m---------------------------------------------------------------------------\u001b[0m",
      "\u001b[1;31mTypeError\u001b[0m                                 Traceback (most recent call last)",
      "Cell \u001b[1;32mIn[127], line 3\u001b[0m\n\u001b[0;32m      1\u001b[0m str1\u001b[38;5;241m=\u001b[39m\u001b[38;5;124m'\u001b[39m\u001b[38;5;124mhello\u001b[39m\u001b[38;5;124m'\u001b[39m\n\u001b[0;32m      2\u001b[0m str2\u001b[38;5;241m=\u001b[39m\u001b[38;5;124m'\u001b[39m\u001b[38;5;124mpython\u001b[39m\u001b[38;5;124m'\u001b[39m\n\u001b[1;32m----> 3\u001b[0m str1\u001b[38;5;241m/\u001b[39mstr2\n",
      "\u001b[1;31mTypeError\u001b[0m: unsupported operand type(s) for /: 'str' and 'str'"
     ]
    }
   ],
   "source": [
    "str1='hello'\n",
    "str2='python'\n",
    "str1/str2"
   ]
  },
  {
   "cell_type": "code",
   "execution_count": 133,
   "id": "1c70c7e3-b49c-4579-a6d6-b53eb81c280a",
   "metadata": {},
   "outputs": [
    {
     "data": {
      "text/plain": [
       "'hellohellohello'"
      ]
     },
     "execution_count": 133,
     "metadata": {},
     "output_type": "execute_result"
    }
   ],
   "source": [
    "str1='hello'\n",
    "str2='python'\n",
    "3*str1"
   ]
  },
  {
   "cell_type": "code",
   "execution_count": 149,
   "id": "a9c92a95-12b0-432e-abf6-2725ca8d5f96",
   "metadata": {},
   "outputs": [
    {
     "data": {
      "text/plain": [
       "'python==python==python==python==python=='"
      ]
     },
     "execution_count": 149,
     "metadata": {},
     "output_type": "execute_result"
    }
   ],
   "source": [
    "str1='hello'\n",
    "str2='python=='\n",
    "str2*5"
   ]
  },
  {
   "cell_type": "code",
   "execution_count": 1,
   "id": "d6870dc1-cce1-4f99-aa4a-2e4a04a83d2e",
   "metadata": {},
   "outputs": [
    {
     "data": {
      "text/plain": [
       "'N'"
      ]
     },
     "execution_count": 1,
     "metadata": {},
     "output_type": "execute_result"
    }
   ],
   "source": [
    "#min\n",
    "min('Nagaraj')"
   ]
  },
  {
   "cell_type": "code",
   "execution_count": 3,
   "id": "33f123a2-2115-486a-b45d-b71cdb15a39f",
   "metadata": {},
   "outputs": [
    {
     "data": {
      "text/plain": [
       "'u'"
      ]
     },
     "execution_count": 3,
     "metadata": {},
     "output_type": "execute_result"
    }
   ],
   "source": [
    "max('Renuka')"
   ]
  },
  {
   "cell_type": "code",
   "execution_count": 5,
   "id": "699375c8-9c66-4c97-9ad2-e3a82907333d",
   "metadata": {},
   "outputs": [
    {
     "data": {
      "text/plain": [
       "['R', 'a', 'e', 'k', 'n', 'u']"
      ]
     },
     "execution_count": 5,
     "metadata": {},
     "output_type": "execute_result"
    }
   ],
   "source": [
    "sorted('Renuka')"
   ]
  },
  {
   "cell_type": "code",
   "execution_count": 10,
   "id": "6dd3507c-ed71-4ff5-8736-3d3cc7e954c6",
   "metadata": {},
   "outputs": [
    {
     "data": {
      "text/plain": [
       "['u', 'n', 'k', 'e', 'a', 'R']"
      ]
     },
     "execution_count": 10,
     "metadata": {},
     "output_type": "execute_result"
    }
   ],
   "source": [
    "sorted('Renuka',reverse=True)"
   ]
  },
  {
   "cell_type": "code",
   "execution_count": 14,
   "id": "d581ef23-8fc9-41d4-b40c-e60c7d58238b",
   "metadata": {},
   "outputs": [
    {
     "name": "stdout",
     "output_type": "stream",
     "text": [
      "j\n",
      "a\n",
      "r\n",
      "a\n",
      "g\n",
      "a\n",
      "N\n"
     ]
    }
   ],
   "source": [
    "for i in reversed('Nagaraj'):\n",
    "    print(i)"
   ]
  },
  {
   "cell_type": "code",
   "execution_count": 20,
   "id": "a83c9e1d-ea7e-4c72-9c1b-d15c3939f183",
   "metadata": {},
   "outputs": [
    {
     "name": "stdout",
     "output_type": "stream",
     "text": [
      "N\n",
      "a\n",
      "g\n",
      "a\n",
      "r\n",
      "a\n",
      "j\n"
     ]
    }
   ],
   "source": [
    "for i in ('Nagaraj'):\n",
    "    print(i)"
   ]
  },
  {
   "cell_type": "code",
   "execution_count": 16,
   "id": "81e3251a-1ca6-43c1-83f9-eb50f86936ea",
   "metadata": {},
   "outputs": [
    {
     "name": "stdout",
     "output_type": "stream",
     "text": [
      "N\n",
      "a\n",
      "a\n",
      "a\n",
      "g\n",
      "j\n",
      "r\n"
     ]
    }
   ],
   "source": [
    "for i in sorted('Nagaraj'):\n",
    "    print(i)"
   ]
  },
  {
   "cell_type": "code",
   "execution_count": 24,
   "id": "0795da02-c739-4465-9116-18092122bfe6",
   "metadata": {},
   "outputs": [
    {
     "data": {
      "text/plain": [
       "'abcdefghijkl'"
      ]
     },
     "execution_count": 24,
     "metadata": {},
     "output_type": "execute_result"
    }
   ],
   "source": [
    "#Concatenation\n",
    "a='abc'\n",
    "b='def'\n",
    "c='ghi'\n",
    "d='jkl'\n",
    "a+b+c+d"
   ]
  },
  {
   "cell_type": "code",
   "execution_count": null,
   "id": "9e92e613-4ece-4708-b6fc-3f9d3c75019b",
   "metadata": {},
   "outputs": [],
   "source": []
  }
 ],
 "metadata": {
  "kernelspec": {
   "display_name": "Python [conda env:base] *",
   "language": "python",
   "name": "conda-base-py"
  },
  "language_info": {
   "codemirror_mode": {
    "name": "ipython",
    "version": 3
   },
   "file_extension": ".py",
   "mimetype": "text/x-python",
   "name": "python",
   "nbconvert_exporter": "python",
   "pygments_lexer": "ipython3",
   "version": "3.12.7"
  }
 },
 "nbformat": 4,
 "nbformat_minor": 5
}
