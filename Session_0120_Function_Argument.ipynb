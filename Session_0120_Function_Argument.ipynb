{
 "cells": [
  {
   "cell_type": "code",
   "execution_count": 3,
   "id": "678d422b-0e3f-48b5-a28f-9c5225916f0e",
   "metadata": {},
   "outputs": [],
   "source": [
    "def addition1(n1,n2):\n",
    "    add=n1+n2\n",
    "    print(f'the sum of {n1} and {n2} is: {add}')"
   ]
  },
  {
   "cell_type": "code",
   "execution_count": 5,
   "id": "1558d23e-0c3e-4198-906c-0e2402ca7c3d",
   "metadata": {},
   "outputs": [
    {
     "name": "stdout",
     "output_type": "stream",
     "text": [
      "the sum of 100 and 200 is: 300\n"
     ]
    }
   ],
   "source": [
    "addition1(100,200)"
   ]
  },
  {
   "cell_type": "code",
   "execution_count": 7,
   "id": "84bdc0f6-d594-4bb8-92a4-d2c0b96fa864",
   "metadata": {},
   "outputs": [],
   "source": [
    "def average1(n1,n2,n3):\n",
    "    avg1=(n1+n2+n3)/3\n",
    "    print(f'The Average of {n1}, {n2} and {n3} is: {avg1}')"
   ]
  },
  {
   "cell_type": "code",
   "execution_count": 9,
   "id": "ce7fb3f6-5bc0-48e5-8131-41301a0cc18b",
   "metadata": {},
   "outputs": [
    {
     "name": "stdout",
     "output_type": "stream",
     "text": [
      "The Average of 100, 200 and 300 is: 200.0\n"
     ]
    }
   ],
   "source": [
    "average1(100,200,300)"
   ]
  },
  {
   "cell_type": "code",
   "execution_count": 11,
   "id": "94c432d3-2733-49b1-83d2-2d8a1f3f5e6e",
   "metadata": {},
   "outputs": [
    {
     "ename": "TypeError",
     "evalue": "average1() missing 1 required positional argument: 'n3'",
     "output_type": "error",
     "traceback": [
      "\u001b[1;31m---------------------------------------------------------------------------\u001b[0m",
      "\u001b[1;31mTypeError\u001b[0m                                 Traceback (most recent call last)",
      "Cell \u001b[1;32mIn[11], line 1\u001b[0m\n\u001b[1;32m----> 1\u001b[0m average1(\u001b[38;5;241m500\u001b[39m,\u001b[38;5;241m600\u001b[39m)\n",
      "\u001b[1;31mTypeError\u001b[0m: average1() missing 1 required positional argument: 'n3'"
     ]
    }
   ],
   "source": [
    "average1(500,600)"
   ]
  },
  {
   "cell_type": "code",
   "execution_count": 13,
   "id": "de83464b-3f63-4e25-8b79-489397870503",
   "metadata": {},
   "outputs": [],
   "source": [
    "def addition():\n",
    "    n1=eval(input('enter a num1:'))\n",
    "    n2=eval(input('enter a num2:'))\n",
    "    add=n1+n2\n",
    "    print(f'the sum of {n1} and {n2} is {add}')\n",
    "\n",
    "def addition1(n1):\n",
    "    n2=eval(input('enter a num2:'))\n",
    "    add=n1+n2\n",
    "    print(f'the sum of {n1} and {n2} is {add}')\n",
    "\n",
    "def addition2(n1,n2):\n",
    "    add=n1+n2\n",
    "    print(f'the sum of {n1} and {n2} is {add}')\n"
   ]
  },
  {
   "cell_type": "code",
   "execution_count": 33,
   "id": "00b5ca7a-ca4d-410b-a13f-2765aa909174",
   "metadata": {},
   "outputs": [
    {
     "name": "stdin",
     "output_type": "stream",
     "text": [
      "enter a num1: 1\n",
      "enter a num2: 2\n",
      "enter a num3: 3\n"
     ]
    },
    {
     "name": "stdout",
     "output_type": "stream",
     "text": [
      "The Average of 1, 2 and 3 is: 2.0\n",
      "=========== Avg2 functin starts==========\n"
     ]
    },
    {
     "name": "stdin",
     "output_type": "stream",
     "text": [
      "enter a num2: 2\n",
      "enter a num3: 3\n"
     ]
    },
    {
     "name": "stdout",
     "output_type": "stream",
     "text": [
      "The Average of 1, 2 and 3 is: 2.0\n",
      "=========== Avg3 functin starts==========\n"
     ]
    },
    {
     "name": "stdin",
     "output_type": "stream",
     "text": [
      "enter a num3: 3\n"
     ]
    },
    {
     "name": "stdout",
     "output_type": "stream",
     "text": [
      "The Average of 1, 2 and 3 is: 2.0\n"
     ]
    }
   ],
   "source": [
    "### print('=========== Avg1 functin starts==========')\n",
    "\n",
    "def average1():\n",
    "    n1=eval(input('enter a num1:'))\n",
    "    n2=eval(input('enter a num2:'))\n",
    "    n3=eval(input('enter a num3:'))\n",
    "\n",
    "    avg1=round((n1+n2+n3)/3,2)\n",
    "    print(f'The Average of {n1}, {n2} and {n3} is: {avg1}')\n",
    "\n",
    "average1()\n",
    "    \n",
    "print('=========== Avg2 functin starts==========')\n",
    "\n",
    "def average2(n1):\n",
    "    n2=eval(input('enter a num2:'))\n",
    "    n3=eval(input('enter a num3:'))\n",
    "    \n",
    "    avg2=round((n1+n2+n3)/3,2)\n",
    "    print(f'The Average of {n1}, {n2} and {n3} is: {avg2}')\n",
    "\n",
    "average2(1)\n",
    "\n",
    "print('=========== Avg3 functin starts==========')\n",
    "\n",
    "def average3(n1,n2):\n",
    "    n3=eval(input('enter a num3:'))\n",
    "\n",
    "    avg3=round((n1+n2+n3)/3,2)\n",
    "    print(f'The Average of {n1}, {n2} and {n3} is: {avg3}')\n",
    "\n",
    "average3(1,2)"
   ]
  },
  {
   "cell_type": "code",
   "execution_count": null,
   "id": "cb4b0360-28bf-4bac-a04c-28d5b6af9d27",
   "metadata": {},
   "outputs": [],
   "source": []
  }
 ],
 "metadata": {
  "kernelspec": {
   "display_name": "Python [conda env:base] *",
   "language": "python",
   "name": "conda-base-py"
  },
  "language_info": {
   "codemirror_mode": {
    "name": "ipython",
    "version": 3
   },
   "file_extension": ".py",
   "mimetype": "text/x-python",
   "name": "python",
   "nbconvert_exporter": "python",
   "pygments_lexer": "ipython3",
   "version": "3.12.7"
  }
 },
 "nbformat": 4,
 "nbformat_minor": 5
}
