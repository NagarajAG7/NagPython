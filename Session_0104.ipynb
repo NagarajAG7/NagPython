{
 "cells": [
  {
   "cell_type": "code",
   "execution_count": 1,
   "id": "eb4ed90e-25d0-4983-92e9-f6a68f24e2e1",
   "metadata": {},
   "outputs": [
    {
     "data": {
      "text/plain": [
       "<bound method Kernel.raw_input of <ipykernel.ipkernel.IPythonKernel object at 0x00000184810B8A10>>"
      ]
     },
     "execution_count": 1,
     "metadata": {},
     "output_type": "execute_result"
    }
   ],
   "source": [
    "input"
   ]
  },
  {
   "cell_type": "code",
   "execution_count": 3,
   "id": "d9c55761-74d1-4c30-ba4f-3395795b236c",
   "metadata": {},
   "outputs": [
    {
     "data": {
      "text/plain": [
       "int"
      ]
     },
     "execution_count": 3,
     "metadata": {},
     "output_type": "execute_result"
    }
   ],
   "source": [
    "a=100\n",
    "type(a)"
   ]
  },
  {
   "cell_type": "code",
   "execution_count": 9,
   "id": "9f968b93-397a-451d-88f5-9c13b399b935",
   "metadata": {},
   "outputs": [
    {
     "name": "stdin",
     "output_type": "stream",
     "text": [
      " 100\n"
     ]
    }
   ],
   "source": [
    "b=input()"
   ]
  },
  {
   "cell_type": "code",
   "execution_count": 11,
   "id": "e59ae491-71e7-4327-8402-eb60a89fd2aa",
   "metadata": {},
   "outputs": [
    {
     "data": {
      "text/plain": [
       "'100'"
      ]
     },
     "execution_count": 11,
     "metadata": {},
     "output_type": "execute_result"
    }
   ],
   "source": [
    "b"
   ]
  },
  {
   "cell_type": "code",
   "execution_count": 13,
   "id": "2e31e5ad-0810-49eb-a5e4-2413be25ae01",
   "metadata": {},
   "outputs": [
    {
     "name": "stdin",
     "output_type": "stream",
     "text": [
      " Nagaraj AG\n"
     ]
    }
   ],
   "source": [
    "n=input()"
   ]
  },
  {
   "cell_type": "code",
   "execution_count": 15,
   "id": "c0ef0c96-d815-429d-b436-cbbd277955bd",
   "metadata": {},
   "outputs": [
    {
     "data": {
      "text/plain": [
       "'Nagaraj AG'"
      ]
     },
     "execution_count": 15,
     "metadata": {},
     "output_type": "execute_result"
    }
   ],
   "source": [
    "n"
   ]
  },
  {
   "cell_type": "code",
   "execution_count": 17,
   "id": "f66ced11-65b3-4e12-affd-997b10999662",
   "metadata": {},
   "outputs": [
    {
     "name": "stdin",
     "output_type": "stream",
     "text": [
      " 100\n",
      " 200\n",
      " Nag\n"
     ]
    },
    {
     "data": {
      "text/plain": [
       "'Nag'"
      ]
     },
     "execution_count": 17,
     "metadata": {},
     "output_type": "execute_result"
    }
   ],
   "source": [
    "input()\n",
    "input()\n",
    "input()"
   ]
  },
  {
   "cell_type": "code",
   "execution_count": 19,
   "id": "61085f9a-5a45-4612-9073-a0cf622ae190",
   "metadata": {},
   "outputs": [
    {
     "name": "stdin",
     "output_type": "stream",
     "text": [
      " 10\n",
      " 20\n",
      " Raj\n"
     ]
    }
   ],
   "source": [
    "a=input()\n",
    "b=input()\n",
    "c=input()"
   ]
  },
  {
   "cell_type": "code",
   "execution_count": 21,
   "id": "72adba15-14e8-4e8f-9a31-1c60bce8000d",
   "metadata": {},
   "outputs": [
    {
     "data": {
      "text/plain": [
       "('10', '20', 'Raj')"
      ]
     },
     "execution_count": 21,
     "metadata": {},
     "output_type": "execute_result"
    }
   ],
   "source": [
    "a,b,c"
   ]
  },
  {
   "cell_type": "code",
   "execution_count": 23,
   "id": "546e4e37-7bdc-4013-9ea2-226ba82cd94b",
   "metadata": {},
   "outputs": [
    {
     "data": {
      "text/plain": [
       "'Raj'"
      ]
     },
     "execution_count": 23,
     "metadata": {},
     "output_type": "execute_result"
    }
   ],
   "source": [
    "a\n",
    "b\n",
    "c"
   ]
  },
  {
   "cell_type": "code",
   "execution_count": 37,
   "id": "ad1469dd-0893-4480-b584-79fc251deeca",
   "metadata": {},
   "outputs": [
    {
     "name": "stdin",
     "output_type": "stream",
     "text": [
      "enter the number1: 11\n",
      "enter the number2: 22\n",
      "enter the number3: 33\n"
     ]
    }
   ],
   "source": [
    "x=input(\"enter the number1:\")\n",
    "y=input(\"enter the number2:\")\n",
    "z=input(\"enter the number3:\")\n"
   ]
  },
  {
   "cell_type": "code",
   "execution_count": 39,
   "id": "8ac52ed7-894d-436a-a054-69cf275f3cfe",
   "metadata": {},
   "outputs": [
    {
     "data": {
      "text/plain": [
       "('11', '22', '33')"
      ]
     },
     "execution_count": 39,
     "metadata": {},
     "output_type": "execute_result"
    }
   ],
   "source": [
    "x,y,z"
   ]
  },
  {
   "cell_type": "code",
   "execution_count": 41,
   "id": "9c4c833f-8ece-43b6-bbe6-5ff1e9c3d09b",
   "metadata": {},
   "outputs": [
    {
     "data": {
      "text/plain": [
       "'1020'"
      ]
     },
     "execution_count": 41,
     "metadata": {},
     "output_type": "execute_result"
    }
   ],
   "source": [
    "a+b"
   ]
  },
  {
   "cell_type": "code",
   "execution_count": 43,
   "id": "b5d12061-43b5-451b-bda5-49cef4793df1",
   "metadata": {},
   "outputs": [
    {
     "data": {
      "text/plain": [
       "'1122'"
      ]
     },
     "execution_count": 43,
     "metadata": {},
     "output_type": "execute_result"
    }
   ],
   "source": [
    "x+y"
   ]
  },
  {
   "cell_type": "code",
   "execution_count": 45,
   "id": "fd8f9d1e-3346-4b38-a0cd-fb0f5a0b52c4",
   "metadata": {},
   "outputs": [
    {
     "data": {
      "text/plain": [
       "'100200'"
      ]
     },
     "execution_count": 45,
     "metadata": {},
     "output_type": "execute_result"
    }
   ],
   "source": [
    "'100'+\"200\""
   ]
  },
  {
   "cell_type": "code",
   "execution_count": 47,
   "id": "945e8ccb-e2ae-4051-9776-8aec10593396",
   "metadata": {},
   "outputs": [
    {
     "data": {
      "text/plain": [
       "300"
      ]
     },
     "execution_count": 47,
     "metadata": {},
     "output_type": "execute_result"
    }
   ],
   "source": [
    "100+200"
   ]
  },
  {
   "cell_type": "code",
   "execution_count": 53,
   "id": "06dc3cca-8174-4f76-a869-9ba16aad58cc",
   "metadata": {},
   "outputs": [
    {
     "data": {
      "text/plain": [
       "'Apple is a Fruit'"
      ]
     },
     "execution_count": 53,
     "metadata": {},
     "output_type": "execute_result"
    }
   ],
   "source": [
    "str1='Apple'\n",
    "str2=' is a '\n",
    "str3='Fruit'\n",
    "str1+str2+str3"
   ]
  },
  {
   "cell_type": "code",
   "execution_count": 69,
   "id": "0e1064fa-c4f4-4274-abc2-1864fd03b7f2",
   "metadata": {},
   "outputs": [
    {
     "name": "stdin",
     "output_type": "stream",
     "text": [
      "Enter 1 10\n",
      "Enter 2 100\n",
      "Enter 3 1000\n"
     ]
    }
   ],
   "source": [
    "str1=input('Enter 1')\n",
    "str2=input('Enter 2')\n",
    "str3=input('Enter 3')"
   ]
  },
  {
   "cell_type": "code",
   "execution_count": 71,
   "id": "e510fb57-a4c6-446b-807e-d0a7d10263e6",
   "metadata": {},
   "outputs": [
    {
     "data": {
      "text/plain": [
       "'101001000'"
      ]
     },
     "execution_count": 71,
     "metadata": {},
     "output_type": "execute_result"
    }
   ],
   "source": [
    "str1+str2+str3"
   ]
  },
  {
   "cell_type": "code",
   "execution_count": 75,
   "id": "f05afa4e-0df1-48fa-b4d8-43e9b3eda069",
   "metadata": {},
   "outputs": [
    {
     "data": {
      "text/plain": [
       "1110"
      ]
     },
     "execution_count": 75,
     "metadata": {},
     "output_type": "execute_result"
    }
   ],
   "source": [
    "int1=int(str1)\n",
    "int2=int(str2)\n",
    "int3=int(str3)\n",
    "add=int1+int2+int3\n",
    "add"
   ]
  },
  {
   "cell_type": "code",
   "execution_count": 77,
   "id": "085c5d2b-56cd-43b9-8c66-29807a887a44",
   "metadata": {},
   "outputs": [
    {
     "name": "stdin",
     "output_type": "stream",
     "text": [
      "enter the name1 222\n",
      "enter the name2 3333\n",
      "enter the name3 44444\n"
     ]
    }
   ],
   "source": [
    "p=int(input(\"enter the name1\"))\n",
    "q=int(input(\"enter the name2\"))\n",
    "r=int(input(\"enter the name3\"))"
   ]
  },
  {
   "cell_type": "code",
   "execution_count": 79,
   "id": "c46ffa0b-6cbb-4a16-9d56-942b9ad2342e",
   "metadata": {},
   "outputs": [
    {
     "data": {
      "text/plain": [
       "3555"
      ]
     },
     "execution_count": 79,
     "metadata": {},
     "output_type": "execute_result"
    }
   ],
   "source": [
    "p+q"
   ]
  },
  {
   "cell_type": "code",
   "execution_count": 81,
   "id": "148aa688-e965-486b-ac0b-b35ea976fff6",
   "metadata": {},
   "outputs": [
    {
     "data": {
      "text/plain": [
       "47999"
      ]
     },
     "execution_count": 81,
     "metadata": {},
     "output_type": "execute_result"
    }
   ],
   "source": [
    "p+q+r"
   ]
  },
  {
   "cell_type": "code",
   "execution_count": 83,
   "id": "1567f2b0-abc1-4bd3-a0a9-48784bc06f50",
   "metadata": {},
   "outputs": [
    {
     "data": {
      "text/plain": [
       "32885271144"
      ]
     },
     "execution_count": 83,
     "metadata": {},
     "output_type": "execute_result"
    }
   ],
   "source": [
    "p*q*r"
   ]
  },
  {
   "cell_type": "code",
   "execution_count": 85,
   "id": "f12dbd96-9787-4c51-bedd-09dc9a581616",
   "metadata": {},
   "outputs": [
    {
     "data": {
      "text/plain": [
       "1.498664851635015e-06"
      ]
     },
     "execution_count": 85,
     "metadata": {},
     "output_type": "execute_result"
    }
   ],
   "source": [
    "p/q/r"
   ]
  },
  {
   "cell_type": "code",
   "execution_count": 87,
   "id": "d0ecd11d-0739-41bc-b257-40b607394937",
   "metadata": {},
   "outputs": [
    {
     "name": "stdin",
     "output_type": "stream",
     "text": [
      "enter the name1 1000\n",
      "enter the name2 20000\n",
      "enter the name3 300000\n"
     ]
    }
   ],
   "source": [
    "d=input(\"enter the name1\")\n",
    "e=input(\"enter the name2\")\n",
    "f=input(\"enter the name3\")"
   ]
  },
  {
   "cell_type": "code",
   "execution_count": 89,
   "id": "100d4d68-fb67-4007-a002-2e32d8120212",
   "metadata": {},
   "outputs": [
    {
     "data": {
      "text/plain": [
       "'100020000'"
      ]
     },
     "execution_count": 89,
     "metadata": {},
     "output_type": "execute_result"
    }
   ],
   "source": [
    "d+e"
   ]
  },
  {
   "cell_type": "code",
   "execution_count": 93,
   "id": "5a15994d-cc87-417e-9b27-0cfd7d603367",
   "metadata": {},
   "outputs": [
    {
     "data": {
      "text/plain": [
       "21000"
      ]
     },
     "execution_count": 93,
     "metadata": {},
     "output_type": "execute_result"
    }
   ],
   "source": [
    "int(d)+int(e)"
   ]
  },
  {
   "cell_type": "code",
   "execution_count": 97,
   "id": "8ce23363-df2a-4f9f-97c0-850ffba67291",
   "metadata": {},
   "outputs": [
    {
     "name": "stdin",
     "output_type": "stream",
     "text": [
      "enter the name1 100\n",
      "enter the name2 abc\n",
      "enter the name3 10.7\n"
     ]
    }
   ],
   "source": [
    "d=input(\"enter the name1\")\n",
    "e=input(\"enter the name2\")\n",
    "f=input(\"enter the name3\")"
   ]
  },
  {
   "cell_type": "code",
   "execution_count": 103,
   "id": "b7c9aa07-953a-4362-831c-8c82e3635b23",
   "metadata": {},
   "outputs": [
    {
     "data": {
      "text/plain": [
       "110.7"
      ]
     },
     "execution_count": 103,
     "metadata": {},
     "output_type": "execute_result"
    }
   ],
   "source": [
    "int(d)+float(f)"
   ]
  },
  {
   "cell_type": "code",
   "execution_count": 107,
   "id": "6e5db768-33c5-40de-b6de-3aae0ceee1d1",
   "metadata": {},
   "outputs": [
    {
     "data": {
      "text/plain": [
       "110.7"
      ]
     },
     "execution_count": 107,
     "metadata": {},
     "output_type": "execute_result"
    }
   ],
   "source": [
    "float(d)+float(f)"
   ]
  },
  {
   "cell_type": "code",
   "execution_count": 111,
   "id": "1b505be0-0132-4b53-8dac-4c0c386ad665",
   "metadata": {},
   "outputs": [
    {
     "data": {
      "text/plain": [
       "(10, 10.5)"
      ]
     },
     "execution_count": 111,
     "metadata": {},
     "output_type": "execute_result"
    }
   ],
   "source": [
    "eval('10'),eval(\"10.5\")"
   ]
  },
  {
   "cell_type": "code",
   "execution_count": 115,
   "id": "eaf81def-5319-43e8-9e2e-b974a0009ada",
   "metadata": {},
   "outputs": [
    {
     "data": {
      "text/plain": [
       "110.7"
      ]
     },
     "execution_count": 115,
     "metadata": {},
     "output_type": "execute_result"
    }
   ],
   "source": [
    "eval(d)+eval(f)"
   ]
  },
  {
   "cell_type": "code",
   "execution_count": null,
   "id": "6011acf8-1a4d-465a-974b-9c82dd486198",
   "metadata": {},
   "outputs": [],
   "source": []
  }
 ],
 "metadata": {
  "kernelspec": {
   "display_name": "Python [conda env:base] *",
   "language": "python",
   "name": "conda-base-py"
  },
  "language_info": {
   "codemirror_mode": {
    "name": "ipython",
    "version": 3
   },
   "file_extension": ".py",
   "mimetype": "text/x-python",
   "name": "python",
   "nbconvert_exporter": "python",
   "pygments_lexer": "ipython3",
   "version": "3.12.7"
  }
 },
 "nbformat": 4,
 "nbformat_minor": 5
}
