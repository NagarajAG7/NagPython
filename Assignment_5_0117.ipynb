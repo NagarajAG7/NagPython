{
 "cells": [
  {
   "cell_type": "code",
   "execution_count": 13,
   "id": "8e378e85-5547-4bce-9b19-7c8f948a74c5",
   "metadata": {},
   "outputs": [
    {
     "name": "stdin",
     "output_type": "stream",
     "text": [
      "Enter Ramesh's basic salary: 100\n"
     ]
    },
    {
     "name": "stdout",
     "output_type": "stream",
     "text": [
      "Ramesh's gross salary is {160.0}\n"
     ]
    }
   ],
   "source": [
    "n1=eval(input(\"Enter Ramesh's basic salary:\"))\n",
    "try:\n",
    "    gross1=n1+(n1*40/100)+(n1*20/100)\n",
    "    print(\"Ramesh's gross salary is\",{gross1})\n",
    "except Exception as e:\n",
    "    print(e)"
   ]
  },
  {
   "cell_type": "code",
   "execution_count": 94,
   "id": "6aa46449-e860-4731-9281-2ee884119005",
   "metadata": {},
   "outputs": [
    {
     "name": "stdin",
     "output_type": "stream",
     "text": [
      "Enter the distance between two cities(in KM) 100\n"
     ]
    },
    {
     "name": "stdout",
     "output_type": "stream",
     "text": [
      "The distance in Meter: 100000m, in Feet: 328ft, in Inches: 3936inch and in Centimeters: 10000000cm\n"
     ]
    }
   ],
   "source": [
    "n2=(input(\"Enter the distance between two cities(in KM)\"))\n",
    "try:\n",
    "    n3=eval(n2)\n",
    "    mt1=round(n3*1000)\n",
    "    f1=round(n3*3.28)\n",
    "    i1=round(f1*12)\n",
    "    c1 =round(mt1*100)\n",
    "    print(f\"The distance in Meter: {mt1}m, in Feet: {f1}ft, in Inches: {i1}inch and in Centimeters: {c1}cm\")\n",
    "except Exception as e:\n",
    "    print(e)"
   ]
  },
  {
   "cell_type": "code",
   "execution_count": 100,
   "id": "bb0fd44d-9eb6-484b-bd5a-0fbbd71f8914",
   "metadata": {},
   "outputs": [
    {
     "name": "stdin",
     "output_type": "stream",
     "text": [
      "Enter marks in English: 30\n",
      "Enter marks in Telugu: 40\n",
      "Enter marks in Mathematics: 50\n",
      "Enter marks in Science: 60\n",
      "Enter marks in Social: 70\n"
     ]
    },
    {
     "name": "stdout",
     "output_type": "stream",
     "text": [
      "total marks 250 with percentage 50%\n"
     ]
    }
   ],
   "source": [
    "m1=input(\"Enter marks in English:\")\n",
    "m2=input(\"Enter marks in Telugu:\")\n",
    "m3=input(\"Enter marks in Mathematics:\")\n",
    "m4=input(\"Enter marks in Science:\")\n",
    "m5=input(\"Enter marks in Social:\")\n",
    "\n",
    "try:\n",
    "    #result1 = \"Entered marks are incorrect\" if not all(0 <= x <= 100 for x in [m1,m2,m3,m4,m5]) else \"ok\"\n",
    "    tot1=eval(m1)+eval(m2)+eval(m3)+eval(m4)+eval(m5)\n",
    "    per1=round(tot1/5)\n",
    "    print(f\"total marks {tot1} with percentage {per1}%\")\n",
    "except Exception as e:\n",
    "    print(e)"
   ]
  },
  {
   "cell_type": "code",
   "execution_count": 86,
   "id": "c793cd3f-507f-4f63-855b-b3afb64e87e9",
   "metadata": {},
   "outputs": [
    {
     "name": "stdin",
     "output_type": "stream",
     "text": [
      "Enter the temperature in Fahrenheit: a\n"
     ]
    },
    {
     "name": "stdout",
     "output_type": "stream",
     "text": [
      "name 'a' is not defined\n"
     ]
    }
   ],
   "source": [
    "f1=input('Enter the temperature in Fahrenheit:')\n",
    "\n",
    "try:\n",
    "    c1=round((eval(f1)-32)*(5/9),2)\n",
    "    print(\"Temperature in Centigrade:\",c1)\n",
    "except Exception as e:\n",
    "    print(e)"
   ]
  },
  {
   "cell_type": "code",
   "execution_count": 108,
   "id": "decea42b-6fdd-472a-bd9d-8472c0d94cb2",
   "metadata": {},
   "outputs": [
    {
     "name": "stdin",
     "output_type": "stream",
     "text": [
      "enter length of the Rectangle: 10\n",
      "enter breadth of the Rectangle: 5\n",
      "enter radius of the Circle: 5\n"
     ]
    },
    {
     "name": "stdout",
     "output_type": "stream",
     "text": [
      "Permeter of the Rectangle is  30  and area of the Rectange is  50\n",
      "Circumference of the Circle is  31.43  and area of the Circle is  78.57\n"
     ]
    }
   ],
   "source": [
    "l1=input('enter length of the Rectangle:')\n",
    "b1=input('enter breadth of the Rectangle:')\n",
    "r1=input('enter radius of the Circle:')\n",
    "try:\n",
    "    peri1=2*(eval(l1)+eval(b1))\n",
    "    area1=eval(l1)*eval(b1)\n",
    "    print('Permeter of the Rectangle is ',peri1, ' and area of the Rectange is ',area1)\n",
    "    cir1=round((44/7)*eval(r1),2)\n",
    "    area2=round((22/7)*eval(r1)*eval(r1),2)\n",
    "    print('Circumference of the Circle is ',cir1, ' and area of the Circle is ',area2)\n",
    "except Exception as e:\n",
    "    print(e)"
   ]
  },
  {
   "cell_type": "code",
   "execution_count": 114,
   "id": "662705df-45a2-4345-8071-692a4b1739e2",
   "metadata": {},
   "outputs": [
    {
     "name": "stdin",
     "output_type": "stream",
     "text": [
      "Enter a value for field 'C': 111\n",
      "Enter a value for field 'D': aaa\n"
     ]
    },
    {
     "name": "stdout",
     "output_type": "stream",
     "text": [
      "The entered values for C: 111 and for D: aaa\n",
      "After interchange the entered values for C: aaa and for D: 111\n"
     ]
    }
   ],
   "source": [
    "c1=input(\"Enter a value for field 'C':\")\n",
    "d1=input(\"Enter a value for field 'D':\")\n",
    "try:\n",
    "    #c2=d1\n",
    "    #d2=c1\n",
    "    print(f\"The entered values for C: {c1} and for D: {d1}\")\n",
    "    print(f\"After interchange the entered values for C: {d1} and for D: {c1}\")\n",
    "except Exception as e:\n",
    "    print(e)"
   ]
  },
  {
   "cell_type": "code",
   "execution_count": 130,
   "id": "dc1bc2d6-6510-4369-8d02-26c99b29e61b",
   "metadata": {},
   "outputs": [
    {
     "name": "stdin",
     "output_type": "stream",
     "text": [
      "Enter a Number: 123456\n"
     ]
    },
    {
     "name": "stdout",
     "output_type": "stream",
     "text": [
      "Entered Number is:  123456\n",
      "After reversing the digits the Number is:  654321\n"
     ]
    }
   ],
   "source": [
    "n1=input(\"Enter a Number:\")\n",
    "try:\n",
    "    n1=int(n1)\n",
    "    r1=int(str(abs(n1))[::-1])\n",
    "    print(\"Entered Number is: \",n1)\n",
    "    print(\"After reversing the digits the Number is: \",r1)\n",
    "except Exception as e:\n",
    "    print(e)"
   ]
  },
  {
   "cell_type": "code",
   "execution_count": 156,
   "id": "e76bae51-4663-4ffb-a1d9-09b6bff076b6",
   "metadata": {},
   "outputs": [
    {
     "name": "stdin",
     "output_type": "stream",
     "text": [
      "Enter four digit number:  5123\n"
     ]
    },
    {
     "name": "stdout",
     "output_type": "stream",
     "text": [
      "The sum of the first and last digits of the entered number is:  8\n"
     ]
    }
   ],
   "source": [
    "n4=input(\"Enter four digit number: \")\n",
    "try:\n",
    "    if len(n4)==4 and n4.isdigit():\n",
    "        fd1=int(n4[0])\n",
    "        ld1=int(n4[-1])\n",
    "        sum1=fd1+ld1\n",
    "        print(\"The sum of the first and last digits of the entered number is: \",sum1)\n",
    "    else:\n",
    "        print(\"The entered number is not four digits\")\n",
    "except Exception as e:\n",
    "    print(e)"
   ]
  },
  {
   "cell_type": "code",
   "execution_count": 218,
   "id": "71c56310-8bbc-4495-ab80-be8db1f09c28",
   "metadata": {},
   "outputs": [
    {
     "name": "stdout",
     "output_type": "stream",
     "text": [
      "Total number of illiterate men and women:  41600\n",
      "Total number of illiterate men:  13600\n",
      "Total number of illiterate women:  28000\n"
     ]
    }
   ],
   "source": [
    "tot1=80000\n",
    "#tot1=int(input(\"Enter the village population: \"))\n",
    "\n",
    "mp=52/100\n",
    "litp=48/100\n",
    "litmp=35/100\n",
    "try:\n",
    "    men=round(tot1*(mp))\n",
    "    women=round(tot1-men)\n",
    "    litmw=round(tot1*litp)\n",
    "    litm=round(tot1*litmp)\n",
    "    litw=round(litmw-litm)\n",
    "    ilmw=round(tot1*(1-litp))\n",
    "    ilm=round(men-litm)\n",
    "    ilw=round(women-litw)\n",
    "    #print('Total number of men and women: ',tot1)\n",
    "    #print('Total number of men: ',men)\n",
    "    #print('Total number of women: ',women)\n",
    "    #print('Total number of literate men and women: ',litmw)\n",
    "    #print('Total number of literate men: ',litm)\n",
    "    #print('Total number of literate women: ',litw)\n",
    "    print('Total number of illiterate men and women: ',ilmw)\n",
    "    print('Total number of illiterate men: ',ilm)\n",
    "    print('Total number of illiterate women: ',ilw)\n",
    "    \n",
    "except Exception as e:\n",
    "    print(e)"
   ]
  },
  {
   "cell_type": "code",
   "execution_count": 236,
   "id": "5709465c-abea-4488-9a16-4f645c1bd8a2",
   "metadata": {},
   "outputs": [
    {
     "name": "stdin",
     "output_type": "stream",
     "text": [
      "Enter amount to be withdrawn:  1590\n"
     ]
    },
    {
     "name": "stdout",
     "output_type": "stream",
     "text": [
      "Total number of currency notes 100 denomination is 15, 50 is 1 and 10 is 4\n"
     ]
    }
   ],
   "source": [
    "tot2=int(input(\"Enter amount to be withdrawn: \"))\n",
    "try:\n",
    "    d100=tot2//100\n",
    "    d50=(tot2-(d100*100))//50\n",
    "    d10=(tot2-(d100*100)-(d50*50))//10\n",
    "    print(f\"Total number of currency notes 100 denomination is {d100}, 50 is {d50} and 10 is {d10}\")\n",
    "except Exception as e:\n",
    "    print(e)"
   ]
  },
  {
   "cell_type": "code",
   "execution_count": null,
   "id": "0fd45208-e18f-4ce5-9443-d3d3b33e7cf5",
   "metadata": {},
   "outputs": [],
   "source": []
  }
 ],
 "metadata": {
  "kernelspec": {
   "display_name": "Python [conda env:base] *",
   "language": "python",
   "name": "conda-base-py"
  },
  "language_info": {
   "codemirror_mode": {
    "name": "ipython",
    "version": 3
   },
   "file_extension": ".py",
   "mimetype": "text/x-python",
   "name": "python",
   "nbconvert_exporter": "python",
   "pygments_lexer": "ipython3",
   "version": "3.12.7"
  }
 },
 "nbformat": 4,
 "nbformat_minor": 5
}
