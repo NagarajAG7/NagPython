{
 "cells": [
  {
   "cell_type": "code",
   "execution_count": 65,
   "id": "82759a88-8ac4-422f-af1d-94695ac3876d",
   "metadata": {},
   "outputs": [
    {
     "name": "stdin",
     "output_type": "stream",
     "text": [
      "Enter first number 596.345\n",
      "Enter second number 12\n",
      "Enter third number 10000\n"
     ]
    },
    {
     "name": "stdout",
     "output_type": "stream",
     "text": [
      "The average of first, second and third numbers is 3536.115\n"
     ]
    }
   ],
   "source": [
    "# 1)wap ask the user enter 3 numbers n1,n2,n3 from ketboard\n",
    "# calculate average\n",
    "\n",
    "n1=input(\"Enter first number\")\n",
    "n2=input(\"Enter second number\")\n",
    "n3=input(\"Enter third number\")\n",
    "avg1=(eval(n1)+eval(n2)+eval(n3))/3\n",
    "print(f\"The average of first, second and third numbers is {avg1}\")"
   ]
  },
  {
   "cell_type": "code",
   "execution_count": 67,
   "id": "0040d5f6-1cf6-4531-91af-128436e55393",
   "metadata": {},
   "outputs": [
    {
     "name": "stdin",
     "output_type": "stream",
     "text": [
      "Enter your Name: surya\n",
      "Enter your Age: 15\n",
      "Enter your City: hydrabad\n"
     ]
    },
    {
     "name": "stdout",
     "output_type": "stream",
     "text": [
      "My name is surya, age is 15 and came from hydrabad\n"
     ]
    }
   ],
   "source": [
    "# 2)wap ask the user enter name age city\n",
    "# print my name is python im 10 years old and came from hyd\n",
    "\n",
    "a=input(\"Enter your Name:\")\n",
    "b=input(\"Enter your Age:\")\n",
    "c=input('Enter your City:')\n",
    "print(f\"My name is {a}, age is {b} and came from {c}\")"
   ]
  },
  {
   "cell_type": "code",
   "execution_count": 69,
   "id": "f6aaec9a-8025-4901-94f8-a8ced4f72767",
   "metadata": {},
   "outputs": [
    {
     "name": "stdin",
     "output_type": "stream",
     "text": [
      "Enter the radius of the circle 4\n"
     ]
    },
    {
     "name": "stdout",
     "output_type": "stream",
     "text": [
      "pi value is considered as 22/7 i.e., 3.14\n",
      "The Area of the circle whose radius 4 is 50.28571\n"
     ]
    }
   ],
   "source": [
    "# 3)wap ask the user to enter radidus of a circle calculate area of the circle\n",
    "# var: radidus  var: pi=3.14\n",
    "# formuale: pi*radius*radius\n",
    "# print the answers using f string and format\n",
    "\n",
    "r=input(\"Enter the radius of the circle\")\n",
    "pi=22/7\n",
    "print(\"pi value is considered as 22/7 i.e., 3.14\")\n",
    "ar=round(eval(r)*eval(r)*pi,5)\n",
    "print(f\"The Area of the circle whose radius {r} is {ar}\")\n",
    "\n",
    "\n"
   ]
  },
  {
   "cell_type": "code",
   "execution_count": 73,
   "id": "808fa538-7c49-4336-83dc-21b704e8625b",
   "metadata": {},
   "outputs": [
    {
     "name": "stdin",
     "output_type": "stream",
     "text": [
      "Enter the Height of the Right Angled Triangle: 10\n",
      "Enter the Base of the Right Angled Triangle: 12\n"
     ]
    },
    {
     "name": "stdout",
     "output_type": "stream",
     "text": [
      "Area of Right Angled Triangle is 0.5 x Height x Base that is 60.0\n"
     ]
    }
   ],
   "source": [
    "# 4)wap ask the user enter breadth and height of a right angle triangle\n",
    "# calculate the area\n",
    "# var1: bredath  var2: height\n",
    "# formuale : 0.5*breadth*heigh\n",
    "\n",
    "h=input(\"Enter the Height of the Right Angled Triangle:\")\n",
    "b=input(\"Enter the Base of the Right Angled Triangle:\")\n",
    "ar2=round((1/2)*eval(h)*eval(b),5)\n",
    "print(f\"Area of Right Angled Triangle is 0.5 x Height x Base that is {ar2}\")\n"
   ]
  },
  {
   "cell_type": "code",
   "execution_count": 75,
   "id": "0f6e56c6-e5c3-4936-8b04-4841c60f810f",
   "metadata": {},
   "outputs": [
    {
     "name": "stdin",
     "output_type": "stream",
     "text": [
      "please enter your bill amount: 500\n",
      "please enter the tip amount: 23\n"
     ]
    },
    {
     "name": "stdout",
     "output_type": "stream",
     "text": [
      "Total Amount payable by you is: 500 + 23 = 523/-\n"
     ]
    }
   ],
   "source": [
    "# 5)wap ask the user the bill amount and tip amount\n",
    "#   calculate total bill\n",
    "#   var1: bill amount var2: tip amount\n",
    "#   formuale\n",
    "bill=input('please enter your bill amount:')\n",
    "tip=input('please enter the tip amount:')\n",
    "totamt=round(eval(bill)+eval(tip),2)\n",
    "print(f'Total Amount payable by you is: {bill} + {tip} = {totamt}/-')"
   ]
  },
  {
   "cell_type": "code",
   "execution_count": 79,
   "id": "ebcfbd01-e51c-41bd-befb-efefb38a12fe",
   "metadata": {},
   "outputs": [
    {
     "name": "stdin",
     "output_type": "stream",
     "text": [
      "please enter your bill amount: 500\n"
     ]
    },
    {
     "name": "stdout",
     "output_type": "stream",
     "text": [
      "Total Amount payable by you with 10% tip is: 500 + 50.0 = 550.0/-\n"
     ]
    }
   ],
   "source": [
    "# 6)wap ask the user the bill amount and tip percentage\n",
    "#    take tip percentage as 10\n",
    "#   calculate total bill= bill amount+ bill amount*tip per/100\n",
    "#   var1: bill amount var2: tip amount\n",
    "#    formuale\n",
    "bill2=input('please enter your bill amount:')\n",
    "tip2=eval(bill2)*10/100\n",
    "totamt2=round(eval(bill2)+tip2,2)\n",
    "print(f'Total Amount payable by you with 10% tip is: {bill2} + {tip2} = {totamt2}/-')"
   ]
  },
  {
   "cell_type": "code",
   "execution_count": 81,
   "id": "0873070a-fead-4f93-aa16-ed3e856e4d59",
   "metadata": {},
   "outputs": [
    {
     "name": "stdin",
     "output_type": "stream",
     "text": [
      "Enter length of the Rectangle: 12\n",
      "Enter breadth of the Rectangle: 6\n"
     ]
    },
    {
     "name": "stdout",
     "output_type": "stream",
     "text": [
      "If 12 and 6 are length and breadth of a Rectangle then its Area is 72 and its Perimeter is 36\n"
     ]
    }
   ],
   "source": [
    "# 7)wap ask the length and breadth of a rectangle calculate area\n",
    "#   var1: length  var2: breadth\n",
    "#   formulae: length * breadth\n",
    "\n",
    "ln=input('Enter length of the Rectangle:')\n",
    "br=input('Enter breadth of the Rectangle:')\n",
    "per=round(2*(eval(ln)+eval(br)),5)\n",
    "ar3=round(eval(ln)*eval(br),3)\n",
    "print(f'If {ln} and {br} are length and breadth of a Rectangle then its Area is {ar3} and its Perimeter is {per}')"
   ]
  },
  {
   "cell_type": "code",
   "execution_count": 83,
   "id": "79ee495c-d9a0-4d43-8e16-c7ccad74d67e",
   "metadata": {},
   "outputs": [
    {
     "name": "stdin",
     "output_type": "stream",
     "text": [
      "Enter Radius of the Sphere: 12\n"
     ]
    },
    {
     "name": "stdout",
     "output_type": "stream",
     "text": [
      "Volume of a Sphere with radius 12 is 7241.1429\n"
     ]
    }
   ],
   "source": [
    "# 8) wap ask the user take the radius and calculate volume of sphere\n",
    "#   formulae: pi*r**3(pi*r*r*r)\n",
    "\n",
    "r3=input('Enter Radius of the Sphere:')\n",
    "vol=round((4/3)*(22/7)*eval(r3)*eval(r3)*eval(r3),4)\n",
    "print(f'Volume of a Sphere with radius {r3} is {vol}')"
   ]
  },
  {
   "cell_type": "code",
   "execution_count": 3,
   "id": "43311c2c-9cb8-4d22-b8ef-44d26f187f7f",
   "metadata": {
    "scrolled": true
   },
   "outputs": [
    {
     "name": "stdin",
     "output_type": "stream",
     "text": [
      "Please enter the amount in dollars: 10\n"
     ]
    },
    {
     "name": "stdout",
     "output_type": "stream",
     "text": [
      "You have 850 in Indian Rupee\n"
     ]
    }
   ],
   "source": [
    "# 9) wap ask the user enter amount in dollars convert into rupees\n",
    "#     1$=85rs\n",
    "\n",
    "usd=input('Please enter the amount in dollars:')\n",
    "inr=round(eval(usd)*85,3)\n",
    "print(f\"You have {inr} in Indian Rupee\")"
   ]
  },
  {
   "cell_type": "code",
   "execution_count": null,
   "id": "e3d90530-156f-49cd-ad49-74818427402b",
   "metadata": {},
   "outputs": [],
   "source": []
  }
 ],
 "metadata": {
  "kernelspec": {
   "display_name": "Python [conda env:base] *",
   "language": "python",
   "name": "conda-base-py"
  },
  "language_info": {
   "codemirror_mode": {
    "name": "ipython",
    "version": 3
   },
   "file_extension": ".py",
   "mimetype": "text/x-python",
   "name": "python",
   "nbconvert_exporter": "python",
   "pygments_lexer": "ipython3",
   "version": "3.12.7"
  }
 },
 "nbformat": 4,
 "nbformat_minor": 5
}
