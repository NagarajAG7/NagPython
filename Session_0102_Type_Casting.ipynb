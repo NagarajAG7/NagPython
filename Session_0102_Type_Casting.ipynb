{
 "cells": [
  {
   "cell_type": "code",
   "execution_count": 1,
   "id": "37541f00-4cf5-4679-8e47-46be539bebd1",
   "metadata": {},
   "outputs": [
    {
     "data": {
      "text/plain": [
       "'Nag'"
      ]
     },
     "execution_count": 1,
     "metadata": {},
     "output_type": "execute_result"
    }
   ],
   "source": [
    "abc='Nag'\n",
    "abc"
   ]
  },
  {
   "cell_type": "code",
   "execution_count": 3,
   "id": "0fd9ec65-3655-4a59-82eb-b45c1f432243",
   "metadata": {},
   "outputs": [
    {
     "name": "stdout",
     "output_type": "stream",
     "text": [
      "Nag\n"
     ]
    }
   ],
   "source": [
    "print(abc)"
   ]
  },
  {
   "cell_type": "code",
   "execution_count": 7,
   "id": "4e54d999-1a6b-4680-8636-3a5a0dc05793",
   "metadata": {},
   "outputs": [
    {
     "ename": "SyntaxError",
     "evalue": "invalid syntax (3816697854.py, line 1)",
     "output_type": "error",
     "traceback": [
      "\u001b[1;36m  Cell \u001b[1;32mIn[7], line 1\u001b[1;36m\u001b[0m\n\u001b[1;33m    def=\"Nag\"\u001b[0m\n\u001b[1;37m       ^\u001b[0m\n\u001b[1;31mSyntaxError\u001b[0m\u001b[1;31m:\u001b[0m invalid syntax\n"
     ]
    }
   ],
   "source": [
    "def=\"Nag\"\n",
    "print(def)"
   ]
  },
  {
   "cell_type": "code",
   "execution_count": 9,
   "id": "03da7d18-f451-4c15-a757-635ebf46542b",
   "metadata": {},
   "outputs": [
    {
     "data": {
      "text/plain": [
       "\"'Nag'\""
      ]
     },
     "execution_count": 9,
     "metadata": {},
     "output_type": "execute_result"
    }
   ],
   "source": [
    "xyz=\"'Nag'\"\n",
    "xyz"
   ]
  },
  {
   "cell_type": "code",
   "execution_count": 11,
   "id": "c48057ca-6ddc-4718-931f-d2d58bc77c2a",
   "metadata": {},
   "outputs": [
    {
     "name": "stdout",
     "output_type": "stream",
     "text": [
      "'Nag'\n"
     ]
    }
   ],
   "source": [
    "print(xyz)"
   ]
  },
  {
   "cell_type": "code",
   "execution_count": 13,
   "id": "1a00832c-726a-4a22-a9d8-d6b2c1aee8ff",
   "metadata": {},
   "outputs": [
    {
     "data": {
      "text/plain": [
       "'\"Nag\"'"
      ]
     },
     "execution_count": 13,
     "metadata": {},
     "output_type": "execute_result"
    }
   ],
   "source": [
    "pqr='\"Nag\"'\n",
    "pqr"
   ]
  },
  {
   "cell_type": "code",
   "execution_count": 15,
   "id": "bac54986-34f5-4418-8af2-f22c13458d75",
   "metadata": {},
   "outputs": [
    {
     "name": "stdout",
     "output_type": "stream",
     "text": [
      "\"Nag\"\n"
     ]
    }
   ],
   "source": [
    "print(pqr)"
   ]
  },
  {
   "cell_type": "code",
   "execution_count": 19,
   "id": "e50d2996-ef60-429d-8dda-772e0c7b3e1f",
   "metadata": {},
   "outputs": [
    {
     "data": {
      "text/plain": [
       "'My Name is Nagaraj\\nlearning DS\\nand also Gen AI'"
      ]
     },
     "execution_count": 19,
     "metadata": {},
     "output_type": "execute_result"
    }
   ],
   "source": [
    "\"\"\"My Name is Nagaraj\n",
    "learning DS\n",
    "and also Gen AI\"\"\"\n",
    "# use of this triple codes"
   ]
  },
  {
   "cell_type": "code",
   "execution_count": null,
   "id": "4d26cb0f-8a09-45ac-97a2-320db3392d9b",
   "metadata": {},
   "outputs": [],
   "source": [
    "true=True # works\n",
    "true='True' # works\n",
    "true= 10.5 # works\n",
    "true = '10.5' # works\n",
    "True= 10 # not works\n",
    "True = True # not works\n"
   ]
  },
  {
   "cell_type": "code",
   "execution_count": 21,
   "id": "97415250-14d9-4320-a796-e700b3fba635",
   "metadata": {},
   "outputs": [
    {
     "data": {
      "text/plain": [
       "int"
      ]
     },
     "execution_count": 21,
     "metadata": {},
     "output_type": "execute_result"
    }
   ],
   "source": [
    "number=100\n",
    "type(number)"
   ]
  },
  {
   "cell_type": "code",
   "execution_count": 23,
   "id": "fe2023d7-a451-48a2-8d8a-b3b2886f23a1",
   "metadata": {},
   "outputs": [
    {
     "data": {
      "text/plain": [
       "100.0"
      ]
     },
     "execution_count": 23,
     "metadata": {},
     "output_type": "execute_result"
    }
   ],
   "source": [
    "float(number)"
   ]
  },
  {
   "cell_type": "code",
   "execution_count": 25,
   "id": "2053425b-e2a7-499d-ad41-bd985a9b4bef",
   "metadata": {},
   "outputs": [
    {
     "data": {
      "text/plain": [
       "True"
      ]
     },
     "execution_count": 25,
     "metadata": {},
     "output_type": "execute_result"
    }
   ],
   "source": [
    "bool(number)"
   ]
  },
  {
   "cell_type": "code",
   "execution_count": 27,
   "id": "815bf125-535b-440d-8d0f-d8be3564b81d",
   "metadata": {},
   "outputs": [
    {
     "data": {
      "text/plain": [
       "'100'"
      ]
     },
     "execution_count": 27,
     "metadata": {},
     "output_type": "execute_result"
    }
   ],
   "source": [
    "str(number)"
   ]
  },
  {
   "cell_type": "code",
   "execution_count": 29,
   "id": "fb042c03-a5c4-4101-a8e0-5983625ec1e4",
   "metadata": {},
   "outputs": [
    {
     "data": {
      "text/plain": [
       "float"
      ]
     },
     "execution_count": 29,
     "metadata": {},
     "output_type": "execute_result"
    }
   ],
   "source": [
    "float_number= float(number)\n",
    "type(float_number)"
   ]
  },
  {
   "cell_type": "code",
   "execution_count": 31,
   "id": "a2b7d264-9419-4866-b29c-a7f147c08639",
   "metadata": {},
   "outputs": [
    {
     "data": {
      "text/plain": [
       "bool"
      ]
     },
     "execution_count": 31,
     "metadata": {},
     "output_type": "execute_result"
    }
   ],
   "source": [
    "bool_number=bool(number)\n",
    "type(bool_number)"
   ]
  },
  {
   "cell_type": "code",
   "execution_count": 33,
   "id": "db83e165-3ceb-4a32-8036-df54c40e4b38",
   "metadata": {},
   "outputs": [
    {
     "data": {
      "text/plain": [
       "str"
      ]
     },
     "execution_count": 33,
     "metadata": {},
     "output_type": "execute_result"
    }
   ],
   "source": [
    "str_number= str(number)\n",
    "type(str_number)"
   ]
  },
  {
   "cell_type": "code",
   "execution_count": 37,
   "id": "6b0328d2-ef5c-46f6-972b-171b4452b031",
   "metadata": {},
   "outputs": [
    {
     "data": {
      "text/plain": [
       "(100.0, True, '100', int)"
      ]
     },
     "execution_count": 37,
     "metadata": {},
     "output_type": "execute_result"
    }
   ],
   "source": [
    "float(100),bool(100),str(100),type(100)"
   ]
  },
  {
   "cell_type": "code",
   "execution_count": 39,
   "id": "0db2e65b-acf7-46b2-bd82-8cf4f3391953",
   "metadata": {},
   "outputs": [
    {
     "data": {
      "text/plain": [
       "int"
      ]
     },
     "execution_count": 39,
     "metadata": {},
     "output_type": "execute_result"
    }
   ],
   "source": [
    "float(100)\n",
    "bool(100)\n",
    "str(100)\n",
    "type(100)"
   ]
  },
  {
   "cell_type": "code",
   "execution_count": 43,
   "id": "74ae0373-0c85-4fc0-8917-524f6f3fc955",
   "metadata": {},
   "outputs": [
    {
     "name": "stdout",
     "output_type": "stream",
     "text": [
      "100.0\n",
      "True\n",
      "100\n",
      "<class 'int'>\n"
     ]
    }
   ],
   "source": [
    "print(float(100))\n",
    "print(bool(100))\n",
    "print(str(100))\n",
    "print(type(100))"
   ]
  },
  {
   "cell_type": "code",
   "execution_count": 49,
   "id": "b08e166f-de42-4a21-a463-1f68293ce11e",
   "metadata": {},
   "outputs": [
    {
     "name": "stdout",
     "output_type": "stream",
     "text": [
      "-100.0\n",
      "True\n",
      "-100\n",
      "<class 'int'>\n"
     ]
    }
   ],
   "source": [
    "print(float(-100))\n",
    "print(bool(-100))\n",
    "print(str(-100))\n",
    "print(type(-100))"
   ]
  },
  {
   "cell_type": "code",
   "execution_count": 51,
   "id": "3a10f313-2a58-4f8f-af3f-e02be5f24f96",
   "metadata": {},
   "outputs": [
    {
     "name": "stdout",
     "output_type": "stream",
     "text": [
      "False\n"
     ]
    }
   ],
   "source": [
    "print(bool(-0))"
   ]
  },
  {
   "cell_type": "code",
   "execution_count": 53,
   "id": "0e0a6905-17ba-4c8b-8bc4-51dfb5b1cdf3",
   "metadata": {},
   "outputs": [
    {
     "name": "stdout",
     "output_type": "stream",
     "text": [
      "False\n"
     ]
    }
   ],
   "source": [
    "print(bool(0))"
   ]
  },
  {
   "cell_type": "code",
   "execution_count": 57,
   "id": "f0475d1f-d2be-489e-bc1a-87d05b89ad49",
   "metadata": {},
   "outputs": [
    {
     "ename": "SyntaxError",
     "evalue": "incomplete input (4196815970.py, line 1)",
     "output_type": "error",
     "traceback": [
      "\u001b[1;36m  Cell \u001b[1;32mIn[57], line 1\u001b[1;36m\u001b[0m\n\u001b[1;33m    print(bool(-3*2)\u001b[0m\n\u001b[1;37m                    ^\u001b[0m\n\u001b[1;31mSyntaxError\u001b[0m\u001b[1;31m:\u001b[0m incomplete input\n"
     ]
    }
   ],
   "source": [
    "print(bool(-3*2)"
   ]
  },
  {
   "cell_type": "markdown",
   "id": "176dde68-e800-4796-babd-b4f1ea29c950",
   "metadata": {},
   "source": [
    "**float to other data types**"
   ]
  },
  {
   "cell_type": "code",
   "execution_count": 71,
   "id": "087d5da9-ef22-4246-b142-3ed023a1f4af",
   "metadata": {},
   "outputs": [
    {
     "data": {
      "text/plain": [
       "(10, True, '-10.5', False)"
      ]
     },
     "execution_count": 71,
     "metadata": {},
     "output_type": "execute_result"
    }
   ],
   "source": [
    "int(10.5),bool(10.5),str(-10.5),bool(0.0)"
   ]
  },
  {
   "cell_type": "code",
   "execution_count": 65,
   "id": "c6bfd9b8-76b7-481b-9f74-30ecffbafa8a",
   "metadata": {},
   "outputs": [
    {
     "name": "stdout",
     "output_type": "stream",
     "text": [
      "10\n",
      "True 10.5\n"
     ]
    },
    {
     "data": {
      "text/plain": [
       "(None, None)"
      ]
     },
     "execution_count": 65,
     "metadata": {},
     "output_type": "execute_result"
    }
   ],
   "source": [
    "print(int(10.5)),print(bool(10.5),str(10.5))"
   ]
  },
  {
   "cell_type": "markdown",
   "id": "c57e5866-9ef1-4672-abe3-22ef7e51a190",
   "metadata": {},
   "source": [
    "**string to other types**"
   ]
  },
  {
   "cell_type": "code",
   "execution_count": 87,
   "id": "da2b05f2-7dfa-44b8-9e23-dff85f15c808",
   "metadata": {},
   "outputs": [
    {
     "data": {
      "text/plain": [
       "(True, False, False, False, False)"
      ]
     },
     "execution_count": 87,
     "metadata": {},
     "output_type": "execute_result"
    }
   ],
   "source": [
    "bool('0'),bool(0),bool(''),bool(),bool(\"\")"
   ]
  },
  {
   "cell_type": "code",
   "execution_count": 89,
   "id": "c4245a12-9f74-4262-8f78-9b15bb606961",
   "metadata": {},
   "outputs": [
    {
     "data": {
      "text/plain": [
       "(True, True, False, False)"
      ]
     },
     "execution_count": 89,
     "metadata": {},
     "output_type": "execute_result"
    }
   ],
   "source": [
    "bool('\"\"'),bool(\"''\"),bool(\"\"\"\"\"\"),bool( )"
   ]
  },
  {
   "cell_type": "code",
   "execution_count": 77,
   "id": "19f8168c-1fdc-42cb-9fa0-9985791ca59d",
   "metadata": {
    "scrolled": true
   },
   "outputs": [
    {
     "data": {
      "text/plain": [
       "14"
      ]
     },
     "execution_count": 77,
     "metadata": {},
     "output_type": "execute_result"
    }
   ],
   "source": [
    "len('Nagaraj Renuka')"
   ]
  },
  {
   "cell_type": "markdown",
   "id": "f9f0d5e8-296d-416c-bd79-70b901d0dc38",
   "metadata": {},
   "source": [
    "- for number 0 and 0.0 boolean conversion gives **Fales**\n",
    "- for strings empty boolean conversion give **Fales**"
   ]
  },
  {
   "cell_type": "code",
   "execution_count": 102,
   "id": "0623097c-e7f0-4227-ad5f-1cb897ff67cd",
   "metadata": {},
   "outputs": [
    {
     "data": {
      "text/plain": [
       "(10.0, 10.0, 0.0)"
      ]
     },
     "execution_count": 102,
     "metadata": {},
     "output_type": "execute_result"
    }
   ],
   "source": [
    "float('10'),float(10),float()"
   ]
  },
  {
   "cell_type": "code",
   "execution_count": 104,
   "id": "73e98d43-7fa5-43b5-81ca-8ba946ed11e4",
   "metadata": {
    "scrolled": true
   },
   "outputs": [
    {
     "data": {
      "text/plain": [
       "(10.0, True, 10, '10')"
      ]
     },
     "execution_count": 104,
     "metadata": {},
     "output_type": "execute_result"
    }
   ],
   "source": [
    "float('10'),bool('10'),int('10'),str('10')"
   ]
  },
  {
   "cell_type": "code",
   "execution_count": 110,
   "id": "2aff6b24-7fbf-4215-8869-bc87eebcff0e",
   "metadata": {},
   "outputs": [
    {
     "data": {
      "text/plain": [
       "(10.5, True, '10.5')"
      ]
     },
     "execution_count": 110,
     "metadata": {},
     "output_type": "execute_result"
    }
   ],
   "source": [
    "float('10.5'),bool('10.5'),str('10.5') #int('10.5')"
   ]
  },
  {
   "cell_type": "code",
   "execution_count": 124,
   "id": "f7f4fabd-7f8e-4502-ab3a-63fc1f0738a0",
   "metadata": {},
   "outputs": [
    {
     "data": {
      "text/plain": [
       "(1, 1.0, 'True', 0, 0.0, 'False')"
      ]
     },
     "execution_count": 124,
     "metadata": {},
     "output_type": "execute_result"
    }
   ],
   "source": [
    "int(True), float(True), str(True), int(False), float(False), str(False)"
   ]
  },
  {
   "cell_type": "code",
   "execution_count": 126,
   "id": "44e5e2a1-f75e-45d4-9fcf-0d0650b0caed",
   "metadata": {},
   "outputs": [
    {
     "name": "stdout",
     "output_type": "stream",
     "text": [
      "1\n",
      "1.0\n",
      "True\n",
      "0\n",
      "0.0\n",
      "False\n"
     ]
    },
    {
     "data": {
      "text/plain": [
       "(None, None, None, None, None, None)"
      ]
     },
     "execution_count": 126,
     "metadata": {},
     "output_type": "execute_result"
    }
   ],
   "source": [
    "print(int(True)), print(float(True)), print(str(True)), print(int(False)), print(float(False)), print(str(False))"
   ]
  },
  {
   "cell_type": "code",
   "execution_count": 138,
   "id": "0879eea4-d2c2-42b5-8248-7dce79be1955",
   "metadata": {},
   "outputs": [
    {
     "data": {
      "text/plain": [
       "False"
      ]
     },
     "execution_count": 138,
     "metadata": {},
     "output_type": "execute_result"
    }
   ],
   "source": [
    "float(10)\n",
    "str(10)\n",
    "bool(10)\n",
    "int(10.5)\n",
    "str(10.5)\n",
    "bool(10.5)\n",
    "#int('apple')\n",
    "#float('apple')\n",
    "bool('apple')\n",
    "int('10')\n",
    "bool('10')\n",
    "#int('10.5')\n",
    "float('10.5')\n",
    "bool('10.5')\n",
    "int(True)\n",
    "int(False)\n",
    "float(True)\n",
    "float(False)\n",
    "str(True)\n",
    "str(False)\n",
    "bool(0)\n",
    "bool(0.0)\n",
    "bool('')"
   ]
  },
  {
   "cell_type": "code",
   "execution_count": 132,
   "id": "8ddc81f7-4f6c-4cf3-a1b3-5d9a96705acc",
   "metadata": {},
   "outputs": [
    {
     "data": {
      "text/plain": [
       "10"
      ]
     },
     "execution_count": 132,
     "metadata": {},
     "output_type": "execute_result"
    }
   ],
   "source": [
    "int(10.5)"
   ]
  },
  {
   "cell_type": "code",
   "execution_count": null,
   "id": "1fc9382a-8770-4319-bb58-18057b7dac88",
   "metadata": {},
   "outputs": [],
   "source": []
  }
 ],
 "metadata": {
  "kernelspec": {
   "display_name": "Python [conda env:base] *",
   "language": "python",
   "name": "conda-base-py"
  },
  "language_info": {
   "codemirror_mode": {
    "name": "ipython",
    "version": 3
   },
   "file_extension": ".py",
   "mimetype": "text/x-python",
   "name": "python",
   "nbconvert_exporter": "python",
   "pygments_lexer": "ipython3",
   "version": "3.12.7"
  }
 },
 "nbformat": 4,
 "nbformat_minor": 5
}
