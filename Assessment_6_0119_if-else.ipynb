{
 "cells": [
  {
   "cell_type": "code",
   "execution_count": 3,
   "id": "4540ba27-29cb-4cbc-863d-96a0746be692",
   "metadata": {},
   "outputs": [
    {
     "name": "stdin",
     "output_type": "stream",
     "text": [
      "Enter a length in centimeters:  5.2354\n"
     ]
    },
    {
     "name": "stdout",
     "output_type": "stream",
     "text": [
      "Entered length in inches 13.3\n"
     ]
    }
   ],
   "source": [
    "#problem-1\n",
    "a1=eval(input(\"Enter a length in centimeters: \"))\n",
    "try:\n",
    "    if a1<0:\n",
    "        print(\"Its an invalid entry\")\n",
    "    else:\n",
    "        print(\"Entered length in inches\",round(a1*2.54,2))\n",
    "except Exception as e\n",
    "    print(e)"
   ]
  },
  {
   "cell_type": "code",
   "execution_count": 37,
   "id": "7a068ab6-e87a-451e-9fa4-7ac157ecabe7",
   "metadata": {},
   "outputs": [
    {
     "name": "stdin",
     "output_type": "stream",
     "text": [
      "Enter the temperature: 32.235\n",
      "Enter the Units(Celsius/Fahrenheit) Celsius\n"
     ]
    },
    {
     "name": "stdout",
     "output_type": "stream",
     "text": [
      "Temperature in Fahrenheit is 90.02 F\n"
     ]
    }
   ],
   "source": [
    "#problem-2\n",
    "t1=eval(input(\"Enter the temperature:\"))\n",
    "u1=input(\"Enter the Units(Celsius/Fahrenheit)\")\n",
    "try:\n",
    "    if u1==\"Celsius\":\n",
    "        print(\"Temperature in Fahrenheit is\",round(t1*(9/5)+32,2),\"F\")\n",
    "    else:\n",
    "        print(\"Temperature in Celsius is\",round((5/9)*(t1-32),),\"C\")\n",
    "except Exception as e:\n",
    "    print(e)"
   ]
  },
  {
   "cell_type": "code",
   "execution_count": 37,
   "id": "3649afcb-5112-4ca3-b41c-c786e263ac81",
   "metadata": {},
   "outputs": [
    {
     "name": "stdin",
     "output_type": "stream",
     "text": [
      "Enter the Temperature in Celsius: 101\n"
     ]
    },
    {
     "name": "stdout",
     "output_type": "stream",
     "text": [
      "101 temperature is above boiling point\n"
     ]
    }
   ],
   "source": [
    "#problem-3\n",
    "\n",
    "try:\n",
    "    tc=eval(input(\"Enter the Temperature in Celsius:\"))\n",
    "\n",
    "    if tc < -273.5:\n",
    "        print(f\"{tc} is invalid temperature because it is below absolute zero\")\n",
    "    elif tc == -273.5:\n",
    "        print(f\"{tc} temperature is absolute zero\")\n",
    "    elif -273.5 < tc < 0:\n",
    "        print(f'{tc} temperature is below freezing')\n",
    "    elif tc == 0:\n",
    "        print(f'{tc} temperature is at freezing point')\n",
    "    elif 0 < tc < 100:\n",
    "        print(f'{tc} temperature is normal')\n",
    "    elif tc == 100:\n",
    "        print(f'{tc} temperature is boiling point')\n",
    "    elif tc > 100:\n",
    "        print(f'{tc} temperature is above boiling point')\n",
    "except Exception as e:\n",
    "    print(e)\n"
   ]
  },
  {
   "cell_type": "code",
   "execution_count": 63,
   "id": "06ace687-132e-4a41-b375-8a0ca5dd3ad4",
   "metadata": {},
   "outputs": [
    {
     "name": "stdin",
     "output_type": "stream",
     "text": [
      "Enter your credits: 84\n"
     ]
    },
    {
     "name": "stdout",
     "output_type": "stream",
     "text": [
      "a senior\n"
     ]
    }
   ],
   "source": [
    "#problem-4\n",
    "cr1=eval(input(\"Enter your credits:\"))\n",
    "try:\n",
    "    if cr1<=23:\n",
    "        print(\"the student is freshman\")\n",
    "    elif 24<= cr1 <=53:\n",
    "        print(\"a sophomore\")\n",
    "    elif 54 <= cr1 <=83:\n",
    "        print(\"a junior\")\n",
    "    else:\n",
    "        print(\"a senior\")\n",
    "except Exception as e:\n",
    "    print(e)"
   ]
  },
  {
   "cell_type": "code",
   "execution_count": 85,
   "id": "ade70571-3efe-4ff5-944b-11a04a715d7c",
   "metadata": {},
   "outputs": [
    {
     "name": "stdin",
     "output_type": "stream",
     "text": [
      "Enter a value from 1 to 10: 4\n"
     ]
    },
    {
     "name": "stdout",
     "output_type": "stream",
     "text": [
      "You are not rightly selected: 10\n"
     ]
    }
   ],
   "source": [
    "#problem-5\n",
    "import random\n",
    "r1=random.randint(1,10)\n",
    "r2=eval(input(\"Enter a value from 1 to 10:\"))\n",
    "if r1 == r2:\n",
    "    print(f\"You are rightly selected: {r1}\")\n",
    "else:\n",
    "    print(f\"You are not rightly selected: {r1}\")\n"
   ]
  },
  {
   "cell_type": "code",
   "execution_count": 93,
   "id": "d966e405-78ba-44b3-a81a-30136c7e43c0",
   "metadata": {},
   "outputs": [
    {
     "name": "stdin",
     "output_type": "stream",
     "text": [
      "Enter the number of items purchased: 9\n"
     ]
    },
    {
     "name": "stdout",
     "output_type": "stream",
     "text": [
      "Total items that you have purchased are 9 and the total cost is 108\n"
     ]
    }
   ],
   "source": [
    "#problem-6\n",
    "it1=eval(input(\"Enter the number of items purchased:\"))\n",
    "try:\n",
    "    if it1 < 10:\n",
    "        tot1=round(it1*12,2)\n",
    "        print(f'Total items that you have purchased are {it1} and the total cost is {tot1}')\n",
    "    elif 10<= it1 <=99:\n",
    "        tot1=round(it1*10)\n",
    "        print(f'Total items that you have purchased are {it1} and the total cost is {tot1}')\n",
    "    else:\n",
    "        tot1=round(it1*7)\n",
    "        print(f'Total items that you have purchased are {it1} and the total cost is {tot1}')\n",
    "except Exception as e:\n",
    "    print(e)\n"
   ]
  },
  {
   "cell_type": "code",
   "execution_count": 13,
   "id": "02c68fc3-cfe6-469b-8560-75457c1c52b7",
   "metadata": {},
   "outputs": [
    {
     "name": "stdin",
     "output_type": "stream",
     "text": [
      "enter a number: 1\n",
      "enter another number: 1.001\n"
     ]
    },
    {
     "name": "stdout",
     "output_type": "stream",
     "text": [
      "1 and 1.001 are close\n"
     ]
    }
   ],
   "source": [
    "# problem-7\n",
    "n1=eval(input(\"enter a number:\"))\n",
    "n2=eval(input(\"enter another number:\"))\n",
    "if abs(n1-n2)<=0.001:\n",
    "    print(f\"{n1} and {n2} are close\")\n",
    "else:\n",
    "    print(f\"{n1} and {n2} are not close\")\n"
   ]
  },
  {
   "cell_type": "code",
   "execution_count": 25,
   "id": "0911f3d3-5f52-465d-a7cd-306cd54b5d6f",
   "metadata": {},
   "outputs": [
    {
     "name": "stdin",
     "output_type": "stream",
     "text": [
      "Enter a year to know Leap year or not:  2012\n"
     ]
    },
    {
     "name": "stdout",
     "output_type": "stream",
     "text": [
      "===++> Year 2012 is a Leap Year\n"
     ]
    }
   ],
   "source": [
    "#problem-8\n",
    "y1=eval(input(\"Enter a year to know Leap year or not: \"))\n",
    "y2=y1%4\n",
    "y3=y1%100\n",
    "y4=y1%400\n",
    "if y4==0:\n",
    "    print(f\"===++> Year {y1} is a Leap Year\")\n",
    "\n",
    "elif y3==0:\n",
    "    print(f\"===++> Year {y1} is a Non-leap Year\")\n",
    "\n",
    "elif y2==0:\n",
    "    print(f\"===++> Year {y1} is a Leap Year\")\n",
    "\n",
    "else:\n",
    "    print(f\"===++> Year {y1} is a Non-leap Year\")\n"
   ]
  },
  {
   "cell_type": "code",
   "execution_count": 11,
   "id": "5eeba668-b473-4e47-b4bf-daf3b5912b3f",
   "metadata": {},
   "outputs": [
    {
     "name": "stdin",
     "output_type": "stream",
     "text": [
      "Enter a number to find all the divisors: 10\n"
     ]
    },
    {
     "name": "stdout",
     "output_type": "stream",
     "text": [
      "1\n",
      "2\n",
      "5\n",
      "10\n"
     ]
    }
   ],
   "source": [
    "#problem-9\n",
    "d1=eval(input(\"Enter a number to find all the divisors:\"))\n",
    "for i in range(1,d1+1):\n",
    "    if d1%i==0:\n",
    "        print(i)"
   ]
  },
  {
   "cell_type": "code",
   "execution_count": 23,
   "id": "04829099-6184-44b0-852b-b574813f76a8",
   "metadata": {},
   "outputs": [
    {
     "name": "stdin",
     "output_type": "stream",
     "text": [
      "Enter time: 1\n",
      "Enter am/pm: pm\n",
      "how many hours ahead: 3\n"
     ]
    },
    {
     "name": "stdout",
     "output_type": "stream",
     "text": [
      "1 pm + 3 hrs = 4 pm\n"
     ]
    }
   ],
   "source": [
    "#problem-10\n",
    "t1=eval(input('Enter time:'))\n",
    "am_pm=input('Enter am/pm:')\n",
    "if am_pm != 'am' and am_pm != 'pm':\n",
    "    print(\"Its an invalid entry, enter 'am' or 'pm' only\")\n",
    "else:\n",
    "    t2=eval(input('how many hours ahead:'))\n",
    "    new_t = t1+t2\n",
    "    if new_t > 12:\n",
    "        new_t=new_t-12\n",
    "        am_pm='am' if am_pm == 'pm' else 'pm'\n",
    "    print(f'{t1} {am_pm} + {t2} hrs = {new_t} {am_pm}')\n"
   ]
  },
  {
   "cell_type": "code",
   "execution_count": null,
   "id": "78587377-e272-41d0-9459-136101ed19f5",
   "metadata": {},
   "outputs": [],
   "source": []
  }
 ],
 "metadata": {
  "kernelspec": {
   "display_name": "Python [conda env:base] *",
   "language": "python",
   "name": "conda-base-py"
  },
  "language_info": {
   "codemirror_mode": {
    "name": "ipython",
    "version": 3
   },
   "file_extension": ".py",
   "mimetype": "text/x-python",
   "name": "python",
   "nbconvert_exporter": "python",
   "pygments_lexer": "ipython3",
   "version": "3.12.7"
  }
 },
 "nbformat": 4,
 "nbformat_minor": 5
}
