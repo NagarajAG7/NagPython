{
 "cells": [
  {
   "cell_type": "markdown",
   "id": "b9138f45-ca0d-41ff-a489-2cf1b6516adc",
   "metadata": {},
   "source": [
    "**range vs in**\n",
    "\n",
    "- when we have to use with index then go for range\n",
    "- when we have to use only the elements then go for in\n"
   ]
  },
  {
   "cell_type": "markdown",
   "id": "b59e8f56-ee26-4397-8817-790a87104bca",
   "metadata": {},
   "source": [
    "**mutables vs immutables**\n",
    "\n",
    "- list are mutables (we can do change of elements)\n",
    "\n"
   ]
  },
  {
   "cell_type": "code",
   "execution_count": 8,
   "id": "76730bc3-8569-44e5-9dd1-e74c0d0417e3",
   "metadata": {},
   "outputs": [
    {
     "name": "stdout",
     "output_type": "stream",
     "text": [
      "['python']\n"
     ]
    }
   ],
   "source": [
    "str1='python'\n",
    "list1=['python']\n",
    "print(list1)"
   ]
  },
  {
   "cell_type": "markdown",
   "id": "598a14a4-c4ad-40ab-b5e2-b1c67c871887",
   "metadata": {},
   "source": [
    "**slice**"
   ]
  },
  {
   "cell_type": "code",
   "execution_count": 3,
   "id": "f214db25-d68a-4833-a559-0cf9f6303c2e",
   "metadata": {},
   "outputs": [
    {
     "data": {
      "text/plain": [
       "['banana', 'apple', 'E', 'D', 'C', 'B', 'A', 50, 40, 30, 20, 10]"
      ]
     },
     "execution_count": 3,
     "metadata": {},
     "output_type": "execute_result"
    }
   ],
   "source": [
    "l1=[10,20,30,40,50,'A','B','C','D','E','apple','banana']\n",
    "l1[:]\n",
    "l1[::]\n",
    "l1[::-1]\n"
   ]
  },
  {
   "cell_type": "code",
   "execution_count": 29,
   "id": "85291804-8b33-443f-919e-7d8552776d5a",
   "metadata": {},
   "outputs": [
    {
     "data": {
      "text/plain": [
       "[30, 50, 'B', 'D']"
      ]
     },
     "execution_count": 29,
     "metadata": {},
     "output_type": "execute_result"
    }
   ],
   "source": [
    "l1[2:10:2]\n"
   ]
  },
  {
   "cell_type": "code",
   "execution_count": 25,
   "id": "55e1ef35-a3c9-45be-93eb-5e9f19a0a423",
   "metadata": {},
   "outputs": [
    {
     "data": {
      "text/plain": [
       "[]"
      ]
     },
     "execution_count": 25,
     "metadata": {},
     "output_type": "execute_result"
    }
   ],
   "source": [
    "l1[2:10:-2]"
   ]
  },
  {
   "cell_type": "code",
   "execution_count": 35,
   "id": "a9d5a287-0974-4005-b3e8-7ca43221739a",
   "metadata": {},
   "outputs": [
    {
     "data": {
      "text/plain": [
       "[]"
      ]
     },
     "execution_count": 35,
     "metadata": {},
     "output_type": "execute_result"
    }
   ],
   "source": [
    "l1[2:-10:2]\n"
   ]
  },
  {
   "cell_type": "code",
   "execution_count": 37,
   "id": "b58777d7-5278-417c-90f0-8e3a6bc4e639",
   "metadata": {},
   "outputs": [
    {
     "data": {
      "text/plain": [
       "[]"
      ]
     },
     "execution_count": 37,
     "metadata": {},
     "output_type": "execute_result"
    }
   ],
   "source": [
    "l1[-2:10:2]"
   ]
  },
  {
   "cell_type": "code",
   "execution_count": 39,
   "id": "e3b69fb5-d765-43bc-873d-6692f8a55d92",
   "metadata": {},
   "outputs": [
    {
     "data": {
      "text/plain": [
       "[]"
      ]
     },
     "execution_count": 39,
     "metadata": {},
     "output_type": "execute_result"
    }
   ],
   "source": [
    "l1[2:-10:-2]\n"
   ]
  },
  {
   "cell_type": "code",
   "execution_count": 41,
   "id": "5ef0c645-c1d4-4454-b05b-ba9b5f18b3b3",
   "metadata": {},
   "outputs": [
    {
     "data": {
      "text/plain": [
       "[]"
      ]
     },
     "execution_count": 41,
     "metadata": {},
     "output_type": "execute_result"
    }
   ],
   "source": [
    "l1[-2:10:-2]\n"
   ]
  },
  {
   "cell_type": "code",
   "execution_count": 47,
   "id": "cc83b8be-52e4-4a6f-9a14-4b2ca3b53529",
   "metadata": {},
   "outputs": [
    {
     "data": {
      "text/plain": [
       "[]"
      ]
     },
     "execution_count": 47,
     "metadata": {},
     "output_type": "execute_result"
    }
   ],
   "source": [
    "l1[-2:-10:2]\n"
   ]
  },
  {
   "cell_type": "code",
   "execution_count": 49,
   "id": "92def112-1fe8-47d4-9eaf-2b558af9613a",
   "metadata": {},
   "outputs": [
    {
     "data": {
      "text/plain": [
       "['apple', 'D', 'B', 50]"
      ]
     },
     "execution_count": 49,
     "metadata": {},
     "output_type": "execute_result"
    }
   ],
   "source": [
    "l1[-2:-10:-2]"
   ]
  },
  {
   "cell_type": "code",
   "execution_count": 51,
   "id": "bb25982d-aebb-4254-a780-6da8240addff",
   "metadata": {},
   "outputs": [
    {
     "data": {
      "text/plain": [
       "[]"
      ]
     },
     "execution_count": 51,
     "metadata": {},
     "output_type": "execute_result"
    }
   ],
   "source": [
    "l1[10:2:2]\n"
   ]
  },
  {
   "cell_type": "code",
   "execution_count": 53,
   "id": "40f49833-3de1-4b33-9919-2f908a11006d",
   "metadata": {},
   "outputs": [
    {
     "data": {
      "text/plain": [
       "['apple', 'D', 'B', 50]"
      ]
     },
     "execution_count": 53,
     "metadata": {},
     "output_type": "execute_result"
    }
   ],
   "source": [
    "l1[10:2:-2]"
   ]
  },
  {
   "cell_type": "markdown",
   "id": "35188ffc-0458-4bcd-beae-9cd136011c46",
   "metadata": {},
   "source": [
    "**methods**\n",
    "\n",
    "- if we want to know string method  dir('')\n",
    "- if we want to know list method dir([])\n",
    "  "
   ]
  },
  {
   "cell_type": "code",
   "execution_count": 59,
   "id": "d7a2782f-51d9-4bda-a01c-559d8513a013",
   "metadata": {},
   "outputs": [
    {
     "data": {
      "text/plain": [
       "['__add__',\n",
       " '__class__',\n",
       " '__class_getitem__',\n",
       " '__contains__',\n",
       " '__delattr__',\n",
       " '__delitem__',\n",
       " '__dir__',\n",
       " '__doc__',\n",
       " '__eq__',\n",
       " '__format__',\n",
       " '__ge__',\n",
       " '__getattribute__',\n",
       " '__getitem__',\n",
       " '__getstate__',\n",
       " '__gt__',\n",
       " '__hash__',\n",
       " '__iadd__',\n",
       " '__imul__',\n",
       " '__init__',\n",
       " '__init_subclass__',\n",
       " '__iter__',\n",
       " '__le__',\n",
       " '__len__',\n",
       " '__lt__',\n",
       " '__mul__',\n",
       " '__ne__',\n",
       " '__new__',\n",
       " '__reduce__',\n",
       " '__reduce_ex__',\n",
       " '__repr__',\n",
       " '__reversed__',\n",
       " '__rmul__',\n",
       " '__setattr__',\n",
       " '__setitem__',\n",
       " '__sizeof__',\n",
       " '__str__',\n",
       " '__subclasshook__',\n",
       " 'append',\n",
       " 'clear',\n",
       " 'copy',\n",
       " 'count',\n",
       " 'extend',\n",
       " 'index',\n",
       " 'insert',\n",
       " 'pop',\n",
       " 'remove',\n",
       " 'reverse',\n",
       " 'sort']"
      ]
     },
     "execution_count": 59,
     "metadata": {},
     "output_type": "execute_result"
    }
   ],
   "source": [
    "dir([])"
   ]
  },
  {
   "cell_type": "code",
   "execution_count": 61,
   "id": "b548ab6b-e2a0-4920-9a9b-e27dd2b3223b",
   "metadata": {},
   "outputs": [
    {
     "data": {
      "text/plain": [
       "['__add__',\n",
       " '__class__',\n",
       " '__contains__',\n",
       " '__delattr__',\n",
       " '__dir__',\n",
       " '__doc__',\n",
       " '__eq__',\n",
       " '__format__',\n",
       " '__ge__',\n",
       " '__getattribute__',\n",
       " '__getitem__',\n",
       " '__getnewargs__',\n",
       " '__getstate__',\n",
       " '__gt__',\n",
       " '__hash__',\n",
       " '__init__',\n",
       " '__init_subclass__',\n",
       " '__iter__',\n",
       " '__le__',\n",
       " '__len__',\n",
       " '__lt__',\n",
       " '__mod__',\n",
       " '__mul__',\n",
       " '__ne__',\n",
       " '__new__',\n",
       " '__reduce__',\n",
       " '__reduce_ex__',\n",
       " '__repr__',\n",
       " '__rmod__',\n",
       " '__rmul__',\n",
       " '__setattr__',\n",
       " '__sizeof__',\n",
       " '__str__',\n",
       " '__subclasshook__',\n",
       " 'capitalize',\n",
       " 'casefold',\n",
       " 'center',\n",
       " 'count',\n",
       " 'encode',\n",
       " 'endswith',\n",
       " 'expandtabs',\n",
       " 'find',\n",
       " 'format',\n",
       " 'format_map',\n",
       " 'index',\n",
       " 'isalnum',\n",
       " 'isalpha',\n",
       " 'isascii',\n",
       " 'isdecimal',\n",
       " 'isdigit',\n",
       " 'isidentifier',\n",
       " 'islower',\n",
       " 'isnumeric',\n",
       " 'isprintable',\n",
       " 'isspace',\n",
       " 'istitle',\n",
       " 'isupper',\n",
       " 'join',\n",
       " 'ljust',\n",
       " 'lower',\n",
       " 'lstrip',\n",
       " 'maketrans',\n",
       " 'partition',\n",
       " 'removeprefix',\n",
       " 'removesuffix',\n",
       " 'replace',\n",
       " 'rfind',\n",
       " 'rindex',\n",
       " 'rjust',\n",
       " 'rpartition',\n",
       " 'rsplit',\n",
       " 'rstrip',\n",
       " 'split',\n",
       " 'splitlines',\n",
       " 'startswith',\n",
       " 'strip',\n",
       " 'swapcase',\n",
       " 'title',\n",
       " 'translate',\n",
       " 'upper',\n",
       " 'zfill']"
      ]
     },
     "execution_count": 61,
     "metadata": {},
     "output_type": "execute_result"
    }
   ],
   "source": [
    "dir('')"
   ]
  },
  {
   "cell_type": "code",
   "execution_count": 65,
   "id": "295959a3-ccbb-4889-bae6-7364bcda7bd7",
   "metadata": {},
   "outputs": [
    {
     "name": "stdout",
     "output_type": "stream",
     "text": [
      "[]\n"
     ]
    }
   ],
   "source": [
    "list1=[10,20,30,'A','B','apple']\n",
    "list1.clear()\n",
    "print(list1)"
   ]
  },
  {
   "cell_type": "code",
   "execution_count": 75,
   "id": "cc81a95c-d34a-4c00-8e8b-1cf0b86a9920",
   "metadata": {},
   "outputs": [
    {
     "name": "stdout",
     "output_type": "stream",
     "text": [
      "[10, 20, 30, 'A', 'B', 'apple']\n"
     ]
    }
   ],
   "source": [
    "list1=[10,20,30,'A','B','apple']\n",
    "b=list1.copy()\n",
    "print(b)\n"
   ]
  },
  {
   "cell_type": "code",
   "execution_count": 93,
   "id": "338d0dc7-9eb9-49a7-b4a7-32f5bb8384d8",
   "metadata": {},
   "outputs": [
    {
     "data": {
      "text/plain": [
       "4"
      ]
     },
     "execution_count": 93,
     "metadata": {},
     "output_type": "execute_result"
    }
   ],
   "source": [
    "list1=[10,20,10,'A','B','B','B','B','apple']\n",
    "list1.count('B')\n",
    "# no start or no end in the list method\n",
    "# start and end options are available only for string"
   ]
  },
  {
   "cell_type": "code",
   "execution_count": 95,
   "id": "dd9973ed-449f-43ef-a545-2ffb8255ff72",
   "metadata": {},
   "outputs": [
    {
     "name": "stdout",
     "output_type": "stream",
     "text": [
      "[10, 20, 30, 'A', 'B', 'B', 'B', 'B', 'apple']\n",
      "[10, 20, 30, 'A', 'B', 'B', 'B', 'B', 'apple']\n"
     ]
    }
   ],
   "source": [
    "list11=[10,20,30,'A','B','B','B','B','apple']\n",
    "list12=list11\n",
    "list13=list11.copy()\n",
    "print(list12)\n",
    "print(list13)"
   ]
  },
  {
   "cell_type": "code",
   "execution_count": 99,
   "id": "552980fb-8017-452e-b2d6-5cd561596679",
   "metadata": {},
   "outputs": [
    {
     "data": {
      "text/plain": [
       "2"
      ]
     },
     "execution_count": 99,
     "metadata": {},
     "output_type": "execute_result"
    }
   ],
   "source": [
    "l1=[10,20,30,'A','B','B','B','B','apple']\n",
    "str1='ola ola ola'\n",
    "str1.count('l',2,10)\n"
   ]
  },
  {
   "cell_type": "markdown",
   "id": "75111866-bd8a-4ef3-933e-9b200352bd75",
   "metadata": {},
   "source": [
    "**append**\n",
    "\n",
    "- append is very very important method in entire list\n",
    "- this method is used very very frequently in codings\n",
    "- append means adding an element at last of the list\n",
    "- append method is used to save the results/iteration results"
   ]
  },
  {
   "cell_type": "code",
   "execution_count": 13,
   "id": "1f40f63a-44c8-41f1-834c-a321ac50c3ff",
   "metadata": {},
   "outputs": [
    {
     "name": "stdout",
     "output_type": "stream",
     "text": [
      "[10, 20, 30, 'Nag']\n"
     ]
    }
   ],
   "source": [
    "l11 = [10,20,30]\n",
    "l11.append('Nag')\n",
    "print(l11)"
   ]
  },
  {
   "cell_type": "code",
   "execution_count": 11,
   "id": "f55d4e10-e41a-4625-85bc-b3b7d52cb838",
   "metadata": {},
   "outputs": [
    {
     "name": "stdout",
     "output_type": "stream",
     "text": [
      "[10, 20, 30, 'Nag', 10, 'Nag']\n",
      "[]\n"
     ]
    }
   ],
   "source": [
    "l11 = [10,20,30]\n",
    "l11.append('Nag')\n",
    "l11.append(10)\n",
    "l11.append('Nag')\n",
    "print(l11)\n",
    "l11.clear()\n",
    "print(l11)"
   ]
  },
  {
   "cell_type": "code",
   "execution_count": 17,
   "id": "5a547898-e913-42ed-b7bd-125d10c818ab",
   "metadata": {},
   "outputs": [
    {
     "name": "stdout",
     "output_type": "stream",
     "text": [
      "[10, 20, 30, ['Nag', 10]]\n"
     ]
    }
   ],
   "source": [
    "#if multiple values are there then we have put in the list\n",
    "l11 = [10,20,30]\n",
    "l11.append(['Nag',10])\n",
    "print(l11)"
   ]
  },
  {
   "cell_type": "code",
   "execution_count": 22,
   "id": "2e9205e6-6806-4353-a832-97939566833e",
   "metadata": {},
   "outputs": [
    {
     "name": "stdout",
     "output_type": "stream",
     "text": [
      "[10, 20, 30, ['Nag', [10, 'raj']]]\n"
     ]
    }
   ],
   "source": [
    "l11 = [10,20,30]\n",
    "l11.append(['Nag',[10,'raj']])\n",
    "print(l11)"
   ]
  },
  {
   "cell_type": "code",
   "execution_count": 28,
   "id": "74ac859b-db2d-43e7-b82b-cf8d89b637f2",
   "metadata": {},
   "outputs": [
    {
     "data": {
      "text/plain": [
       "[1, 2, 3, 4, 5]"
      ]
     },
     "execution_count": 28,
     "metadata": {},
     "output_type": "execute_result"
    }
   ],
   "source": [
    "list5=[]\n",
    "for i in range(1,6):\n",
    "    list5.append(i)\n",
    "list5"
   ]
  },
  {
   "cell_type": "code",
   "execution_count": 54,
   "id": "014b2fd0-426d-4106-973e-28efe1e1cc96",
   "metadata": {},
   "outputs": [
    {
     "name": "stdout",
     "output_type": "stream",
     "text": [
      "['sq of 6 is 36', 'sq of 2 is 4', 'sq of 6 is 36']\n"
     ]
    }
   ],
   "source": [
    "# wap to enter 3 random numbers\n",
    "# and perfor the square of numbers\n",
    "# save square in the list\n",
    "import random\n",
    "list1=[]\n",
    "list2=[]\n",
    "list3=[]\n",
    "for i in range(3):\n",
    "    num1=random.randint(1,10)\n",
    "    #print(num1)\n",
    "    num2=num1*num1\n",
    "    #print(num2)\n",
    "    list1.append(num1)\n",
    "    list2.append(num2)\n",
    "    list3.append(f'sq of {num1} is {num2}')\n",
    "list1,list2\n",
    "print(list3)\n"
   ]
  },
  {
   "cell_type": "code",
   "execution_count": 13,
   "id": "4c77226b-e047-4d5d-be26-19f04529cebe",
   "metadata": {},
   "outputs": [
    {
     "name": "stdout",
     "output_type": "stream",
     "text": [
      "Even numbers are [10, 12] and Odd numbers are [47, 53, 27]\n"
     ]
    }
   ],
   "source": [
    "# even and odd numbers seperation for a list\n",
    "list5=[10,47,53,12,27]\n",
    "list6=[]\n",
    "list7=[]\n",
    "for i in list5:\n",
    "    if i%2 == 0:\n",
    "        list6.append(i)\n",
    "    else:\n",
    "        list7.append(i)\n",
    "print('Even numbers are',list6,'and Odd numbers are',list7)"
   ]
  },
  {
   "cell_type": "code",
   "execution_count": 41,
   "id": "e2697141-f593-4b4c-b9ae-3703942a3349",
   "metadata": {},
   "outputs": [
    {
     "name": "stdout",
     "output_type": "stream",
     "text": [
      "['Hyd', 'Bengaluru', 'Pune', 'Mumbai']\n"
     ]
    }
   ],
   "source": [
    "# Q3) input=['hyd','bengaluru','pune','mumbai']\n",
    "#     output=['Hyd','Bengaluru','Pune','Mumbai']\n",
    "list11=['hyd','bengaluru','pune','mumbai']\n",
    "list12=[]\n",
    "for i in list11:\n",
    "    list12.append(i.capitalize())\n",
    "print(list12)"
   ]
  },
  {
   "cell_type": "code",
   "execution_count": 43,
   "id": "7c9ce85a-8f93-48c9-ada0-80da7f068950",
   "metadata": {},
   "outputs": [
    {
     "name": "stdout",
     "output_type": "stream",
     "text": [
      "['HYD', 'BENGALURU', 'PUNE', 'MUMBAI']\n"
     ]
    }
   ],
   "source": [
    "# Q4) input=['hyd','bengaluru','pune','mumbai']\n",
    "#     output=['HYD','BENGALURU','PUNE','MUMBAI']\n",
    "\n",
    "list11=['hyd','bengaluru','pune','mumbai']\n",
    "list12=[]\n",
    "for i in list11:\n",
    "    list12.append(i.upper())\n",
    "print(list12)"
   ]
  },
  {
   "cell_type": "code",
   "execution_count": 7,
   "id": "5db517a8-27f0-4363-af0c-a5fe00b97faf",
   "metadata": {},
   "outputs": [
    {
     "name": "stdout",
     "output_type": "stream",
     "text": [
      "['ben#galuru', 'mu#mbai']\n"
     ]
    }
   ],
   "source": [
    "# Q5) input=['hyd','ben#galuru','pune','mu#mbai']\n",
    "#     output=[ben#galuru',mu#mbai']\n",
    "list11=['hyd','ben#galuru','pune','mu#mbai']\n",
    "list12=[]\n",
    "for i in list11:\n",
    "    if '#' in i:\n",
    "        list12.append(i)\n",
    "print(list12)"
   ]
  },
  {
   "cell_type": "code",
   "execution_count": 47,
   "id": "af278004-818e-4c7a-9da4-5c1afc75bdf7",
   "metadata": {},
   "outputs": [
    {
     "name": "stdout",
     "output_type": "stream",
     "text": [
      "['hyd', 'pune']\n"
     ]
    }
   ],
   "source": [
    "# Q6) input=['hyd','ben#galuru','pune','mu#mbai']\n",
    "#     output=[hyd,pune]\n",
    "list11=['hyd','ben#galuru','pune','mu#mbai']\n",
    "list12=[]\n",
    "word1='#'\n",
    "for i in list11:\n",
    "    if word1 not in i:\n",
    "        list12.append(i)\n",
    "print(list12)"
   ]
  },
  {
   "cell_type": "code",
   "execution_count": 11,
   "id": "ea93e27f-9b07-46a2-ae63-cd27141635e6",
   "metadata": {},
   "outputs": [
    {
     "data": {
      "text/plain": [
       "['HAI', 'HOW', 'ARE', 'YOU']"
      ]
     },
     "execution_count": 11,
     "metadata": {},
     "output_type": "execute_result"
    }
   ],
   "source": [
    "# Q7) input = 'hai how are you'\n",
    "#     output=['HAI','HOW','ARE','YOU']\n",
    "str1='hai how are you'\n",
    "str1.upper().split()"
   ]
  },
  {
   "cell_type": "code",
   "execution_count": 19,
   "id": "3e8e5323-cdf6-4c94-8c45-12d4f3c3e405",
   "metadata": {},
   "outputs": [
    {
     "name": "stdout",
     "output_type": "stream",
     "text": [
      "['virat', 'rohit', 'ms']\n",
      "['kohli', 'sharma', 'dhoni']\n",
      "['rcb', 'mi', 'csk']\n"
     ]
    }
   ],
   "source": [
    "# Q8) input='virat.kohli@rcb.com;rohit.sharma@mi.com;ms.dhoni@csk.com'\n",
    "#     fname=['virat','rohit'.'ms']\n",
    "#     sname=['kohli','sharma','dhoni']\n",
    "#     cname=['rcb','mi','csk']\n",
    "list1='virat.kohli@rcb.com;rohit.sharma@mi.com;ms.dhoni@csk.com'\n",
    "emailid = list1.split(';')\n",
    "fname=[]\n",
    "sname=[]\n",
    "cname=[]\n",
    "for i in emailid:\n",
    "    name, domain = i.split('@')\n",
    "    firstname, secondname = name.split('.')\n",
    "    fname.append(firstname)\n",
    "    sname.append(secondname)\n",
    "    compname = domain.split('.')[0]\n",
    "    cname.append(compname)\n",
    "print(fname)\n",
    "print(sname)\n",
    "print(cname)\n"
   ]
  },
  {
   "cell_type": "code",
   "execution_count": 1,
   "id": "f652b0d4-e662-46ca-911d-9ce022337d0d",
   "metadata": {},
   "outputs": [
    {
     "name": "stdout",
     "output_type": "stream",
     "text": [
      "virat.kohli@rcb.com\n",
      "rohit.sharma@mi.com\n",
      "ms.dhoni@csk.com\n",
      "['virat', 'rohit', 'ms']\n",
      "['kohli', 'sharma', 'dhoni']\n",
      "['kohli@rcb', 'sharma@mi', 'dhoni@csk']\n"
     ]
    }
   ],
   "source": [
    "# Q8) input='virat.kohli@rcb.com;rohit.sharma@mi.com;ms.dhoni@csk.com'\n",
    "#     fname=['virat','rohit'.'ms']\n",
    "#     sname=['kohli','sharma','dhoni']\n",
    "#     cname=['rcb','mi','csk']\n",
    "list1='virat.kohli@rcb.com;rohit.sharma@mi.com;ms.dhoni@csk.com'\n",
    "l=list1.split(';')\n",
    "fname=[]\n",
    "sname=[]\n",
    "cname=[]\n",
    "for i in l:\n",
    "    print(i)\n",
    "    fn=i.find('.')\n",
    "    sn=i.find('@')\n",
    "    cn=i.find('.',fn+1)\n",
    "    fname.append(i[:fn])\n",
    "    sname.append(i[fn+1:sn])\n",
    "    cname.append(i[fn+1:cn])\n",
    "print(fname)\n",
    "print(sname)\n",
    "print(cname)\n"
   ]
  },
  {
   "cell_type": "code",
   "execution_count": 19,
   "id": "b2c7279b-da54-444d-8fc9-1d767b32c5df",
   "metadata": {},
   "outputs": [
    {
     "name": "stdout",
     "output_type": "stream",
     "text": [
      "['can', 'canner', 'you', 'not', 'with', 'but', 'the']\n"
     ]
    },
    {
     "data": {
      "text/plain": [
       "['can:4', 'canner:3', 'you:3', 'not:1', 'with:1', 'but:1', 'the:1']"
      ]
     },
     "execution_count": 19,
     "metadata": {},
     "output_type": "execute_result"
    }
   ],
   "source": [
    "# Q9) input='can canner can you can not canner with you but you can the canner'\n",
    "#     output=['can'-4,'canner'-3,'you'-3,'not'-1,'with'-1,'but'-1,'the'-1]\n",
    "input='can canner can you can not canner with you but you can the canner'\n",
    "counter=[]\n",
    "l=input.split()\n",
    "l1=[]\n",
    "for i in l:\n",
    "    if i not in l1:\n",
    "        counter.append(f'{i}:{l.count(i)}')\n",
    "        l1.append(i)    \n",
    "print(l1)\n",
    "counter\n"
   ]
  },
  {
   "cell_type": "code",
   "execution_count": 31,
   "id": "9eba1b19-5451-49d4-be1d-83b6dac20279",
   "metadata": {},
   "outputs": [
    {
     "data": {
      "text/plain": [
       "['can-4', 'canner-3', 'you-3', 'not-1', 'with-1', 'but-1', 'the-1']"
      ]
     },
     "execution_count": 31,
     "metadata": {},
     "output_type": "execute_result"
    }
   ],
   "source": [
    "# Q9) input='can canner can you can not canner with you but you can the canner'\n",
    "#     output=['can'-4,'canner'-3,'you'-3,'not'-1,'with'-1,'but'-1,'the'-1]\n",
    "input='can canner can you can not canner with you but you can the canner'\n",
    "l1=input.split()\n",
    "l2=[]\n",
    "counter=[]\n",
    "for i in l1:\n",
    "    if i not in l2:\n",
    "        counter.append(f'{i}-{l1.count(i)}')\n",
    "        l2.append(i)\n",
    "counter\n"
   ]
  },
  {
   "cell_type": "code",
   "execution_count": 51,
   "id": "cab04bfe-b1c4-4838-bef9-f6ee870ca1e1",
   "metadata": {},
   "outputs": [
    {
     "name": "stdout",
     "output_type": "stream",
     "text": [
      "['can', 'canner', 'can', 'can', 'canner', 'can', 'the', 'canner']\n"
     ]
    },
    {
     "data": {
      "text/plain": [
       "'can canner can can canner can the canner'"
      ]
     },
     "execution_count": 51,
     "metadata": {},
     "output_type": "execute_result"
    }
   ],
   "source": [
    "# Q10) input = 'can canner can you can not canner with you but you can the canner'\n",
    "#      stopwords=['not','you','but','with']\n",
    "#      using stopwords remove those words from input\n",
    "#     output='can canner can can canner can canner'\n",
    "input = 'can canner can you can not canner with you but you can the canner'\n",
    "l1=input.split()\n",
    "stopwords=['not','you','but','with']\n",
    "output=[]\n",
    "for i in l1:\n",
    "    if i not in stopwords:\n",
    "        output.append(i)\n",
    "        ' '.join(output)\n",
    "print(output)\n",
    "' '.join(output)"
   ]
  },
  {
   "cell_type": "code",
   "execution_count": 53,
   "id": "13450e02-ad14-4666-9036-df918da66c4a",
   "metadata": {},
   "outputs": [
    {
     "name": "stdout",
     "output_type": "stream",
     "text": [
      "Most repeated word: 'can' (repeated 4 times)\n"
     ]
    },
    {
     "data": {
      "text/plain": [
       "('can', 4)"
      ]
     },
     "execution_count": 53,
     "metadata": {},
     "output_type": "execute_result"
    }
   ],
   "source": [
    "# Q11) take a string find the most repeated word from string\n",
    "input = 'can canner can you can not canner with you but you can the canner'\n",
    "\n",
    "from collections import Counter\n",
    "\n",
    "l1=input.split()\n",
    "lcount= Counter(l1)\n",
    "lcount\n",
    "\n",
    "repeatedletter, count = lcount.most_common(1)[0]\n",
    "print(f\"Most repeated word: '{most_common_word}' (repeated {count} times)\")\n",
    "lcount.most_common(1)[0]"
   ]
  },
  {
   "cell_type": "code",
   "execution_count": 4,
   "id": "ecfdce54-26c2-435c-85bb-098d24f499f2",
   "metadata": {},
   "outputs": [
    {
     "data": {
      "text/plain": [
       "'canner'"
      ]
     },
     "execution_count": 4,
     "metadata": {},
     "output_type": "execute_result"
    }
   ],
   "source": [
    "# Q12) take a string find the longest length of the word from string\n",
    "input = 'can canner can you can not canner with you but you can the canner'\n",
    "l1=input.split()\n",
    "l2=max(l1, key=len)\n",
    "l2\n",
    "\n"
   ]
  },
  {
   "cell_type": "code",
   "execution_count": null,
   "id": "b065c8ff-c8e9-4f10-bb2f-845510ddcb7e",
   "metadata": {},
   "outputs": [],
   "source": []
  },
  {
   "cell_type": "code",
   "execution_count": null,
   "id": "2c094b56-1431-44e1-80ba-9d0f3dcb0efb",
   "metadata": {},
   "outputs": [],
   "source": []
  }
 ],
 "metadata": {
  "kernelspec": {
   "display_name": "Python [conda env:base] *",
   "language": "python",
   "name": "conda-base-py"
  },
  "language_info": {
   "codemirror_mode": {
    "name": "ipython",
    "version": 3
   },
   "file_extension": ".py",
   "mimetype": "text/x-python",
   "name": "python",
   "nbconvert_exporter": "python",
   "pygments_lexer": "ipython3",
   "version": "3.12.7"
  }
 },
 "nbformat": 4,
 "nbformat_minor": 5
}
