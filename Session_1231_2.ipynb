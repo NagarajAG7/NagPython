{
 "cells": [
  {
   "cell_type": "code",
   "execution_count": 1,
   "id": "236483c3-3ab1-403e-9d84-9db443870b61",
   "metadata": {},
   "outputs": [
    {
     "name": "stdout",
     "output_type": "stream",
     "text": [
      "8000\n"
     ]
    }
   ],
   "source": [
    "a=4\n",
    "b=2000\n",
    "c=a*b\n",
    "print(c)"
   ]
  },
  {
   "cell_type": "code",
   "execution_count": 3,
   "id": "7d34ec89-8a28-4d9b-9f3a-023246aaa550",
   "metadata": {},
   "outputs": [
    {
     "data": {
      "text/plain": [
       "'C:\\\\Users\\\\Nagaraj AG\\\\Documents\\\\NareshIT\\\\Python_Sessions'"
      ]
     },
     "execution_count": 3,
     "metadata": {},
     "output_type": "execute_result"
    }
   ],
   "source": [
    "import os\n",
    "os.getcwd()"
   ]
  },
  {
   "cell_type": "code",
   "execution_count": 5,
   "id": "9cf0fd3a-bbf9-4fe9-8038-682ba7aab389",
   "metadata": {},
   "outputs": [
    {
     "ename": "SyntaxError",
     "evalue": "invalid syntax (4017861014.py, line 1)",
     "output_type": "error",
     "traceback": [
      "\u001b[1;36m  Cell \u001b[1;32mIn[5], line 1\u001b[1;36m\u001b[0m\n\u001b[1;33m    IMPORT OS\u001b[0m\n\u001b[1;37m           ^\u001b[0m\n\u001b[1;31mSyntaxError\u001b[0m\u001b[1;31m:\u001b[0m invalid syntax\n"
     ]
    }
   ],
   "source": [
    "IMPORT OS\n",
    "OS.GETCWD()"
   ]
  },
  {
   "cell_type": "markdown",
   "id": "2013f329-dc3b-4589-abd9-20641b103a65",
   "metadata": {},
   "source": [
    "# checkpoint-1\n",
    "#empty square bracket before the code cell indicates we did not run the cell\n",
    "\n",
    "#checkpoint-2\n",
    "# if we see a * mark inside square braket-> do not run the next code cell means kernel is busy\n",
    "# the same we can observe the top left corner as a black dot\n"
   ]
  },
  {
   "cell_type": "code",
   "execution_count": 7,
   "id": "caccadaf-4b08-4a00-b44a-bafc35606315",
   "metadata": {},
   "outputs": [],
   "source": [
    "number=10"
   ]
  },
  {
   "cell_type": "code",
   "execution_count": 11,
   "id": "1a899d0d-4706-4ab7-94f5-f56af788951b",
   "metadata": {},
   "outputs": [],
   "source": [
    "numberabc=200"
   ]
  },
  {
   "cell_type": "code",
   "execution_count": 13,
   "id": "c9f9e8d9-f2d9-48fb-a2b7-082b2d43b156",
   "metadata": {},
   "outputs": [
    {
     "data": {
      "text/plain": [
       "200"
      ]
     },
     "execution_count": 13,
     "metadata": {},
     "output_type": "execute_result"
    }
   ],
   "source": [
    "numberabc"
   ]
  },
  {
   "cell_type": "markdown",
   "id": "b71552a2-f010-488d-9f0e-3b7458b2517d",
   "metadata": {},
   "source": [
    "number=10"
   ]
  },
  {
   "cell_type": "code",
   "execution_count": 15,
   "id": "3c787e6b-abfb-49b2-8f50-2af7eff4b379",
   "metadata": {},
   "outputs": [],
   "source": [
    "name=\"Nagaraj\""
   ]
  },
  {
   "cell_type": "code",
   "execution_count": 17,
   "id": "a1b02008-df7b-4de8-8450-9f1b76bff3ce",
   "metadata": {},
   "outputs": [
    {
     "data": {
      "text/plain": [
       "'Nagaraj'"
      ]
     },
     "execution_count": 17,
     "metadata": {},
     "output_type": "execute_result"
    }
   ],
   "source": [
    "name"
   ]
  },
  {
   "cell_type": "markdown",
   "id": "83277db6-c64d-4db5-99b7-951257d75af3",
   "metadata": {},
   "source": [
    "# Square brackets at left and code mode in the icon bar should be there then only the python will run\n",
    "- abc\n",
    "- xyz"
   ]
  },
  {
   "cell_type": "markdown",
   "id": "ff32281b-bd91-48aa-8138-cbe40d96b64a",
   "metadata": {},
   "source": [
    "cell in[15], line 1"
   ]
  },
  {
   "cell_type": "markdown",
   "id": "0ee637cb-7acf-404b-8103-96b7d583e15d",
   "metadata": {},
   "source": [
    "# Nagaraj"
   ]
  },
  {
   "cell_type": "markdown",
   "id": "5d42e4c3-811f-4341-b407-6bf6f2b2bb10",
   "metadata": {},
   "source": [
    "### use of the ash and number of ashes\n",
    "# Some Teja\n",
    "## Sarva Lakshmi\n",
    "### Surya Teja\n",
    "#### Nagaraj\n",
    "##### Renuka"
   ]
  },
  {
   "cell_type": "markdown",
   "id": "06448099-5844-4eae-9fee-330fdb914fd8",
   "metadata": {},
   "source": [
    "# **how to upload image**\n",
    "- but this will works for only some people\n",
    "- don't worry"
   ]
  },
  {
   "cell_type": "code",
   "execution_count": 37,
   "id": "d5ca75db-cd34-489d-8080-056780051dba",
   "metadata": {},
   "outputs": [
    {
     "ename": "SyntaxError",
     "evalue": "invalid syntax (2595060840.py, line 1)",
     "output_type": "error",
     "traceback": [
      "\u001b[1;36m  Cell \u001b[1;32mIn[37], line 1\u001b[1;36m\u001b[0m\n\u001b[1;33m    <img alt=\"Python (programming language) - Wikipedia\" id=\"dimg_unhzZ8HtKo-O4-EP3aOg-Ak_1\" src=\"data:image/jpeg;base64,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\" data-csiid=\"unhzZ8HtKo-O4-EP3aOg-Ak_1\" data-atf=\"1\">\u001b[0m\n\u001b[1;37m    ^\u001b[0m\n\u001b[1;31mSyntaxError\u001b[0m\u001b[1;31m:\u001b[0m invalid syntax\n"
     ]
    }
   ],
   "source": [
    "<img alt=\"Python (programming language) - Wikipedia\" id=\"dimg_unhzZ8HtKo-O4-EP3aOg-Ak_1\" src=\"data:image/jpeg;base64,/9j/4AAQSkZJRgABAQAAAQABAAD/2wCEAAkGBwgHBgkIBwgKCgkLDRYPDQwMDRsUFRAWIB0iIiAdHx8kKDQsJCYxJx8fLT0tMTU3Ojo6Iys/RD84QzQ5OjcBCgoKDQwNGg8PGjclHyU3Nzc3Nzc3Nzc3Nzc3Nzc3Nzc3Nzc3Nzc3Nzc3Nzc3Nzc3Nzc3Nzc3Nzc3Nzc3Nzc3N//AABEIAMAAzAMBEQACEQEDEQH/xAAcAAADAAIDAQAAAAAAAAAAAAAAAQIEBQMGBwj/xABIEAACAQMBBAQHCwkIAwAAAAAAAQIDBBEFBhIhMUFRcZETFiJSYXKxBxQjMoGSocHR0uEVNUNTVFVic5QkMzQ2QpOz8IKywv/EABsBAQEAAwEBAQAAAAAAAAAAAAABAgQFAwYH/8QAMhEBAAEDAgMFBwQCAwAAAAAAAAECAxEEMRIhUQUTFEFSIjIzkaGx4WFxgfAVQiPB0f/aAAwDAQACEQMRAD8A9xAAAAAAADiua9K3oyq16kadOPFyk8JFiJmcQkzERmXUNT29t6UnDTrd3GP0lR7sfkXN/QbdvRzPvzhp16yI9yMuvXe2Ot3DzC4hQj1Uaa+vJs06W3HllrVam5Pnhq62sapWbdTUr1+jw8ku5M9ItURtS85uVzvUw53Fep/eV6s/Wm2Z4iNmPFM7uLPHPSA43Nem/g69aHq1GvYSYid4WKpjZkUta1Wg80tTvo+h3E2u5vBjNuid6YZRcrjaZbK023121flXULmPm16cfbHD9p5Vaa3Plh6U6i5TvOXb9B25stRqRoX8PedxJ4i3LMJP0Pofaal3S1Uc6ecNu1qaa+VW7t8XmKfWazaMAAAAAAAAAAAAAAAAAAUuQHmG2mszv9Rna0p/2WhLdSXKUul/UdPTWoop4p3ly9TcmuvhjaGgt6Fa6rxoW1KdWrPlCCy2bFVUUxmp4U0zVOKW1uNktbo0PCq0UljLjCacl8h4+JtzO72nTXIaKacZuLTi1zTWGme/LyeHPzQ2BLYENgS2BLCk+WGSR3/3Pdpqk6kNHv6m/lf2epJ8eH+l/UaWpsY9qlu6a9n2Knoq5Gi3gAAAAAAAAAAAAAAAABFaW7SnLqi2I3SdniFap4arOrLnOTl3vJ3I5UxDiTzqmXffc2s6Ssrm8cfhpVfBp9UUk8d7f0HP1lc8UUt/R0xwzU7m36DTbucPMfdFtKVvrNOtRW67invTXW08ZOjpK5qo5ubq6IprzDqbZttVLYEthUsCGQS2BVG5naVqdzSbVSjNVI+lriSY4owueHn0fQFtVVe2pVU8qcFLvRxp5S7MbOUigAAAAAAAAAAAAAAAOO4/w9X1H7Cxuk7PDE/JXYdyXDh2PY7aKOi1qtG6UpWlZpvd5wlyz2Y9iNXUWJuRmN2zp73dzMTs7tW2s0OlRlUV9TnhZUIJuTNKNPdzs3p1FrG7zTaPWJ61qUrqUdymlu04ebE6Nm1Funhc27cm5VxNU2erzQ2AgqcgS2QS2FcdV/By7GWEnzfQGkfmqz/kx9hxa/el2afdhmGLIAAAAAAAAAAAAAAABx3P+Hq+o/YWN0nZ4Wn5Kx1HdcMmQS2RUMCXkLCe0CWwJbIJbCwlsDjqv4OXYywk+b6C0f8ANVn/ACYew4tfvS7NPuwzDFkAAAAAAAAAABZAMoDjnc0IPE61OL6nJIuJ6JxR1T78tf2mj/uIcM9Dijqmpc2k4OLuKOGsP4RFxV0SZpmObR+Ley/J0LfC5f2mX3j1i9ejzePcWekDxb2W/UW/9TL7xe/vdfoncWeheLWyr50Lf+ol94nf3uv0XuLPQeLOyn7Pb/1EvvDv73X6HcWeheLOyn7Pbf1MvvDv73X6HcWejqm32laRp1CzlpFOlCU5yVRwqOXDHpbNrTV11TPE1tRbopj2XTJc+BtNVDAlsKlsDjqPyJdjLBPm+g9IaWk2jb4eBh7DiXKoiZmXYp2hl+Eh5y7zz7yjqzxI8JDzl3jvKOpiTUk+TyZRVE7IMlDAAAAAWQNNtDtBa6LSW/8ACXE15FKL49r6ke1qzVdl43b1Nt57qu0up6k5KpcSpUpfoqXkpLt6To0ae3R5Zc6u/cr88NPUbm8zbk+uTyz1xh477uNxj1LuLzMQlxj5se4ZkxCXGPmx7hmTEIcY+bHuJzMQlxj5q7hzXEJ3Y+au4czEJ3Y+bHuGZMQWEuSS7EFJ+ghulsKhgSwIqfEl6rLBO0vf7L8w238iPsR812h8Gt27G8Mc+WxDoAYjoBScfiSa7DKm5VR7s4SaYndmWt1vSUKj49DOzou0OKYt3N+rXuWsRmGcddrgAAAMDWdSp6Vpta7qcdxeTHzpPkjO3RNdUUwwuVxRTNUvIby6rXlzUubmbnVqPLb/AO8jsU0xTHDS49VU1TmpwMyYpbAlgQyKlgSwJYVOQJbIJbAlsKlsCWwJbAifxJeqywTtL6AsvzDb/wAiPsPme0fgXHcsbwxz5fLfIZCMcqXSTJ5NrZ1fC0U+lcGfUaG/39mKp3aN2nhqZBuvMAAHQPdIvG69pYp8Ixdaa+iP/wBG/oqMRNTn62rMxS6U2bzSS2BLYEtkVLYEtgQ2FLIEsghsCWwqWwJbAlsBEE1OFOT9DLEk7PoG3Tp6JQhJcVRgn3I+a7SnFi47mn5zDEyfLN8smOWRZJkJvgTIy9LnirKm/wDUsnW7Iu4uzR1jLX1FPKKm0PoWoAADyTbG5dztJevPk02qS7IpZ+nJ19PTizDkairN2WkZ7PFLAlkVLAhgS2FTkBMCWQQwqWBLAlgIAINpsxpc9X1u1tIxzDfU6ra4KC4vv5Hneq4KMvS1RxVQ9uvpKNKNNd3oR8l2tdxbi3G8y7unp55a/mcLLbIxUsmOVImVclrPcuaUv4sd/A2dHc4NRRP64+fJhdpzRLeZPsHNMAA8S1Kp4bULyq38e4qS75NnbojFEQ4lc5rmWIzJilkVLAhsCWwpASwJbIJyCEthUNgS2AiAAzdJ0q+1iuqOnUJVpN4cl8WPa+gxrrpojNUsqKKq5xTD1/ZXZ222ZsJNy37qrh1qvX6F6DkavVRETXVOIh1LFjh5Ruya1V1ajk+T5I+O1N+b9ya5dS3Rw04ceTwyzJsipIpGK4G9u+Uua4kirh5kxmMOwxPuo5xEuT5qMgAeETbcnnnnidxw5S2BDYEsCWFSBy2dpc6hcxtrGhUrVpcoxX0vqXpMaqqaYzMrTTNU4h3rSPc5g4qesXTc+bo0OCXocun5MGlXrJziiG5Ro/XLf0ti9naS3XYxl6alRyf0s1p1dUTzqbEaa30V4n7Ofu+j3/iTxk+tfDUekeJ2zn7vo9/4jxk+s8NR6S8Tdm/3fR7/AMR4yfWeGo9I8TNmv3dQ7x4yr1nhqPSXiZs1+7qHePFz6zw1HpVDZHZqlLe/Jtq/XW97TCrW4jnXHzWNNT6WyjUtLSmqdrTgorlGEcI51/tW1T7s8UtmjTz0xDFrVpVZZk8JckjhajVXL9WapbdFuKI5OE1XoQCyY5ZYImQskyqW+BhVtKuw0ONGm/4V7D7q1ObdM/pH2cmv3pcp6sQB4ZfU3Rvrqk/0VepDuk0dumc0xP6OJVGKpj9WO2VENgS2BOQrlsrStf3dK0to79WrLdijGqqKYzK00zVVEQ9h0DRbTZ6wUKaUqzXwtXHGb+w4mr1UUxNdc8nXs2eHlDIqXE6nJ7sehI+av667enlOIb9NqmHC+PM08dXoMDEdFGBiOgWETEdAPBOQl4JiFLgTEKTwhM9QsmOVImVSTK4GSKWTHIkmVS3w4GMzOFdkpLdhGPUkj723Tw0RDj1TmXIZoAPG9r7d220uoQxhTqeEj6d5J+1s69irNqHIv04uS0rZ6vJLYEthSfHgB373LNNjJ3Wp1IpuL8DS9HDMn9KNHWV7Ut3SUb1O5XdTwlXGeEeR8br7/e3eGNodm1TiHAaL2AAAAJkEtmMysE2SZUskyqWYyEFJmKlkmVLJFLJjlU5Au3h4S4pQ65LPZ0npp6O8u0UdZj78/owrnhomXY0us+6clRQAea+6fZ+D1G0vFndrUnTl6HF5X/s+46Gjq9maXP1dOKoq6ulPBuNNLCpYE5IPW/c4gobH2zSw5SqNvre+19SOXrJ/5Kv75OnpPhU/3zbDnxfM+Hmc83YgEUAJsmQmyZUmyZUmTIlsxmVLJMqWSZUskypZIFkxVLJkTkmWWCJlWdo9LfunUa4QX0nX7Fs8d+a52pj6z+Pu1NVVijhbw+qc8AAGi2x0n8r6LVo018PT+Fpesuj5Vk9rFzgry8L9vjow8ceeTWGuDT55Os5aGAmwJZB6/wC55/k2z7a3/JM5es+JV/fKHU0nwqf5+8sxcj4aHYNgJsglkUsmMqnJMqGyCWTKkYypZIpZJkJsmVTkmVLJipBS+kxG/wBNt/AW8U15UvKkfZ9m6abFiIq3nnLlX7nHWzDoPEAACwB5/tpsfUr1Z6hpFLem+Na3jzf8UfsN3T6nHs1tLUafPtUPPJ70JuE4uE4vEoyWGn1M3onPOJaM8t0tgS2CHsHud/5Ms/Wrf8kzlaz4lX98odPSfCp/n7yzEfDeTshkUmyKTZJCbIqWyZUmzGZWCbJKlkmQmyZUmzHIlmOVIZUjFS6Okc/5Nmx02xlKaq1o7sVxjF9J3OzOzaqqou3YxEbR1/Vp378Y4ad26Pp2gAAAAAFhdSAwr/StP1HDvbOhXaWFKcE5LsfMyiuqnaWNVFNW8Na9jtnm2/yZDL/jn9pn4i51efcW+heJmz3TpkP9yf2jxF3qdxb6NrY2NtptnG0sqSpUIZ3YJt4y23z9LZ5XKqqomZelFNNOIhrj4qNnUDYVLZJkJsxypMismwp0qkp+GSeOWXg6fZtqzcmrvYeF+qqnHCzFbWnmw+d+J1fBaGfKPn+Wv3l0e9rPzYfO/EeB0XSPn+Tvbw97Wfmw+d+JPA6HpHz/ACve3h72svNh878R4HQ9I+f5O9vF71svNh85/aTwOg9MfP8AJ3t5SsbVrKpJrtf2np/jdH6Punf3eo94Wv6ld7H+M0fo+6eIu9R7wtf1S72P8Zo/R9zxF31LpWtCnxhRgn14PW1otPb500QlV2ud5ZBtPMAAAAAAAAAAABM/iPsJVtJG7RvkfFeTpk2RSbIEyKlmMqTMZUnjqJiJVPDqMZiFJ4Jwx0UuHUSaY6CWlh8DGYgdnt18BT9VH32n+FT+0OPX70uQ9mIAAAAAAAAAAAAAAACanxH2GNXuyRu0LPiXUgmyKTZFgmYqTeAJbIpNmMh0oSrVI04c2elm1Veriijef7zSqqKYzLaQ0qju+VKbl154H0NHYlmI9qqZn+P/ABpVaurOzAvrSVtJeU5QfJ/UcbX6CrSVROc0z5/9Nqzei5DEfJnOmMPZ2i3/ALin6qPv7Hwqf2cev3pch6sQAAAAAAAAAAAAAAACksxa6yTGYwOvzW7KS6ng+JuU8FU09MupTziEmDIMxlUtkyE2SVTkxUmyLDM0iUVd8ebjwOt2NVTGoxPTk1tVE8DeLkfVucwNZlFWuHzclg4/bVURpsTvMx+fo2dLE940eN7yV08j5TEz7Lo7c3aqa3acV1I/QLdPDREONM5nKjNAAAAAAAAAAAAAAAAA+QGs1G2efDQT/iSRwe09FMz31Efu27F3Hs1Nc2cCZbiWwpZJITZjLKCyQLJjKhScZJxbTXJoypqmmeKmcTGyTGeUs+Gq1YxSlTjJ9eTsUdt3op9qiJnq1Z0lMzuxLm4qXFTeqP8A8V0HN1Opu6mviuS97dum3GIZml2cpzVeosRXGKfSzqdk6Cqqrvq49mNmvqb2I4I3blcj6doGAAAAAAAAAAAAAAAAAAJ8USRhXOnwqPep+RJ88cmcvVdl270zVR7M/RsW9RNPKebXVrK4pc4by60cK92dqbW9Of2bdN+irzYreHh8H6TRqzE4nk9o5lkxyyBAgBcXhcX1IREzOI3NmRRsrirxjTai+l8Dds9m6m7zinl+vJ4137dPm2NrpcKflVnvvoXQdvS9jW7c8V32p+jUuamauUNilhYO1HJqmUAAAAAAAAAAAAAAAAAAAAACZJETown8aEX2o867VFfvU5ZRVMbS4JafbSfGkl2cDVq7M0tX+j0jUXI2lH5LtfMl85nl/h9J6frK+Ju9Vx062jypJ9ryelPZekp/0z+/NJ1FyfNzU6NOHxKcV8ht0WLdHu0xDzmqqd5ciPViYAAAAAAAAAAAAAB//9k=\" data-csiid=\"unhzZ8HtKo-O4-EP3aOg-Ak_1\" data-atf=\"1\">"
   ]
  },
  {
   "cell_type": "code",
   "execution_count": null,
   "id": "32ec7c05-47ad-42e4-be1c-411c99c8164c",
   "metadata": {},
   "outputs": [],
   "source": []
  }
 ],
 "metadata": {
  "kernelspec": {
   "display_name": "Python [conda env:base] *",
   "language": "python",
   "name": "conda-base-py"
  },
  "language_info": {
   "codemirror_mode": {
    "name": "ipython",
    "version": 3
   },
   "file_extension": ".py",
   "mimetype": "text/x-python",
   "name": "python",
   "nbconvert_exporter": "python",
   "pygments_lexer": "ipython3",
   "version": "3.12.7"
  }
 },
 "nbformat": 4,
 "nbformat_minor": 5
}
