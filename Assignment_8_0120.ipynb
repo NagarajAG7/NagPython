{
 "cells": [
  {
   "cell_type": "code",
   "execution_count": 5,
   "id": "59ba9b6a-6d13-4d42-80a2-4c92cff49b41",
   "metadata": {},
   "outputs": [
    {
     "name": "stdout",
     "output_type": "stream",
     "text": [
      "averegae of 10, 20 and 30  is 20.0\n"
     ]
    }
   ],
   "source": [
    "# 1)wap ask the user enter 3 numbers n1,n2,n3 from ketboard\n",
    "# calculate average\n",
    "\n",
    "def avg1(n1,n2,n3):\n",
    "    avg1=round((n1+n2+n3)/3,2)\n",
    "    print(f'averegae of {n1}, {n2} and {n3}  is {avg1}')\n",
    "\n",
    "avg1(10,20,30)"
   ]
  },
  {
   "cell_type": "code",
   "execution_count": 9,
   "id": "070048ae-0db6-4413-92da-456d504e7613",
   "metadata": {},
   "outputs": [
    {
     "name": "stdout",
     "output_type": "stream",
     "text": [
      "My name is python is 10 and came from Hyd\n"
     ]
    }
   ],
   "source": [
    "# 2)wap ask the user enter name age city\n",
    "# print my name is python im 10 years old and came from hyd\n",
    "\n",
    "def name_age_city(name1,age1,city1):\n",
    "    #name1=input(\"enter your name:\")\n",
    "    #age1=input(\"enter your age:\")\n",
    "    #city1=input(\"enter your city:\")\n",
    "    print(f'My name is {name1} is {age1} and came from {city1}')\n",
    "\n",
    "name_age_city('python',10,'Hyd')"
   ]
  },
  {
   "cell_type": "code",
   "execution_count": 31,
   "id": "bd4ff777-eff2-4b04-91f7-7d82ff59e66c",
   "metadata": {},
   "outputs": [
    {
     "name": "stdout",
     "output_type": "stream",
     "text": [
      "Area of Circle: 314.0\n"
     ]
    }
   ],
   "source": [
    "# 3)wap ask the user to enter radidus of a circle calculate area of the circle\n",
    "# var: radidus  var: pi=3.14\n",
    "# formuale: pi*radius*radius#\n",
    "# print the answers using f string and format\n",
    "#default Argument i.e., pi=3.14\n",
    "\n",
    "def area1(r1,pi=3.14):\n",
    "    #pi=3.14\n",
    "    ar1=pi*r1*r1\n",
    "    print('Area of Circle:',ar1)\n",
    "\n",
    "area1(10)\n"
   ]
  },
  {
   "cell_type": "code",
   "execution_count": 19,
   "id": "b49d911b-65af-4519-9723-784733ac0619",
   "metadata": {},
   "outputs": [
    {
     "name": "stdout",
     "output_type": "stream",
     "text": [
      "area of rectangle is 200\n"
     ]
    }
   ],
   "source": [
    "# 4)wap ask the user enter breadth and height of a right angle triangle\n",
    "# calculate the area\n",
    "# var1: bredath  var2: height\n",
    "# formuale : 0.5*breadth*heigh\n",
    "\n",
    "def area2(l,b):\n",
    "    ar2=l*b\n",
    "    print('area of rectangle is',ar2)\n",
    "\n",
    "area2(20,10)"
   ]
  },
  {
   "cell_type": "code",
   "execution_count": 21,
   "id": "ea094727-a620-42dc-b263-c1d818ae933e",
   "metadata": {},
   "outputs": [
    {
     "name": "stdout",
     "output_type": "stream",
     "text": [
      "total bill amount 110\n"
     ]
    }
   ],
   "source": [
    "# 5)wap ask the user the bill amount and tip amount\n",
    "#   calculate total bill\n",
    "#   var1: bill amount var2: tip amount\n",
    "#   formuale\n",
    "\n",
    "try:\n",
    "    def totbill(b1,t1):\n",
    "        tot1=b1+t1\n",
    "        print(\"total bill amount\",tot1)\n",
    "    totbill(100,10)\n",
    "except Exception as e:\n",
    "    print(e)\n",
    "    "
   ]
  },
  {
   "cell_type": "code",
   "execution_count": 27,
   "id": "1105d31d-d1d3-4c29-99c1-b77f3f721915",
   "metadata": {},
   "outputs": [
    {
     "name": "stdout",
     "output_type": "stream",
     "text": [
      "total bill along with tip is: 118.0\n"
     ]
    }
   ],
   "source": [
    "# 6)wap ask the user the bill amount and tip percentage\n",
    "#    take tip percentage as 10\n",
    "#   calculate total bill= bill amount+ bill amount*tip per/100\n",
    "#   var1: bill amount var2: tip amount\n",
    "#    formuale\n",
    "\n",
    "def bill_amt(bill,tipp):\n",
    "    totalbill=bill+(bill*tipp/100)\n",
    "    print(f'total bill along with tip is:',totalbill)\n",
    "bill_amt(100,18)"
   ]
  },
  {
   "cell_type": "code",
   "execution_count": 39,
   "id": "ac92bcaa-657f-4088-89e6-7052687de816",
   "metadata": {},
   "outputs": [
    {
     "name": "stdout",
     "output_type": "stream",
     "text": [
      "area of rectangle: 200\n"
     ]
    }
   ],
   "source": [
    "# 7)wap ask the length and breadth of a rectangle calculate area\n",
    "#   var1: length  var2: breadth\n",
    "#   formulae: length * breadth\n",
    "\n",
    "try:\n",
    "    def area3(l,b):\n",
    "        ar3=l*b\n",
    "        print(f'area of rectangle:',ar3)\n",
    "    area3(20,10)\n",
    "except Exception as e:\n",
    "    print(e)"
   ]
  },
  {
   "cell_type": "code",
   "execution_count": 9,
   "id": "57a382d1-8f5b-45ec-81f3-1c971f506031",
   "metadata": {},
   "outputs": [
    {
     "name": "stdout",
     "output_type": "stream",
     "text": [
      "Area of Sphere whose radius 7 is 1437.3333\n"
     ]
    }
   ],
   "source": [
    "# 8) wap ask the user take the radius and calculate volume of sphere\n",
    "#   formulae: pi*r**4/3(pi*r*r*r)\n",
    "\n",
    "def AreaSphere(r2,pi=22/7):\n",
    "    arsp=round((4/3)*pi*r2*r2*r2,4)\n",
    "    print(f\"Area of Sphere whose radius {r2} is {arsp}\")\n",
    "AreaSphere(7)\n"
   ]
  },
  {
   "cell_type": "code",
   "execution_count": 29,
   "id": "eb38f545-fa9f-456c-b693-418606039f93",
   "metadata": {},
   "outputs": [
    {
     "name": "stdout",
     "output_type": "stream",
     "text": [
      "1 doller is equal to 85 rupees\n"
     ]
    }
   ],
   "source": [
    "# 9) wap ask the user enter amount in dollars convert into rupees\n",
    "#     1$=85rs\n",
    "\n",
    "def curcon(dol,conv=85):\n",
    "    #dol=eval(input('Enter the Dollers:'))\n",
    "    rup=dol*conv\n",
    "    print(f\"{dol} doller is equal to {rup} rupees\")\n",
    "curcon(1)\n",
    "    "
   ]
  },
  {
   "cell_type": "code",
   "execution_count": 49,
   "id": "d65f1443-df6e-4c95-a7be-70915c279e47",
   "metadata": {},
   "outputs": [
    {
     "name": "stdin",
     "output_type": "stream",
     "text": [
      "Enter the weight in kgs: 10\n"
     ]
    },
    {
     "name": "stdout",
     "output_type": "stream",
     "text": [
      "10 kilos is equal to 22.0 ponds\n"
     ]
    }
   ],
   "source": [
    "# 10)wap ask the user enter weight in kgs convert into pounds\n",
    "#    1kg= 2.2pounds\n",
    "try:\n",
    "    def kgpon(conv=2.2):\n",
    "        kg=eval(input('Enter the weight in kgs:'))\n",
    "        pon=round(conv*kg,2)\n",
    "        print(f'{kg} kilos is equal to {pon} ponds')\n",
    "    kgpon()\n",
    "except Exception as e:\n",
    "    print(e)"
   ]
  },
  {
   "cell_type": "code",
   "execution_count": null,
   "id": "4868465c-bbda-4a33-a99c-14e9760eb983",
   "metadata": {},
   "outputs": [],
   "source": []
  }
 ],
 "metadata": {
  "kernelspec": {
   "display_name": "Python [conda env:base] *",
   "language": "python",
   "name": "conda-base-py"
  },
  "language_info": {
   "codemirror_mode": {
    "name": "ipython",
    "version": 3
   },
   "file_extension": ".py",
   "mimetype": "text/x-python",
   "name": "python",
   "nbconvert_exporter": "python",
   "pygments_lexer": "ipython3",
   "version": "3.12.7"
  }
 },
 "nbformat": 4,
 "nbformat_minor": 5
}
