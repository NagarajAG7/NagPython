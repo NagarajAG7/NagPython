{
 "cells": [
  {
   "cell_type": "code",
   "execution_count": 1,
   "id": "ff45c1e8-b304-42de-a3d5-0ba219c22a65",
   "metadata": {},
   "outputs": [
    {
     "name": "stdout",
     "output_type": "stream",
     "text": [
      "the addition of 100 and 200 is 300\n",
      "the addition of num1 and num2 is 300\n",
      "the addition of 100 and 200 is 300\n"
     ]
    }
   ],
   "source": [
    "num1=100\n",
    "num2=200\n",
    "add=num1+num2\n",
    "print(\"the addition of 100 and 200 is 300\")\n",
    "print(\"the addition of num1 and num2 is 300\")\n",
    "print(\"the addition of\",num1,\"and\",200,'is',300)"
   ]
  },
  {
   "cell_type": "code",
   "execution_count": 63,
   "id": "244f6cd9-c580-449a-b67e-6c47939c6504",
   "metadata": {},
   "outputs": [
    {
     "name": "stdout",
     "output_type": "stream",
     "text": [
      "the addition of 100 and 200 is 300\n",
      "the addition of num1 and num2 is 300\n",
      "the addition of 100 and 200 is 300\n",
      "the addition of 100 and 200 is 300\n",
      "the addition of 100 and 200 is 300\n"
     ]
    }
   ],
   "source": [
    "num1=100\n",
    "num2=200\n",
    "add=num1+num2\n",
    "print(\"the addition of 100 and 200 is 300\")\n",
    "print(\"the addition of num1 and num2 is 300\")\n",
    "print(\"the addition of\",num1,\"and\",200,'is',300)\n",
    "print(\"the addition of\",num1,\"and\", num2,'is',add)\n",
    "print(f\"the addition of {num1} and {num2} is {add}\")"
   ]
  },
  {
   "cell_type": "code",
   "execution_count": 69,
   "id": "9b52e26c-ac12-42be-9b35-6d807a0d8e77",
   "metadata": {},
   "outputs": [
    {
     "name": "stdout",
     "output_type": "stream",
     "text": [
      "My name is Nagaraj of age 45 and stays at Rampally\n",
      "My name is Nagaraj of age 45 and stays at Rampally\n",
      "My name is Nagaraj of age 45 and stays at Rampally\n",
      "My name is Nagaraj of age 45 and stays at Rampally\n"
     ]
    }
   ],
   "source": [
    "name=\"Nagaraj\"\n",
    "age=\"45\"\n",
    "city=\"Rampally\"\n",
    "print(\"My name is Nagaraj of age 45 and stays at Rampally\")\n",
    "print(\"My name is\",name,\"of age\",age,\"and stays at\",city)\n",
    "print(\"My name is {} of age {} and stays at {}\".format(name,age,city))\n",
    "print(f\"My name is {name} of age {age} and stays at {city}\")"
   ]
  },
  {
   "cell_type": "code",
   "execution_count": 73,
   "id": "b12295ef-eb7d-420c-a7af-ff1d3d2e0074",
   "metadata": {},
   "outputs": [
    {
     "name": "stdout",
     "output_type": "stream",
     "text": [
      "Average of 10,20,30 is : 20.0\n",
      "Average of 10 20 30 is : 20.0\n",
      "Average of 10,20,30 is : 20.0\n"
     ]
    }
   ],
   "source": [
    "a=10\n",
    "b=20\n",
    "c=30\n",
    "avg=(a+b+c)/3\n",
    "print(\"Average of {},{},{} is : {}\".format(a,b,c,avg))\n",
    "print(\"Average of\",a,b,c,\"is :\",avg)\n",
    "print(f\"Average of {a},{b},{c} is : {avg}\")"
   ]
  },
  {
   "cell_type": "markdown",
   "id": "16588cc1-0f5b-4200-85ea-d47e1a70668f",
   "metadata": {},
   "source": [
    "**F string: Formatting string method**"
   ]
  },
  {
   "cell_type": "code",
   "execution_count": 55,
   "id": "6f3354d2-9e54-4281-8328-32d00cabd45d",
   "metadata": {},
   "outputs": [
    {
     "name": "stdout",
     "output_type": "stream",
     "text": [
      "All Math functions of 10,20,30 are Sum is 60 ,Difference is 0 , Multiplication is 6000 , Division is 0.5 , Average is 20.0\n",
      "Add of 10,20,30 is : 60\n",
      "Diff of 10,20,30 is : 0\n",
      "Multi of 10,20,30 is : 6000\n",
      "Div of 10,20,30 is : 0.5\n",
      "Avg of 10,20,30 is : 20.0\n"
     ]
    }
   ],
   "source": [
    "a=10\n",
    "b=20\n",
    "c=30\n",
    "add=a+b+c\n",
    "diff=c-b-a\n",
    "mul=a*b*c\n",
    "div=a/b\n",
    "avg=(a+b+c)/3\n",
    "print(\"All Math functions of {},{},{} are\".format(a,b,c),\"Sum is\",add,\",Difference is\",diff,\", Multiplication is\",mul,\", Division is\",div,\", Average is\",avg)\n",
    "print(f\"Add of {a},{b},{c} is : {add}\")\n",
    "print(f\"Diff of {a},{b},{c} is : {diff}\")\n",
    "print(f\"Multi of {a},{b},{c} is : {mul}\")\n",
    "print(f\"Div of {a},{b},{c} is : {div}\")\n",
    "print(f\"Avg of {a},{b},{c} is : {avg}\")"
   ]
  },
  {
   "cell_type": "code",
   "execution_count": 107,
   "id": "4cc747dd-3d39-4981-874a-06d79eaabb3f",
   "metadata": {},
   "outputs": [
    {
     "name": "stdout",
     "output_type": "stream",
     "text": [
      "16.666666666666668\n",
      "16.66667\n",
      "average of 20 and 30 is 17\n",
      "average of 20 and 30 is 16.6666667\n",
      "average of 20 and 30 is 16.67\n",
      "average of 20 and 30 is 16.667\n"
     ]
    }
   ],
   "source": [
    "a=20\n",
    "b=20\n",
    "c=30\n",
    "add=a+b+c\n",
    "diff=c-b-a\n",
    "mul=a*b*c\n",
    "div=a/b\n",
    "avg=round((a+c)/3)\n",
    "avg1=(a+c)/3\n",
    "avg2=round((a+c)/3,2)\n",
    "avg3=round((a+c)/3,3)\n",
    "print(avg1)\n",
    "print(round(avg1,5))\n",
    "print(f\"average of {a} and {c} is {avg}\")\n",
    "print(f\"average of {a} and {c} is {round(avg1,7)}\")\n",
    "print(f\"average of {a} and {c} is {avg2}\")\n",
    "print(f\"average of {a} and {c} is {avg3}\")"
   ]
  },
  {
   "cell_type": "code",
   "execution_count": 85,
   "id": "0cf097d9-8dfe-4c44-8d05-bed4bf7a62d2",
   "metadata": {},
   "outputs": [
    {
     "data": {
      "text/plain": [
       "10.556"
      ]
     },
     "execution_count": 85,
     "metadata": {},
     "output_type": "execute_result"
    }
   ],
   "source": [
    "round(10.555556,3)"
   ]
  },
  {
   "cell_type": "code",
   "execution_count": 109,
   "id": "c57cf030-3ac4-4b90-839c-450618df3335",
   "metadata": {},
   "outputs": [
    {
     "name": "stdout",
     "output_type": "stream",
     "text": [
      "10===>"
     ]
    }
   ],
   "source": [
    "print(10,end=\"===>\")"
   ]
  },
  {
   "cell_type": "code",
   "execution_count": 113,
   "id": "2752085e-7817-47d6-a320-9007301e2240",
   "metadata": {},
   "outputs": [
    {
     "name": "stdout",
     "output_type": "stream",
     "text": [
      "10===>20this is end operation 30 stop here"
     ]
    }
   ],
   "source": [
    "print(10,end=\"===>\")\n",
    "print(20,end=\"this is end operation \")\n",
    "print(30,end=\" stop here\")"
   ]
  },
  {
   "cell_type": "code",
   "execution_count": 115,
   "id": "b3d3fae6-6a6a-46b0-a5a9-20328eb96b98",
   "metadata": {},
   "outputs": [
    {
     "name": "stdout",
     "output_type": "stream",
     "text": [
      "My name is Nag "
     ]
    }
   ],
   "source": [
    "print('My',end=\" \")\n",
    "print('name',end=\" \")\n",
    "print('is',end=\" \")\n",
    "print('Nag',end=\" \")"
   ]
  },
  {
   "cell_type": "code",
   "execution_count": 139,
   "id": "1393fad1-4c14-4de3-9447-e280b7124935",
   "metadata": {},
   "outputs": [
    {
     "name": "stdout",
     "output_type": "stream",
     "text": [
      "1\n",
      "2\n",
      "3\n",
      "4\n",
      "5\n",
      "6\n",
      "7\n",
      "8\n",
      "9\n",
      "10\n"
     ]
    }
   ],
   "source": [
    "for i in range(1, 11):\n",
    "    print(i)\n"
   ]
  },
  {
   "cell_type": "code",
   "execution_count": 135,
   "id": "5281202a-5ccf-48c8-bd8c-dccadd5bf233",
   "metadata": {},
   "outputs": [
    {
     "name": "stdout",
     "output_type": "stream",
     "text": [
      "10==>20==>30\n"
     ]
    }
   ],
   "source": [
    "print(10,20,30,sep='==>')\n",
    "#seperate operator"
   ]
  },
  {
   "cell_type": "code",
   "execution_count": 137,
   "id": "bfa00043-66d0-4663-8e70-dce89f1cefa2",
   "metadata": {},
   "outputs": [
    {
     "name": "stdout",
     "output_type": "stream",
     "text": [
      "My Name Nagaraj "
     ]
    }
   ],
   "source": [
    "print('My','Name','Nagaraj',end=\" \")\n",
    "#end operator"
   ]
  },
  {
   "cell_type": "code",
   "execution_count": 153,
   "id": "ed470487-1259-4fdf-bb93-f518c0cbe3eb",
   "metadata": {},
   "outputs": [
    {
     "name": "stdout",
     "output_type": "stream",
     "text": [
      "1\n",
      "2\n",
      "3\n",
      "4\n",
      "5\n",
      "6\n",
      "7\n",
      "8\n",
      "9\n"
     ]
    }
   ],
   "source": [
    "for a in range(1, 10):\n",
    "    print(a)\n"
   ]
  },
  {
   "cell_type": "code",
   "execution_count": null,
   "id": "b3d09931-221f-4010-b666-aea4cc935e8f",
   "metadata": {},
   "outputs": [],
   "source": []
  }
 ],
 "metadata": {
  "kernelspec": {
   "display_name": "Python [conda env:base] *",
   "language": "python",
   "name": "conda-base-py"
  },
  "language_info": {
   "codemirror_mode": {
    "name": "ipython",
    "version": 3
   },
   "file_extension": ".py",
   "mimetype": "text/x-python",
   "name": "python",
   "nbconvert_exporter": "python",
   "pygments_lexer": "ipython3",
   "version": "3.12.7"
  }
 },
 "nbformat": 4,
 "nbformat_minor": 5
}
