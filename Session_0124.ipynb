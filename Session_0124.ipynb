{
 "cells": [
  {
   "cell_type": "code",
   "execution_count": 11,
   "id": "47d1274a-9c01-43b5-a958-8bb4098d4680",
   "metadata": {},
   "outputs": [
    {
     "name": "stdout",
     "output_type": "stream",
     "text": [
      "0+1=1\n",
      "1+2=3\n",
      "3+3=6\n",
      "6+4=10\n",
      "10+5=15\n",
      "15+6=21\n",
      "21+7=28\n",
      "28+8=36\n",
      "36+9=45\n",
      "45+10=55\n"
     ]
    }
   ],
   "source": [
    "j=0\n",
    "for i in range(1,11):\n",
    "    print(f'{j}+{i}={j+i}')\n",
    "    j=j+i  #summation wrapper\n"
   ]
  },
  {
   "cell_type": "code",
   "execution_count": 57,
   "id": "a7c71e36-c26d-4e9c-872b-7cbe638ecfcb",
   "metadata": {},
   "outputs": [
    {
     "name": "stdin",
     "output_type": "stream",
     "text": [
      "Enter a Number: 75\n"
     ]
    },
    {
     "name": "stdout",
     "output_type": "stream",
     "text": [
      "1\n",
      "3\n",
      "5\n",
      "15\n",
      "25\n",
      "75\n",
      "Sum of the divisor of 75 is 124\n"
     ]
    }
   ],
   "source": [
    "# sum of the divisors of 75\n",
    "k=0\n",
    "j=eval(input(\"Enter a Number:\"))\n",
    "for i in range(1,j+1):\n",
    "    if j%i == 0:\n",
    "        print(i)\n",
    "        k=k+i\n",
    "print('Sum of the divisor of',j,'is',k)\n"
   ]
  },
  {
   "cell_type": "code",
   "execution_count": 65,
   "id": "2a650bf9-08b8-4fd9-8df1-957996e4a8c9",
   "metadata": {},
   "outputs": [
    {
     "name": "stdin",
     "output_type": "stream",
     "text": [
      "Enter a number to find the count of Divisors: 75\n"
     ]
    },
    {
     "name": "stdout",
     "output_type": "stream",
     "text": [
      "1\n",
      "3\n",
      "5\n",
      "15\n",
      "25\n",
      "75\n",
      "the count of the divisors of 75 is 6\n"
     ]
    }
   ],
   "source": [
    "# find the count of divisor of 75\n",
    "\n",
    "k=0\n",
    "j=eval(input('Enter a number to find the count of Divisors:'))\n",
    "for i in range(1,j+1):\n",
    "    if j%i == 0:\n",
    "        print(i)\n",
    "        k=k+1\n",
    "\n",
    "print('the count of the divisors of',j,'is',k)\n"
   ]
  },
  {
   "cell_type": "code",
   "execution_count": 89,
   "id": "c92524e6-3556-42cc-aa32-1a05a067e9c8",
   "metadata": {},
   "outputs": [
    {
     "name": "stdin",
     "output_type": "stream",
     "text": [
      "enter a number: 6\n"
     ]
    },
    {
     "name": "stdout",
     "output_type": "stream",
     "text": [
      "random number is 6\n",
      "6 is an even\n",
      "sum of evens: 7\n",
      "count of evens: 1\n",
      "3\n",
      "4\n",
      "12 is an even\n",
      "sum of evens: 16\n",
      "count of evens: 4\n",
      "16 is an even\n",
      "sum of evens: 21\n",
      "count of evens: 5\n"
     ]
    }
   ],
   "source": [
    "#random number inside loop run for 5 times\n",
    "#get count  sum of even and odd numbers\n",
    "import random\n",
    "#j=random.randint(1,5)\n",
    "j=eval(input(\"enter a number:\"))\n",
    "print('random number is',j)\n",
    "k=0\n",
    "for i in range(1,j):    \n",
    "    if j%2 == 0:\n",
    "        print(j,'is an even')\n",
    "        j=i+j\n",
    "        k=k+1\n",
    "        print('sum of evens:',j)\n",
    "        print('count of evens:',k)\n",
    "    else:\n",
    "        print(i+1)\n",
    "        j=i+j\n",
    "        k=k+1\n"
   ]
  },
  {
   "cell_type": "code",
   "execution_count": 103,
   "id": "33728540-12db-4ca8-a671-4d584692fc58",
   "metadata": {},
   "outputs": [
    {
     "name": "stdin",
     "output_type": "stream",
     "text": [
      "Enter a number: 2\n"
     ]
    },
    {
     "name": "stdout",
     "output_type": "stream",
     "text": [
      "You lost\n"
     ]
    },
    {
     "name": "stdin",
     "output_type": "stream",
     "text": [
      "Enter a number: 3\n"
     ]
    },
    {
     "name": "stdout",
     "output_type": "stream",
     "text": [
      "You lost\n"
     ]
    },
    {
     "name": "stdin",
     "output_type": "stream",
     "text": [
      "Enter a number: 1\n"
     ]
    },
    {
     "name": "stdout",
     "output_type": "stream",
     "text": [
      "You lost\n"
     ]
    }
   ],
   "source": [
    "import random\n",
    "for i in range(3):\n",
    "    a=eval(input(\"Enter a number:\"))\n",
    "    b=random.randint(1,3)\n",
    "\n",
    "    if a==b:\n",
    "        print(\"You won\")\n",
    "        break\n",
    "    else:\n",
    "        print(\"You lost\")        "
   ]
  },
  {
   "cell_type": "code",
   "execution_count": 7,
   "id": "cfe6628e-6971-4c94-9e0f-460a4b0fd1c9",
   "metadata": {},
   "outputs": [
    {
     "name": "stdout",
     "output_type": "stream",
     "text": [
      "this is an Even: 4\n",
      "this is an Odd: 9\n",
      "this is an Even: 10\n",
      "this is an Odd: 5\n",
      "this is an Even: 8\n",
      "Even Numbers Count: 3\n",
      "Even Numbers Sum: 22\n",
      "Odd Numbers Count: 2\n",
      "Odd Numbers Sum: 14\n"
     ]
    }
   ],
   "source": [
    "import random\n",
    "evencount=0\n",
    "evensum=0\n",
    "oddcount=0\n",
    "oddsum=0\n",
    "for i in range(5):\n",
    "    j = random.randint(1,10)\n",
    "    if j%2 == 0:\n",
    "        print('this is an Even:',j)\n",
    "        evencount=evencount+1\n",
    "        evensum=evensum+j\n",
    "    else:\n",
    "        print('this is an Odd:',j)\n",
    "        oddcount=oddcount+1\n",
    "        oddsum=oddsum+j\n",
    "print('Even Numbers Count:',evencount)\n",
    "print('Even Numbers Sum:',evensum)\n",
    "print('Odd Numbers Count:',oddcount)\n",
    "print('Odd Numbers Sum:',oddsum)\n"
   ]
  },
  {
   "cell_type": "code",
   "execution_count": 17,
   "id": "37ee77c2-4996-41d5-94cb-c1680db91222",
   "metadata": {},
   "outputs": [
    {
     "name": "stdin",
     "output_type": "stream",
     "text": [
      "Enter a number: 1\n"
     ]
    },
    {
     "name": "stdout",
     "output_type": "stream",
     "text": [
      "You Lost as your number 1 != 0\n"
     ]
    },
    {
     "name": "stdin",
     "output_type": "stream",
     "text": [
      "Enter a number: 1\n"
     ]
    },
    {
     "name": "stdout",
     "output_type": "stream",
     "text": [
      "You Won as your number 1 = 1\n"
     ]
    }
   ],
   "source": [
    "import random\n",
    "totchances=3\n",
    "\n",
    "for i in range(5):\n",
    "    j=eval(input('Enter a number:'))\n",
    "\n",
    "    if i==j:\n",
    "        print(f'You Won as your number {j} = {i}')\n",
    "        break\n",
    "    else:\n",
    "        print(f\"You Lost as your number {j} != {i}\")\n",
    "        totchances=totchances-1\n",
    "\n",
    "        if totchances==0:\n",
    "            print(f'Better luck next time, total chances left {totchances}')\n",
    "       "
   ]
  },
  {
   "cell_type": "code",
   "execution_count": null,
   "id": "94819af1-e949-4a56-a7bb-a85202c03553",
   "metadata": {},
   "outputs": [],
   "source": []
  }
 ],
 "metadata": {
  "kernelspec": {
   "display_name": "Python [conda env:base] *",
   "language": "python",
   "name": "conda-base-py"
  },
  "language_info": {
   "codemirror_mode": {
    "name": "ipython",
    "version": 3
   },
   "file_extension": ".py",
   "mimetype": "text/x-python",
   "name": "python",
   "nbconvert_exporter": "python",
   "pygments_lexer": "ipython3",
   "version": "3.12.7"
  }
 },
 "nbformat": 4,
 "nbformat_minor": 5
}
