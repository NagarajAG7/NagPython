{
 "cells": [
  {
   "cell_type": "code",
   "execution_count": 1,
   "id": "57742a46-4908-4b73-93f0-842574cb6020",
   "metadata": {},
   "outputs": [
    {
     "data": {
      "text/plain": [
       "True"
      ]
     },
     "execution_count": 1,
     "metadata": {},
     "output_type": "execute_result"
    }
   ],
   "source": [
    "str1=\"Hello how are you\"\n",
    "str1.startswith('H')\n"
   ]
  },
  {
   "cell_type": "code",
   "execution_count": 3,
   "id": "72889fec-6fe8-4741-8087-2f72afb0aa94",
   "metadata": {},
   "outputs": [
    {
     "data": {
      "text/plain": [
       "False"
      ]
     },
     "execution_count": 3,
     "metadata": {},
     "output_type": "execute_result"
    }
   ],
   "source": [
    "str1=\"Hello how are you\"\n",
    "str1.startswith('h')\n"
   ]
  },
  {
   "cell_type": "code",
   "execution_count": 7,
   "id": "87ee9d41-5548-45ae-9028-409b9c09a449",
   "metadata": {},
   "outputs": [
    {
     "data": {
      "text/plain": [
       "True"
      ]
     },
     "execution_count": 7,
     "metadata": {},
     "output_type": "execute_result"
    }
   ],
   "source": [
    "str1=\"Hello how are you\"\n",
    "str1.startswith('Hello')\n"
   ]
  },
  {
   "cell_type": "code",
   "execution_count": 9,
   "id": "e73a8907-4125-4817-a1f0-9ceb39e86bf7",
   "metadata": {},
   "outputs": [
    {
     "data": {
      "text/plain": [
       "True"
      ]
     },
     "execution_count": 9,
     "metadata": {},
     "output_type": "execute_result"
    }
   ],
   "source": [
    "str1=\"Hello how are you\"\n",
    "str1.startswith('Hello how are you')\n"
   ]
  },
  {
   "cell_type": "code",
   "execution_count": 11,
   "id": "0f79a171-31b2-4fd7-ad7e-adc878e497af",
   "metadata": {},
   "outputs": [
    {
     "data": {
      "text/plain": [
       "True"
      ]
     },
     "execution_count": 11,
     "metadata": {},
     "output_type": "execute_result"
    }
   ],
   "source": [
    "str1=\"Hello how are you\"\n",
    "str1.startswith(str1)\n"
   ]
  },
  {
   "cell_type": "code",
   "execution_count": 15,
   "id": "2644ac7f-421a-435c-8a63-12966b22135f",
   "metadata": {},
   "outputs": [
    {
     "data": {
      "text/plain": [
       "True"
      ]
     },
     "execution_count": 15,
     "metadata": {},
     "output_type": "execute_result"
    }
   ],
   "source": [
    "str1=\"Hello how are you\"\n",
    "str1.endswith('u')\n"
   ]
  },
  {
   "cell_type": "code",
   "execution_count": 17,
   "id": "1125df7f-c80d-41ad-8625-94d5d693fd85",
   "metadata": {},
   "outputs": [
    {
     "data": {
      "text/plain": [
       "True"
      ]
     },
     "execution_count": 17,
     "metadata": {},
     "output_type": "execute_result"
    }
   ],
   "source": [
    "str1=\"Hello how are you\"\n",
    "str1.endswith('you')\n"
   ]
  },
  {
   "cell_type": "code",
   "execution_count": 19,
   "id": "c568ead4-8576-46e9-9aa3-688119aeca56",
   "metadata": {},
   "outputs": [
    {
     "data": {
      "text/plain": [
       "False"
      ]
     },
     "execution_count": 19,
     "metadata": {},
     "output_type": "execute_result"
    }
   ],
   "source": [
    "str1=\"Hello how are you\"\n",
    "str1.endswith('You')\n"
   ]
  },
  {
   "cell_type": "code",
   "execution_count": 21,
   "id": "86c442f5-56f0-414c-85ed-10b0e434706c",
   "metadata": {},
   "outputs": [
    {
     "data": {
      "text/plain": [
       "True"
      ]
     },
     "execution_count": 21,
     "metadata": {},
     "output_type": "execute_result"
    }
   ],
   "source": [
    "str1=\"Hello how are you\"\n",
    "str1.endswith(str1)\n"
   ]
  },
  {
   "cell_type": "code",
   "execution_count": 27,
   "id": "3fda0ec0-c646-4881-b69f-8c501a89ea9b",
   "metadata": {},
   "outputs": [
    {
     "name": "stdout",
     "output_type": "stream",
     "text": [
      "3\n"
     ]
    }
   ],
   "source": [
    "str2=\"Ola Ola Ola\"\n",
    "j=0\n",
    "for i in str2:\n",
    "    if i == 'a':\n",
    "        j += 1\n",
    "print(j)\n"
   ]
  },
  {
   "cell_type": "code",
   "execution_count": 31,
   "id": "cd757d6b-53a8-4a11-ae7e-2ca41aee13d0",
   "metadata": {},
   "outputs": [
    {
     "data": {
      "text/plain": [
       "1"
      ]
     },
     "execution_count": 31,
     "metadata": {},
     "output_type": "execute_result"
    }
   ],
   "source": [
    "#Case 1\n",
    "str2=\"ola ola ola\"\n",
    "str2.count(str2)\n"
   ]
  },
  {
   "cell_type": "code",
   "execution_count": 33,
   "id": "1d2209a2-b51c-4f7b-9099-97ddfd7f0187",
   "metadata": {},
   "outputs": [
    {
     "data": {
      "text/plain": [
       "3"
      ]
     },
     "execution_count": 33,
     "metadata": {},
     "output_type": "execute_result"
    }
   ],
   "source": [
    "str2=\"ola ola ola\"\n",
    "str2.count('ola')"
   ]
  },
  {
   "cell_type": "code",
   "execution_count": 35,
   "id": "2bada59e-0563-4432-9da3-369f184f44a4",
   "metadata": {},
   "outputs": [
    {
     "data": {
      "text/plain": [
       "3"
      ]
     },
     "execution_count": 35,
     "metadata": {},
     "output_type": "execute_result"
    }
   ],
   "source": [
    "str2=\"ola ola ola\"\n",
    "str2.count('a')"
   ]
  },
  {
   "cell_type": "code",
   "execution_count": 51,
   "id": "91361a44-4d58-4baf-a7ef-6c64c920cbcf",
   "metadata": {},
   "outputs": [
    {
     "data": {
      "text/plain": [
       "1"
      ]
     },
     "execution_count": 51,
     "metadata": {},
     "output_type": "execute_result"
    }
   ],
   "source": [
    "#Case 2\n",
    "#-11  -10  -9  -8  -7  -6  -5  -4  -3  -2   -1\n",
    "#  o    l   a       o   l   a       o   l   a\n",
    "#  0    1   2   3   4   5   6   7   8   9   10\n",
    "str2=\"ola ola ola\"\n",
    "str2.count('a',7)"
   ]
  },
  {
   "cell_type": "code",
   "execution_count": 41,
   "id": "65479beb-42d2-40fe-8223-933712a1fe96",
   "metadata": {},
   "outputs": [
    {
     "data": {
      "text/plain": [
       "2"
      ]
     },
     "execution_count": 41,
     "metadata": {},
     "output_type": "execute_result"
    }
   ],
   "source": [
    "str2=\"ola ola ola\"\n",
    "str2.count('a',3)"
   ]
  },
  {
   "cell_type": "code",
   "execution_count": 43,
   "id": "4e763867-5b8e-4647-84f4-546643ec1d29",
   "metadata": {},
   "outputs": [
    {
     "data": {
      "text/plain": [
       "3"
      ]
     },
     "execution_count": 43,
     "metadata": {},
     "output_type": "execute_result"
    }
   ],
   "source": [
    "str2=\"ola ola ola\"\n",
    "str2.count('a',2)"
   ]
  },
  {
   "cell_type": "code",
   "execution_count": 45,
   "id": "8c8d5543-f78d-4b2d-8f1a-da2b8bee11cc",
   "metadata": {},
   "outputs": [
    {
     "data": {
      "text/plain": [
       "2"
      ]
     },
     "execution_count": 45,
     "metadata": {},
     "output_type": "execute_result"
    }
   ],
   "source": [
    "str2=\"ola ola ola\"\n",
    "str2.count('a',2,7)"
   ]
  },
  {
   "cell_type": "code",
   "execution_count": 49,
   "id": "45f6f982-169b-4a89-8ba2-829ebd47fc82",
   "metadata": {},
   "outputs": [
    {
     "data": {
      "text/plain": [
       "1"
      ]
     },
     "execution_count": 49,
     "metadata": {},
     "output_type": "execute_result"
    }
   ],
   "source": [
    "str2=\"ola ola ola\"\n",
    "str2.count('a',-7,-1)"
   ]
  },
  {
   "cell_type": "code",
   "execution_count": 55,
   "id": "473fc21b-4b6a-426f-b3ee-4276b1b3d328",
   "metadata": {},
   "outputs": [
    {
     "data": {
      "text/plain": [
       "2"
      ]
     },
     "execution_count": 55,
     "metadata": {},
     "output_type": "execute_result"
    }
   ],
   "source": [
    "#Case 2\n",
    "#-11  -10  -9  -8  -7  -6  -5  -4  -3  -2   -1\n",
    "#  o    l   a       o   l   a       o   l    a\n",
    "#  0    1   2   3   4   5   6   7   8   9   10\n",
    "str2=\"ola ola ola\"\n",
    "str2.count('a',-10,-1)"
   ]
  },
  {
   "cell_type": "markdown",
   "id": "45a6f88a-9788-46fb-aa8c-26cbd3a454d5",
   "metadata": {},
   "source": [
    "**sliding window approach**"
   ]
  },
  {
   "cell_type": "code",
   "execution_count": 87,
   "id": "f1b5375c-3d37-4ddf-b639-7a275e9bd0cb",
   "metadata": {},
   "outputs": [
    {
     "name": "stdout",
     "output_type": "stream",
     "text": [
      "3\n"
     ]
    }
   ],
   "source": [
    "#Case 3\n",
    "str3 = 'ola ola ola'\n",
    "str4='ola'\n",
    "j=0\n",
    "for i in range(len(str3)):\n",
    "    if str4==str3[i:i+3]:\n",
    "        j += 1\n",
    "print(j)\n"
   ]
  },
  {
   "cell_type": "code",
   "execution_count": 3,
   "id": "0c9a54f1-3379-4d08-9497-f514a557a628",
   "metadata": {},
   "outputs": [
    {
     "name": "stdout",
     "output_type": "stream",
     "text": [
      "3\n"
     ]
    }
   ],
   "source": [
    "str5='ola ola ola'\n",
    "str6='la'\n",
    "j=0\n",
    "for i in range(len(str5)):\n",
    "    if str6 == str5[i:i+2]:\n",
    "        j += 1\n",
    "\n",
    "print(j)\n",
    "    "
   ]
  },
  {
   "cell_type": "code",
   "execution_count": 11,
   "id": "33a0f756-6a08-4371-b73e-3b06bca7f889",
   "metadata": {},
   "outputs": [
    {
     "name": "stdin",
     "output_type": "stream",
     "text": [
      "Enter letter: ola\n"
     ]
    },
    {
     "name": "stdout",
     "output_type": "stream",
     "text": [
      "3\n"
     ]
    }
   ],
   "source": [
    "str5='ola ola ola'\n",
    "str6=input(\"Enter letter:\")\n",
    "j=0\n",
    "for i in range(len(str5)):\n",
    "    if str6 == str5[i:i+len(str6)]:\n",
    "        j += 1\n",
    "\n",
    "print(j)\n",
    "    "
   ]
  },
  {
   "cell_type": "markdown",
   "id": "c2f896f2-55bf-4515-a85c-1ed180135266",
   "metadata": {},
   "source": [
    "**replace**"
   ]
  },
  {
   "cell_type": "code",
   "execution_count": 15,
   "id": "bda9007c-69a2-4783-89de-f2fa4109e528",
   "metadata": {},
   "outputs": [
    {
     "data": {
      "text/plain": [
       "'l'"
      ]
     },
     "execution_count": 15,
     "metadata": {},
     "output_type": "execute_result"
    }
   ],
   "source": [
    "str1='welcome'\n",
    "str1[2]\n"
   ]
  },
  {
   "cell_type": "code",
   "execution_count": 1,
   "id": "636fe5e7-0b37-4210-bde2-82150dee7e86",
   "metadata": {},
   "outputs": [
    {
     "data": {
      "text/plain": [
       "'Welcome'"
      ]
     },
     "execution_count": 1,
     "metadata": {},
     "output_type": "execute_result"
    }
   ],
   "source": [
    "str11='welcome'\n",
    "str11.replace('w','W')"
   ]
  },
  {
   "cell_type": "code",
   "execution_count": 3,
   "id": "772cdd7a-4e3e-4b6d-9ec8-d7cf094a39f6",
   "metadata": {},
   "outputs": [
    {
     "data": {
      "text/plain": [
       "'My NAme is NAgArAj'"
      ]
     },
     "execution_count": 3,
     "metadata": {},
     "output_type": "execute_result"
    }
   ],
   "source": [
    "str11=\"My Name is Nagaraj\"\n",
    "str11.replace('a','A')"
   ]
  },
  {
   "cell_type": "code",
   "execution_count": 3,
   "id": "251776a1-57e4-4e34-aa80-db90ceb89c71",
   "metadata": {},
   "outputs": [
    {
     "data": {
      "text/plain": [
       "'My NAme is NAgArAj'"
      ]
     },
     "execution_count": 3,
     "metadata": {},
     "output_type": "execute_result"
    }
   ],
   "source": [
    "str11=\"My Name is Nagaraj\"\n",
    "str11.replace('a','A')"
   ]
  },
  {
   "cell_type": "code",
   "execution_count": 5,
   "id": "e2a9f472-22e9-46a2-9f86-1325889ecd93",
   "metadata": {},
   "outputs": [
    {
     "data": {
      "text/plain": [
       "'My NAme is NAgArAj'"
      ]
     },
     "execution_count": 5,
     "metadata": {},
     "output_type": "execute_result"
    }
   ],
   "source": [
    "str11=\"My Name is NAgarAj\"\n",
    "str11.replace('a','A')"
   ]
  },
  {
   "cell_type": "code",
   "execution_count": 7,
   "id": "20f38f91-59e7-448a-b2fa-9fed99d9b6cd",
   "metadata": {},
   "outputs": [
    {
     "data": {
      "text/plain": [
       "'My NAme is NAgaraj'"
      ]
     },
     "execution_count": 7,
     "metadata": {},
     "output_type": "execute_result"
    }
   ],
   "source": [
    "str11=\"My Name is Nagaraj\"\n",
    "str11.replace('a','A',2)"
   ]
  },
  {
   "cell_type": "code",
   "execution_count": 9,
   "id": "ef3bc95d-8b37-44ba-b216-4b90e3f70917",
   "metadata": {},
   "outputs": [
    {
     "data": {
      "text/plain": [
       "'My Name is Nagaraj'"
      ]
     },
     "execution_count": 9,
     "metadata": {},
     "output_type": "execute_result"
    }
   ],
   "source": [
    "str11=\"My Name is Nagaraj\"\n",
    "str11.replace('a','A',0)"
   ]
  },
  {
   "cell_type": "code",
   "execution_count": 13,
   "id": "ea783d76-12fb-47ab-b7b8-dde303b247da",
   "metadata": {},
   "outputs": [
    {
     "data": {
      "text/plain": [
       "'My NAme is NAgAraj'"
      ]
     },
     "execution_count": 13,
     "metadata": {},
     "output_type": "execute_result"
    }
   ],
   "source": [
    "str11=\"My Name is Nagaraj\"\n",
    "str11.replace('a','A',3)"
   ]
  },
  {
   "cell_type": "code",
   "execution_count": 15,
   "id": "1696982c-f310-48a4-875c-34784c83ebdb",
   "metadata": {},
   "outputs": [
    {
     "data": {
      "text/plain": [
       "'My NAme is NAgArAj'"
      ]
     },
     "execution_count": 15,
     "metadata": {},
     "output_type": "execute_result"
    }
   ],
   "source": [
    "str11=\"My Name is Nagaraj\"\n",
    "str11.replace('a','A',-1)"
   ]
  },
  {
   "cell_type": "code",
   "execution_count": 23,
   "id": "6e461ba3-f195-4bbd-831a-d0eeb9afb17c",
   "metadata": {},
   "outputs": [
    {
     "data": {
      "text/plain": [
       "'my name is Nagaraj'"
      ]
     },
     "execution_count": 23,
     "metadata": {},
     "output_type": "execute_result"
    }
   ],
   "source": [
    "str11=\"my name is nagaraj\"\n",
    "str11.replace('nag','Nag',-1)"
   ]
  },
  {
   "cell_type": "code",
   "execution_count": 29,
   "id": "a7b4ee9e-452b-4163-93aa-9ad6c8e4081f",
   "metadata": {},
   "outputs": [
    {
     "data": {
      "text/plain": [
       "'resta$t'"
      ]
     },
     "execution_count": 29,
     "metadata": {},
     "output_type": "execute_result"
    }
   ],
   "source": [
    "str11=\"restart\"\n",
    "str11.replace('rt','$t')"
   ]
  },
  {
   "cell_type": "code",
   "execution_count": 43,
   "id": "f56752d0-c657-4c90-94e0-54273f016574",
   "metadata": {},
   "outputs": [
    {
     "data": {
      "text/plain": [
       "'resta$t'"
      ]
     },
     "execution_count": 43,
     "metadata": {},
     "output_type": "execute_result"
    }
   ],
   "source": [
    "str11=\"restart\"\n",
    "\n",
    "s1=str11[0:5]\n",
    "s2=str11[5:]\n",
    "\n",
    "s3=s2.replace('r','$')\n",
    "s1+s3"
   ]
  },
  {
   "cell_type": "code",
   "execution_count": 47,
   "id": "2fdee2ed-cac8-4bf6-a55f-033f12526dbf",
   "metadata": {},
   "outputs": [
    {
     "data": {
      "text/plain": [
       "'restart $estart'"
      ]
     },
     "execution_count": 47,
     "metadata": {},
     "output_type": "execute_result"
    }
   ],
   "source": [
    "str11=\"restart restart\"\n",
    "\n",
    "s1=str11[0:6]\n",
    "s2=str11[6:]\n",
    "\n",
    "s3=s2.replace('r','$',1)\n",
    "s1+s3"
   ]
  },
  {
   "cell_type": "markdown",
   "id": "db5318e3-6280-4790-b6b5-76d913b12bea",
   "metadata": {},
   "source": [
    "**index**"
   ]
  },
  {
   "cell_type": "code",
   "execution_count": 54,
   "id": "730e2bb2-08d0-4434-8921-568c186c8240",
   "metadata": {},
   "outputs": [
    {
     "data": {
      "text/plain": [
       "3"
      ]
     },
     "execution_count": 54,
     "metadata": {},
     "output_type": "execute_result"
    }
   ],
   "source": [
    "str12='restart restart'\n",
    "str12.index('t') #default first string index will be printed"
   ]
  },
  {
   "cell_type": "code",
   "execution_count": 58,
   "id": "8996d9d8-b8ef-41d2-819f-6a4b567c6b29",
   "metadata": {},
   "outputs": [
    {
     "data": {
      "text/plain": [
       "6"
      ]
     },
     "execution_count": 58,
     "metadata": {},
     "output_type": "execute_result"
    }
   ],
   "source": [
    "str12.index('t',4)"
   ]
  },
  {
   "cell_type": "code",
   "execution_count": 60,
   "id": "d80c01b0-0907-408c-b489-b5a187039f17",
   "metadata": {},
   "outputs": [
    {
     "data": {
      "text/plain": [
       "0"
      ]
     },
     "execution_count": 60,
     "metadata": {},
     "output_type": "execute_result"
    }
   ],
   "source": [
    "str13='restart restart'\n",
    "str13.index('r')"
   ]
  },
  {
   "cell_type": "code",
   "execution_count": 62,
   "id": "893ae845-8caa-48cd-b7f8-058179078e48",
   "metadata": {},
   "outputs": [
    {
     "data": {
      "text/plain": [
       "5"
      ]
     },
     "execution_count": 62,
     "metadata": {},
     "output_type": "execute_result"
    }
   ],
   "source": [
    "str13='restart restart'\n",
    "a=str13.index('r')\n",
    "str13.index('r',a+1)"
   ]
  },
  {
   "cell_type": "code",
   "execution_count": 78,
   "id": "b1c159f6-fd07-42e0-a09b-27e8246da9d5",
   "metadata": {},
   "outputs": [
    {
     "data": {
      "text/plain": [
       "(0, 5, 8, 13)"
      ]
     },
     "execution_count": 78,
     "metadata": {},
     "output_type": "execute_result"
    }
   ],
   "source": [
    "str13='restart restart'\n",
    "i=str13.index('r')\n",
    "j=str13.index('r',i+1)\n",
    "k=str13.index('r',j+1)\n",
    "l=str13.index('r',k+1)\n",
    "\n",
    "i,j,k,l"
   ]
  },
  {
   "cell_type": "markdown",
   "id": "930d3a0e-8b22-4daa-acde-f083314173a5",
   "metadata": {},
   "source": [
    "**Find**\n"
   ]
  },
  {
   "cell_type": "code",
   "execution_count": 89,
   "id": "8993776c-ac7b-4fbe-bd62-f07c10a97ec6",
   "metadata": {},
   "outputs": [
    {
     "data": {
      "text/plain": [
       "3"
      ]
     },
     "execution_count": 89,
     "metadata": {},
     "output_type": "execute_result"
    }
   ],
   "source": [
    "str1='restart restart'\n",
    "str1.find('t')"
   ]
  },
  {
   "cell_type": "code",
   "execution_count": 97,
   "id": "58ad7289-9336-44e1-a951-30360d1c2c4f",
   "metadata": {},
   "outputs": [
    {
     "data": {
      "text/plain": [
       "6"
      ]
     },
     "execution_count": 97,
     "metadata": {},
     "output_type": "execute_result"
    }
   ],
   "source": [
    "str1='restart restart'\n",
    "str1.find('t',4)"
   ]
  },
  {
   "cell_type": "code",
   "execution_count": 115,
   "id": "4e85d28c-b956-4120-ac49-3c510459c171",
   "metadata": {},
   "outputs": [
    {
     "name": "stdout",
     "output_type": "stream",
     "text": [
      "3 6 11 14\n"
     ]
    }
   ],
   "source": [
    "str1='restart restart'\n",
    "i1=str1.find('t')\n",
    "i2=str1.find('t',i1+1)\n",
    "i3=str1.find('t',i2+1)\n",
    "i4=str1.find('t',i3+1)\n",
    "str1.find('t',i4+1)\n",
    "\n",
    "print(i1, i2, i3, i4)"
   ]
  },
  {
   "cell_type": "code",
   "execution_count": null,
   "id": "eb10e93a-f059-4641-9f7e-21bf0bf823e1",
   "metadata": {},
   "outputs": [],
   "source": []
  }
 ],
 "metadata": {
  "kernelspec": {
   "display_name": "Python [conda env:base] *",
   "language": "python",
   "name": "conda-base-py"
  },
  "language_info": {
   "codemirror_mode": {
    "name": "ipython",
    "version": 3
   },
   "file_extension": ".py",
   "mimetype": "text/x-python",
   "name": "python",
   "nbconvert_exporter": "python",
   "pygments_lexer": "ipython3",
   "version": "3.12.7"
  }
 },
 "nbformat": 4,
 "nbformat_minor": 5
}
