{
 "cells": [
  {
   "cell_type": "code",
   "execution_count": 1,
   "id": "b06f6605-44a0-4af9-ac20-7df0eefb03c7",
   "metadata": {},
   "outputs": [
    {
     "data": {
      "text/plain": [
       "5"
      ]
     },
     "execution_count": 1,
     "metadata": {},
     "output_type": "execute_result"
    }
   ],
   "source": [
    "0b101"
   ]
  },
  {
   "cell_type": "code",
   "execution_count": 5,
   "id": "95a5e695-b77a-44ab-a70b-da6968bf037f",
   "metadata": {},
   "outputs": [
    {
     "data": {
      "text/plain": [
       "409"
      ]
     },
     "execution_count": 5,
     "metadata": {},
     "output_type": "execute_result"
    }
   ],
   "source": [
    "0b110011001"
   ]
  },
  {
   "cell_type": "code",
   "execution_count": 7,
   "id": "7b1016de-96fb-471a-977b-825243cf2fbf",
   "metadata": {},
   "outputs": [
    {
     "data": {
      "text/plain": [
       "229"
      ]
     },
     "execution_count": 7,
     "metadata": {},
     "output_type": "execute_result"
    }
   ],
   "source": [
    "0o345"
   ]
  },
  {
   "cell_type": "code",
   "execution_count": 9,
   "id": "ae19c4a1-bf3d-456b-8854-1cda1e4cab6c",
   "metadata": {},
   "outputs": [
    {
     "data": {
      "text/plain": [
       "375"
      ]
     },
     "execution_count": 9,
     "metadata": {},
     "output_type": "execute_result"
    }
   ],
   "source": [
    "0o567"
   ]
  },
  {
   "cell_type": "code",
   "execution_count": 11,
   "id": "7b00c814-b57e-486b-b89c-23c5d65f12de",
   "metadata": {},
   "outputs": [
    {
     "data": {
      "text/plain": [
       "10.0"
      ]
     },
     "execution_count": 11,
     "metadata": {},
     "output_type": "execute_result"
    }
   ],
   "source": [
    "1e1"
   ]
  },
  {
   "cell_type": "code",
   "execution_count": 13,
   "id": "3188ead6-6ef4-4395-ad3c-03fbe36d4545",
   "metadata": {},
   "outputs": [
    {
     "data": {
      "text/plain": [
       "100000.0"
      ]
     },
     "execution_count": 13,
     "metadata": {},
     "output_type": "execute_result"
    }
   ],
   "source": [
    "1e5"
   ]
  },
  {
   "cell_type": "code",
   "execution_count": 23,
   "id": "3e536b8c-d5d7-479e-9b37-ecd79acc53cc",
   "metadata": {},
   "outputs": [
    {
     "name": "stdout",
     "output_type": "stream",
     "text": [
      "1000.0\n",
      "100.0\n",
      "0.001\n",
      "0.1\n"
     ]
    }
   ],
   "source": [
    "print(1e+3)\n",
    "print(1e+2)\n",
    "print(1e-3)\n",
    "print(1e-1)"
   ]
  },
  {
   "cell_type": "code",
   "execution_count": null,
   "id": "271aa877-7947-4a35-8845-bb13db7adb0e",
   "metadata": {},
   "outputs": [],
   "source": []
  },
  {
   "cell_type": "code",
   "execution_count": null,
   "id": "f1ca19a0-43ed-4f43-8c77-c53ef816f37f",
   "metadata": {},
   "outputs": [],
   "source": []
  }
 ],
 "metadata": {
  "kernelspec": {
   "display_name": "Python [conda env:base] *",
   "language": "python",
   "name": "conda-base-py"
  },
  "language_info": {
   "codemirror_mode": {
    "name": "ipython",
    "version": 3
   },
   "file_extension": ".py",
   "mimetype": "text/x-python",
   "name": "python",
   "nbconvert_exporter": "python",
   "pygments_lexer": "ipython3",
   "version": "3.12.7"
  }
 },
 "nbformat": 4,
 "nbformat_minor": 5
}
