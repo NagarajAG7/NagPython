{
 "cells": [
  {
   "cell_type": "code",
   "execution_count": 5,
   "id": "ce777ee0-a718-42cd-8ff6-f729b3d4ab45",
   "metadata": {},
   "outputs": [
    {
     "name": "stdout",
     "output_type": "stream",
     "text": [
      "Help on built-in function comb in module math:\n",
      "\n",
      "comb(n, k, /)\n",
      "    Number of ways to choose k items from n items without repetition and without order.\n",
      "\n",
      "    Evaluates to n! / (k! * (n - k)!) when k <= n and evaluates\n",
      "    to zero when k > n.\n",
      "\n",
      "    Also called the binomial coefficient because it is equivalent\n",
      "    to the coefficient of k-th term in polynomial expansion of the\n",
      "    expression (1 + x)**n.\n",
      "\n",
      "    Raises TypeError if either of the arguments are not integers.\n",
      "    Raises ValueError if either of the arguments are negative.\n",
      "\n"
     ]
    }
   ],
   "source": [
    "import math\n",
    "\n",
    "help(math.comb)"
   ]
  },
  {
   "cell_type": "code",
   "execution_count": 11,
   "id": "be71dd26-43dd-4bab-9c60-814c40b75058",
   "metadata": {},
   "outputs": [
    {
     "data": {
      "text/plain": [
       "210"
      ]
     },
     "execution_count": 11,
     "metadata": {},
     "output_type": "execute_result"
    }
   ],
   "source": [
    "math.comb(10,4)"
   ]
  },
  {
   "cell_type": "code",
   "execution_count": 13,
   "id": "1e30ebea-84b3-405d-87df-4ff9d6fc84b4",
   "metadata": {},
   "outputs": [
    {
     "name": "stdout",
     "output_type": "stream",
     "text": [
      "Help on built-in function copysign in module math:\n",
      "\n",
      "copysign(x, y, /)\n",
      "    Return a float with the magnitude (absolute value) of x but the sign of y.\n",
      "\n",
      "    On platforms that support signed zeros, copysign(1.0, -0.0)\n",
      "    returns -1.0.\n",
      "\n"
     ]
    }
   ],
   "source": [
    "help(math.copysign)"
   ]
  },
  {
   "cell_type": "code",
   "execution_count": 17,
   "id": "be8f2577-d5ef-4258-b5fc-c34f0706ca33",
   "metadata": {},
   "outputs": [
    {
     "data": {
      "text/plain": [
       "16.0"
      ]
     },
     "execution_count": 17,
     "metadata": {},
     "output_type": "execute_result"
    }
   ],
   "source": [
    "math.copysign(16,15)"
   ]
  },
  {
   "cell_type": "code",
   "execution_count": 19,
   "id": "cc91cc0d-845b-4f8f-8b27-bd7496da4272",
   "metadata": {},
   "outputs": [
    {
     "name": "stdout",
     "output_type": "stream",
     "text": [
      "Help on built-in function dist in module math:\n",
      "\n",
      "dist(p, q, /)\n",
      "    Return the Euclidean distance between two points p and q.\n",
      "\n",
      "    The points should be specified as sequences (or iterables) of\n",
      "    coordinates.  Both inputs must have the same dimension.\n",
      "\n",
      "    Roughly equivalent to:\n",
      "        sqrt(sum((px - qx) ** 2.0 for px, qx in zip(p, q)))\n",
      "\n"
     ]
    }
   ],
   "source": [
    "help(math.dist)"
   ]
  },
  {
   "cell_type": "code",
   "execution_count": 35,
   "id": "62d8f8fe-b666-4171-9de0-00b314c29ac6",
   "metadata": {},
   "outputs": [
    {
     "data": {
      "text/plain": [
       "5.0"
      ]
     },
     "execution_count": 35,
     "metadata": {},
     "output_type": "execute_result"
    }
   ],
   "source": [
    "math.dist((4,1),(7,5))"
   ]
  },
  {
   "cell_type": "code",
   "execution_count": 37,
   "id": "c225eb38-ed9a-4e49-acfe-182145ab1ea6",
   "metadata": {},
   "outputs": [
    {
     "name": "stdout",
     "output_type": "stream",
     "text": [
      "Help on built-in function erf in module math:\n",
      "\n",
      "erf(x, /)\n",
      "    Error function at x.\n",
      "\n"
     ]
    }
   ],
   "source": [
    "help(math.erf)"
   ]
  },
  {
   "cell_type": "code",
   "execution_count": 39,
   "id": "d5a7806d-0936-49d0-b0df-e84255291e0a",
   "metadata": {},
   "outputs": [
    {
     "data": {
      "text/plain": [
       "0.9999999999984626"
      ]
     },
     "execution_count": 39,
     "metadata": {},
     "output_type": "execute_result"
    }
   ],
   "source": [
    "math.erf(5)"
   ]
  },
  {
   "cell_type": "code",
   "execution_count": null,
   "id": "01c1ca48-0ec5-4ea4-aa10-89d818f636de",
   "metadata": {},
   "outputs": [],
   "source": [
    "math.exp"
   ]
  }
 ],
 "metadata": {
  "kernelspec": {
   "display_name": "Python [conda env:base] *",
   "language": "python",
   "name": "conda-base-py"
  },
  "language_info": {
   "codemirror_mode": {
    "name": "ipython",
    "version": 3
   },
   "file_extension": ".py",
   "mimetype": "text/x-python",
   "name": "python",
   "nbconvert_exporter": "python",
   "pygments_lexer": "ipython3",
   "version": "3.12.7"
  }
 },
 "nbformat": 4,
 "nbformat_minor": 5
}
