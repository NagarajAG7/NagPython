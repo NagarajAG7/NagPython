{
 "cells": [
  {
   "cell_type": "code",
   "execution_count": 31,
   "id": "6afee3dc-ea8d-4a31-b462-8cbf36b48b21",
   "metadata": {},
   "outputs": [
    {
     "name": "stdout",
     "output_type": "stream",
     "text": [
      "1\n",
      "2\n",
      "3\n",
      "4\n",
      "5\n",
      "6\n"
     ]
    }
   ],
   "source": [
    "#print only number\n",
    "str1='the telephone number is 123456'\n",
    "for i in str1:\n",
    "    if i.isdigit():\n",
    "        print(i)\n"
   ]
  },
  {
   "cell_type": "code",
   "execution_count": 39,
   "id": "e346605d-4ec5-4379-85df-71f5c927e294",
   "metadata": {},
   "outputs": [
    {
     "name": "stdout",
     "output_type": "stream",
     "text": [
      "123456\n"
     ]
    }
   ],
   "source": [
    "#print only number\n",
    "str1='the telephone number is 123456'\n",
    "j=''\n",
    "for i in str1:\n",
    "    if i.isdigit():\n",
    "        j += str(i)\n",
    "print(j)\n"
   ]
  },
  {
   "cell_type": "code",
   "execution_count": 49,
   "id": "23e01cac-5722-4b68-a345-5598a416fae7",
   "metadata": {},
   "outputs": [
    {
     "name": "stdout",
     "output_type": "stream",
     "text": [
      "7\n",
      "1\n",
      "9\n",
      "7\n",
      "9\n"
     ]
    }
   ],
   "source": [
    "str2='this is 7th Sep 1979'\n",
    "for i in str2:\n",
    "    if i.isnumeric():\n",
    "        print(i)"
   ]
  },
  {
   "cell_type": "code",
   "execution_count": 57,
   "id": "3c34f261-c8a0-43e3-9932-72b97f80162d",
   "metadata": {},
   "outputs": [
    {
     "data": {
      "text/plain": [
       "'Nag'"
      ]
     },
     "execution_count": 57,
     "metadata": {},
     "output_type": "execute_result"
    }
   ],
   "source": [
    "#to get the last word from the sentance\n",
    "str3='My name is Nag'\n",
    "a = str3.split()\n",
    "a[-1]"
   ]
  },
  {
   "cell_type": "code",
   "execution_count": 1,
   "id": "69b42ab5-a186-4990-9440-a914050e0603",
   "metadata": {},
   "outputs": [
    {
     "data": {
      "text/plain": [
       "[1, 2, 3, 4]"
      ]
     },
     "execution_count": 1,
     "metadata": {},
     "output_type": "execute_result"
    }
   ],
   "source": [
    "list1=[1,2,3,4]\n",
    "list1"
   ]
  },
  {
   "cell_type": "code",
   "execution_count": 3,
   "id": "da0af147-25c8-4f83-8ae0-e1598438753d",
   "metadata": {},
   "outputs": [
    {
     "name": "stdout",
     "output_type": "stream",
     "text": [
      "[1, 2, 3, 4]\n"
     ]
    }
   ],
   "source": [
    "list1=[1,2,3,4]\n",
    "print(list1)\n"
   ]
  },
  {
   "cell_type": "code",
   "execution_count": 5,
   "id": "bdc3a2b4-be08-4ded-bf0d-f4d7b2e4c607",
   "metadata": {},
   "outputs": [
    {
     "name": "stdout",
     "output_type": "stream",
     "text": [
      "['A', 'B', 'C', 'D']\n"
     ]
    }
   ],
   "source": [
    "list2=['A','B','C','D']\n",
    "print(list2)\n"
   ]
  },
  {
   "cell_type": "code",
   "execution_count": 21,
   "id": "15ac42ea-43f1-4859-82b0-875c5dd914f0",
   "metadata": {},
   "outputs": [
    {
     "name": "stdout",
     "output_type": "stream",
     "text": [
      "[1, 2, 3, 4, 'A', 'B', 'C', 'D']\n"
     ]
    }
   ],
   "source": [
    "list3=[1,2,3,4,'A','B','C','D']\n",
    "print(list3)"
   ]
  },
  {
   "cell_type": "code",
   "execution_count": 19,
   "id": "1a4b56a5-2fd2-4f63-806c-d449a930239c",
   "metadata": {},
   "outputs": [
    {
     "data": {
      "text/plain": [
       "[1, 2, 3, 4, 'A', 'B', 'C', 'D']"
      ]
     },
     "execution_count": 19,
     "metadata": {},
     "output_type": "execute_result"
    }
   ],
   "source": [
    "list3=[1,2,3,4,'A','B','C','D']\n",
    "list3"
   ]
  },
  {
   "cell_type": "code",
   "execution_count": 23,
   "id": "8ab94bcc-3ce3-4622-bbe9-8d87d8919215",
   "metadata": {},
   "outputs": [
    {
     "data": {
      "text/plain": [
       "[1, 2, 3, 4, 'A', 'B', 'C', 'D', True, False, 10.5, (20+30j)]"
      ]
     },
     "execution_count": 23,
     "metadata": {},
     "output_type": "execute_result"
    }
   ],
   "source": [
    "list3=[1,2,3,4,'A','B','C','D',True,False,10.5,20+30j]\n",
    "list3"
   ]
  },
  {
   "cell_type": "code",
   "execution_count": 35,
   "id": "1fc6b632-f93c-4689-ba33-4c5b5082c4f9",
   "metadata": {},
   "outputs": [
    {
     "data": {
      "text/plain": [
       "[1, 2, 'A', 'B', [1, 'apple']]"
      ]
     },
     "execution_count": 35,
     "metadata": {},
     "output_type": "execute_result"
    }
   ],
   "source": [
    "list5=[1,2,'A','B',[1,'apple']]\n",
    "list5"
   ]
  },
  {
   "cell_type": "code",
   "execution_count": 33,
   "id": "5c7212ba-121b-4968-9492-dec2db98cb88",
   "metadata": {},
   "outputs": [
    {
     "name": "stdout",
     "output_type": "stream",
     "text": [
      "[10, 10, 10]\n",
      "[10, 10, 10]\n"
     ]
    }
   ],
   "source": [
    "list4=[10,10,10]\n",
    "set4=[10,10,10]\n",
    "print(list4)\n",
    "print(set4)"
   ]
  },
  {
   "cell_type": "code",
   "execution_count": 15,
   "id": "03ec9147-7073-4d59-8361-bc7422b87649",
   "metadata": {},
   "outputs": [
    {
     "data": {
      "text/plain": [
       "{1, 2, 3, 'a', 'b'}"
      ]
     },
     "execution_count": 15,
     "metadata": {},
     "output_type": "execute_result"
    }
   ],
   "source": [
    "set1={1,2,3,'a','b'}\n",
    "set1"
   ]
  },
  {
   "cell_type": "code",
   "execution_count": 9,
   "id": "2087c038-5890-4eed-8313-a42550aa71d9",
   "metadata": {},
   "outputs": [
    {
     "data": {
      "text/plain": [
       "['{\"dataframes\": [], \"user\": \"Nagaraj AG\"}']"
      ]
     },
     "execution_count": 9,
     "metadata": {},
     "output_type": "execute_result"
    }
   ],
   "source": [
    "name1='Nag'\n",
    "list11=[name1]\n",
    "list12=[_]\n",
    "list12"
   ]
  },
  {
   "cell_type": "code",
   "execution_count": 15,
   "id": "40fdcff1-98a1-4b02-91f8-ef42a6052059",
   "metadata": {},
   "outputs": [
    {
     "data": {
      "text/plain": [
       "75"
      ]
     },
     "execution_count": 15,
     "metadata": {},
     "output_type": "execute_result"
    }
   ],
   "source": [
    "list1=[10,20,2,5,75]\n",
    "max(list1)"
   ]
  },
  {
   "cell_type": "code",
   "execution_count": 17,
   "id": "5d1541d6-593b-4ad5-8692-7eda50729257",
   "metadata": {},
   "outputs": [
    {
     "data": {
      "text/plain": [
       "2"
      ]
     },
     "execution_count": 17,
     "metadata": {},
     "output_type": "execute_result"
    }
   ],
   "source": [
    "list1=[10,20,2,5,75]\n",
    "min(list1)"
   ]
  },
  {
   "cell_type": "code",
   "execution_count": 81,
   "id": "ef63b604-451e-4e2e-96ca-49fa26166169",
   "metadata": {},
   "outputs": [
    {
     "data": {
      "text/plain": [
       "5"
      ]
     },
     "execution_count": 81,
     "metadata": {},
     "output_type": "execute_result"
    }
   ],
   "source": [
    "list1=[10,20,2,5,75]\n",
    "len(list1)"
   ]
  },
  {
   "cell_type": "code",
   "execution_count": 31,
   "id": "8884218a-39ab-4cb8-99ad-d59f17cdbdd1",
   "metadata": {},
   "outputs": [
    {
     "data": {
      "text/plain": [
       "[75, 20, 10, 5, 2]"
      ]
     },
     "execution_count": 31,
     "metadata": {},
     "output_type": "execute_result"
    }
   ],
   "source": [
    "list1=[10,20,2,5,75]\n",
    "sorted(list1,reverse=True)"
   ]
  },
  {
   "cell_type": "code",
   "execution_count": 3,
   "id": "f3214f32-9cc6-4981-b5ce-491ce7fb100d",
   "metadata": {},
   "outputs": [
    {
     "data": {
      "text/plain": [
       "[75, 5, 2, 20, 10]"
      ]
     },
     "execution_count": 3,
     "metadata": {},
     "output_type": "execute_result"
    }
   ],
   "source": [
    "list1=[10,20,2,5,75]\n",
    "list(reversed(list1))\n"
   ]
  },
  {
   "cell_type": "code",
   "execution_count": 5,
   "id": "226d9c8c-baa1-4aca-b6ea-0383da740ee1",
   "metadata": {},
   "outputs": [
    {
     "name": "stdout",
     "output_type": "stream",
     "text": [
      "75\n",
      "5\n",
      "2\n",
      "20\n",
      "10\n"
     ]
    }
   ],
   "source": [
    "list1=[10,20,2,5,75]\n",
    "for i in reversed(list1):\n",
    "    print(i)\n"
   ]
  },
  {
   "cell_type": "code",
   "execution_count": 7,
   "id": "61d2e28f-1b03-478e-b646-ea7d1bb3ee4e",
   "metadata": {},
   "outputs": [
    {
     "name": "stdout",
     "output_type": "stream",
     "text": [
      "10 0\n",
      "20 1\n",
      "2 2\n",
      "5 3\n",
      "75 4\n"
     ]
    }
   ],
   "source": [
    "list1=[10,20,2,5,75]\n",
    "for i in list1:\n",
    "    print(i,list1.index(i))"
   ]
  },
  {
   "cell_type": "code",
   "execution_count": 85,
   "id": "a967b3ec-0a05-4be7-bea1-c59df333a946",
   "metadata": {},
   "outputs": [
    {
     "data": {
      "text/plain": [
       "'banana'"
      ]
     },
     "execution_count": 85,
     "metadata": {},
     "output_type": "execute_result"
    }
   ],
   "source": [
    "list2=['Apple','apple','Cherry','banana']\n",
    "max(list2)\n"
   ]
  },
  {
   "cell_type": "code",
   "execution_count": 57,
   "id": "42b2b0ac-7cec-42ea-8069-9f056ac3fbe7",
   "metadata": {},
   "outputs": [
    {
     "data": {
      "text/plain": [
       "'Apple'"
      ]
     },
     "execution_count": 57,
     "metadata": {},
     "output_type": "execute_result"
    }
   ],
   "source": [
    "list2=['banana','apple','Cherry','Apple']\n",
    "min(list2)\n"
   ]
  },
  {
   "cell_type": "raw",
   "id": "df6c2bde-a1c6-481b-a811-5786fea3f0e3",
   "metadata": {},
   "source": [
    "list2=['banana','apple','Cherry','Apple']\n",
    "sorted(list2)\n"
   ]
  },
  {
   "cell_type": "markdown",
   "id": "f9783136-4acc-4c38-b942-35c0760344d4",
   "metadata": {},
   "source": [
    "**concatenation**"
   ]
  },
  {
   "cell_type": "code",
   "execution_count": 22,
   "id": "7ede0f2c-47c0-43e4-b6fa-b5f89376c6ef",
   "metadata": {},
   "outputs": [
    {
     "data": {
      "text/plain": [
       "[1, 2, 3, 'A', 'B', 'C']"
      ]
     },
     "execution_count": 22,
     "metadata": {},
     "output_type": "execute_result"
    }
   ],
   "source": [
    "list1=[1,2,3]\n",
    "list2=['A','B','C']\n",
    "list1+list2"
   ]
  },
  {
   "cell_type": "code",
   "execution_count": 36,
   "id": "2499d987-4ec6-40df-a495-8c60b1796490",
   "metadata": {},
   "outputs": [
    {
     "data": {
      "text/plain": [
       "['Nag', 1, 2, 'Nag', 1, 2, 'Nag', 1, 2, 'Nag', 1, 2, 'Nag', 1, 2]"
      ]
     },
     "execution_count": 36,
     "metadata": {},
     "output_type": "execute_result"
    }
   ],
   "source": [
    "list3=['Nag',1,2]\n",
    "list3*5"
   ]
  },
  {
   "cell_type": "markdown",
   "id": "49a45f75-f070-4e88-b935-41d95481bcac",
   "metadata": {},
   "source": [
    "**index**"
   ]
  },
  {
   "cell_type": "code",
   "execution_count": 59,
   "id": "9c218747-6612-4e51-8d20-dce06d77cf27",
   "metadata": {},
   "outputs": [
    {
     "data": {
      "text/plain": [
       "(2, 2)"
      ]
     },
     "execution_count": 59,
     "metadata": {},
     "output_type": "execute_result"
    }
   ],
   "source": [
    "list1=[1,2,3,'A','b','Cd']\n",
    "list1[1],list1[-5]"
   ]
  },
  {
   "cell_type": "code",
   "execution_count": 17,
   "id": "260cd091-86b9-415c-a520-4f1da0bcb0c2",
   "metadata": {},
   "outputs": [
    {
     "name": "stdout",
     "output_type": "stream",
     "text": [
      "Cd 0\n",
      "10 1\n",
      "20 2\n",
      "30 3\n",
      "A 4\n",
      "b 5\n"
     ]
    }
   ],
   "source": [
    "list1=[10,20,30,'A','b','Cd']\n",
    "for i in range(6):\n",
    "    print(list1[i-1], i)"
   ]
  },
  {
   "cell_type": "code",
   "execution_count": 95,
   "id": "545540ea-b3cc-47af-94d5-3e5e1ee0e66e",
   "metadata": {},
   "outputs": [
    {
     "data": {
      "text/plain": [
       "98"
      ]
     },
     "execution_count": 95,
     "metadata": {},
     "output_type": "execute_result"
    }
   ],
   "source": [
    "list1=[10,20,'a','b','c']\n",
    "ord(list1[3])"
   ]
  },
  {
   "cell_type": "code",
   "execution_count": 41,
   "id": "baaaa03a-f53e-4cda-a965-487b6227ad21",
   "metadata": {},
   "outputs": [
    {
     "data": {
      "text/plain": [
       "'Cherry'"
      ]
     },
     "execution_count": 41,
     "metadata": {},
     "output_type": "execute_result"
    }
   ],
   "source": [
    "list5=[10,20,30,'A',['Banana','Cherry','Apple']]\n",
    "list5[4][1]"
   ]
  },
  {
   "cell_type": "code",
   "execution_count": 45,
   "id": "e8cc809d-45ea-4af8-946c-9a7e88c816d4",
   "metadata": {},
   "outputs": [
    {
     "data": {
      "text/plain": [
       "'Banana'"
      ]
     },
     "execution_count": 45,
     "metadata": {},
     "output_type": "execute_result"
    }
   ],
   "source": [
    "list6=['A',['Apple','B',['Banana'],'C',['Cherry']]]\n",
    "list6[1][2][0]"
   ]
  },
  {
   "cell_type": "code",
   "execution_count": 57,
   "id": "f2235f52-3260-461a-b420-7dd1d3b33115",
   "metadata": {},
   "outputs": [
    {
     "data": {
      "text/plain": [
       "['A', ['Apple', 'B', ['Banana', 'C', ['Cherry', 'D', ['Dragon fruit']]]]]"
      ]
     },
     "execution_count": 57,
     "metadata": {},
     "output_type": "execute_result"
    }
   ],
   "source": [
    "list1=['A',['Apple','B',['Banana','C',['Cherry','D',['Dragon fruit']]]]]\n",
    "list1"
   ]
  },
  {
   "cell_type": "code",
   "execution_count": 59,
   "id": "b9fc5425-8a04-4462-b0ba-ba3e8cdde42e",
   "metadata": {},
   "outputs": [
    {
     "data": {
      "text/plain": [
       "'Dragon fruit'"
      ]
     },
     "execution_count": 59,
     "metadata": {},
     "output_type": "execute_result"
    }
   ],
   "source": [
    "list1=['A',['Apple','B',['Banana','C',['Cherry','D',['Dragon fruit']]]]]\n",
    "list1[1][2][2][2][0]"
   ]
  },
  {
   "cell_type": "code",
   "execution_count": 63,
   "id": "bc92fda8-7243-47bd-a575-6807416a3f1f",
   "metadata": {},
   "outputs": [
    {
     "name": "stdout",
     "output_type": "stream",
     "text": [
      "2  ==  ['Apple', 'B', ['Banana', 'C', ['Cherry', 'D', ['Dragon fruit']]]]\n"
     ]
    },
    {
     "data": {
      "text/plain": [
       "'Dragon fruit'"
      ]
     },
     "execution_count": 63,
     "metadata": {},
     "output_type": "execute_result"
    }
   ],
   "source": [
    "list1=['A',['Apple','B',['Banana','C',['Cherry','D',['Dragon fruit']]]]]\n",
    "print(len(list1),\" == \",list1[1])\n",
    "print(len(list1[1]),\" == \",list1[1])\n",
    "list1[1][2][2][2][0]"
   ]
  },
  {
   "cell_type": "code",
   "execution_count": 83,
   "id": "eb6e6ab7-ece6-4a03-bbf2-7aa3614d5cb7",
   "metadata": {},
   "outputs": [
    {
     "data": {
      "text/plain": [
       "'Bat'"
      ]
     },
     "execution_count": 83,
     "metadata": {},
     "output_type": "execute_result"
    }
   ],
   "source": [
    "list1=['Apple',['Kashmir',['India',['Criket',['Bat']]]]]\n",
    "len(list1)\n",
    "list1[1][1][1][1][0]"
   ]
  },
  {
   "cell_type": "code",
   "execution_count": 93,
   "id": "743182b3-9b9f-4218-986a-b4042d244053",
   "metadata": {},
   "outputs": [
    {
     "data": {
      "text/plain": [
       "'Apple'"
      ]
     },
     "execution_count": 93,
     "metadata": {},
     "output_type": "execute_result"
    }
   ],
   "source": [
    "list2=[[[[[[['Apple']]]]]]]\n",
    "list2[0][0][0][0][0][0][0]"
   ]
  },
  {
   "cell_type": "code",
   "execution_count": null,
   "id": "9798b6d3-d2b9-4bf1-8d77-82d7b3671b39",
   "metadata": {},
   "outputs": [],
   "source": []
  }
 ],
 "metadata": {
  "kernelspec": {
   "display_name": "Python [conda env:base] *",
   "language": "python",
   "name": "conda-base-py"
  },
  "language_info": {
   "codemirror_mode": {
    "name": "ipython",
    "version": 3
   },
   "file_extension": ".py",
   "mimetype": "text/x-python",
   "name": "python",
   "nbconvert_exporter": "python",
   "pygments_lexer": "ipython3",
   "version": "3.12.7"
  }
 },
 "nbformat": 4,
 "nbformat_minor": 5
}
