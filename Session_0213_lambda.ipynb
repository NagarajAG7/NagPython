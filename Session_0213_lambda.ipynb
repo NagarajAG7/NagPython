{
 "cells": [
  {
   "cell_type": "code",
   "execution_count": 1,
   "id": "adf6e3ff-5dbd-4192-84f7-ef91f8461a35",
   "metadata": {},
   "outputs": [
    {
     "data": {
      "text/plain": [
       "[5.0, 20.615528128088304, 46.09772228646444, 18.027756377319946]"
      ]
     },
     "execution_count": 1,
     "metadata": {},
     "output_type": "execute_result"
    }
   ],
   "source": [
    "#Distance between two points\n",
    "import math\n",
    "l1=[[10,20],[30,20],[40,50],[0,0]]\n",
    "l2=[10,15]\n",
    "d1=[]\n",
    "for i in range(len(l1)):\n",
    "  for j in range(len(l1[i])):\n",
    "    d1.append(math.sqrt(math.pow(l2[0]-l1[i][0],2)+math.pow(l2[1]-l1[i][1],2)))\n",
    "    break\n",
    "d1"
   ]
  },
  {
   "cell_type": "markdown",
   "id": "93612be1-cbda-42bf-ba7a-1ea0216a8433",
   "metadata": {},
   "source": [
    "**List Comprehension 4 methods**\n",
    "\n",
    "- Method1: [output forloop]\n",
    "- Method2: [output forloop if condition]\n",
    "- Method3: [ifout ifcond else elseout forloop]\n",
    "- Method4: [ifout ifcond else elifout elifcond else elseout forloop]\n"
   ]
  },
  {
   "cell_type": "markdown",
   "id": "5d138fdc-a1b7-4cb6-8626-3c53b7e5d9a0",
   "metadata": {},
   "source": [
    "**Lambda functions**\n",
    "\n",
    "- lamda functions represnts functinos in a single line\n",
    "- it is similar analogy to list comprehension\n",
    "- to reduce the time complexity, will go for Lambda function\n"
   ]
  },
  {
   "cell_type": "markdown",
   "id": "ad9cc1e7-e0cc-46fc-a1f1-273a13123619",
   "metadata": {},
   "source": [
    "pattern-1: function with one argument"
   ]
  },
  {
   "cell_type": "code",
   "execution_count": 12,
   "id": "10d08d1d-0c56-44aa-bace-e05ee938cdca",
   "metadata": {},
   "outputs": [
    {
     "data": {
      "text/plain": [
       "100"
      ]
     },
     "execution_count": 12,
     "metadata": {},
     "output_type": "execute_result"
    }
   ],
   "source": [
    "def mul(a):\n",
    "    return(a*a)\n",
    "ans=mul(10)\n",
    "ans"
   ]
  },
  {
   "cell_type": "code",
   "execution_count": 22,
   "id": "b5136016-4ce9-4924-bc97-3db1162dd19f",
   "metadata": {},
   "outputs": [
    {
     "data": {
      "text/plain": [
       "25"
      ]
     },
     "execution_count": 22,
     "metadata": {},
     "output_type": "execute_result"
    }
   ],
   "source": [
    "# syntax\n",
    "# function_name = lambda <argument> : <return output>\n",
    "# in the above, the function_name = mul\n",
    "# argument name = a\n",
    "# return output = a*a\n",
    "\n",
    "mul1 = lambda a : a*a\n",
    "mul1(5)"
   ]
  },
  {
   "cell_type": "code",
   "execution_count": 24,
   "id": "8922b0c1-7a0d-4733-869d-f74387c8cd37",
   "metadata": {},
   "outputs": [
    {
     "data": {
      "text/plain": [
       "1000"
      ]
     },
     "execution_count": 24,
     "metadata": {},
     "output_type": "execute_result"
    }
   ],
   "source": [
    "cube = lambda b : b*b*b\n",
    "cube(10)"
   ]
  },
  {
   "cell_type": "markdown",
   "id": "68b50d14-27dd-4b65-bb97-a9e19b3a4523",
   "metadata": {},
   "source": [
    "$pattern$-2: function with two arguments"
   ]
  },
  {
   "cell_type": "code",
   "execution_count": 27,
   "id": "ea3936dd-42f4-4813-98f2-2be3e0a0242a",
   "metadata": {},
   "outputs": [
    {
     "data": {
      "text/plain": [
       "30"
      ]
     },
     "execution_count": 27,
     "metadata": {},
     "output_type": "execute_result"
    }
   ],
   "source": [
    "def add(a,b):\n",
    "    return(a+b)\n",
    "add(10,20)"
   ]
  },
  {
   "cell_type": "code",
   "execution_count": 31,
   "id": "31eca175-8403-445a-8dc8-c3aca44111a6",
   "metadata": {},
   "outputs": [
    {
     "data": {
      "text/plain": [
       "15"
      ]
     },
     "execution_count": 31,
     "metadata": {},
     "output_type": "execute_result"
    }
   ],
   "source": [
    "# syntax\n",
    "# function_name = lambda <argument1> <argument2> : <return output>\n",
    "# in the above, the function_name = add\n",
    "# argument1 = a\n",
    "# argument2 = b\n",
    "# return output = a+b\n",
    "\n",
    "add = lambda a,b : a+b\n",
    "add(5,10)"
   ]
  },
  {
   "cell_type": "markdown",
   "id": "0b9a9177-e6f1-42df-948c-b7081570f0a4",
   "metadata": {},
   "source": [
    "$patter$-: three arguments"
   ]
  },
  {
   "cell_type": "code",
   "execution_count": 35,
   "id": "83e40015-5e19-441e-8aa0-2b752cc086a9",
   "metadata": {},
   "outputs": [
    {
     "data": {
      "text/plain": [
       "2.0"
      ]
     },
     "execution_count": 35,
     "metadata": {},
     "output_type": "execute_result"
    }
   ],
   "source": [
    "avg1 = lambda a,b,c: (a+b+c)/3\n",
    "avg1(1,2,3)"
   ]
  },
  {
   "cell_type": "code",
   "execution_count": 51,
   "id": "bf90aa69-eddc-49df-a439-65c69b907693",
   "metadata": {},
   "outputs": [
    {
     "data": {
      "text/plain": [
       "68.67"
      ]
     },
     "execution_count": 51,
     "metadata": {},
     "output_type": "execute_result"
    }
   ],
   "source": [
    "avg1 = lambda a,b,c: round((a+b+c)/3,2)\n",
    "avg1(41,52,113)"
   ]
  },
  {
   "cell_type": "markdown",
   "id": "502405cf-670f-4c58-8382-a2f69b9907a6",
   "metadata": {},
   "source": [
    "$patter$-4: default argument"
   ]
  },
  {
   "cell_type": "code",
   "execution_count": 54,
   "id": "7b5db63d-4b43-4fbd-8b4e-dd60f18a9046",
   "metadata": {},
   "outputs": [
    {
     "data": {
      "text/plain": [
       "20.0"
      ]
     },
     "execution_count": 54,
     "metadata": {},
     "output_type": "execute_result"
    }
   ],
   "source": [
    "avg2 = lambda a,b,c,d=3: (a+b+c)/d\n",
    "avg2(10,20,30)"
   ]
  },
  {
   "cell_type": "markdown",
   "id": "830762ec-25ed-4631-b485-cdfdc27e8a72",
   "metadata": {},
   "source": [
    "$patter$-5: list cases"
   ]
  },
  {
   "cell_type": "code",
   "execution_count": 69,
   "id": "7b64e0ad-1220-4480-b77d-5b5f5ca1b485",
   "metadata": {},
   "outputs": [
    {
     "data": {
      "text/plain": [
       "['Hyd', 'Beng', 'Mum', 'Pune']"
      ]
     },
     "execution_count": 69,
     "metadata": {},
     "output_type": "execute_result"
    }
   ],
   "source": [
    "input=['hyd','beng','mum','pune']\n",
    "#output=['Hyd','Beng','Mum','Pune']\n",
    "l1=[]\n",
    "for i in input:\n",
    "    l1.append(i.capitalize())  \n",
    "l1"
   ]
  },
  {
   "cell_type": "code",
   "execution_count": 73,
   "id": "a259877d-96e0-4dc1-9236-89bb79405f24",
   "metadata": {},
   "outputs": [
    {
     "data": {
      "text/plain": [
       "['Hyd', 'Beng', 'Mum', 'Pune']"
      ]
     },
     "execution_count": 73,
     "metadata": {},
     "output_type": "execute_result"
    }
   ],
   "source": [
    "output=[]\n",
    "output=[i.capitalize() for i in input]\n",
    "output"
   ]
  },
  {
   "cell_type": "code",
   "execution_count": 75,
   "id": "04561c5a-db42-48d1-bc48-74b0b8772eed",
   "metadata": {},
   "outputs": [
    {
     "data": {
      "text/plain": [
       "(<function __main__.<lambda>(i)>, ['hyd', 'beng', 'mum', 'pune'])"
      ]
     },
     "execution_count": 75,
     "metadata": {},
     "output_type": "execute_result"
    }
   ],
   "source": [
    "# Q: from where we are getting the i\n",
    "# and: we are retriving i from a list : iterator\n",
    "# step-2: lambda <variable> : <output> <iterator>\n",
    "lambda i : i.capitalize(), input\n"
   ]
  },
  {
   "cell_type": "code",
   "execution_count": 79,
   "id": "30389613-84de-4839-af5a-84faf011da63",
   "metadata": {},
   "outputs": [
    {
     "data": {
      "text/plain": [
       "<map at 0x216de2b0bb0>"
      ]
     },
     "execution_count": 79,
     "metadata": {},
     "output_type": "execute_result"
    }
   ],
   "source": [
    "#step-1: lamda <variable> : <output>\n",
    "#step-2: lamda <variable> : <output>, <iterator>\n",
    "#step-3: map(lamda <variable> : <output>, <iterator>)\n",
    "map(lambda i : i.capitalize(),input )\n"
   ]
  },
  {
   "cell_type": "code",
   "execution_count": 81,
   "id": "ba60323f-00e0-41c6-8fbe-c27e09f403d9",
   "metadata": {},
   "outputs": [
    {
     "data": {
      "text/plain": [
       "['Hyd', 'Beng', 'Mum', 'Pune']"
      ]
     },
     "execution_count": 81,
     "metadata": {},
     "output_type": "execute_result"
    }
   ],
   "source": [
    "#step-1: lamda <variable> : <output>\n",
    "#step-2: lamda <variable> : <output>, <iterator>\n",
    "#step-3: map(lamda <variable> : <output>, <iterator>)\n",
    "#step-4: list( map( lamda <variable> : <output>, <iterator>))\n",
    "\n",
    "list(map(lambda i : i.capitalize() , input))"
   ]
  },
  {
   "cell_type": "code",
   "execution_count": 91,
   "id": "2751999f-d4d3-4bc0-aa8f-d16025b8151a",
   "metadata": {},
   "outputs": [
    {
     "data": {
      "text/plain": [
       "['Hyd', 'Beng', 'Mum', 'Pune']"
      ]
     },
     "execution_count": 91,
     "metadata": {},
     "output_type": "execute_result"
    }
   ],
   "source": [
    "list(map(lambda k : k.capitalize(), input))"
   ]
  },
  {
   "cell_type": "code",
   "execution_count": 25,
   "id": "39f24885-a70d-4bea-bd99-54b553a22dfa",
   "metadata": {},
   "outputs": [
    {
     "data": {
      "text/plain": [
       "[0, 1, 2, 3]"
      ]
     },
     "execution_count": 25,
     "metadata": {},
     "output_type": "execute_result"
    }
   ],
   "source": [
    "input=['hyd','beng','mum','pune']\n",
    "list(map(lambda i : i, range(len(input))))\n",
    "list(map(lambda i : input.index(i), input))"
   ]
  },
  {
   "cell_type": "code",
   "execution_count": 19,
   "id": "9963ac82-5174-4962-a28c-2c7dad4f23c6",
   "metadata": {},
   "outputs": [
    {
     "data": {
      "text/plain": [
       "['Hello', 'How', 'Are', 'You']"
      ]
     },
     "execution_count": 19,
     "metadata": {},
     "output_type": "execute_result"
    }
   ],
   "source": [
    "input='hello how are you'\n",
    "output=[]\n",
    "for i in input.split(' ') :\n",
    "    output.append(i.capitalize())\n",
    "output\n"
   ]
  },
  {
   "cell_type": "code",
   "execution_count": 21,
   "id": "e6e9dc74-ba41-4570-8804-0558c46096ad",
   "metadata": {},
   "outputs": [
    {
     "data": {
      "text/plain": [
       "['Hello', 'How', 'Are', 'You']"
      ]
     },
     "execution_count": 21,
     "metadata": {},
     "output_type": "execute_result"
    }
   ],
   "source": [
    "input='hello how are you'\n",
    "list(map( lambda i : i.capitalize(), input.split(' ') ))"
   ]
  },
  {
   "cell_type": "markdown",
   "id": "a30d6f15-7141-46eb-826f-83e7e1cd88f1",
   "metadata": {},
   "source": [
    "**Lambda argument : condition, iterator**"
   ]
  },
  {
   "cell_type": "code",
   "execution_count": 31,
   "id": "8c2976f6-adec-42b9-92cc-a45ace0ee1ee",
   "metadata": {},
   "outputs": [
    {
     "data": {
      "text/plain": [
       "[False, True, False, True]"
      ]
     },
     "execution_count": 31,
     "metadata": {},
     "output_type": "execute_result"
    }
   ],
   "source": [
    "input=['hyd','bang#','mum','pu#ne']\n",
    "list(map( lambda i : '#' in i, input ))\n"
   ]
  },
  {
   "cell_type": "code",
   "execution_count": 33,
   "id": "7ab3056b-ce78-452a-8f66-902860a67b00",
   "metadata": {},
   "outputs": [
    {
     "data": {
      "text/plain": [
       "['#', '#', '#', '#']"
      ]
     },
     "execution_count": 33,
     "metadata": {},
     "output_type": "execute_result"
    }
   ],
   "source": [
    "input=['hyd','bang#','mum','pu#ne']\n",
    "list(map( lambda i : '#', input ))\n"
   ]
  },
  {
   "cell_type": "markdown",
   "id": "829fb941-99de-429f-97e8-d5fd0016a5f7",
   "metadata": {},
   "source": [
    "**filter**\n",
    "\n",
    "- filter is apply on lambda functions to retrive the True output\n",
    "- map will just map the function and iterator\n",
    "- when we apply condition map will give True False\n",
    "- filter will use instead of map\n",
    " "
   ]
  },
  {
   "cell_type": "code",
   "execution_count": 39,
   "id": "45519221-485f-4640-a66a-5faf08f7cde5",
   "metadata": {},
   "outputs": [
    {
     "data": {
      "text/plain": [
       "['bang#', 'pu#ne']"
      ]
     },
     "execution_count": 39,
     "metadata": {},
     "output_type": "execute_result"
    }
   ],
   "source": [
    "input=['hyd','bang#','mum','pu#ne']\n",
    "list( filter( lambda i : '#' in i, input ))\n"
   ]
  },
  {
   "cell_type": "code",
   "execution_count": 41,
   "id": "ece74a68-fa18-4af3-822d-4d5d22727c06",
   "metadata": {},
   "outputs": [
    {
     "data": {
      "text/plain": [
       "['hyd', 'mum']"
      ]
     },
     "execution_count": 41,
     "metadata": {},
     "output_type": "execute_result"
    }
   ],
   "source": [
    "input=['hyd','bang#','mum','pu#ne']\n",
    "list( filter( lambda i : '#' not in i, input ))\n"
   ]
  },
  {
   "cell_type": "markdown",
   "id": "18cd6f3d-0739-4e97-af9e-05feb2f991b3",
   "metadata": {},
   "source": [
    "**reduce**\n",
    "\n",
    "- reduce will helpful to perform math operations using lambda functions\n",
    "  \n",
    "- it is a method under a package called : **functools**\n",
    "\n"
   ]
  },
  {
   "cell_type": "code",
   "execution_count": 48,
   "id": "36261a57-b56a-41a7-9714-463841cfcf83",
   "metadata": {},
   "outputs": [
    {
     "data": {
      "text/plain": [
       "10"
      ]
     },
     "execution_count": 48,
     "metadata": {},
     "output_type": "execute_result"
    }
   ],
   "source": [
    "list1=[1,2,3,4]\n",
    "summ=0\n",
    "for i in list1:\n",
    "    summ=summ+i\n",
    "summ"
   ]
  },
  {
   "cell_type": "code",
   "execution_count": 50,
   "id": "f0e87cd2-fe9f-478b-8627-327889753eed",
   "metadata": {},
   "outputs": [
    {
     "data": {
      "text/plain": [
       "10"
      ]
     },
     "execution_count": 50,
     "metadata": {},
     "output_type": "execute_result"
    }
   ],
   "source": [
    "list1=[1,2,3,4]\n",
    "sum(list1)"
   ]
  },
  {
   "cell_type": "code",
   "execution_count": 54,
   "id": "f7c245a8-d7f3-437a-bc28-f7762fb4b48c",
   "metadata": {},
   "outputs": [
    {
     "data": {
      "text/plain": [
       "15"
      ]
     },
     "execution_count": 54,
     "metadata": {},
     "output_type": "execute_result"
    }
   ],
   "source": [
    "list2=[1,2,3,4,5]\n",
    "summ1=0\n",
    "[summ1 := summ1+i for i in list2]\n",
    "\n",
    "summ1"
   ]
  },
  {
   "cell_type": "code",
   "execution_count": 56,
   "id": "b8959ff6-cc4e-44bd-9969-ce9bf2fbb2ac",
   "metadata": {},
   "outputs": [
    {
     "data": {
      "text/plain": [
       "['GenericAlias',\n",
       " 'RLock',\n",
       " 'WRAPPER_ASSIGNMENTS',\n",
       " 'WRAPPER_UPDATES',\n",
       " '_CacheInfo',\n",
       " '_HashedSeq',\n",
       " '_NOT_FOUND',\n",
       " '__all__',\n",
       " '__builtins__',\n",
       " '__cached__',\n",
       " '__doc__',\n",
       " '__file__',\n",
       " '__loader__',\n",
       " '__name__',\n",
       " '__package__',\n",
       " '__spec__',\n",
       " '_c3_merge',\n",
       " '_c3_mro',\n",
       " '_compose_mro',\n",
       " '_convert',\n",
       " '_find_impl',\n",
       " '_ge_from_gt',\n",
       " '_ge_from_le',\n",
       " '_ge_from_lt',\n",
       " '_gt_from_ge',\n",
       " '_gt_from_le',\n",
       " '_gt_from_lt',\n",
       " '_initial_missing',\n",
       " '_le_from_ge',\n",
       " '_le_from_gt',\n",
       " '_le_from_lt',\n",
       " '_lru_cache_wrapper',\n",
       " '_lt_from_ge',\n",
       " '_lt_from_gt',\n",
       " '_lt_from_le',\n",
       " '_make_key',\n",
       " '_unwrap_partial',\n",
       " 'cache',\n",
       " 'cached_property',\n",
       " 'cmp_to_key',\n",
       " 'get_cache_token',\n",
       " 'lru_cache',\n",
       " 'namedtuple',\n",
       " 'partial',\n",
       " 'partialmethod',\n",
       " 'recursive_repr',\n",
       " 'reduce',\n",
       " 'singledispatch',\n",
       " 'singledispatchmethod',\n",
       " 'total_ordering',\n",
       " 'update_wrapper',\n",
       " 'wraps']"
      ]
     },
     "execution_count": 56,
     "metadata": {},
     "output_type": "execute_result"
    }
   ],
   "source": [
    "import functools\n",
    "dir(functools)\n"
   ]
  },
  {
   "cell_type": "markdown",
   "id": "8917149d-ddfb-498f-9315-b25c4c51d3ff",
   "metadata": {},
   "source": [
    "import functools\n",
    "functools.reduce()\n",
    "\n",
    "########################\n",
    "\n",
    "from functools import reduce\n",
    "\n",
    "#########################\n",
    "\n",
    "import functools as ft\n",
    "ft.reduce()\n"
   ]
  },
  {
   "cell_type": "code",
   "execution_count": 77,
   "id": "e6f00308-3620-466b-8364-63384f4c2b46",
   "metadata": {},
   "outputs": [
    {
     "data": {
      "text/plain": [
       "206"
      ]
     },
     "execution_count": 77,
     "metadata": {},
     "output_type": "execute_result"
    }
   ],
   "source": [
    "list1=[1,2,3]\n",
    "from functools import reduce\n",
    "lambda summ,i : summ+i\n",
    "lambda summ, i : summ+i, list1    #default 0\n",
    "lambda summ, i : summ+1, list1, 200\n",
    "reduce(lambda summ, i : summ+i, list1,200)"
   ]
  },
  {
   "cell_type": "code",
   "execution_count": null,
   "id": "05acd140-d000-4ce8-9325-3ffe824fae4c",
   "metadata": {},
   "outputs": [],
   "source": []
  }
 ],
 "metadata": {
  "kernelspec": {
   "display_name": "Python [conda env:base] *",
   "language": "python",
   "name": "conda-base-py"
  },
  "language_info": {
   "codemirror_mode": {
    "name": "ipython",
    "version": 3
   },
   "file_extension": ".py",
   "mimetype": "text/x-python",
   "name": "python",
   "nbconvert_exporter": "python",
   "pygments_lexer": "ipython3",
   "version": "3.12.7"
  }
 },
 "nbformat": 4,
 "nbformat_minor": 5
}
