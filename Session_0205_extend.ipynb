{
 "cells": [
  {
   "cell_type": "markdown",
   "id": "b5459bc8-2180-4021-9c34-82f297ea6812",
   "metadata": {},
   "source": [
    "**extend**"
   ]
  },
  {
   "cell_type": "code",
   "execution_count": 16,
   "id": "b105b9c6-dd71-495e-93b5-ed04588a7e29",
   "metadata": {},
   "outputs": [
    {
     "name": "stdout",
     "output_type": "stream",
     "text": [
      "[1, 2, 3, 4, 5, 'A', 'B', 'C', 'D']\n",
      "[1, 2, 3, 4, 5]\n",
      "['A', 'B', 'C', 'D']\n"
     ]
    }
   ],
   "source": [
    "l1=[1,2,3,4,5]\n",
    "l2=['A','B','C','D']\n",
    "addstr=l1+l2\n",
    "print(addstr)\n",
    "print(l1)\n",
    "print(l2)"
   ]
  },
  {
   "cell_type": "code",
   "execution_count": 24,
   "id": "6209f19d-633e-4528-addc-f3a6fa20aabd",
   "metadata": {},
   "outputs": [
    {
     "name": "stdout",
     "output_type": "stream",
     "text": [
      "[1, 2, 3, 4, 5, ['A', 'B', 'C', 'D']]\n",
      "['A', 'B', 'C', 'D']\n"
     ]
    }
   ],
   "source": [
    "l1=[1,2,3,4,5]\n",
    "l2=['A','B','C','D']\n",
    "l1.append(l2)\n",
    "\n",
    "print(l1)\n",
    "print(l2)"
   ]
  },
  {
   "cell_type": "code",
   "execution_count": 33,
   "id": "f3ae3a88-0a58-4a8e-86d0-47696df2d89b",
   "metadata": {},
   "outputs": [
    {
     "name": "stdout",
     "output_type": "stream",
     "text": [
      "[1, 2, 3, 4, 5, 'A', 'B', 'C', 'D']\n",
      "['A', 'B', 'C', 'D']\n"
     ]
    }
   ],
   "source": [
    "l1=[1,2,3,4,5]\n",
    "l2=['A','B','C','D']\n",
    "l1.extend(l2) # l1 will be overwritten with l1 and l2 elements\n",
    "print(l1)\n",
    "print(l2)"
   ]
  },
  {
   "cell_type": "markdown",
   "id": "958ddae5-1157-4b9e-abcc-6ea6cad177bd",
   "metadata": {},
   "source": [
    "**index**"
   ]
  },
  {
   "cell_type": "code",
   "execution_count": 42,
   "id": "8132cb21-5a6f-4c29-b809-d3b9b2b07e47",
   "metadata": {},
   "outputs": [
    {
     "data": {
      "text/plain": [
       "2"
      ]
     },
     "execution_count": 42,
     "metadata": {},
     "output_type": "execute_result"
    }
   ],
   "source": [
    "l1=[10,20,30,'A','B','Apple']\n",
    "l1.index(30)\n"
   ]
  },
  {
   "cell_type": "code",
   "execution_count": 53,
   "id": "8127fc39-c6c8-47c1-86c2-a6b0d41d8e89",
   "metadata": {},
   "outputs": [
    {
     "name": "stdout",
     "output_type": "stream",
     "text": [
      "6\n"
     ]
    }
   ],
   "source": [
    "l1=[10,20,30,'A','B','Apple',30]\n",
    "i1=l1.index(30)\n",
    "i2=l1.index(30,i1+1)\n",
    "print(i2)"
   ]
  },
  {
   "cell_type": "markdown",
   "id": "070dfbd1-27de-4e70-8e1a-ced4625f4a1b",
   "metadata": {},
   "source": [
    "**insert**\n",
    "\n",
    "- inserts before the index provided\n",
    "- insert(index,value)\n",
    "- Append is added at the last of the list but insert is to mention the index"
   ]
  },
  {
   "cell_type": "code",
   "execution_count": 68,
   "id": "a1fa5764-c254-4293-a26a-1c62d17bdc90",
   "metadata": {},
   "outputs": [
    {
     "data": {
      "text/plain": [
       "[10, 20, 40, 30, 'A', 'B', 'Apple', 30]"
      ]
     },
     "execution_count": 68,
     "metadata": {},
     "output_type": "execute_result"
    }
   ],
   "source": [
    "l1=[10,20,30,'A','B','Apple',30]\n",
    "l1.insert(2,40)\n",
    "l1\n"
   ]
  },
  {
   "cell_type": "code",
   "execution_count": 65,
   "id": "5ecab7eb-d0d4-43d0-a622-5969b75d0241",
   "metadata": {},
   "outputs": [
    {
     "data": {
      "text/plain": [
       "[10, 20, 30, 'A', 'B', 'Apple', 'Banana']"
      ]
     },
     "execution_count": 65,
     "metadata": {},
     "output_type": "execute_result"
    }
   ],
   "source": [
    "l1=[10,20,30,'A','B','Apple']\n",
    "ind1=l1.index('Apple')\n",
    "l1.insert(ind1+1,'Banana')\n",
    "l1\n"
   ]
  },
  {
   "cell_type": "code",
   "execution_count": 77,
   "id": "a8c072c3-5fc8-420a-a539-ec59631fe5ce",
   "metadata": {},
   "outputs": [
    {
     "ename": "TypeError",
     "evalue": "insert expected 2 arguments, got 1",
     "output_type": "error",
     "traceback": [
      "\u001b[1;31m---------------------------------------------------------------------------\u001b[0m",
      "\u001b[1;31mTypeError\u001b[0m                                 Traceback (most recent call last)",
      "Cell \u001b[1;32mIn[77], line 2\u001b[0m\n\u001b[0;32m      1\u001b[0m l1\u001b[38;5;241m=\u001b[39m[\u001b[38;5;241m10\u001b[39m,\u001b[38;5;241m20\u001b[39m,\u001b[38;5;241m30\u001b[39m,\u001b[38;5;124m'\u001b[39m\u001b[38;5;124mA\u001b[39m\u001b[38;5;124m'\u001b[39m,\u001b[38;5;124m'\u001b[39m\u001b[38;5;124mB\u001b[39m\u001b[38;5;124m'\u001b[39m,\u001b[38;5;124m'\u001b[39m\u001b[38;5;124mApple\u001b[39m\u001b[38;5;124m'\u001b[39m]\n\u001b[1;32m----> 2\u001b[0m l1\u001b[38;5;241m.\u001b[39minsert(\u001b[38;5;124m'\u001b[39m\u001b[38;5;124mApple\u001b[39m\u001b[38;5;124m'\u001b[39m)   \u001b[38;5;66;03m#compulsory you have to give index number to insert\u001b[39;00m\n\u001b[0;32m      3\u001b[0m \u001b[38;5;28mprint\u001b[39m(l1)\n",
      "\u001b[1;31mTypeError\u001b[0m: insert expected 2 arguments, got 1"
     ]
    }
   ],
   "source": [
    "l1=[10,20,30,'A','B','Apple']\n",
    "l1.insert('Apple')   #compulsory you have to give index number to insert\n",
    "print(l1)"
   ]
  },
  {
   "cell_type": "markdown",
   "id": "9bb9f381-46d5-47e0-b0b4-450d8cf4a71a",
   "metadata": {},
   "source": [
    "**pop vs remove**\n",
    "\n",
    "- pop is to remove an element by default last element\n",
    "- pop with index can be given to remove the specific indexed element\n",
    "- remove is remove the specific element available in the list\n",
    "- remove will remove the first occurring element"
   ]
  },
  {
   "cell_type": "code",
   "execution_count": 100,
   "id": "cf23d32b-65a7-4582-ba37-b46880f65ff5",
   "metadata": {},
   "outputs": [
    {
     "data": {
      "text/plain": [
       "[10, 20, 30, 'A', 'B']"
      ]
     },
     "execution_count": 100,
     "metadata": {},
     "output_type": "execute_result"
    }
   ],
   "source": [
    "l1=[10,20,30,'A','B','Apple']\n",
    "l1.pop()\n",
    "l1\n"
   ]
  },
  {
   "cell_type": "code",
   "execution_count": 102,
   "id": "a4a8ed04-b8eb-4609-ac73-e7e3f9fdd9fd",
   "metadata": {},
   "outputs": [
    {
     "data": {
      "text/plain": [
       "[10, 20, 30, 'B', 'Apple']"
      ]
     },
     "execution_count": 102,
     "metadata": {},
     "output_type": "execute_result"
    }
   ],
   "source": [
    "l1=[10,20,30,'A','B','Apple']\n",
    "l1.pop(3)\n",
    "l1"
   ]
  },
  {
   "cell_type": "code",
   "execution_count": 104,
   "id": "7e940e84-b278-4be4-ace0-5e4a96202afb",
   "metadata": {},
   "outputs": [
    {
     "name": "stdout",
     "output_type": "stream",
     "text": [
      "[10, 20, 30, 'Banana', 'A', 'B', 'Apple']\n"
     ]
    },
    {
     "data": {
      "text/plain": [
       "[10, 20, 30, 'A', 'B', 'Apple']"
      ]
     },
     "execution_count": 104,
     "metadata": {},
     "output_type": "execute_result"
    }
   ],
   "source": [
    "l1=[10,20,30,'A','B','Apple']\n",
    "l1.insert(3,'Banana')\n",
    "print(l1)\n",
    "l1.pop(3)\n",
    "l1"
   ]
  },
  {
   "cell_type": "code",
   "execution_count": 106,
   "id": "523a17c6-2111-4bbd-b26e-cbcba5e8a7e5",
   "metadata": {},
   "outputs": [
    {
     "data": {
      "text/plain": [
       "[10, 20, 30, 'B', 'Apple']"
      ]
     },
     "execution_count": 106,
     "metadata": {},
     "output_type": "execute_result"
    }
   ],
   "source": [
    "l1=[10,20,30,'A','B','Apple']\n",
    "l1.remove('A')\n",
    "l1\n"
   ]
  },
  {
   "cell_type": "code",
   "execution_count": 118,
   "id": "e9dfdeb7-0f70-47af-b9e5-1bd843b98033",
   "metadata": {},
   "outputs": [
    {
     "data": {
      "text/plain": [
       "[10, 20, 30, 'A', 'C', 'B']"
      ]
     },
     "execution_count": 118,
     "metadata": {},
     "output_type": "execute_result"
    }
   ],
   "source": [
    "l1=[10,20,30,'A','B','C','B']\n",
    "l1.remove('B')\n",
    "l1\n"
   ]
  },
  {
   "cell_type": "code",
   "execution_count": 120,
   "id": "2d15be44-ca83-4aa9-9b89-fa3c0cf2aa4e",
   "metadata": {},
   "outputs": [
    {
     "ename": "NameError",
     "evalue": "name 'l1' is not defined",
     "output_type": "error",
     "traceback": [
      "\u001b[1;31m---------------------------------------------------------------------------\u001b[0m",
      "\u001b[1;31mNameError\u001b[0m                                 Traceback (most recent call last)",
      "Cell \u001b[1;32mIn[120], line 3\u001b[0m\n\u001b[0;32m      1\u001b[0m l1\u001b[38;5;241m=\u001b[39m[\u001b[38;5;241m10\u001b[39m,\u001b[38;5;241m20\u001b[39m,\u001b[38;5;241m30\u001b[39m,\u001b[38;5;124m'\u001b[39m\u001b[38;5;124mA\u001b[39m\u001b[38;5;124m'\u001b[39m,\u001b[38;5;124m'\u001b[39m\u001b[38;5;124mB\u001b[39m\u001b[38;5;124m'\u001b[39m,\u001b[38;5;124m'\u001b[39m\u001b[38;5;124mC\u001b[39m\u001b[38;5;124m'\u001b[39m,\u001b[38;5;124m'\u001b[39m\u001b[38;5;124mB\u001b[39m\u001b[38;5;124m'\u001b[39m]\n\u001b[0;32m      2\u001b[0m \u001b[38;5;28;01mdel\u001b[39;00m(l1)\n\u001b[1;32m----> 3\u001b[0m l1\n",
      "\u001b[1;31mNameError\u001b[0m: name 'l1' is not defined"
     ]
    }
   ],
   "source": [
    "l1=[10,20,30,'A','B','C','B']\n",
    "del(l1)\n",
    "l1"
   ]
  },
  {
   "cell_type": "code",
   "execution_count": 124,
   "id": "866000d6-be1e-44ba-a14a-72102411616d",
   "metadata": {},
   "outputs": [
    {
     "data": {
      "text/plain": [
       "[10, 20, 30, 'A', 'B', 'Apple']"
      ]
     },
     "execution_count": 124,
     "metadata": {},
     "output_type": "execute_result"
    }
   ],
   "source": [
    "l1=[10,20,30,'A','B','C','Apple']\n",
    "del l1[5]\n",
    "l1"
   ]
  },
  {
   "cell_type": "code",
   "execution_count": 129,
   "id": "1d7e43da-4ba3-43ed-8db9-c02d8b397c92",
   "metadata": {},
   "outputs": [
    {
     "data": {
      "text/plain": [
       "[10, 20, 30, 'A', 'C', 'Apple']"
      ]
     },
     "execution_count": 129,
     "metadata": {},
     "output_type": "execute_result"
    }
   ],
   "source": [
    "l1=[10,20,30,'A','B','C','Apple']\n",
    "del(l1[4])\n",
    "l1"
   ]
  },
  {
   "cell_type": "markdown",
   "id": "71407f8e-6ce7-4e90-9a45-8c5a57c7fb1c",
   "metadata": {},
   "source": [
    "**reverse - reversed**\n",
    "- reverse is a method\n",
    "- reversed is an inbuilt function"
   ]
  },
  {
   "cell_type": "code",
   "execution_count": 158,
   "id": "40fcc084-946f-491a-8e3f-1dab00c7aa93",
   "metadata": {},
   "outputs": [
    {
     "data": {
      "text/plain": [
       "['Apple', 'C', 'B', 'A', 30, 20, 10]"
      ]
     },
     "execution_count": 158,
     "metadata": {},
     "output_type": "execute_result"
    }
   ],
   "source": [
    "l1=[10,20,30,'A','B','C','Apple']\n",
    "l1.reverse()    #reversing the element in list itself means IN PLACE\n",
    "l1"
   ]
  },
  {
   "cell_type": "markdown",
   "id": "5b229730-83d4-4d42-892c-42716adf0d13",
   "metadata": {},
   "source": [
    "**in place**\n",
    "\n",
    "    -when we perform the operations sometimes the values will not overwrite\n",
    "\n",
    "    -if we see **inplace** word or **inplace=True**\n",
    "\n",
    "    -this indicates the output will be overwrite in corresponding variables\n"
   ]
  },
  {
   "cell_type": "code",
   "execution_count": 154,
   "id": "1a4f608a-534f-4b63-aab6-40442ff6afbc",
   "metadata": {},
   "outputs": [
    {
     "name": "stdout",
     "output_type": "stream",
     "text": [
      "Apple\n",
      "C\n",
      "B\n",
      "A\n",
      "30\n",
      "20\n",
      "10\n"
     ]
    },
    {
     "data": {
      "text/plain": [
       "[10, 20, 30, 'A', 'B', 'C', 'Apple']"
      ]
     },
     "execution_count": 154,
     "metadata": {},
     "output_type": "execute_result"
    }
   ],
   "source": [
    "l1=[10,20,30,'A','B','C','Apple']\n",
    "for a in reversed(l1):\n",
    "    print(a)\n",
    "l1"
   ]
  },
  {
   "cell_type": "markdown",
   "id": "05869941-bd62-4d47-979d-c19d247a51e9",
   "metadata": {},
   "source": [
    "**sort - sorted**\n",
    "\n",
    "- inbult functions applicable for any datatype\n",
    "- but methods works wrt datatypes\n",
    "- sort is not available for string\n",
    "- sorted inbult function is avilable for both string and integers"
   ]
  },
  {
   "cell_type": "code",
   "execution_count": 164,
   "id": "613217f0-55bc-4afa-bad6-8a519626c31a",
   "metadata": {},
   "outputs": [
    {
     "data": {
      "text/plain": [
       "[20, 30, 40]"
      ]
     },
     "execution_count": 164,
     "metadata": {},
     "output_type": "execute_result"
    }
   ],
   "source": [
    "l1=[30,20,40]\n",
    "l1.sort()\n",
    "l1"
   ]
  },
  {
   "cell_type": "code",
   "execution_count": 166,
   "id": "daaa7358-488b-4e04-859b-ee6830e7cc29",
   "metadata": {},
   "outputs": [
    {
     "data": {
      "text/plain": [
       "([30, 20, 40], [20, 30, 40])"
      ]
     },
     "execution_count": 166,
     "metadata": {},
     "output_type": "execute_result"
    }
   ],
   "source": [
    "l1=[30,20,40]\n",
    "a=sorted(l1)\n",
    "l1,a"
   ]
  },
  {
   "cell_type": "code",
   "execution_count": 168,
   "id": "236d31b9-bb0f-4481-9d25-300d367f0d3a",
   "metadata": {},
   "outputs": [
    {
     "name": "stdout",
     "output_type": "stream",
     "text": [
      "['h', 'n', 'o', 'p', 't', 'y']\n"
     ]
    }
   ],
   "source": [
    "a='python'\n",
    "b=sorted(a)\n",
    "print(b)"
   ]
  },
  {
   "cell_type": "markdown",
   "id": "67caec08-a46c-495c-a118-32c29b93fd51",
   "metadata": {},
   "source": [
    "-clear\n",
    "\n",
    "-count/inded\n",
    "\n",
    "-pop/remove/del\n",
    "\n",
    "-reverse/reversed\n",
    "\n",
    "-sort/sorted"
   ]
  },
  {
   "cell_type": "code",
   "execution_count": null,
   "id": "b62adddc-003c-4d5a-9ff7-a4e913c9309f",
   "metadata": {},
   "outputs": [],
   "source": []
  }
 ],
 "metadata": {
  "kernelspec": {
   "display_name": "Python [conda env:base] *",
   "language": "python",
   "name": "conda-base-py"
  },
  "language_info": {
   "codemirror_mode": {
    "name": "ipython",
    "version": 3
   },
   "file_extension": ".py",
   "mimetype": "text/x-python",
   "name": "python",
   "nbconvert_exporter": "python",
   "pygments_lexer": "ipython3",
   "version": "3.12.7"
  }
 },
 "nbformat": 4,
 "nbformat_minor": 5
}
