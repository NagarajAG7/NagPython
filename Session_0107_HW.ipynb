{
 "cells": [
  {
   "cell_type": "code",
   "execution_count": 3,
   "id": "6a4a53e4-0860-4868-9b8a-5e4292da79e1",
   "metadata": {},
   "outputs": [],
   "source": [
    "import random"
   ]
  },
  {
   "cell_type": "code",
   "execution_count": 5,
   "id": "13b224fc-6b8a-4198-9c2b-fd111dbf0283",
   "metadata": {},
   "outputs": [
    {
     "data": {
      "text/plain": [
       "<module 'random' from 'C:\\\\Users\\\\Nagaraj AG\\\\anaconda3\\\\Lib\\\\random.py'>"
      ]
     },
     "execution_count": 5,
     "metadata": {},
     "output_type": "execute_result"
    }
   ],
   "source": [
    "random"
   ]
  },
  {
   "cell_type": "code",
   "execution_count": 7,
   "id": "a2fb56ff-57c7-4682-b699-24d43946d664",
   "metadata": {},
   "outputs": [
    {
     "data": {
      "text/plain": [
       "<bound method Random.randint of <random.Random object at 0x000001B4D6A0A430>>"
      ]
     },
     "execution_count": 7,
     "metadata": {},
     "output_type": "execute_result"
    }
   ],
   "source": [
    "random.randint"
   ]
  },
  {
   "cell_type": "code",
   "execution_count": 39,
   "id": "1cea7c87-9a4a-42f3-916b-d41520a92ed9",
   "metadata": {},
   "outputs": [
    {
     "data": {
      "text/plain": [
       "3"
      ]
     },
     "execution_count": 39,
     "metadata": {},
     "output_type": "execute_result"
    }
   ],
   "source": [
    "random.randint(1,5)"
   ]
  },
  {
   "cell_type": "code",
   "execution_count": 3,
   "id": "f105d4d0-fe86-4bc7-8ef5-089c7b4cc796",
   "metadata": {},
   "outputs": [
    {
     "data": {
      "text/plain": [
       "2"
      ]
     },
     "execution_count": 3,
     "metadata": {},
     "output_type": "execute_result"
    }
   ],
   "source": [
    "import random\n",
    "random.choice([1,2,3,4,5])"
   ]
  },
  {
   "cell_type": "code",
   "execution_count": 41,
   "id": "35f25f31-f37a-4e6f-a2bc-0404787b7fba",
   "metadata": {},
   "outputs": [
    {
     "data": {
      "text/plain": [
       "[1, 5, 3, 4]"
      ]
     },
     "execution_count": 41,
     "metadata": {},
     "output_type": "execute_result"
    }
   ],
   "source": [
    "random.sample([1,2,3,4,5],4)"
   ]
  },
  {
   "cell_type": "code",
   "execution_count": 79,
   "id": "85fda819-929c-4973-ad69-bc4f27401a9d",
   "metadata": {},
   "outputs": [
    {
     "data": {
      "text/plain": [
       "91"
      ]
     },
     "execution_count": 79,
     "metadata": {},
     "output_type": "execute_result"
    }
   ],
   "source": [
    "random.randrange(1,100,15)"
   ]
  },
  {
   "cell_type": "code",
   "execution_count": 81,
   "id": "b6aaa9e9-ebd2-4993-9b25-afe13aaefb9d",
   "metadata": {},
   "outputs": [],
   "source": [
    "import math"
   ]
  },
  {
   "cell_type": "code",
   "execution_count": 83,
   "id": "88f047c2-edc0-4397-bb8c-86beb8737993",
   "metadata": {},
   "outputs": [
    {
     "data": {
      "text/plain": [
       "5.0"
      ]
     },
     "execution_count": 83,
     "metadata": {},
     "output_type": "execute_result"
    }
   ],
   "source": [
    "math.sqrt(25)"
   ]
  },
  {
   "cell_type": "code",
   "execution_count": 87,
   "id": "abfa337c-3679-4dd4-bdae-e0145676de9e",
   "metadata": {},
   "outputs": [
    {
     "data": {
      "text/plain": [
       "3.141592653589793"
      ]
     },
     "execution_count": 87,
     "metadata": {},
     "output_type": "execute_result"
    }
   ],
   "source": [
    "math.pi"
   ]
  },
  {
   "cell_type": "code",
   "execution_count": 103,
   "id": "a21a61d2-fc06-4aa5-b7e5-d05cd15c14b9",
   "metadata": {},
   "outputs": [
    {
     "data": {
      "text/plain": [
       "101"
      ]
     },
     "execution_count": 103,
     "metadata": {},
     "output_type": "execute_result"
    }
   ],
   "source": [
    "math.ceil(100.2)"
   ]
  },
  {
   "cell_type": "code",
   "execution_count": 106,
   "id": "4112fe80-5c37-4606-95e6-312e4555b828",
   "metadata": {},
   "outputs": [
    {
     "data": {
      "text/plain": [
       "2.718281828459045"
      ]
     },
     "execution_count": 106,
     "metadata": {},
     "output_type": "execute_result"
    }
   ],
   "source": [
    "math.e"
   ]
  },
  {
   "cell_type": "code",
   "execution_count": 108,
   "id": "e4c3d9c9-2951-4ed1-a83f-b736ac90d1dd",
   "metadata": {},
   "outputs": [
    {
     "data": {
      "text/plain": [
       "1024.0"
      ]
     },
     "execution_count": 108,
     "metadata": {},
     "output_type": "execute_result"
    }
   ],
   "source": [
    "math.pow(2,10)"
   ]
  },
  {
   "cell_type": "code",
   "execution_count": 114,
   "id": "c8ce8667-b2a5-4457-a571-85ce4e7fa309",
   "metadata": {},
   "outputs": [
    {
     "data": {
      "text/plain": [
       "1"
      ]
     },
     "execution_count": 114,
     "metadata": {},
     "output_type": "execute_result"
    }
   ],
   "source": [
    "math.ceil(math.sin(22/14))"
   ]
  },
  {
   "cell_type": "code",
   "execution_count": 122,
   "id": "be0272ab-1808-4cf9-9b13-333c884121c8",
   "metadata": {},
   "outputs": [],
   "source": [
    "import time"
   ]
  },
  {
   "cell_type": "code",
   "execution_count": 126,
   "id": "3207e2d7-2bf6-4676-8354-d9fba585d5da",
   "metadata": {},
   "outputs": [
    {
     "name": "stdout",
     "output_type": "stream",
     "text": [
      "I am Nagaraj\n",
      "Assignment done\n"
     ]
    }
   ],
   "source": [
    "print('I am Nagaraj')\n",
    "time.sleep(3)\n",
    "print('Assignment done')"
   ]
  },
  {
   "cell_type": "code",
   "execution_count": 132,
   "id": "cb847812-c793-471a-8291-8765948b52ac",
   "metadata": {},
   "outputs": [
    {
     "name": "stdout",
     "output_type": "stream",
     "text": [
      "My name is Nag\n"
     ]
    }
   ],
   "source": [
    "time.sleep(1)\n",
    "start = time.time()\n",
    "print('My name is Nag')\n",
    "time.sleep(2)\n",
    "end=time.time()"
   ]
  },
  {
   "cell_type": "code",
   "execution_count": 136,
   "id": "5e9b7fac-4c01-4e12-9a31-48e075ddfba6",
   "metadata": {},
   "outputs": [
    {
     "data": {
      "text/plain": [
       "8"
      ]
     },
     "execution_count": 136,
     "metadata": {},
     "output_type": "execute_result"
    }
   ],
   "source": [
    "import random\n",
    "\n",
    "random.randint(1,10)\n",
    "\n",
    "from random import randint\n",
    "randint(1,10)\n",
    "\n",
    "from random import randint as rt\n",
    "rt(1,10)"
   ]
  },
  {
   "cell_type": "code",
   "execution_count": null,
   "id": "aa146ccd-b19c-4374-8ddb-cf60536faa99",
   "metadata": {},
   "outputs": [],
   "source": []
  }
 ],
 "metadata": {
  "kernelspec": {
   "display_name": "Python [conda env:base] *",
   "language": "python",
   "name": "conda-base-py"
  },
  "language_info": {
   "codemirror_mode": {
    "name": "ipython",
    "version": 3
   },
   "file_extension": ".py",
   "mimetype": "text/x-python",
   "name": "python",
   "nbconvert_exporter": "python",
   "pygments_lexer": "ipython3",
   "version": "3.12.7"
  }
 },
 "nbformat": 4,
 "nbformat_minor": 5
}
