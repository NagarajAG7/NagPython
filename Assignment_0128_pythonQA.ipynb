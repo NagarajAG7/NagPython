{
 "cells": [
  {
   "cell_type": "markdown",
   "id": "dc295138-8044-4525-949c-1d9fb6a5e65c",
   "metadata": {},
   "source": [
    "**Program 1**"
   ]
  },
  {
   "cell_type": "code",
   "execution_count": 4,
   "id": "3db60c79-964e-46c7-9547-acf4fffdbc45",
   "metadata": {},
   "outputs": [
    {
     "name": "stdout",
     "output_type": "stream",
     "text": [
      "Hello Python\n"
     ]
    }
   ],
   "source": [
    "print(\"Hello Python\")"
   ]
  },
  {
   "cell_type": "markdown",
   "id": "ee917b54-54e9-461f-ae59-db55018b4612",
   "metadata": {},
   "source": [
    "**Program 2**"
   ]
  },
  {
   "cell_type": "code",
   "execution_count": 41,
   "id": "74aabc44-1eca-4d4d-aad3-60b48479f73d",
   "metadata": {},
   "outputs": [
    {
     "name": "stdin",
     "output_type": "stream",
     "text": [
      "Enter a number: -100.00015425\n",
      "Enter another number: 10\n"
     ]
    },
    {
     "name": "stdout",
     "output_type": "stream",
     "text": [
      "-90.00015425\n",
      "-10.000015424999999\n"
     ]
    }
   ],
   "source": [
    "try:\n",
    "    num1=float(input('Enter a number:'))\n",
    "    num2=int(input('Enter another number:'))\n",
    "\n",
    "    if num2 == 0:\n",
    "        print(\"Enter second number non-zero integer only\")\n",
    "    else:\n",
    "        sum1=num1+num2\n",
    "        div1=num1/num2\n",
    "        print(sum1)\n",
    "        print(div1)\n",
    "except Exception as e:\n",
    "    print(e)"
   ]
  },
  {
   "cell_type": "markdown",
   "id": "1382a167-3ddf-415b-8f77-ffa808e0f84c",
   "metadata": {},
   "source": [
    "**Program 3**"
   ]
  },
  {
   "cell_type": "code",
   "execution_count": 48,
   "id": "372a21b2-d969-4348-a81e-9e854932b3e3",
   "metadata": {},
   "outputs": [
    {
     "name": "stdin",
     "output_type": "stream",
     "text": [
      "Enter the Base: 50\n",
      "Enter the Height: 20\n"
     ]
    },
    {
     "name": "stdout",
     "output_type": "stream",
     "text": [
      "Area of the Triangle whose Base is 50 and Height is 20 is 500.0\n"
     ]
    }
   ],
   "source": [
    "try:\n",
    "    base=eval(input('Enter the Base:'))\n",
    "    height=eval(input('Enter the Height:'))\n",
    "    print(f'Area of the Triangle whose Base is {base} and Height is {height} is {base*height/2}')\n",
    "except Exception as e:\n",
    "    print(e)"
   ]
  },
  {
   "cell_type": "markdown",
   "id": "89a250ca-0e54-4490-b60a-6d81d78ff4d2",
   "metadata": {},
   "source": [
    "**Program 4**"
   ]
  },
  {
   "cell_type": "code",
   "execution_count": 50,
   "id": "721ecc20-9c20-439e-8e54-509c2aa2f9bb",
   "metadata": {},
   "outputs": [
    {
     "name": "stdin",
     "output_type": "stream",
     "text": [
      "enter first value: abc\n",
      "enter second value: 2\n"
     ]
    },
    {
     "name": "stdout",
     "output_type": "stream",
     "text": [
      "after swapping first value is: 2\n",
      "second value is: abc\n"
     ]
    }
   ],
   "source": [
    "x=input('enter first value:')\n",
    "y=input('enter second value:')\n",
    "temp=x\n",
    "x=y\n",
    "y=temp\n",
    "print('after swapping first value is:',x)\n",
    "print('second value is:',y)"
   ]
  },
  {
   "cell_type": "markdown",
   "id": "3a317435-b12c-4b32-81b3-3d0d432f4dec",
   "metadata": {},
   "source": [
    "**Program 5**"
   ]
  },
  {
   "cell_type": "code",
   "execution_count": 58,
   "id": "40c73de8-fe3f-4db6-ad79-60fbb5d201cc",
   "metadata": {},
   "outputs": [
    {
     "name": "stdout",
     "output_type": "stream",
     "text": [
      "35\n"
     ]
    }
   ],
   "source": [
    "import random\n",
    "print(random.randint(1,100))"
   ]
  },
  {
   "cell_type": "markdown",
   "id": "d6852ee4-b47f-424e-9c56-3d6e88f22458",
   "metadata": {},
   "source": [
    "**Program 6**"
   ]
  },
  {
   "cell_type": "code",
   "execution_count": 71,
   "id": "3613bed6-cfff-405e-823f-57fac041a9fb",
   "metadata": {},
   "outputs": [
    {
     "name": "stdin",
     "output_type": "stream",
     "text": [
      "Enter distance in Kilometer: 2.32\n"
     ]
    },
    {
     "name": "stdout",
     "output_type": "stream",
     "text": [
      "Distance in Miles is 1.4416\n"
     ]
    }
   ],
   "source": [
    "km=eval(input('Enter distance in Kilometer:'))\n",
    "#mile=km*0.621371\n",
    "print(\"Distance in Miles is\",round(km*0.621371,4))"
   ]
  },
  {
   "cell_type": "markdown",
   "id": "26681c66-a426-4571-a233-80ac6a524eca",
   "metadata": {},
   "source": [
    "**Program 7**"
   ]
  },
  {
   "cell_type": "code",
   "execution_count": 17,
   "id": "fa9097b3-0a72-4f80-b74c-55d4d9d1987c",
   "metadata": {},
   "outputs": [
    {
     "name": "stdin",
     "output_type": "stream",
     "text": [
      "Enter Temperature: 3\n",
      "Enter the Units eg Celcius or Fahrenheit: c\n"
     ]
    },
    {
     "name": "stdout",
     "output_type": "stream",
     "text": [
      "Enter the units exactly as Celcius or Fahrenheit\n"
     ]
    },
    {
     "name": "stdin",
     "output_type": "stream",
     "text": [
      "Enter Temperature: 86545\n",
      "Enter the Units eg Celcius or Fahrenheit: f\n"
     ]
    },
    {
     "name": "stdout",
     "output_type": "stream",
     "text": [
      "Enter the units exactly as Celcius or Fahrenheit\n"
     ]
    },
    {
     "name": "stdin",
     "output_type": "stream",
     "text": [
      "Enter Temperature: 6654\n",
      "Enter the Units eg Celcius or Fahrenheit: cecc\n"
     ]
    },
    {
     "name": "stdout",
     "output_type": "stream",
     "text": [
      "Enter the units exactly as Celcius or Fahrenheit\n"
     ]
    }
   ],
   "source": [
    "def temp():\n",
    "    try:\n",
    "        for i in range(3):\n",
    "            a=float(input(\"Enter Temperature:\"))\n",
    "            b=str(input(\"Enter the Units eg Celcius or Fahrenheit:\"))\n",
    "            if b=='Celcius':\n",
    "                print(\"Temperature in Fahrenheit:\",round((a*9/5)+32,2))\n",
    "                break\n",
    "            elif b == 'Fahrenheit':\n",
    "                print(\"Temperature in Celcius:\",round((a-32)*5/9),2)\n",
    "                break\n",
    "            else:\n",
    "                print(\"Enter the units exactly as Celcius or Fahrenheit\")\n",
    "    except Exception as e:\n",
    "        print(e)\n",
    "temp()\n"
   ]
  },
  {
   "cell_type": "markdown",
   "id": "7643e5ca-a028-471c-b7ee-13470a6d6386",
   "metadata": {},
   "source": [
    "**Program 8**"
   ]
  },
  {
   "cell_type": "code",
   "execution_count": 32,
   "id": "9ed8cae8-46b7-423c-8645-7f538ba4f00b",
   "metadata": {},
   "outputs": [
    {
     "name": "stdin",
     "output_type": "stream",
     "text": [
      "Enter the Year: 2024\n",
      "Enter the Month: 8\n"
     ]
    },
    {
     "name": "stdout",
     "output_type": "stream",
     "text": [
      "    August 2024\n",
      "Mo Tu We Th Fr Sa Su\n",
      "          1  2  3  4\n",
      " 5  6  7  8  9 10 11\n",
      "12 13 14 15 16 17 18\n",
      "19 20 21 22 23 24 25\n",
      "26 27 28 29 30 31\n",
      "\n"
     ]
    }
   ],
   "source": [
    "import calendar\n",
    "\n",
    "year = int(input('Enter the Year:'))\n",
    "month = int(input('Enter the Month:'))\n",
    "print(calendar.month(year,month))"
   ]
  },
  {
   "cell_type": "markdown",
   "id": "83cb0ec8-a44f-4a0f-9189-22825456ca1f",
   "metadata": {},
   "source": [
    "**Program 9**"
   ]
  },
  {
   "cell_type": "code",
   "execution_count": 93,
   "id": "673fce9a-2688-4b69-8c6a-7a611ca201a0",
   "metadata": {},
   "outputs": [
    {
     "name": "stdin",
     "output_type": "stream",
     "text": [
      "Enter Coefficient of a: 4\n",
      "Enter Coefficient of b: 2\n",
      "Enter Coefficient of c: 1\n"
     ]
    },
    {
     "name": "stdout",
     "output_type": "stream",
     "text": [
      "-0.25 + 0.43i\n",
      "-0.25 - 0.43i\n",
      "The solution of the Quadratic equation 4.0 x^2 + 2.0 x + 1.0 = 0 are Roots are imaginary.\n",
      "The solutions are None and None\n"
     ]
    }
   ],
   "source": [
    "import math\n",
    "import time\n",
    "try:\n",
    "    a=float(input('Enter Coefficient of a:'))\n",
    "    b=float(input('Enter Coefficient of b:'))\n",
    "    c=float(input('Enter Coefficient of c:'))\n",
    "    d=(b*b)-(4*a*c)\n",
    "    \n",
    "    if d>0:\n",
    "        rem = \"Roots are real and unequal\"\n",
    "        sqd=math.sqrt(d)\n",
    "        ans1=round((-b+sqd)/(2*a),2)\n",
    "        ans2=round((-b-sqd)/(2*a),2)\n",
    "\n",
    "    elif d==0:\n",
    "        rem = \"Roots are real and equal\"\n",
    "        sqd=math.sqrt(d)\n",
    "        ans1=round((-b+sqd)/(2*a),2)\n",
    "        ans2=round((-b-sqd)/(2*a),2)\n",
    "    else:\n",
    "        rem = \"Roots are imaginary\"\n",
    "        real_part=-b/(2*a)\n",
    "        imag_part=round(math.sqrt(abs(d))/(2*a),2)\n",
    "        ans1=print(f'{real_part} + {imag_part}i')\n",
    "        ans2=print(f'{real_part} - {imag_part}i')\n",
    "\n",
    "    print(f'The solution of the Quadratic equation {a} x^2 + {b} x + {c} = 0 are {rem}.')\n",
    "    time.sleep(1)\n",
    "    print('The solutions are',ans1,\"and\",ans2)\n",
    "except Exception as e:\n",
    "    print(e)\n"
   ]
  },
  {
   "cell_type": "markdown",
   "id": "0daa8380-1c76-4216-b329-e052ae4f3652",
   "metadata": {},
   "source": [
    "**Program 10**"
   ]
  },
  {
   "cell_type": "code",
   "execution_count": 102,
   "id": "e433f082-9505-45c1-becf-bf7c9ca5fd43",
   "metadata": {},
   "outputs": [
    {
     "name": "stdin",
     "output_type": "stream",
     "text": [
      "Enter a value: 1\n",
      "Enter another value: 2\n"
     ]
    },
    {
     "name": "stdout",
     "output_type": "stream",
     "text": [
      "Entered values first=1 and second=2\n",
      "After swapping\n",
      "Entered values first=2 and second=1\n"
     ]
    }
   ],
   "source": [
    "a=eval(input('Enter a value:'))\n",
    "b=eval(input('Enter another value:'))\n",
    "\n",
    "print(f'Entered values first={a} and second={b}')\n",
    "time.sleep(1)\n",
    "a, b = b, a\n",
    "print('After swapping')\n",
    "print(f'Entered values first={a} and second={b}')\n"
   ]
  },
  {
   "cell_type": "code",
   "execution_count": null,
   "id": "c223bc5b-f7da-463d-872b-45233152dfdd",
   "metadata": {},
   "outputs": [],
   "source": []
  }
 ],
 "metadata": {
  "kernelspec": {
   "display_name": "Python [conda env:base] *",
   "language": "python",
   "name": "conda-base-py"
  },
  "language_info": {
   "codemirror_mode": {
    "name": "ipython",
    "version": 3
   },
   "file_extension": ".py",
   "mimetype": "text/x-python",
   "name": "python",
   "nbconvert_exporter": "python",
   "pygments_lexer": "ipython3",
   "version": "3.12.7"
  }
 },
 "nbformat": 4,
 "nbformat_minor": 5
}
