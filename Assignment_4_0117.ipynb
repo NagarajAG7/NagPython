{
 "cells": [
  {
   "cell_type": "code",
   "execution_count": 6,
   "id": "5d0f9580-dc60-4ba5-8766-d87cf8569dd4",
   "metadata": {},
   "outputs": [
    {
     "name": "stdin",
     "output_type": "stream",
     "text": [
      "Enter first number: 555777\n",
      "Enter Second number: 555777\n"
     ]
    },
    {
     "name": "stdout",
     "output_type": "stream",
     "text": [
      "We are won\n"
     ]
    }
   ],
   "source": [
    "num1=eval(input(\"Enter first number:\"))\n",
    "num2=eval(input(\"Enter Second number:\"))\n",
    "if num1==num2:\n",
    "    print(\"We are won\")\n",
    "else:\n",
    "    print(\"We lost\")"
   ]
  },
  {
   "cell_type": "code",
   "execution_count": 64,
   "id": "7f40a95e-c989-4310-a461-f9ea81bebb9d",
   "metadata": {},
   "outputs": [
    {
     "name": "stdin",
     "output_type": "stream",
     "text": [
      "Enter any number: 2\n"
     ]
    },
    {
     "name": "stdout",
     "output_type": "stream",
     "text": [
      "We lost\n"
     ]
    }
   ],
   "source": [
    "import random\n",
    "num3=eval(input(\"Enter any number:\"))\n",
    "num4=random.randint(1,10)\n",
    "if num4==num3:\n",
    "    print(\"We are won\")\n",
    "else:\n",
    "    print(\"We lost\")"
   ]
  },
  {
   "cell_type": "code",
   "execution_count": 104,
   "id": "2e99e43d-df86-4a71-91a7-6473d8363ece",
   "metadata": {},
   "outputs": [
    {
     "name": "stdin",
     "output_type": "stream",
     "text": [
      "Enter a number greater than zero: 221\n"
     ]
    },
    {
     "name": "stdout",
     "output_type": "stream",
     "text": [
      "the given number is odd\n"
     ]
    }
   ],
   "source": [
    "num5=eval(input(\"Enter a number greater than zero:\"))\n",
    "num6=num5%2\n",
    "if num5<=0:\n",
    "    print(\"you have entered an incorrect number\")\n",
    "elif num6==0:\n",
    "    print(\"the given number is even\")\n",
    "else:\n",
    "    print(\"the given number is odd\")"
   ]
  },
  {
   "cell_type": "code",
   "execution_count": 132,
   "id": "f82a3e86-7baa-407e-9ee1-570015dbe4f5",
   "metadata": {},
   "outputs": [
    {
     "name": "stdin",
     "output_type": "stream",
     "text": [
      "Enter the distance in KM: 100\n",
      "Enter the charges per KM: 10\n"
     ]
    },
    {
     "name": "stdout",
     "output_type": "stream",
     "text": [
      "Total charges: 750\n"
     ]
    }
   ],
   "source": [
    "num7=eval(input('Enter the distance in KM:'))\n",
    "if num7>25:\n",
    "    #num8=eval(input('Enter the charges per KM:'))\n",
    "    num9=(num7-25)*eval(input('Enter the charges per KM:'))\n",
    "    print('Total charges:',num9)\n",
    "else:\n",
    "    print('Its a free ride')"
   ]
  },
  {
   "cell_type": "code",
   "execution_count": 144,
   "id": "78db7835-2fe8-4abf-a8aa-5e95929bcc59",
   "metadata": {},
   "outputs": [
    {
     "name": "stdin",
     "output_type": "stream",
     "text": [
      "Enter a number: 6884\n",
      "Enter another number: 11122\n"
     ]
    },
    {
     "name": "stdout",
     "output_type": "stream",
     "text": [
      "Second number 11122 is greater than first number 6884\n"
     ]
    }
   ],
   "source": [
    "n1=eval(input('Enter a number:'))\n",
    "n2=eval(input('Enter another number:'))\n",
    "if n1>n2:\n",
    "    print(f'First number {n1} is greater than second number {n2}')\n",
    "else:\n",
    "    print(f'Second number {n2} is greater than first number {n1}')"
   ]
  },
  {
   "cell_type": "code",
   "execution_count": 156,
   "id": "7fb0e0fc-c690-4bcc-a26c-c9dcf62259a0",
   "metadata": {},
   "outputs": [
    {
     "name": "stdin",
     "output_type": "stream",
     "text": [
      "Enter the course name: Data Science\n",
      "Enter the institute name: Naresh IT\n"
     ]
    },
    {
     "name": "stdout",
     "output_type": "stream",
     "text": [
      "We are Good\n"
     ]
    }
   ],
   "source": [
    "a1=input(\"Enter the course name:\")\n",
    "a2=input(\"Enter the institute name:\")\n",
    "if a1==\"Data Science\" and a2=='Naresh IT':\n",
    "    print('We are Good')\n",
    "else:\n",
    "    print('Not Good')"
   ]
  },
  {
   "cell_type": "code",
   "execution_count": null,
   "id": "73459cae-5be0-4efb-b729-6cd456b8783b",
   "metadata": {},
   "outputs": [],
   "source": []
  }
 ],
 "metadata": {
  "kernelspec": {
   "display_name": "Python [conda env:base] *",
   "language": "python",
   "name": "conda-base-py"
  },
  "language_info": {
   "codemirror_mode": {
    "name": "ipython",
    "version": 3
   },
   "file_extension": ".py",
   "mimetype": "text/x-python",
   "name": "python",
   "nbconvert_exporter": "python",
   "pygments_lexer": "ipython3",
   "version": "3.12.7"
  }
 },
 "nbformat": 4,
 "nbformat_minor": 5
}
