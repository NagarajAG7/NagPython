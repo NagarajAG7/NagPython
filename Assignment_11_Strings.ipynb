{
 "cells": [
  {
   "cell_type": "code",
   "execution_count": 15,
   "id": "299596fa-452f-404b-9b32-97bcce2903eb",
   "metadata": {},
   "outputs": [
    {
     "name": "stdout",
     "output_type": "stream",
     "text": [
      "a 2\n",
      "a 6\n",
      "a 10\n"
     ]
    }
   ],
   "source": [
    "# Q4) write a progarm to find the indexes of 'a' in a given string\n",
    "#     str1='ola ola ola'\n",
    "str1='ola ola ola'\n",
    "j=''\n",
    "for i in range(len(str1)):\n",
    "    if str1[i]=='a':\n",
    "        print(str1[i],i)"
   ]
  },
  {
   "cell_type": "code",
   "execution_count": 21,
   "id": "603b1ea0-5fbc-4f5c-a134-b40231b12489",
   "metadata": {},
   "outputs": [
    {
     "name": "stdout",
     "output_type": "stream",
     "text": [
      "2 2\n",
      "6 8\n",
      "10 18\n",
      "18\n"
     ]
    }
   ],
   "source": [
    "# Q5) write a program to find the sum of all indexes of 'a' in a given string\n",
    "#    str1='ola ola ola'\n",
    "str1='ola ola ola'\n",
    "j=0\n",
    "for i in range(len(str1)):\n",
    "    if str1[i] == 'a':\n",
    "        j += i\n",
    "        print(i,j)\n",
    "print(j)\n"
   ]
  },
  {
   "cell_type": "code",
   "execution_count": 29,
   "id": "3586edaa-c1d3-411e-b697-272cb2bfb257",
   "metadata": {},
   "outputs": [
    {
     "name": "stdout",
     "output_type": "stream",
     "text": [
      "3\n"
     ]
    }
   ],
   "source": [
    "# Q6) write a progarm to find the number of 'a' in a given string\n",
    "#    str1='ola ola ola'\n",
    "str1='ola ola ola'\n",
    "j=0\n",
    "for i in range(len(str1)):\n",
    "    if str1[i]=='a':\n",
    "        j += 1\n",
    "        #print(str1[i],i,j)\n",
    "print(j)\n"
   ]
  },
  {
   "cell_type": "code",
   "execution_count": 35,
   "id": "b3261736-c8d3-4c7e-a26d-9e2b30c30a16",
   "metadata": {},
   "outputs": [
    {
     "name": "stdout",
     "output_type": "stream",
     "text": [
      "7\n"
     ]
    }
   ],
   "source": [
    "# Q7) write a progarm to find the vowels and its count in a given string\n",
    "#    str1='hai how are you'\n",
    "str1='hai how are you'\n",
    "vow='aeiou'\n",
    "j=''\n",
    "for i in str1:\n",
    "    if i in vow:\n",
    "        j += i\n",
    "        #print(i,j)\n",
    "print(len(j))\n"
   ]
  },
  {
   "cell_type": "code",
   "execution_count": 39,
   "id": "37710992-8dd9-4c2b-b579-b39a1656faae",
   "metadata": {},
   "outputs": [
    {
     "name": "stdout",
     "output_type": "stream",
     "text": [
      "aioeu\n"
     ]
    }
   ],
   "source": [
    "# Q8) write a progarm to find the vowels which are repaeting then print only\n",
    "#     one time\n",
    "#     example: helleo  \n",
    "#      e is coming two times but we want to print only one time#\n",
    "str1 ='hai how are you'\n",
    "vow='aeiou'\n",
    "j=''\n",
    "for i in str1:\n",
    "    if i in vow and i not in j:\n",
    "        j += i\n",
    "print(j)"
   ]
  },
  {
   "cell_type": "code",
   "execution_count": null,
   "id": "1223add3-3789-4bdc-8a09-cbbaf5c3c5a8",
   "metadata": {},
   "outputs": [],
   "source": []
  }
 ],
 "metadata": {
  "kernelspec": {
   "display_name": "Python [conda env:base] *",
   "language": "python",
   "name": "conda-base-py"
  },
  "language_info": {
   "codemirror_mode": {
    "name": "ipython",
    "version": 3
   },
   "file_extension": ".py",
   "mimetype": "text/x-python",
   "name": "python",
   "nbconvert_exporter": "python",
   "pygments_lexer": "ipython3",
   "version": "3.12.7"
  }
 },
 "nbformat": 4,
 "nbformat_minor": 5
}
