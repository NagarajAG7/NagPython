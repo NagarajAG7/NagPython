{
 "cells": [
  {
   "cell_type": "code",
   "execution_count": 1,
   "id": "6d3617a5-176d-4035-9b42-68c283b50e99",
   "metadata": {},
   "outputs": [
    {
     "name": "stdout",
     "output_type": "stream",
     "text": [
      "100 is greater than 0\n"
     ]
    }
   ],
   "source": [
    "if 100>0:\n",
    "    print(\"100 is greater than 0\")"
   ]
  },
  {
   "cell_type": "code",
   "execution_count": 5,
   "id": "b13d81bd-3f88-40b1-97aa-c1ec9c1cdd54",
   "metadata": {},
   "outputs": [
    {
     "name": "stdout",
     "output_type": "stream",
     "text": [
      "100 is greater than 0\n"
     ]
    }
   ],
   "source": [
    "if 100<0:\n",
    "    print(\"100 is smaller than 0\")\n",
    "else:    \n",
    "    print(\"100 is greater than 0\")"
   ]
  },
  {
   "cell_type": "code",
   "execution_count": 11,
   "id": "34a3d964-30e5-4c71-84e1-3df772d326a5",
   "metadata": {},
   "outputs": [
    {
     "name": "stdout",
     "output_type": "stream",
     "text": [
      "It is True\n"
     ]
    }
   ],
   "source": [
    "n1='Hello'\n",
    "if (n1=='Hello'):\n",
    "    print(\"It is True\")\n",
    "else:\n",
    "    print(\"It is False\")"
   ]
  },
  {
   "cell_type": "code",
   "execution_count": 48,
   "id": "e3e3523f-d307-4a05-b0a3-ac8f138930fe",
   "metadata": {},
   "outputs": [
    {
     "name": "stdin",
     "output_type": "stream",
     "text": [
      "Enter your name: Raj\n"
     ]
    },
    {
     "name": "stdout",
     "output_type": "stream",
     "text": [
      "You are not Nagaraj\n",
      "Bye Raj\n",
      "Hope all good\n"
     ]
    }
   ],
   "source": [
    "import time\n",
    "n1=input(\"Enter your name:\")\n",
    "if (n1=='Nagaraj'):\n",
    "    print(\"It is True that you are Nagaraj\")\n",
    "    time.sleep(1)\n",
    "    print('You can open Python Software')\n",
    "else:\n",
    "    print(\"You are not Nagaraj\")\n",
    "    time.sleep(1.5)\n",
    "    print(\"Bye\",n1)\n",
    "time.sleep(1.5)\n",
    "print(\"Hope all good\")"
   ]
  },
  {
   "cell_type": "code",
   "execution_count": 60,
   "id": "1381000b-5c4b-492c-ba89-029f5029e943",
   "metadata": {},
   "outputs": [
    {
     "name": "stdin",
     "output_type": "stream",
     "text": [
      "Enter a value:  100\n"
     ]
    },
    {
     "name": "stdout",
     "output_type": "stream",
     "text": [
      "100 is greater than 10\n"
     ]
    }
   ],
   "source": [
    "n2=input(\"Enter a value: \")\n",
    "if (eval(n2)>10):\n",
    "    print(n2,\"is greater than 10\")"
   ]
  },
  {
   "cell_type": "code",
   "execution_count": 64,
   "id": "bb039eb8-3d19-401d-9188-f41fc87f69ab",
   "metadata": {},
   "outputs": [
    {
     "name": "stdin",
     "output_type": "stream",
     "text": [
      "Enter a value:  5\n"
     ]
    },
    {
     "name": "stdout",
     "output_type": "stream",
     "text": [
      "5 is less than 10\n"
     ]
    }
   ],
   "source": [
    "n2=input(\"Enter a value: \")\n",
    "if (eval(n3)>10):\n",
    "    print(n3,\"is greater than 10\")\n",
    "else:\n",
    "    print(n3,\"is less than 10\")"
   ]
  },
  {
   "cell_type": "code",
   "execution_count": 88,
   "id": "f7334eff-86fe-408c-a1cc-11c911d63283",
   "metadata": {},
   "outputs": [
    {
     "name": "stdout",
     "output_type": "stream",
     "text": [
      "58 is greater than 10\n"
     ]
    }
   ],
   "source": [
    "import random\n",
    "n4=random.randint(1,100)\n",
    "if (n4>10):\n",
    "    print(n4,\"is greater than 10\")\n",
    "else:\n",
    "    print(n4,\"is less than 10\")"
   ]
  },
  {
   "cell_type": "code",
   "execution_count": 92,
   "id": "1bff2ac1-a770-4eb0-986e-cccffb72f66c",
   "metadata": {},
   "outputs": [
    {
     "name": "stdin",
     "output_type": "stream",
     "text": [
      "Enter first value: 3\n",
      "Enter second value: 1\n"
     ]
    },
    {
     "name": "stdout",
     "output_type": "stream",
     "text": [
      "3 is greater than 1\n"
     ]
    }
   ],
   "source": [
    "n1=eval(input(\"Enter first value:\"))\n",
    "n2=eval(input(\"Enter second value:\"))\n",
    "if(n1>n2):\n",
    "    print(n1,\"is greater than\",n2)\n",
    "else:\n",
    "    print(n2,\"is greater than\",n1)"
   ]
  },
  {
   "cell_type": "code",
   "execution_count": 139,
   "id": "9a9fbfaf-129b-4a98-a730-c4a357548025",
   "metadata": {},
   "outputs": [
    {
     "name": "stdout",
     "output_type": "stream",
     "text": [
      "19 is less than 31\n"
     ]
    }
   ],
   "source": [
    "import random\n",
    "n11=random.randint(1,50)\n",
    "n21=random.choice([2,3,5,7,11,13,17,19,23,29,31,37,43])\n",
    "if(n11>n21):\n",
    "    print(n11,\"is greater than\",n21)\n",
    "else:\n",
    "\n",
    "    print(n11,\"is less than\",n21)"
   ]
  },
  {
   "cell_type": "code",
   "execution_count": 165,
   "id": "6ce8119b-8283-4fe3-a834-0095372434d4",
   "metadata": {},
   "outputs": [
    {
     "name": "stdout",
     "output_type": "stream",
     "text": [
      "15 is not a prime number\n"
     ]
    }
   ],
   "source": [
    "import random\n",
    "n11=random.randint(1,50)\n",
    "n21=random.choice([2,3,5,7,11,13,17,19,23,29,31,37,43])\n",
    "if(n11==n21):\n",
    "    print(n11,\"is a prime number\")\n",
    "else:\n",
    "    print(n11,\"is not a prime number\")"
   ]
  },
  {
   "cell_type": "code",
   "execution_count": 171,
   "id": "bd2afd1a-421b-420a-a7cd-a7fc4b3e5c14",
   "metadata": {},
   "outputs": [
    {
     "name": "stdin",
     "output_type": "stream",
     "text": [
      "Enter the distance: 50\n"
     ]
    },
    {
     "name": "stdout",
     "output_type": "stream",
     "text": [
      "You have to pay the charges\n"
     ]
    },
    {
     "name": "stdin",
     "output_type": "stream",
     "text": [
      "Enter the charge per KM: 5\n"
     ]
    },
    {
     "name": "stdout",
     "output_type": "stream",
     "text": [
      "Charges that you have to pay is: 250  with gst 25.0 . Total charges= 275\n"
     ]
    }
   ],
   "source": [
    "import math\n",
    "\n",
    "d1=input(\"Enter the distance:\")\n",
    "if(eval(d1)>25):\n",
    "    print(\"You have to pay the charges\")\n",
    "    time.sleep(1)\n",
    "    k1=input(\"Enter the charge per KM:\")\n",
    "    ch1=eval(d1)*eval(k1)\n",
    "    gst1=ch1*10/100\n",
    "    tot= math.ceil( ch1+gst1)\n",
    "    print('Charges that you have to pay is:',ch1,' with gst',gst1,'. Total charges=',tot)\n",
    "else:\n",
    "    print(\"Its a free ride\")"
   ]
  },
  {
   "cell_type": "code",
   "execution_count": 205,
   "id": "df7ccef1-5e01-40b0-9767-ee31322fe853",
   "metadata": {},
   "outputs": [
    {
     "name": "stdin",
     "output_type": "stream",
     "text": [
      "Enter a value: 1\n"
     ]
    },
    {
     "name": "stdout",
     "output_type": "stream",
     "text": [
      "You not won\n",
      "5 1\n"
     ]
    }
   ],
   "source": [
    "import random\n",
    "ab1=random.randint(1,10)\n",
    "ab2=input(\"Enter a value:\")\n",
    "if(ab1==eval(ab2)):\n",
    "    print(\"You Won\")\n",
    "else:\n",
    "    print('You not won')\n",
    "    print(ab1,ab2)\n",
    "\n"
   ]
  },
  {
   "cell_type": "code",
   "execution_count": null,
   "id": "d524bc67-bf87-4025-b32e-53e617471e07",
   "metadata": {},
   "outputs": [],
   "source": []
  }
 ],
 "metadata": {
  "kernelspec": {
   "display_name": "Python [conda env:base] *",
   "language": "python",
   "name": "conda-base-py"
  },
  "language_info": {
   "codemirror_mode": {
    "name": "ipython",
    "version": 3
   },
   "file_extension": ".py",
   "mimetype": "text/x-python",
   "name": "python",
   "nbconvert_exporter": "python",
   "pygments_lexer": "ipython3",
   "version": "3.12.7"
  }
 },
 "nbformat": 4,
 "nbformat_minor": 5
}
