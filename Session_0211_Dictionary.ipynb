{
 "cells": [
  {
   "cell_type": "code",
   "execution_count": 29,
   "id": "e921b818-c707-4083-b520-2ce9e5ea7d16",
   "metadata": {},
   "outputs": [
    {
     "data": {
      "text/plain": [
       "'Apple'"
      ]
     },
     "execution_count": 29,
     "metadata": {},
     "output_type": "execute_result"
    }
   ],
   "source": [
    "dic1={'Apple':20,'Banana':30,'Cherry':50}\n",
    "dic2={'Apple':20,'apple':30}\n",
    "dic3={20:'Apple',30:'Banana',50:'Cherry'}\n",
    "dic4={'pple':20,'Banana':30,'Cherry':50,'Orange':25}\n",
    "dic5={30:'Banana',50:'Cherry',20:'Apple'}\n",
    "min(dic1)\n"
   ]
  },
  {
   "cell_type": "code",
   "execution_count": 3,
   "id": "f58a9543-d8db-40a9-bd8a-a5a4879fe48c",
   "metadata": {},
   "outputs": [
    {
     "data": {
      "text/plain": [
       "'Cherry'"
      ]
     },
     "execution_count": 3,
     "metadata": {},
     "output_type": "execute_result"
    }
   ],
   "source": [
    "max(dic1)"
   ]
  },
  {
   "cell_type": "code",
   "execution_count": 15,
   "id": "11389d99-0e50-4433-915e-03260a8b76e4",
   "metadata": {},
   "outputs": [
    {
     "data": {
      "text/plain": [
       "'apple'"
      ]
     },
     "execution_count": 15,
     "metadata": {},
     "output_type": "execute_result"
    }
   ],
   "source": [
    "max(dic2)"
   ]
  },
  {
   "cell_type": "code",
   "execution_count": 21,
   "id": "bbf8e62e-f5ac-4008-b20f-a7145978e9d8",
   "metadata": {},
   "outputs": [
    {
     "data": {
      "text/plain": [
       "'Orange'"
      ]
     },
     "execution_count": 21,
     "metadata": {},
     "output_type": "execute_result"
    }
   ],
   "source": [
    "max(dic4)"
   ]
  },
  {
   "cell_type": "code",
   "execution_count": 25,
   "id": "e6a5eabe-7fc8-4c9b-b72a-b7cffc7f73b2",
   "metadata": {},
   "outputs": [
    {
     "data": {
      "text/plain": [
       "'Banana'"
      ]
     },
     "execution_count": 25,
     "metadata": {},
     "output_type": "execute_result"
    }
   ],
   "source": [
    "min(dic4)"
   ]
  },
  {
   "cell_type": "code",
   "execution_count": 27,
   "id": "24b7153f-8c20-4959-b8cd-5d28363060c1",
   "metadata": {},
   "outputs": [
    {
     "data": {
      "text/plain": [
       "50"
      ]
     },
     "execution_count": 27,
     "metadata": {},
     "output_type": "execute_result"
    }
   ],
   "source": [
    "max(dic3)"
   ]
  },
  {
   "cell_type": "code",
   "execution_count": 31,
   "id": "d9f4379d-9d8d-4419-8d67-e729a7980c4b",
   "metadata": {},
   "outputs": [
    {
     "data": {
      "text/plain": [
       "50"
      ]
     },
     "execution_count": 31,
     "metadata": {},
     "output_type": "execute_result"
    }
   ],
   "source": [
    "max(dic5)"
   ]
  },
  {
   "cell_type": "code",
   "execution_count": 33,
   "id": "565bbc93-c6b0-4148-84db-5ebf6fdaaf34",
   "metadata": {},
   "outputs": [
    {
     "data": {
      "text/plain": [
       "20"
      ]
     },
     "execution_count": 33,
     "metadata": {},
     "output_type": "execute_result"
    }
   ],
   "source": [
    "min(dic5)"
   ]
  },
  {
   "cell_type": "code",
   "execution_count": 41,
   "id": "31ff45c0-b29d-4cc9-9525-73f8715f7541",
   "metadata": {},
   "outputs": [
    {
     "data": {
      "text/plain": [
       "['Cherry', 'Banana', 'Apple']"
      ]
     },
     "execution_count": 41,
     "metadata": {},
     "output_type": "execute_result"
    }
   ],
   "source": [
    "list(reversed(dic1))"
   ]
  },
  {
   "cell_type": "code",
   "execution_count": 43,
   "id": "bb653f55-7438-4a79-a67c-10b21d415b70",
   "metadata": {},
   "outputs": [
    {
     "data": {
      "text/plain": [
       "[20, 30, 50]"
      ]
     },
     "execution_count": 43,
     "metadata": {},
     "output_type": "execute_result"
    }
   ],
   "source": [
    "sorted(dic5)"
   ]
  },
  {
   "cell_type": "code",
   "execution_count": 45,
   "id": "180f9d41-52b3-487b-9e6a-bc14ec1e6b07",
   "metadata": {},
   "outputs": [
    {
     "data": {
      "text/plain": [
       "4"
      ]
     },
     "execution_count": 45,
     "metadata": {},
     "output_type": "execute_result"
    }
   ],
   "source": [
    "len(dic4)"
   ]
  },
  {
   "cell_type": "code",
   "execution_count": 51,
   "id": "9fa2f5a7-24b0-4192-96cf-3aa3c46a7c47",
   "metadata": {},
   "outputs": [
    {
     "name": "stdout",
     "output_type": "stream",
     "text": [
      "Apple\n",
      "Banana\n",
      "Cherry\n"
     ]
    }
   ],
   "source": [
    "for i in dic1:\n",
    "    print(i)"
   ]
  },
  {
   "cell_type": "code",
   "execution_count": 65,
   "id": "9116337d-e491-4ae8-9dda-af06359a2f2b",
   "metadata": {},
   "outputs": [
    {
     "ename": "KeyError",
     "evalue": "0",
     "output_type": "error",
     "traceback": [
      "\u001b[1;31m---------------------------------------------------------------------------\u001b[0m",
      "\u001b[1;31mKeyError\u001b[0m                                  Traceback (most recent call last)",
      "Cell \u001b[1;32mIn[65], line 6\u001b[0m\n\u001b[0;32m      4\u001b[0m dic4\u001b[38;5;241m=\u001b[39m{\u001b[38;5;124m'\u001b[39m\u001b[38;5;124mpple\u001b[39m\u001b[38;5;124m'\u001b[39m:\u001b[38;5;241m20\u001b[39m,\u001b[38;5;124m'\u001b[39m\u001b[38;5;124mBanana\u001b[39m\u001b[38;5;124m'\u001b[39m:\u001b[38;5;241m30\u001b[39m,\u001b[38;5;124m'\u001b[39m\u001b[38;5;124mCherry\u001b[39m\u001b[38;5;124m'\u001b[39m:\u001b[38;5;241m50\u001b[39m,\u001b[38;5;124m'\u001b[39m\u001b[38;5;124mOrange\u001b[39m\u001b[38;5;124m'\u001b[39m:\u001b[38;5;241m25\u001b[39m}\n\u001b[0;32m      5\u001b[0m dic5\u001b[38;5;241m=\u001b[39m{\u001b[38;5;241m30\u001b[39m:\u001b[38;5;124m'\u001b[39m\u001b[38;5;124mBanana\u001b[39m\u001b[38;5;124m'\u001b[39m,\u001b[38;5;241m50\u001b[39m:\u001b[38;5;124m'\u001b[39m\u001b[38;5;124mCherry\u001b[39m\u001b[38;5;124m'\u001b[39m,\u001b[38;5;241m20\u001b[39m:\u001b[38;5;124m'\u001b[39m\u001b[38;5;124mApple\u001b[39m\u001b[38;5;124m'\u001b[39m}\n\u001b[1;32m----> 6\u001b[0m dic5[\u001b[38;5;241m0\u001b[39m]\n",
      "\u001b[1;31mKeyError\u001b[0m: 0"
     ]
    }
   ],
   "source": [
    "dic1={'Apple':20,'Banana':30,'Cherry':50}\n",
    "dic2={'Apple':20,'apple':30}\n",
    "dic3={20:'Apple',30:'Banana',50:'Cherry'}\n",
    "dic4={'pple':20,'Banana':30,'Cherry':50,'Orange':25}\n",
    "dic5={30:'Banana',50:'Cherry',20:'Apple'}\n",
    "dic5[0] #dictionary will not work with index as it don't have single elements"
   ]
  },
  {
   "cell_type": "markdown",
   "id": "ba391812-c025-492b-936f-57c7855c5543",
   "metadata": {},
   "source": [
    "**how to extract the values**\n",
    "\n",
    "- in dictionary, we have a concept key:value paid\n",
    "- keys are very important\n",
    "- in order to get the values we need to take keys help\n"
   ]
  },
  {
   "cell_type": "code",
   "execution_count": 93,
   "id": "19f215d1-ce0d-42a3-9bf7-a88fcf6d26a2",
   "metadata": {},
   "outputs": [
    {
     "data": {
      "text/plain": [
       "20"
      ]
     },
     "execution_count": 93,
     "metadata": {},
     "output_type": "execute_result"
    }
   ],
   "source": [
    "dic4={'Apple':20,'Banana':30,'Cherry':50,'Orange':25}\n",
    "dic4['Apple']"
   ]
  },
  {
   "cell_type": "code",
   "execution_count": 86,
   "id": "a6ce68df-6c31-4864-ba8f-8c057f93e6e5",
   "metadata": {},
   "outputs": [
    {
     "data": {
      "text/plain": [
       "'Cherry'"
      ]
     },
     "execution_count": 86,
     "metadata": {},
     "output_type": "execute_result"
    }
   ],
   "source": [
    "dic3[50]"
   ]
  },
  {
   "cell_type": "code",
   "execution_count": 88,
   "id": "d9758c31-e661-46bc-955e-3ee1bcc79b28",
   "metadata": {},
   "outputs": [
    {
     "name": "stdout",
     "output_type": "stream",
     "text": [
      "Apple\n",
      "Banana\n",
      "Cherry\n"
     ]
    }
   ],
   "source": [
    "dic3={20:'Apple',30:'Banana',50:'Cherry'}\n",
    "for i in dic3:\n",
    "    print(dic3[i])"
   ]
  },
  {
   "cell_type": "code",
   "execution_count": 97,
   "id": "5a0f59f6-e92e-4a2c-ac77-6593034edc55",
   "metadata": {},
   "outputs": [
    {
     "name": "stdout",
     "output_type": "stream",
     "text": [
      "20\n",
      "30\n",
      "50\n",
      "25\n"
     ]
    }
   ],
   "source": [
    "dic4={'Apple':20,'Banana':30,'Cherry':50,'Orange':25}\n",
    "for i in dic4:\n",
    "    print(dic4[i])"
   ]
  },
  {
   "cell_type": "code",
   "execution_count": 105,
   "id": "0071b424-dfdc-4eba-8340-56c05e54d20e",
   "metadata": {},
   "outputs": [
    {
     "name": "stdout",
     "output_type": "stream",
     "text": [
      "Ramesh age is 20\n",
      "Suresh age is 25\n",
      "Sathish age is 30\n"
     ]
    }
   ],
   "source": [
    "names={'Ramesh':20,'Suresh':25,'Sathish':30}\n",
    "for i in names:\n",
    "    val=names[i]\n",
    "    print(f'{i} age is {val}')"
   ]
  },
  {
   "cell_type": "code",
   "execution_count": 149,
   "id": "9ec45f79-0bac-4b94-a61a-499143bc13e1",
   "metadata": {},
   "outputs": [
    {
     "data": {
      "text/plain": [
       "'Cherry'"
      ]
     },
     "execution_count": 149,
     "metadata": {},
     "output_type": "execute_result"
    }
   ],
   "source": [
    "d={'Fruits':['Apple','Banana','Cherry']}\n",
    "for i in d:\n",
    "    a=d[i]\n",
    "d[i][2]"
   ]
  },
  {
   "cell_type": "code",
   "execution_count": 167,
   "id": "9f8e5e89-95ac-4226-8989-e051ec6ca9b2",
   "metadata": {},
   "outputs": [
    {
     "data": {
      "text/plain": [
       "50"
      ]
     },
     "execution_count": 167,
     "metadata": {},
     "output_type": "execute_result"
    }
   ],
   "source": [
    "c={'Fruits': [{'Cost':[50]}]}\n",
    "c['Fruits'][0]['Cost'][0]"
   ]
  },
  {
   "cell_type": "code",
   "execution_count": 169,
   "id": "567a1c83-e054-4603-9eae-1e21d32776be",
   "metadata": {},
   "outputs": [
    {
     "data": {
      "text/plain": [
       "{'Fruits': ['Apple'], 'Cost': [{'1kg': [20, 30, 40], '2kg': None}]}"
      ]
     },
     "execution_count": 169,
     "metadata": {},
     "output_type": "execute_result"
    }
   ],
   "source": [
    "d={'Fruits':['Apple'],'Cost':[{'1kg':[20,30,40],'2kg':None}]}\n",
    "d"
   ]
  },
  {
   "cell_type": "code",
   "execution_count": 197,
   "id": "61bbd7d7-e1e9-41e5-aa3d-c63a275e5150",
   "metadata": {},
   "outputs": [
    {
     "data": {
      "text/plain": [
       "20"
      ]
     },
     "execution_count": 197,
     "metadata": {},
     "output_type": "execute_result"
    }
   ],
   "source": [
    "d['Cost'][0]['1kg'][0]"
   ]
  },
  {
   "cell_type": "code",
   "execution_count": 209,
   "id": "24f934be-e0d5-4a2c-aa81-37e2f15c2820",
   "metadata": {},
   "outputs": [
    {
     "data": {
      "text/plain": [
       "{'Shambaji'}"
      ]
     },
     "execution_count": 209,
     "metadata": {},
     "output_type": "execute_result"
    }
   ],
   "source": [
    "f={'Fruits':{'Orange':{'Nagpur':{'MH':{'King':{'Shivaji':{'Shambaji'}}}}}}}\n",
    "f['Fruits']['Orange']['Nagpur']['MH']['King']['Shivaji'][]"
   ]
  },
  {
   "cell_type": "markdown",
   "id": "a3bc8621-0c49-4c23-a300-a8acf1cdabff",
   "metadata": {},
   "source": [
    "**how to create an empty dictionary**\n",
    "\n",
    "- Now onwards focus on creating of empty list, string and dictinary\n",
    "\n",
    "- we will take empty list, will use append operation\n",
    "\n",
    "- we will take empty string will use concatenation\n",
    "\n",
    "- we will take empty dictinary will use key:value pair concept\n",
    "\n"
   ]
  },
  {
   "cell_type": "code",
   "execution_count": 212,
   "id": "ae59e44c-658b-4004-81bc-8223aacc8a4a",
   "metadata": {},
   "outputs": [
    {
     "data": {
      "text/plain": [
       "[10, 'Apple']"
      ]
     },
     "execution_count": 212,
     "metadata": {},
     "output_type": "execute_result"
    }
   ],
   "source": [
    "l=[]\n",
    "l.append(10)\n",
    "l.append('Apple')\n",
    "l"
   ]
  },
  {
   "cell_type": "code",
   "execution_count": 218,
   "id": "342d7479-3076-4bc1-972d-4888641355e9",
   "metadata": {},
   "outputs": [
    {
     "data": {
      "text/plain": [
       "'python'"
      ]
     },
     "execution_count": 218,
     "metadata": {},
     "output_type": "execute_result"
    }
   ],
   "source": [
    "s=''\n",
    "s=s+'p'\n",
    "s=s+'y'\n",
    "s=s+'t'\n",
    "s=s+'h'\n",
    "s=s+'o'\n",
    "s=s+'n'\n",
    "s"
   ]
  },
  {
   "cell_type": "code",
   "execution_count": 222,
   "id": "915466a2-101b-40ee-9715-238443e59f7e",
   "metadata": {},
   "outputs": [
    {
     "data": {
      "text/plain": [
       "{'Ramesh': 20, 'Suresh': 30}"
      ]
     },
     "execution_count": 222,
     "metadata": {},
     "output_type": "execute_result"
    }
   ],
   "source": [
    "d={}\n",
    "d['Ramesh']=20\n",
    "d['Suresh']=30\n"
   ]
  },
  {
   "cell_type": "code",
   "execution_count": 238,
   "id": "74177899-48bd-480b-bb34-fbcbd007b01c",
   "metadata": {},
   "outputs": [
    {
     "data": {
      "text/plain": [
       "([20, 25, 30], ['Ramesh', 'Suresh', 'Sathish'])"
      ]
     },
     "execution_count": 238,
     "metadata": {},
     "output_type": "execute_result"
    }
   ],
   "source": [
    "d={}\n",
    "d['Ramesh']=20\n",
    "d['Suresh']=25\n",
    "d['Sathish']=30\n",
    "a=[]\n",
    "b=[]\n",
    "for i in d:\n",
    "    j=d[i]\n",
    "    b.append(i)\n",
    "    a.append(j)\n",
    "a,b\n"
   ]
  },
  {
   "cell_type": "code",
   "execution_count": 264,
   "id": "895eec25-9b30-4eb8-9d7c-7115a2b3deed",
   "metadata": {},
   "outputs": [
    {
     "data": {
      "text/plain": [
       "{'Ramesh': 20, 'Suresh': 25, 'Sathish': 30}"
      ]
     },
     "execution_count": 264,
     "metadata": {},
     "output_type": "execute_result"
    }
   ],
   "source": [
    "name=['Ramesh', 'Suresh', 'Sathish']\n",
    "value=[20, 25, 30]\n",
    "d={}\n",
    "{i:j for i,j in zip(name,value)}"
   ]
  },
  {
   "cell_type": "markdown",
   "id": "e11afcce-9c7d-4eb6-871d-b3131e37c5ce",
   "metadata": {},
   "source": [
    "**mutable-immutable**\n",
    "\n",
    "- lists are mutable\n",
    "- dict are also mutable\n",
    "- strings immutable\n",
    "- tuple also immutable\n",
    "- in dictionarys we can change the values using keys"
   ]
  },
  {
   "cell_type": "code",
   "execution_count": null,
   "id": "c660b3e4-4039-48e8-9a59-1221af2a072e",
   "metadata": {},
   "outputs": [],
   "source": []
  }
 ],
 "metadata": {
  "kernelspec": {
   "display_name": "Python [conda env:base] *",
   "language": "python",
   "name": "conda-base-py"
  },
  "language_info": {
   "codemirror_mode": {
    "name": "ipython",
    "version": 3
   },
   "file_extension": ".py",
   "mimetype": "text/x-python",
   "name": "python",
   "nbconvert_exporter": "python",
   "pygments_lexer": "ipython3",
   "version": "3.12.7"
  }
 },
 "nbformat": 4,
 "nbformat_minor": 5
}
