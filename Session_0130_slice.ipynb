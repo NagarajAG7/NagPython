{
 "cells": [
  {
   "cell_type": "code",
   "execution_count": 143,
   "id": "9f7a19e4-bc12-4789-ac42-15b15db18057",
   "metadata": {},
   "outputs": [
    {
     "name": "stdout",
     "output_type": "stream",
     "text": [
      "o\n",
      "l\n",
      "a\n",
      " \n",
      "o\n",
      "l\n",
      "a\n",
      " \n",
      "o\n",
      "l\n",
      "a\n"
     ]
    }
   ],
   "source": [
    "str1='ola ola ola'\n",
    "n=len(str1)\n",
    "for i in range(n):\n",
    "    print(str1[i])"
   ]
  },
  {
   "cell_type": "code",
   "execution_count": 141,
   "id": "c17aab32-2729-4b29-9c41-21ce437c9721",
   "metadata": {},
   "outputs": [
    {
     "name": "stdout",
     "output_type": "stream",
     "text": [
      "a 2\n",
      "a 6\n",
      "a 10\n"
     ]
    }
   ],
   "source": [
    "str3='ola ola ola'\n",
    "n=len(str3)\n",
    "for i in range(n):\n",
    "    if str3[i] == 'a':\n",
    "        print(str3[i],i)"
   ]
  },
  {
   "cell_type": "code",
   "execution_count": 137,
   "id": "f948baee-7f09-47f5-8120-2d91c8762f13",
   "metadata": {},
   "outputs": [
    {
     "name": "stdout",
     "output_type": "stream",
     "text": [
      "18\n"
     ]
    }
   ],
   "source": [
    "str3='ola ola ola'\n",
    "j=0\n",
    "for i in range(len(str)):\n",
    "    if str3[i]=='a':\n",
    "        j=j+i\n",
    "print(j)"
   ]
  },
  {
   "cell_type": "code",
   "execution_count": 135,
   "id": "f68b4ad1-09e8-4589-9574-2ba53541e4ba",
   "metadata": {},
   "outputs": [
    {
     "name": "stdout",
     "output_type": "stream",
     "text": [
      "3\n"
     ]
    }
   ],
   "source": [
    "str3='ola ola ola'\n",
    "j=0\n",
    "for i in range(len(str)):\n",
    "    if str3[i]=='a':\n",
    "        j=j+1\n",
    "print(j)"
   ]
  },
  {
   "cell_type": "code",
   "execution_count": 21,
   "id": "4ef8b2ee-e961-452f-8446-cb7d3a9d12cf",
   "metadata": {},
   "outputs": [
    {
     "name": "stdout",
     "output_type": "stream",
     "text": [
      "a 1\n",
      "i 2\n",
      "o 3\n",
      "a 4\n",
      "e 5\n",
      "o 6\n",
      "u 7\n"
     ]
    }
   ],
   "source": [
    "str1='hai how are you'\n",
    "str2='aeiou'\n",
    "j=0\n",
    "for i in range(len(str1)):\n",
    "    if str1[i] in str2:\n",
    "        j += 1\n",
    "        print(str1[i],j)"
   ]
  },
  {
   "cell_type": "code",
   "execution_count": 34,
   "id": "4593c49c-c221-4093-a330-f468f17ad0e9",
   "metadata": {},
   "outputs": [
    {
     "name": "stdout",
     "output_type": "stream",
     "text": [
      "u 5\n"
     ]
    }
   ],
   "source": [
    "str1='hai how are you'\n",
    "str2='aeiou'\n",
    "str3=''\n",
    "j=0\n",
    "for i in range(len(str1)):\n",
    "    if str1[i] in str2 and str1[i] not in str3:\n",
    "        str3 = str3+str1[i]\n",
    "        j += 1\n",
    "print(str1[i],j)"
   ]
  },
  {
   "cell_type": "markdown",
   "id": "705f3af7-bddd-418f-bcd1-a3de23a4b201",
   "metadata": {},
   "source": [
    "**slice**\n",
    "\n",
    "- slice means cut into pieces\n",
    "\n",
    "- it has same analogy with for loop range\n",
    "\n",
    "- in the for loop range we have start, stop, step\n",
    "\n",
    "- range(start,stop,step) str[start:stop:step]"
   ]
  },
  {
   "cell_type": "code",
   "execution_count": 42,
   "id": "85ed1dbe-c946-490c-b6a9-b25188fe8b47",
   "metadata": {},
   "outputs": [
    {
     "data": {
      "text/plain": [
       "'hello'"
      ]
     },
     "execution_count": 42,
     "metadata": {},
     "output_type": "execute_result"
    }
   ],
   "source": [
    "#case1\n",
    "str1 = 'hello how are you'\n",
    "str1[:5]\n",
    "#start=0 step=1 stop=5-1=4"
   ]
  },
  {
   "cell_type": "code",
   "execution_count": 44,
   "id": "09397927-bebd-4bac-a367-3984aacf0220",
   "metadata": {},
   "outputs": [
    {
     "data": {
      "text/plain": [
       "' how are you'"
      ]
     },
     "execution_count": 44,
     "metadata": {},
     "output_type": "execute_result"
    }
   ],
   "source": [
    "#case2\n",
    "str1 = 'hello how are you'\n",
    "str1[5:]\n",
    "#default start=0 default step=1 last=last index"
   ]
  },
  {
   "cell_type": "code",
   "execution_count": 56,
   "id": "08d91935-df2d-4422-96c7-873931e52fcc",
   "metadata": {},
   "outputs": [
    {
     "data": {
      "text/plain": [
       "'you'"
      ]
     },
     "execution_count": 56,
     "metadata": {},
     "output_type": "execute_result"
    }
   ],
   "source": [
    "#case3\n",
    "str1 = 'hello how are you'\n",
    "str1[-3:]\n"
   ]
  },
  {
   "cell_type": "code",
   "execution_count": 58,
   "id": "f97943a0-09cd-4557-a81f-10dfeb546fbc",
   "metadata": {},
   "outputs": [
    {
     "data": {
      "text/plain": [
       "'hello how are '"
      ]
     },
     "execution_count": 58,
     "metadata": {},
     "output_type": "execute_result"
    }
   ],
   "source": [
    "#case3\n",
    "str1 = 'hello how are you'\n",
    "str1[:-3]\n"
   ]
  },
  {
   "cell_type": "code",
   "execution_count": 54,
   "id": "6a159889-1d5b-4306-808b-71097ee004c4",
   "metadata": {},
   "outputs": [
    {
     "data": {
      "text/plain": [
       "'are y'"
      ]
     },
     "execution_count": 54,
     "metadata": {},
     "output_type": "execute_result"
    }
   ],
   "source": [
    "str1 = 'hello how are you'\n",
    "str1[10:15]\n"
   ]
  },
  {
   "cell_type": "code",
   "execution_count": 61,
   "id": "d0f86fb7-dde2-4b37-b635-ed873b57f036",
   "metadata": {},
   "outputs": [],
   "source": [
    "# -17 -16 -15 -14 -13 -12 -11 -10 -9 -8 -7 -6 -5 -4 -3 -2 -1\n",
    "#   h  e   l   l   o        h   o  w     a  r  e     y  o  u\n",
    "#   0  1   2   3   4   5    6   7  8  9  10 11 12 13 14 15 16"
   ]
  },
  {
   "cell_type": "code",
   "execution_count": 73,
   "id": "31f0a22e-a44b-42b6-9a08-aea1daa31a20",
   "metadata": {},
   "outputs": [
    {
     "data": {
      "text/plain": [
       "'o how are yo'"
      ]
     },
     "execution_count": 73,
     "metadata": {},
     "output_type": "execute_result"
    }
   ],
   "source": [
    "#case4\n",
    "str1 = 'hello how are you'\n",
    "str1[-13:-1:1]\n"
   ]
  },
  {
   "cell_type": "code",
   "execution_count": 3,
   "id": "96ac6632-5c69-46b2-8219-18419e71d431",
   "metadata": {},
   "outputs": [
    {
     "data": {
      "text/plain": [
       "'hello'"
      ]
     },
     "execution_count": 3,
     "metadata": {},
     "output_type": "execute_result"
    }
   ],
   "source": [
    "str1 = 'hello how are you'\n",
    "str1[-13:-10:1]\n",
    "str1[0:5]"
   ]
  },
  {
   "cell_type": "code",
   "execution_count": 81,
   "id": "e209be08-c354-4aec-a16f-3ca7f267690a",
   "metadata": {},
   "outputs": [
    {
     "data": {
      "text/plain": [
       "'l wry'"
      ]
     },
     "execution_count": 81,
     "metadata": {},
     "output_type": "execute_result"
    }
   ],
   "source": [
    "str1 = 'hello how are you'\n",
    "str1[2:15:3]\n"
   ]
  },
  {
   "cell_type": "code",
   "execution_count": 83,
   "id": "161773ec-ad89-4f30-b9c1-f1a621e14c41",
   "metadata": {},
   "outputs": [
    {
     "data": {
      "text/plain": [
       "''"
      ]
     },
     "execution_count": 83,
     "metadata": {},
     "output_type": "execute_result"
    }
   ],
   "source": [
    "str[15:2:2]"
   ]
  },
  {
   "cell_type": "code",
   "execution_count": 61,
   "id": "d3f7a0fd-25d2-4226-9f35-6b286ed76d69",
   "metadata": {},
   "outputs": [],
   "source": [
    "# -17 -16 -15 -14 -13 -12 -11 -10 -9 -8 -7 -6 -5 -4 -3 -2 -1\n",
    "#   h  e   l   l   o        h   o  w     a  r  e     y  o  u\n",
    "#   0  1   2   3   4   5    6   7  8  9  10 11 12 13 14 15 16"
   ]
  },
  {
   "cell_type": "code",
   "execution_count": 87,
   "id": "a925d9fb-87f6-404e-839c-5f19f9ca0ed4",
   "metadata": {},
   "outputs": [
    {
     "data": {
      "text/plain": [
       "'aoaoa'"
      ]
     },
     "execution_count": 87,
     "metadata": {},
     "output_type": "execute_result"
    }
   ],
   "source": [
    "str[2:15:2]"
   ]
  },
  {
   "cell_type": "code",
   "execution_count": 93,
   "id": "e6f8c8f8-0d61-42a7-8dff-b60b5d2afd73",
   "metadata": {},
   "outputs": [
    {
     "data": {
      "text/plain": [
       "'oy era woh ol'"
      ]
     },
     "execution_count": 93,
     "metadata": {},
     "output_type": "execute_result"
    }
   ],
   "source": [
    "str1[15:2:-1]"
   ]
  },
  {
   "cell_type": "code",
   "execution_count": 97,
   "id": "e926c575-b5c8-4324-88f0-90d22d292165",
   "metadata": {},
   "outputs": [
    {
     "data": {
      "text/plain": [
       "'h ol'"
      ]
     },
     "execution_count": 97,
     "metadata": {},
     "output_type": "execute_result"
    }
   ],
   "source": [
    "str1[-11:2:-1]"
   ]
  },
  {
   "cell_type": "code",
   "execution_count": 101,
   "id": "c15f031b-be03-49e2-add7-23943cccd278",
   "metadata": {},
   "outputs": [
    {
     "data": {
      "text/plain": [
       "'u aoo'"
      ]
     },
     "execution_count": 101,
     "metadata": {},
     "output_type": "execute_result"
    }
   ],
   "source": [
    "str1[16:-16:-3]"
   ]
  },
  {
   "cell_type": "code",
   "execution_count": 105,
   "id": "40accf71-9bf1-4853-b63b-4a37a9c37107",
   "metadata": {},
   "outputs": [
    {
     "data": {
      "text/plain": [
       "'l wr'"
      ]
     },
     "execution_count": 105,
     "metadata": {},
     "output_type": "execute_result"
    }
   ],
   "source": [
    "str1[-15:14:3]"
   ]
  },
  {
   "cell_type": "code",
   "execution_count": 61,
   "id": "7692d059-0322-4879-bbae-c5821628c492",
   "metadata": {},
   "outputs": [],
   "source": [
    "# -17 -16 -15 -14 -13 -12 -11 -10 -9 -8 -7 -6 -5 -4 -3 -2 -1\n",
    "#   h  e   l   l   o        h   o  w     a  r  e     y  o  u\n",
    "#   0  1   2   3   4   5    6   7  8  9  10 11 12 13 14 15 16"
   ]
  },
  {
   "cell_type": "code",
   "execution_count": 113,
   "id": "cc1f261b-f495-4d0d-9d9b-9b13ba0ced25",
   "metadata": {},
   "outputs": [
    {
     "data": {
      "text/plain": [
       "'hello how are yo'"
      ]
     },
     "execution_count": 113,
     "metadata": {},
     "output_type": "execute_result"
    }
   ],
   "source": [
    "str1[-17:-1:1]"
   ]
  },
  {
   "cell_type": "code",
   "execution_count": 117,
   "id": "3df9f4df-1e8a-4d60-a1d9-ca2a749d63a2",
   "metadata": {},
   "outputs": [
    {
     "data": {
      "text/plain": [
       "'hello how are you'"
      ]
     },
     "execution_count": 117,
     "metadata": {},
     "output_type": "execute_result"
    }
   ],
   "source": [
    "str1[:]"
   ]
  },
  {
   "cell_type": "code",
   "execution_count": 119,
   "id": "d058d43f-3e04-4c70-9ddf-0059b197e877",
   "metadata": {},
   "outputs": [
    {
     "data": {
      "text/plain": [
       "'hello how are you'"
      ]
     },
     "execution_count": 119,
     "metadata": {},
     "output_type": "execute_result"
    }
   ],
   "source": [
    "str1[::]"
   ]
  },
  {
   "cell_type": "code",
   "execution_count": 121,
   "id": "c459c988-6db0-4eb6-a681-36b0b5b60b42",
   "metadata": {},
   "outputs": [
    {
     "data": {
      "text/plain": [
       "'uoy era woh olleh'"
      ]
     },
     "execution_count": 121,
     "metadata": {},
     "output_type": "execute_result"
    }
   ],
   "source": [
    "str1[::-1]"
   ]
  },
  {
   "cell_type": "code",
   "execution_count": 1,
   "id": "0e8502c9-7400-4f01-94d4-4b22ef2cfc17",
   "metadata": {},
   "outputs": [
    {
     "data": {
      "text/plain": [
       "54321"
      ]
     },
     "execution_count": 1,
     "metadata": {},
     "output_type": "execute_result"
    }
   ],
   "source": [
    "num1=12345\n",
    "int(str(num1)[::-1])"
   ]
  },
  {
   "cell_type": "markdown",
   "id": "f0aaf268-6061-4717-bdaa-d2a8727e22bb",
   "metadata": {},
   "source": [
    "**Methods**"
   ]
  },
  {
   "cell_type": "code",
   "execution_count": 10,
   "id": "08b24f2c-7582-4ea7-a14e-9c95b7209bd6",
   "metadata": {},
   "outputs": [
    {
     "data": {
      "text/plain": [
       "['__add__',\n",
       " '__class__',\n",
       " '__contains__',\n",
       " '__delattr__',\n",
       " '__dir__',\n",
       " '__doc__',\n",
       " '__eq__',\n",
       " '__format__',\n",
       " '__ge__',\n",
       " '__getattribute__',\n",
       " '__getitem__',\n",
       " '__getnewargs__',\n",
       " '__getstate__',\n",
       " '__gt__',\n",
       " '__hash__',\n",
       " '__init__',\n",
       " '__init_subclass__',\n",
       " '__iter__',\n",
       " '__le__',\n",
       " '__len__',\n",
       " '__lt__',\n",
       " '__mod__',\n",
       " '__mul__',\n",
       " '__ne__',\n",
       " '__new__',\n",
       " '__reduce__',\n",
       " '__reduce_ex__',\n",
       " '__repr__',\n",
       " '__rmod__',\n",
       " '__rmul__',\n",
       " '__setattr__',\n",
       " '__sizeof__',\n",
       " '__str__',\n",
       " '__subclasshook__',\n",
       " 'capitalize',\n",
       " 'casefold',\n",
       " 'center',\n",
       " 'count',\n",
       " 'encode',\n",
       " 'endswith',\n",
       " 'expandtabs',\n",
       " 'find',\n",
       " 'format',\n",
       " 'format_map',\n",
       " 'index',\n",
       " 'isalnum',\n",
       " 'isalpha',\n",
       " 'isascii',\n",
       " 'isdecimal',\n",
       " 'isdigit',\n",
       " 'isidentifier',\n",
       " 'islower',\n",
       " 'isnumeric',\n",
       " 'isprintable',\n",
       " 'isspace',\n",
       " 'istitle',\n",
       " 'isupper',\n",
       " 'join',\n",
       " 'ljust',\n",
       " 'lower',\n",
       " 'lstrip',\n",
       " 'maketrans',\n",
       " 'partition',\n",
       " 'removeprefix',\n",
       " 'removesuffix',\n",
       " 'replace',\n",
       " 'rfind',\n",
       " 'rindex',\n",
       " 'rjust',\n",
       " 'rpartition',\n",
       " 'rsplit',\n",
       " 'rstrip',\n",
       " 'split',\n",
       " 'splitlines',\n",
       " 'startswith',\n",
       " 'strip',\n",
       " 'swapcase',\n",
       " 'title',\n",
       " 'translate',\n",
       " 'upper',\n",
       " 'zfill']"
      ]
     },
     "execution_count": 10,
     "metadata": {},
     "output_type": "execute_result"
    }
   ],
   "source": [
    "dir('python')"
   ]
  },
  {
   "cell_type": "code",
   "execution_count": 12,
   "id": "9faf64a1-198a-4144-ad4b-1202b2e983d2",
   "metadata": {},
   "outputs": [
    {
     "data": {
      "text/plain": [
       "['__add__',\n",
       " '__class__',\n",
       " '__class_getitem__',\n",
       " '__contains__',\n",
       " '__delattr__',\n",
       " '__delitem__',\n",
       " '__dir__',\n",
       " '__doc__',\n",
       " '__eq__',\n",
       " '__format__',\n",
       " '__ge__',\n",
       " '__getattribute__',\n",
       " '__getitem__',\n",
       " '__getstate__',\n",
       " '__gt__',\n",
       " '__hash__',\n",
       " '__iadd__',\n",
       " '__imul__',\n",
       " '__init__',\n",
       " '__init_subclass__',\n",
       " '__iter__',\n",
       " '__le__',\n",
       " '__len__',\n",
       " '__lt__',\n",
       " '__mul__',\n",
       " '__ne__',\n",
       " '__new__',\n",
       " '__reduce__',\n",
       " '__reduce_ex__',\n",
       " '__repr__',\n",
       " '__reversed__',\n",
       " '__rmul__',\n",
       " '__setattr__',\n",
       " '__setitem__',\n",
       " '__sizeof__',\n",
       " '__str__',\n",
       " '__subclasshook__',\n",
       " 'append',\n",
       " 'clear',\n",
       " 'copy',\n",
       " 'count',\n",
       " 'extend',\n",
       " 'index',\n",
       " 'insert',\n",
       " 'pop',\n",
       " 'remove',\n",
       " 'reverse',\n",
       " 'sort']"
      ]
     },
     "execution_count": 12,
     "metadata": {},
     "output_type": "execute_result"
    }
   ],
   "source": [
    "dir([])"
   ]
  },
  {
   "cell_type": "code",
   "execution_count": 16,
   "id": "ef97e4e1-42a0-4fdb-8683-4820919b8bc4",
   "metadata": {},
   "outputs": [
    {
     "data": {
      "text/plain": [
       "['__add__',\n",
       " '__class__',\n",
       " '__contains__',\n",
       " '__delattr__',\n",
       " '__dir__',\n",
       " '__doc__',\n",
       " '__eq__',\n",
       " '__format__',\n",
       " '__ge__',\n",
       " '__getattribute__',\n",
       " '__getitem__',\n",
       " '__getnewargs__',\n",
       " '__getstate__',\n",
       " '__gt__',\n",
       " '__hash__',\n",
       " '__init__',\n",
       " '__init_subclass__',\n",
       " '__iter__',\n",
       " '__le__',\n",
       " '__len__',\n",
       " '__lt__',\n",
       " '__mod__',\n",
       " '__mul__',\n",
       " '__ne__',\n",
       " '__new__',\n",
       " '__reduce__',\n",
       " '__reduce_ex__',\n",
       " '__repr__',\n",
       " '__rmod__',\n",
       " '__rmul__',\n",
       " '__setattr__',\n",
       " '__sizeof__',\n",
       " '__str__',\n",
       " '__subclasshook__',\n",
       " 'capitalize',\n",
       " 'casefold',\n",
       " 'center',\n",
       " 'count',\n",
       " 'encode',\n",
       " 'endswith',\n",
       " 'expandtabs',\n",
       " 'find',\n",
       " 'format',\n",
       " 'format_map',\n",
       " 'index',\n",
       " 'isalnum',\n",
       " 'isalpha',\n",
       " 'isascii',\n",
       " 'isdecimal',\n",
       " 'isdigit',\n",
       " 'isidentifier',\n",
       " 'islower',\n",
       " 'isnumeric',\n",
       " 'isprintable',\n",
       " 'isspace',\n",
       " 'istitle',\n",
       " 'isupper',\n",
       " 'join',\n",
       " 'ljust',\n",
       " 'lower',\n",
       " 'lstrip',\n",
       " 'maketrans',\n",
       " 'partition',\n",
       " 'removeprefix',\n",
       " 'removesuffix',\n",
       " 'replace',\n",
       " 'rfind',\n",
       " 'rindex',\n",
       " 'rjust',\n",
       " 'rpartition',\n",
       " 'rsplit',\n",
       " 'rstrip',\n",
       " 'split',\n",
       " 'splitlines',\n",
       " 'startswith',\n",
       " 'strip',\n",
       " 'swapcase',\n",
       " 'title',\n",
       " 'translate',\n",
       " 'upper',\n",
       " 'zfill']"
      ]
     },
     "execution_count": 16,
     "metadata": {},
     "output_type": "execute_result"
    }
   ],
   "source": [
    "dir('')"
   ]
  },
  {
   "cell_type": "markdown",
   "id": "bf427a17-3843-43f0-82d4-d972a8657178",
   "metadata": {},
   "source": [
    "**upper**"
   ]
  },
  {
   "cell_type": "code",
   "execution_count": 27,
   "id": "bce5280d-b051-476a-bc73-191452527a81",
   "metadata": {},
   "outputs": [
    {
     "data": {
      "text/plain": [
       "'WELCOME'"
      ]
     },
     "execution_count": 27,
     "metadata": {},
     "output_type": "execute_result"
    }
   ],
   "source": [
    "str1='welcome'\n",
    "str1.upper()"
   ]
  },
  {
   "cell_type": "code",
   "execution_count": 31,
   "id": "72ce91e8-fb11-44a4-8ffb-6280efb04060",
   "metadata": {},
   "outputs": [
    {
     "data": {
      "text/plain": [
       "'congratulations'"
      ]
     },
     "execution_count": 31,
     "metadata": {},
     "output_type": "execute_result"
    }
   ],
   "source": [
    "str2='Congratulations'\n",
    "str2.lower()"
   ]
  },
  {
   "cell_type": "code",
   "execution_count": 37,
   "id": "02ffdce5-70a0-4db8-a51f-23b1b313dff1",
   "metadata": {},
   "outputs": [
    {
     "data": {
      "text/plain": [
       "'Ok, I Will Come'"
      ]
     },
     "execution_count": 37,
     "metadata": {},
     "output_type": "execute_result"
    }
   ],
   "source": [
    "str3='ok, i will come'\n",
    "str3.title()"
   ]
  },
  {
   "cell_type": "code",
   "execution_count": 39,
   "id": "de0fca88-d3cc-49b3-b1c5-052c32236c3e",
   "metadata": {},
   "outputs": [
    {
     "data": {
      "text/plain": [
       "'Ok, i will come'"
      ]
     },
     "execution_count": 39,
     "metadata": {},
     "output_type": "execute_result"
    }
   ],
   "source": [
    "str3.capitalize()"
   ]
  },
  {
   "cell_type": "code",
   "execution_count": 47,
   "id": "6036b8a7-5128-4782-ab6f-372e22a6b106",
   "metadata": {},
   "outputs": [
    {
     "data": {
      "text/plain": [
       "('i am nagaraj working in genpact', 'I Am Nagaraj Working In Genpact')"
      ]
     },
     "execution_count": 47,
     "metadata": {},
     "output_type": "execute_result"
    }
   ],
   "source": [
    "str4='I am Nagaraj working in GENPACT'\n",
    "str4.casefold(),str4.title()"
   ]
  },
  {
   "cell_type": "code",
   "execution_count": 49,
   "id": "07d05188-ad87-49b6-8eff-7690ccaa3d2c",
   "metadata": {},
   "outputs": [
    {
     "data": {
      "text/plain": [
       "('i am nagaraj working in genpact', 'I AM NAGARAJ WORKING IN GENPACT')"
      ]
     },
     "execution_count": 49,
     "metadata": {},
     "output_type": "execute_result"
    }
   ],
   "source": [
    "str4='I am Nagaraj working in GENPACT'\n",
    "str4.lower(),str4.upper()"
   ]
  },
  {
   "cell_type": "code",
   "execution_count": 53,
   "id": "4b89ab1c-398d-4724-9de9-9f32f121663e",
   "metadata": {},
   "outputs": [
    {
     "data": {
      "text/plain": [
       "('I am nagaraj working in genpact', 'I Am Nagaraj Working In Genpact')"
      ]
     },
     "execution_count": 53,
     "metadata": {},
     "output_type": "execute_result"
    }
   ],
   "source": [
    "str4='I am Nagaraj working in GENPACT'\n",
    "str4.capitalize(),str4.title()"
   ]
  },
  {
   "cell_type": "markdown",
   "id": "b180e1a9-92c2-49e4-92d7-87453d31d0b4",
   "metadata": {},
   "source": [
    "**difference between methods and inbuilt functions**"
   ]
  },
  {
   "cell_type": "markdown",
   "id": "03f7bc65-91ba-4038-8cf2-5e13d574f5b4",
   "metadata": {},
   "source": [
    "Method ================inbuilt\n",
    "\n",
    "'python'.upper()  ====== len('python')\n"
   ]
  },
  {
   "cell_type": "markdown",
   "id": "c43d842e-c7ec-4880-b159-664b89f582fc",
   "metadata": {},
   "source": [
    "==============Inbuilt functions==============\n",
    "len()\n",
    "max()\n",
    "min()\n",
    "type()\n",
    "print()\n",
    "sum()\n",
    "\n",
    "==============Method functions===============\n",
    "str1.upper()\n",
    "str1.lower()\n",
    "str1.title()\n",
    "str1.capitalize()\n",
    "str1.casefold()"
   ]
  },
  {
   "cell_type": "code",
   "execution_count": 86,
   "id": "3e711b71-7f71-4cf7-af19-1fda6f0f3a1b",
   "metadata": {},
   "outputs": [
    {
     "data": {
      "text/plain": [
       "'           Nagaraj            '"
      ]
     },
     "execution_count": 86,
     "metadata": {},
     "output_type": "execute_result"
    }
   ],
   "source": [
    "#center function\n",
    "str1='Nagaraj'\n",
    "str1.center(30)"
   ]
  },
  {
   "cell_type": "code",
   "execution_count": 80,
   "id": "13d2c80e-be9e-408c-be6e-2d2f1efee822",
   "metadata": {},
   "outputs": [
    {
     "data": {
      "text/plain": [
       "'**Nagaraj***'"
      ]
     },
     "execution_count": 80,
     "metadata": {},
     "output_type": "execute_result"
    }
   ],
   "source": [
    "str1='Nagaraj'\n",
    "str1.center(12,'*')"
   ]
  },
  {
   "cell_type": "code",
   "execution_count": 76,
   "id": "a0175b98-8da0-47b2-8db3-7277a601a4de",
   "metadata": {},
   "outputs": [
    {
     "data": {
      "text/plain": [
       "'###Renuka##'"
      ]
     },
     "execution_count": 76,
     "metadata": {},
     "output_type": "execute_result"
    }
   ],
   "source": [
    "str2='Renuka'\n",
    "str2.center(11,'#')"
   ]
  },
  {
   "cell_type": "code",
   "execution_count": 84,
   "id": "226164dd-593f-4755-960b-2819427b5c84",
   "metadata": {},
   "outputs": [
    {
     "data": {
      "text/plain": [
       "'##Renukaa###'"
      ]
     },
     "execution_count": 84,
     "metadata": {},
     "output_type": "execute_result"
    }
   ],
   "source": [
    "str2='Renukaa'\n",
    "str2.center(12,'#')"
   ]
  },
  {
   "cell_type": "markdown",
   "id": "e26c85bb-61a6-4cba-afed-8e467e72ce4a",
   "metadata": {},
   "source": [
    "**strip-lstrip=rstrip**\n",
    "\n",
    "strip - will remove the character on both left and right sides\n",
    "\n",
    "lstrip - will remove only left side\n",
    "\n",
    "rstip - will remove only right side\n"
   ]
  },
  {
   "cell_type": "code",
   "execution_count": 100,
   "id": "d2e8bedf-1fd1-4d95-ade5-d47cd13b327a",
   "metadata": {},
   "outputs": [],
   "source": [
    "str1='   python   '\n",
    "str2='***python**'\n",
    "str3='##python###'"
   ]
  },
  {
   "cell_type": "code",
   "execution_count": 96,
   "id": "5ea3dcf5-5497-422b-8b7e-f0d400b204eb",
   "metadata": {},
   "outputs": [
    {
     "data": {
      "text/plain": [
       "'python'"
      ]
     },
     "execution_count": 96,
     "metadata": {},
     "output_type": "execute_result"
    }
   ],
   "source": [
    "str1.strip()"
   ]
  },
  {
   "cell_type": "code",
   "execution_count": 114,
   "id": "01b0aa01-5262-4028-9c64-d55763aa45c9",
   "metadata": {},
   "outputs": [
    {
     "data": {
      "text/plain": [
       "'python   '"
      ]
     },
     "execution_count": 114,
     "metadata": {},
     "output_type": "execute_result"
    }
   ],
   "source": [
    "str1.lstrip()"
   ]
  },
  {
   "cell_type": "code",
   "execution_count": 116,
   "id": "fee779af-152a-478b-a31e-86138aa95b63",
   "metadata": {},
   "outputs": [
    {
     "data": {
      "text/plain": [
       "'   python'"
      ]
     },
     "execution_count": 116,
     "metadata": {},
     "output_type": "execute_result"
    }
   ],
   "source": [
    "str1.rstrip()"
   ]
  },
  {
   "cell_type": "code",
   "execution_count": 106,
   "id": "5d499e76-53f1-4415-842b-3c59c0793103",
   "metadata": {},
   "outputs": [
    {
     "data": {
      "text/plain": [
       "'python**'"
      ]
     },
     "execution_count": 106,
     "metadata": {},
     "output_type": "execute_result"
    }
   ],
   "source": [
    "str2.lstrip('*')"
   ]
  },
  {
   "cell_type": "code",
   "execution_count": 108,
   "id": "47f5830c-b8dc-4140-b442-3181810575c3",
   "metadata": {},
   "outputs": [
    {
     "data": {
      "text/plain": [
       "'##python'"
      ]
     },
     "execution_count": 108,
     "metadata": {},
     "output_type": "execute_result"
    }
   ],
   "source": [
    "str3.rstrip('#')"
   ]
  },
  {
   "cell_type": "code",
   "execution_count": 112,
   "id": "9976fddc-0029-498d-81dd-54c38981d6f1",
   "metadata": {},
   "outputs": [
    {
     "data": {
      "text/plain": [
       "'***python**'"
      ]
     },
     "execution_count": 112,
     "metadata": {},
     "output_type": "execute_result"
    }
   ],
   "source": [
    "str2.strip()"
   ]
  },
  {
   "cell_type": "code",
   "execution_count": 118,
   "id": "37eafbef-f9b6-4bfa-b442-b87841479776",
   "metadata": {},
   "outputs": [],
   "source": [
    "str11='**Nagaraj***'"
   ]
  },
  {
   "cell_type": "code",
   "execution_count": 138,
   "id": "011ade31-e2f7-4be5-b6d7-f6d42deba3e3",
   "metadata": {},
   "outputs": [
    {
     "name": "stdout",
     "output_type": "stream",
     "text": [
      "**Nagaraj***\n",
      "Nagaraj\n",
      "Nagaraj***\n",
      "**Nagaraj\n",
      "Nagaraj\n"
     ]
    }
   ],
   "source": [
    "str11='**Nagaraj***'\n",
    "print(str11)\n",
    "print(str11.strip('*'))\n",
    "print(str11.lstrip('*'))\n",
    "print(str11.rstrip('*'))\n",
    "print(str11.lstrip('*').rstrip('*'))"
   ]
  },
  {
   "cell_type": "code",
   "execution_count": null,
   "id": "b1257f49-02b8-4857-8d64-8f8b1a751b65",
   "metadata": {},
   "outputs": [],
   "source": [
    "str11.startswith()"
   ]
  }
 ],
 "metadata": {
  "kernelspec": {
   "display_name": "Python [conda env:base] *",
   "language": "python",
   "name": "conda-base-py"
  },
  "language_info": {
   "codemirror_mode": {
    "name": "ipython",
    "version": 3
   },
   "file_extension": ".py",
   "mimetype": "text/x-python",
   "name": "python",
   "nbconvert_exporter": "python",
   "pygments_lexer": "ipython3",
   "version": "3.12.7"
  }
 },
 "nbformat": 4,
 "nbformat_minor": 5
}
