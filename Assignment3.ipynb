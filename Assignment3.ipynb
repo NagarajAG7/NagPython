{
 "cells": [
  {
   "cell_type": "code",
   "execution_count": 17,
   "id": "ec147cc9-cbf5-4710-9d0b-e5fcbd8fbc8f",
   "metadata": {},
   "outputs": [
    {
     "name": "stdout",
     "output_type": "stream",
     "text": [
      "Average of 44, 47 and 22 is 37.67\n"
     ]
    }
   ],
   "source": [
    "# 1)wap ask the user enter 3 random numbers n1,n2,n3 from ketboard\n",
    "# calculate average\n",
    "\n",
    "import random\n",
    "\n",
    "n1=random.randint(1,100)\n",
    "n2=random.randint(1,100)\n",
    "n3=random.randint(1,100)\n",
    "avg1=round((n1+n2+n3)/3,2)\n",
    "print(f'Average of {n1}, {n2} and {n3} is {avg1}')\n"
   ]
  },
  {
   "cell_type": "code",
   "execution_count": 15,
   "id": "48860c07-d6ba-48fb-ba6c-3cf0320ec5c4",
   "metadata": {},
   "outputs": [
    {
     "name": "stdin",
     "output_type": "stream",
     "text": [
      "Enter the name: Python\n"
     ]
    },
    {
     "name": "stdout",
     "output_type": "stream",
     "text": [
      "My name is Python and age is 50 stays at Bang\n"
     ]
    }
   ],
   "source": [
    "# 2)wap ask the user enter name \n",
    "#      random age  and  city using input\n",
    "# print my name is python im 10 years old and came from hyd\n",
    "\n",
    "import random\n",
    "name=input('Enter the name:')\n",
    "age=random.randint(21,60)\n",
    "city=random.choice([\"Hyd\",\"Bang\",\"Chen\"])\n",
    "#city=input('Enter the city:')\n",
    "print(f'My name is {name} and age is {age} stays at {city}')"
   ]
  },
  {
   "cell_type": "code",
   "execution_count": 25,
   "id": "ce39e876-eafe-4ba2-aa35-fd4a26f285c7",
   "metadata": {},
   "outputs": [
    {
     "name": "stdout",
     "output_type": "stream",
     "text": [
      "Area of the circle with radius 95 is: 28353\n"
     ]
    }
   ],
   "source": [
    "# 3)wap ask the user to enter random radidus of a circle calculate area of the circle\n",
    "# var: radidus  var: pi=3.14\n",
    "# formuale: pi*radius*radius\n",
    "# print the answers using f string and format\n",
    "\n",
    "import random\n",
    "import math\n",
    "\n",
    "r1=random.randint(1,100)\n",
    "ar1=math.ceil(math.pi*r1*r1)\n",
    "print('Area of the circle with radius {} is: {}'.format(r1,ar1))\n",
    "#print(f'Area of the circle with radius {r1} is: {ar1}')"
   ]
  },
  {
   "cell_type": "code",
   "execution_count": 31,
   "id": "6d1c4569-934f-46d1-9c01-9dfa16523392",
   "metadata": {},
   "outputs": [
    {
     "name": "stdout",
     "output_type": "stream",
     "text": [
      "Area of a right angled triangle with Base 96 and Height 73 is: 7008\n"
     ]
    }
   ],
   "source": [
    "# 4)wap ask the user enter random breadth and height of a right angle triangle\n",
    "# calculate the area\n",
    "# var1: bredath  var2: height\n",
    "# formuale : 0.5*breadth*heigh\n",
    "\n",
    "import random\n",
    "import math\n",
    "\n",
    "b1=random.randint(1,100)\n",
    "h1=random.randint(1,100)\n",
    "ar1=math.ceil(b1*h1)\n",
    "print(f'Area of a right angled triangle with Base {b1} and Height {h1} is: {ar1}')\n"
   ]
  },
  {
   "cell_type": "code",
   "execution_count": 39,
   "id": "f161515b-1b08-4b7d-8120-6982767deb4d",
   "metadata": {},
   "outputs": [
    {
     "name": "stdout",
     "output_type": "stream",
     "text": [
      "Your bill amount is 270 and tip is 54. So total bill amount is 324\n"
     ]
    }
   ],
   "source": [
    "# 5)wap ask the user the random bill amount and tip amount\n",
    "#   calculate total bill\n",
    "#   var1: bill amount var2: tip amount\n",
    "#   formuale\n",
    "\n",
    "import random\n",
    "import math\n",
    "\n",
    "b2=random.randint(100,1000)\n",
    "t2=random.randint(10,100)\n",
    "tot2= (b2+t2)\n",
    "print(f'Your bill amount is {b2} and tip is {t2}. So total bill amount is {tot2}')"
   ]
  },
  {
   "cell_type": "code",
   "execution_count": 47,
   "id": "9c76c3f8-08f1-45e2-8656-75e28b6a8f14",
   "metadata": {},
   "outputs": [
    {
     "name": "stdout",
     "output_type": "stream",
     "text": [
      "Your bill amount is 412 and tip is 41.2. So total bill amount is 454\n"
     ]
    }
   ],
   "source": [
    "# 6)wap ask the user the random bill amount and tip percentage\n",
    "#    take tip percentage as 10\n",
    "#   calculate total bill= bill amount+ bill amount*tip per/100\n",
    "#   var1: bill amount var2: tip amount\n",
    "#    formuale\n",
    "\n",
    "import random\n",
    "import math\n",
    "\n",
    "b3=random.randint(100,1000)\n",
    "t3=b3/10\n",
    "tot3= math.ceil((b3+t3))\n",
    "print(f'Your bill amount is {b3} and tip is {t3}. So total bill amount is {tot3}')"
   ]
  },
  {
   "cell_type": "code",
   "execution_count": 49,
   "id": "91f2286d-5656-484a-b91f-643f513e6d4e",
   "metadata": {},
   "outputs": [
    {
     "name": "stdout",
     "output_type": "stream",
     "text": [
      "Area of the Rectangle with length 704 and breadth 66 is 46464\n"
     ]
    }
   ],
   "source": [
    "# 7)wap ask the random length and breadth of a rectangle calculate area\n",
    "#   var1: length  var2: breadth\n",
    "#   formulae: length * breadth\n",
    "\n",
    "import random\n",
    "import math\n",
    "\n",
    "l4=random.randint(100,1000)\n",
    "b4=random.randint(10,100)\n",
    "ar4=l4*b4\n",
    "\n",
    "print(f'Area of the Rectangle with length {l4} and breadth {b4} is {ar4}')"
   ]
  },
  {
   "cell_type": "code",
   "execution_count": 59,
   "id": "bb68c053-3fce-49b3-9604-e0e6726603a8",
   "metadata": {},
   "outputs": [
    {
     "name": "stdout",
     "output_type": "stream",
     "text": [
      "Volume of a Sphere with radius  99  is  4064378.9469\n"
     ]
    }
   ],
   "source": [
    "# 8) wap ask the user take the random radius and calculate volume of sphere\n",
    "#   formulae: pi*r**3(pi*r*r*r)\n",
    "\n",
    "import random\n",
    "import math\n",
    "\n",
    "r5=random.randint(1,100)\n",
    "ar5=round(math.pi*math.pow(r5,3)*4/3,4)\n",
    "print(\"Volume of a Sphere with radius \",r5,\" is \",ar5)"
   ]
  },
  {
   "cell_type": "code",
   "execution_count": 63,
   "id": "b43c6c2d-e637-43cf-84e7-ca34247a026c",
   "metadata": {},
   "outputs": [
    {
     "name": "stdout",
     "output_type": "stream",
     "text": [
      "Dollar 9 into rupees is 765\n"
     ]
    }
   ],
   "source": [
    "# 9) wap ask the user enter random  amount in dollars convert into rupees\n",
    "#     1$=85rs\n",
    "\n",
    "import random\n",
    "import math\n",
    "\n",
    "usd1=random.randint(1,100)\n",
    "inr1=usd1*85\n",
    "\n",
    "print(f'Dollar {usd1} into rupees is {inr1}')"
   ]
  },
  {
   "cell_type": "code",
   "execution_count": 69,
   "id": "3c7da890-60d0-419f-9bd2-9cc6d1bb8dd8",
   "metadata": {},
   "outputs": [
    {
     "name": "stdout",
     "output_type": "stream",
     "text": [
      "weigth of 31 in kgs is 69 in pounds\n"
     ]
    }
   ],
   "source": [
    "# 10)wap ask the user enter random weight in kgs convert into pounds\n",
    "#    1kg= 2.2pounds\n",
    "\n",
    "import random\n",
    "import math\n",
    "\n",
    "kg1=random.randint(1,100)\n",
    "pd1= math.ceil(kg1*2.2)\n",
    "\n",
    "print(f\"weigth of {kg1} in kgs is {pd1} in pounds\")\n"
   ]
  },
  {
   "cell_type": "code",
   "execution_count": null,
   "id": "14ddd40e-3a25-44b2-a99d-a8aba5d55c21",
   "metadata": {},
   "outputs": [],
   "source": []
  }
 ],
 "metadata": {
  "kernelspec": {
   "display_name": "Python [conda env:base] *",
   "language": "python",
   "name": "conda-base-py"
  },
  "language_info": {
   "codemirror_mode": {
    "name": "ipython",
    "version": 3
   },
   "file_extension": ".py",
   "mimetype": "text/x-python",
   "name": "python",
   "nbconvert_exporter": "python",
   "pygments_lexer": "ipython3",
   "version": "3.12.7"
  }
 },
 "nbformat": 4,
 "nbformat_minor": 5
}
