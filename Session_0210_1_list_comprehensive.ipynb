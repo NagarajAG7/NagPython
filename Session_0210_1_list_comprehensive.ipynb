{
 "cells": [
  {
   "cell_type": "markdown",
   "id": "44a1bb20-123d-48f6-858a-0000760e16bd",
   "metadata": {},
   "source": [
    "# List of Student marks in python, marks = [45,76,89,53,67,90,82,49,33,99]\n",
    "# solve all below by list comprehension topic\n",
    "# a. Filter students who passed (marks >= 50)\n",
    "# b. calculate grades for all studetns(A: 85+, B: 70-84, C:50-69, F:<50)\n",
    "# c. Add 5 grace marks to students who failed (<50)\n",
    "# d. Identify top 3 scorers\n",
    "\n",
    "# e. Find average marks of the class"
   ]
  },
  {
   "cell_type": "code",
   "execution_count": 6,
   "id": "1d570d34-3e29-4402-9199-8f7a129dd46f",
   "metadata": {},
   "outputs": [
    {
     "data": {
      "text/plain": [
       "[76, 89, 53, 67, 90, 82, 99]"
      ]
     },
     "execution_count": 6,
     "metadata": {},
     "output_type": "execute_result"
    }
   ],
   "source": [
    "#List of Student marks in python, marks = [45,76,89,53,67,90,82,49,33,99]\n",
    "#a. Filter students who passed (marks >= 50)\n",
    "l1=[45,76,89,53,67,90,82,49,33,99]\n",
    "l2=[]\n",
    "for i in l1:\n",
    "    if i>= 50:\n",
    "        l2.append(i)\n",
    "l2\n"
   ]
  },
  {
   "cell_type": "markdown",
   "id": "6a1d742e-86e1-4ffc-97c5-c563eecbbe2e",
   "metadata": {},
   "source": [
    "# index -> for loop -> if condition"
   ]
  },
  {
   "cell_type": "code",
   "execution_count": 75,
   "id": "a84e29ae-cc77-42ef-8560-1d0980a16b04",
   "metadata": {},
   "outputs": [
    {
     "data": {
      "text/plain": [
       "[76, 89, 53, 67, 90, 82, 99]"
      ]
     },
     "execution_count": 75,
     "metadata": {},
     "output_type": "execute_result"
    }
   ],
   "source": [
    "#List of Student marks in python, marks = [45,76,89,53,67,90,82,49,33,99]\n",
    "#a. Filter students who passed (marks >= 50)\n",
    "l1=[45,76,89,53,67,90,82,49,33,99]\n",
    "[i for i in l1 if i>=50]\n"
   ]
  },
  {
   "cell_type": "code",
   "execution_count": 34,
   "id": "92dc8658-641a-4766-bd96-8ac5b75ee3ed",
   "metadata": {},
   "outputs": [
    {
     "data": {
      "text/plain": [
       "[(45, ':F'),\n",
       " (76, 'B'),\n",
       " (89, 'A'),\n",
       " (53, ':C'),\n",
       " (67, ':C'),\n",
       " (90, 'A'),\n",
       " (82, 'B'),\n",
       " (49, ':F'),\n",
       " (33, ':F'),\n",
       " (99, 'A')]"
      ]
     },
     "execution_count": 34,
     "metadata": {},
     "output_type": "execute_result"
    }
   ],
   "source": [
    "#List of Student marks in python, marks = [45,76,89,53,67,90,82,49,33,99]\n",
    "#b. calculate grades for all studetns(A: 85+, B: 70-84, C:50-69, F:<50)\n",
    "l1=[45,76,89,53,67,90,82,49,33,99]\n",
    "l2=[]\n",
    "for i in l1:\n",
    "    if i>=85:\n",
    "        grade=i,'A'\n",
    "    elif i>=70:\n",
    "        grade=i,'B'\n",
    "    elif i>= 50:\n",
    "        grade=i,':C'\n",
    "    else:\n",
    "        grade=i,':F'\n",
    "        \n",
    "    l2.append(grade)\n",
    "\n",
    "l2"
   ]
  },
  {
   "cell_type": "code",
   "execution_count": 81,
   "id": "d780724a-db26-4d65-9dd8-8ad518a89b0e",
   "metadata": {},
   "outputs": [
    {
     "data": {
      "text/plain": [
       "['Marks = 45 : F grade.',\n",
       " 'Marks = 76 : B grade.',\n",
       " 'Marks = 89 : A grade.',\n",
       " 'Marks = 53 : C grade.',\n",
       " 'Marks = 67 : C grade.',\n",
       " 'Marks = 90 : A grade.',\n",
       " 'Marks = 82 : B grade.',\n",
       " 'Marks = 49 : F grade.',\n",
       " 'Marks = 33 : F grade.',\n",
       " 'Marks = 99 : A grade.']"
      ]
     },
     "execution_count": 81,
     "metadata": {},
     "output_type": "execute_result"
    }
   ],
   "source": [
    "#List of Student marks in python, marks = [45,76,89,53,67,90,82,49,33,99]\n",
    "#b. calculate grades for all studetns(A: 85+, B: 70-84, C:50-69, F:<50)\n",
    "Marks=[45,76,89,53,67,90,82,49,33,99]\n",
    "\n",
    "[f\"Marks = {i} : A grade.\" if i >= 85\n",
    "else f\"Marks = {i} : B grade.\" if i >= 70\n",
    "else f\"Marks = {i} : C grade.\" if i >= 50\n",
    "else f\"Marks = {i} : F grade.\"\n",
    "for i in Marks]"
   ]
  },
  {
   "cell_type": "code",
   "execution_count": 87,
   "id": "0399fbd4-3f56-48ac-8b76-0a21ed5b2231",
   "metadata": {},
   "outputs": [
    {
     "data": {
      "text/plain": [
       "[50, 54, 38]"
      ]
     },
     "execution_count": 87,
     "metadata": {},
     "output_type": "execute_result"
    }
   ],
   "source": [
    "#List of Student marks in python, marks = [45,76,89,53,67,90,82,49,33,99]\n",
    "#c. Add 5 grace marks to students who failed (<50)\n",
    "l1=[45,76,89,53,67,90,82,49,33,99]\n",
    "l3=[]\n",
    "for i in l1:\n",
    "    if i<50:\n",
    "        i = i+5\n",
    "        l3.append(i)\n",
    "l3"
   ]
  },
  {
   "cell_type": "code",
   "execution_count": 91,
   "id": "52bad1e3-33b0-4e72-913f-c42e5d8341d7",
   "metadata": {},
   "outputs": [
    {
     "data": {
      "text/plain": [
       "[50, 54, 38]"
      ]
     },
     "execution_count": 91,
     "metadata": {},
     "output_type": "execute_result"
    }
   ],
   "source": [
    "#List of Student marks in python, marks = [45,76,89,53,67,90,82,49,33,99]\n",
    "#c. Add 5 grace marks to students who failed (<50)\n",
    "l1=[45,76,89,53,67,90,82,49,33,99]\n",
    "[i+5 for i in l1 if i<50]"
   ]
  },
  {
   "cell_type": "code",
   "execution_count": 93,
   "id": "b6f41ad7-4fd3-4ee0-a2a4-cde019f049dd",
   "metadata": {},
   "outputs": [
    {
     "name": "stdout",
     "output_type": "stream",
     "text": [
      "[99, 90, 89, 82, 76, 67, 53, 49, 45, 33]\n"
     ]
    },
    {
     "data": {
      "text/plain": [
       "[99, 90, 89]"
      ]
     },
     "execution_count": 93,
     "metadata": {},
     "output_type": "execute_result"
    }
   ],
   "source": [
    "#List of Student marks in python, marks = [45,76,89,53,67,90,82,49,33,99]\n",
    "#d. Identify top 3 scorers\n",
    "l1=[45,76,89,53,67,90,82,49,33,99]\n",
    "l4=[]\n",
    "l1.sort(reverse=True)\n",
    "print(l1)\n",
    "for i in range(3):\n",
    "    a=l1[i]\n",
    "    l4.append(a)\n",
    "l4"
   ]
  },
  {
   "cell_type": "code",
   "execution_count": 105,
   "id": "fb780b6a-6bf8-492b-9af2-4c9309c55f1c",
   "metadata": {},
   "outputs": [
    {
     "data": {
      "text/plain": [
       "[99, 90, 89]"
      ]
     },
     "execution_count": 105,
     "metadata": {},
     "output_type": "execute_result"
    }
   ],
   "source": [
    "#List of Student marks in python, marks = [45,76,89,53,67,90,82,49,33,99]\n",
    "#d. Identify top 3 scorers\n",
    "l1=[45,76,89,53,67,90,82,49,33,99]\n",
    "[(max_val:= max(l1), l1.remove(max_val))[0] for i in range(3)]"
   ]
  },
  {
   "cell_type": "code",
   "execution_count": 109,
   "id": "f23da963-e382-4826-acda-6e91973ba5a7",
   "metadata": {},
   "outputs": [
    {
     "data": {
      "text/plain": [
       "68.3"
      ]
     },
     "execution_count": 109,
     "metadata": {},
     "output_type": "execute_result"
    }
   ],
   "source": [
    "#List of Student marks in python, marks = [45,76,89,53,67,90,82,49,33,99]\n",
    "#e Find average marks of the class\n",
    "l1=[45,76,89,53,67,90,82,49,33,99]\n",
    "summ=0\n",
    "[summ:= summ+i for i in l1]\n",
    "summ/len(l1)\n"
   ]
  },
  {
   "cell_type": "code",
   "execution_count": 31,
   "id": "6c7cf817-cfd7-49fb-a54d-e412018acea7",
   "metadata": {},
   "outputs": [
    {
     "ename": "IndentationError",
     "evalue": "expected an indented block after 'for' statement on line 9 (820893933.py, line 10)",
     "output_type": "error",
     "traceback": [
      "\u001b[1;36m  Cell \u001b[1;32mIn[31], line 10\u001b[1;36m\u001b[0m\n\u001b[1;33m    x=(l2[0]-j[0])\u001b[0m\n\u001b[1;37m    ^\u001b[0m\n\u001b[1;31mIndentationError\u001b[0m\u001b[1;31m:\u001b[0m expected an indented block after 'for' statement on line 9\n"
     ]
    }
   ],
   "source": [
    "#distance between two points\n",
    "#find the distance between l2 from all points of l1\n",
    "#find the maximum distance of all these distances\n",
    "import math\n",
    "l1=[[1,2],[4,5],[7,9]]\n",
    "l2=[10,20]\n",
    "a=[]\n",
    "for i in l1:\n",
    "            \n",
    "    x=(l2[0]-ab)\n",
    "    y=(l2[1]-j[1])\n",
    "    a=math.pow(x,2)+math.pow(y,2)\n",
    "    b=math.sqrt(a)\n",
    "math.pow(x,2),math.pow(y,2),a,b"
   ]
  },
  {
   "cell_type": "code",
   "execution_count": 43,
   "id": "1fb2571d-2b64-475d-bd1d-e9a0c3f92da7",
   "metadata": {},
   "outputs": [
    {
     "data": {
      "text/plain": [
       "22.360679774997898"
      ]
     },
     "execution_count": 43,
     "metadata": {},
     "output_type": "execute_result"
    }
   ],
   "source": [
    "import math\n",
    "l1=[10,20]\n",
    "l2=[20,40]\n",
    "math.sqrt(math.pow(l1[0]-l2[0],2)+math.pow(l1[1]-l2[1],2))\n",
    "\n",
    "a=math.pow(l1[0]-l2[0],2)+math.pow(l1[1]-l2[1],2)\n",
    "\n",
    "math.sqrt(a)"
   ]
  },
  {
   "cell_type": "code",
   "execution_count": 47,
   "id": "9b5cd5c9-525b-40f8-a737-a4116e8af8ae",
   "metadata": {},
   "outputs": [
    {
     "ename": "SyntaxError",
     "evalue": "invalid syntax (1521863149.py, line 1)",
     "output_type": "error",
     "traceback": [
      "\u001b[1;36m  Cell \u001b[1;32mIn[47], line 1\u001b[1;36m\u001b[0m\n\u001b[1;33m    <img class=\"lnXdpd\" alt=\"Google\" height=\"92\" src=\"/images/branding/googlelogo/2x/googlelogo_color_272x92dp.png\" srcset=\"/images/branding/googlelogo/1x/googlelogo_color_272x92dp.png 1x, /images/branding/googlelogo/2x/googlelogo_color_272x92dp.png 2x\" width=\"272\" data-csiid=\"JIGpZ9b8DpSg1e8Pj5HwmAY_2\" data-atf=\"1\">\u001b[0m\n\u001b[1;37m    ^\u001b[0m\n\u001b[1;31mSyntaxError\u001b[0m\u001b[1;31m:\u001b[0m invalid syntax\n"
     ]
    }
   ],
   "source": [
    "<img class=\"lnXdpd\" alt=\"Google\" height=\"92\" src=\"/images/branding/googlelogo/2x/googlelogo_color_272x92dp.png\" srcset=\"/images/branding/googlelogo/1x/googlelogo_color_272x92dp.png 1x, /images/branding/googlelogo/2x/googlelogo_color_272x92dp.png 2x\" width=\"272\" data-csiid=\"JIGpZ9b8DpSg1e8Pj5HwmAY_2\" data-atf=\"1\">"
   ]
  },
  {
   "cell_type": "code",
   "execution_count": null,
   "id": "ef6c9423-6ad0-42f2-99d9-2ceabefdf2b1",
   "metadata": {},
   "outputs": [],
   "source": []
  }
 ],
 "metadata": {
  "kernelspec": {
   "display_name": "Python [conda env:base] *",
   "language": "python",
   "name": "conda-base-py"
  },
  "language_info": {
   "codemirror_mode": {
    "name": "ipython",
    "version": 3
   },
   "file_extension": ".py",
   "mimetype": "text/x-python",
   "name": "python",
   "nbconvert_exporter": "python",
   "pygments_lexer": "ipython3",
   "version": "3.12.7"
  }
 },
 "nbformat": 4,
 "nbformat_minor": 5
}
