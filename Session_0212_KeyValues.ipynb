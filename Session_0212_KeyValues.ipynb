{
 "cells": [
  {
   "cell_type": "code",
   "execution_count": 8,
   "id": "65d4d960-a6ba-4a49-a372-ba0e58dbc071",
   "metadata": {},
   "outputs": [
    {
     "data": {
      "text/plain": [
       "dict_keys(['Ramesh', 'Suresh', 'Sathish'])"
      ]
     },
     "execution_count": 8,
     "metadata": {},
     "output_type": "execute_result"
    }
   ],
   "source": [
    "d={'Ramesh':20,'Suresh':25,'Sathish':30}\n",
    "key1=d.keys()\n",
    "key1"
   ]
  },
  {
   "cell_type": "code",
   "execution_count": 3,
   "id": "bd2abd50-9618-4129-a750-530c5a9b18d2",
   "metadata": {},
   "outputs": [
    {
     "data": {
      "text/plain": [
       "dict_keys"
      ]
     },
     "execution_count": 3,
     "metadata": {},
     "output_type": "execute_result"
    }
   ],
   "source": [
    "type(key1)"
   ]
  },
  {
   "cell_type": "markdown",
   "id": "9f0c7c13-c922-4aa8-84d2-1a48722f136c",
   "metadata": {},
   "source": [
    "**Covert dictonary to list**\n",
    "\n",
    "- in order to convert dictionary to list\n",
    "\n",
    "- first we need to seperate keys and values\n",
    "\n",
    "- then apply list type casting"
   ]
  },
  {
   "cell_type": "code",
   "execution_count": 17,
   "id": "33bf462e-f124-47c7-bf4e-66b56ff6cb0d",
   "metadata": {},
   "outputs": [
    {
     "data": {
      "text/plain": [
       "['Ramesh', 'Suresh', 'Sathish']"
      ]
     },
     "execution_count": 17,
     "metadata": {},
     "output_type": "execute_result"
    }
   ],
   "source": [
    "d={'Ramesh':20,'Suresh':25,'Sathish':30}\n",
    "key1=d.keys()\n",
    "key1\n",
    "a=list(key1)\n",
    "a"
   ]
  },
  {
   "cell_type": "code",
   "execution_count": 21,
   "id": "cf7b05ec-602d-4477-9ac3-78850dc6bc63",
   "metadata": {},
   "outputs": [
    {
     "data": {
      "text/plain": [
       "[20, 25, 30]"
      ]
     },
     "execution_count": 21,
     "metadata": {},
     "output_type": "execute_result"
    }
   ],
   "source": [
    "d={'Ramesh':20,'Suresh':25,'Sathish':30}\n",
    "Val1=d.values()\n",
    "Val1\n",
    "b=list(Val1)\n",
    "b"
   ]
  },
  {
   "cell_type": "markdown",
   "id": "7a1b9ffe-b4ad-46f1-bdb0-e6ab04cda8c8",
   "metadata": {},
   "source": [
    "**Procedure to convert**\n",
    "\n",
    "list ==> string using join\n",
    "\n",
    "string ===> list using split\n",
    "\n",
    "list ===> dict using zip\n",
    "\n",
    "dict ===> list using typecasting"
   ]
  },
  {
   "cell_type": "code",
   "execution_count": 23,
   "id": "e788a57b-b130-4b17-91c8-47f91b81ea75",
   "metadata": {},
   "outputs": [
    {
     "data": {
      "text/plain": [
       "[('Ramesh', 20), ('Suresh', 25), ('Sathish', 30)]"
      ]
     },
     "execution_count": 23,
     "metadata": {},
     "output_type": "execute_result"
    }
   ],
   "source": [
    "d={'Ramesh':20,'Suresh':25,'Sathish':30}\n",
    "item1=d.items()\n",
    "item1\n",
    "c=list(item1)\n",
    "c"
   ]
  },
  {
   "cell_type": "code",
   "execution_count": 27,
   "id": "d863b7d2-bee1-4c35-a621-4af50a2e21ae",
   "metadata": {},
   "outputs": [
    {
     "data": {
      "text/plain": [
       "list"
      ]
     },
     "execution_count": 27,
     "metadata": {},
     "output_type": "execute_result"
    }
   ],
   "source": [
    "type(c)"
   ]
  },
  {
   "cell_type": "code",
   "execution_count": 37,
   "id": "937896da-e02d-42f5-87e1-51d4035a152f",
   "metadata": {},
   "outputs": [
    {
     "data": {
      "text/plain": [
       "1"
      ]
     },
     "execution_count": 37,
     "metadata": {},
     "output_type": "execute_result"
    }
   ],
   "source": [
    "a.count('Ramesh')"
   ]
  },
  {
   "cell_type": "code",
   "execution_count": 41,
   "id": "c5f18c63-d67a-42d4-a4a5-58a2fb83a8a2",
   "metadata": {},
   "outputs": [
    {
     "data": {
      "text/plain": [
       "1"
      ]
     },
     "execution_count": 41,
     "metadata": {},
     "output_type": "execute_result"
    }
   ],
   "source": [
    "b.count(20)"
   ]
  },
  {
   "cell_type": "code",
   "execution_count": 47,
   "id": "1c690437-1464-48b8-bceb-7673d8da4970",
   "metadata": {},
   "outputs": [],
   "source": [
    "#input1='virat.kohli@rcb.com;rohit.sharma@mi.com;ms.dhoni@csk.com'\n",
    "#output = {'Firstname':['virat','rohit','ms'],\n",
    "#            'Secondname':['kohli','sharma','dhoni'],\n",
    "#            'Cname':['rcb','mi','csk']}\n",
    "\n",
    "\n",
    "#idea : first convert string to list\n",
    "#from list extract 3 lists -> fname, sname, cname\n",
    "#from  lists create dictionary\n"
   ]
  },
  {
   "cell_type": "code",
   "execution_count": 51,
   "id": "285674f3-8642-4808-a853-c870e6e49ed6",
   "metadata": {},
   "outputs": [
    {
     "data": {
      "text/plain": [
       "['virat.kohli@rcb.com', 'rohit.sharma@mi.com', 'ms.dhoni@csk.com']"
      ]
     },
     "execution_count": 51,
     "metadata": {},
     "output_type": "execute_result"
    }
   ],
   "source": [
    "input1='virat.kohli@rcb.com;rohit.sharma@mi.com;ms.dhoni@csk.com'\n",
    "l1=input1.split(';')\n",
    "l1"
   ]
  },
  {
   "cell_type": "code",
   "execution_count": 101,
   "id": "6c769f48-4652-4e70-ac5b-38655d6268fd",
   "metadata": {},
   "outputs": [
    {
     "data": {
      "text/plain": [
       "['virat']"
      ]
     },
     "execution_count": 101,
     "metadata": {},
     "output_type": "execute_result"
    }
   ],
   "source": [
    "split1=l1[0].split('.')[0]\n",
    "fname=[]\n",
    "fname.append(split1)\n",
    "fname"
   ]
  },
  {
   "cell_type": "code",
   "execution_count": 77,
   "id": "8abf016f-ef4f-46ee-a32f-8d547cc318bb",
   "metadata": {},
   "outputs": [
    {
     "data": {
      "text/plain": [
       "['kohli']"
      ]
     },
     "execution_count": 77,
     "metadata": {},
     "output_type": "execute_result"
    }
   ],
   "source": [
    "fn2=l1[0].split('.')[1]\n",
    "sn=fn2.split('@')[0]\n",
    "sname=[]\n",
    "sname.append(sn)\n",
    "sname"
   ]
  },
  {
   "cell_type": "code",
   "execution_count": 89,
   "id": "55edb779-fabb-47fe-8b53-2d19450fc11b",
   "metadata": {},
   "outputs": [
    {
     "data": {
      "text/plain": [
       "['rcb']"
      ]
     },
     "execution_count": 89,
     "metadata": {},
     "output_type": "execute_result"
    }
   ],
   "source": [
    "fn3=l1[0].split('.')[2]\n",
    "fn3=sn=fn2.split('@')[1]\n",
    "cname=[]\n",
    "cname.append(fn3)\n",
    "cname\n"
   ]
  },
  {
   "cell_type": "code",
   "execution_count": 131,
   "id": "fdefbb3b-56c8-4e0a-be89-1231b4d1981c",
   "metadata": {},
   "outputs": [
    {
     "data": {
      "text/plain": [
       "(['virat.kohli@rcb.com', 'rohit.sharma@mi.com', 'ms.dhoni@csk.com'],\n",
       " {'Fname': ['virat', 'rohit', 'ms'],\n",
       "  'Sname': ['kohli', 'sharma', 'dhoni'],\n",
       "  'Cname': ['rcb', 'mi', 'csk']})"
      ]
     },
     "execution_count": 131,
     "metadata": {},
     "output_type": "execute_result"
    }
   ],
   "source": [
    "input1='virat.kohli@rcb.com;rohit.sharma@mi.com;ms.dhoni@csk.com'\n",
    "l1=input1.split(';')\n",
    "fname,sname,cname=[],[],[]\n",
    "d={}\n",
    "for i in l1:\n",
    "    first_dot=i.index('.')\n",
    "    second_dot=i.index('.',first_dot+1)\n",
    "    at_the_rate=i.index('@')\n",
    "    fname.append(i[:first_dot])\n",
    "    sname.append(i[first_dot+1:at_the_rate])\n",
    "    cname.append(i[at_the_rate+1:second_dot])\n",
    "    \n",
    "d['Fname']=fname\n",
    "d['Sname']=sname\n",
    "d['Cname']=cname\n",
    "l1,d"
   ]
  },
  {
   "cell_type": "code",
   "execution_count": 155,
   "id": "5d8f4629-b04e-48cc-b3af-167c2a4fae67",
   "metadata": {},
   "outputs": [
    {
     "data": {
      "text/plain": [
       "['__class__',\n",
       " '__class_getitem__',\n",
       " '__contains__',\n",
       " '__delattr__',\n",
       " '__delitem__',\n",
       " '__dir__',\n",
       " '__doc__',\n",
       " '__eq__',\n",
       " '__format__',\n",
       " '__ge__',\n",
       " '__getattribute__',\n",
       " '__getitem__',\n",
       " '__getstate__',\n",
       " '__gt__',\n",
       " '__hash__',\n",
       " '__init__',\n",
       " '__init_subclass__',\n",
       " '__ior__',\n",
       " '__iter__',\n",
       " '__le__',\n",
       " '__len__',\n",
       " '__lt__',\n",
       " '__ne__',\n",
       " '__new__',\n",
       " '__or__',\n",
       " '__reduce__',\n",
       " '__reduce_ex__',\n",
       " '__repr__',\n",
       " '__reversed__',\n",
       " '__ror__',\n",
       " '__setattr__',\n",
       " '__setitem__',\n",
       " '__sizeof__',\n",
       " '__str__',\n",
       " '__subclasshook__',\n",
       " 'clear',\n",
       " 'copy',\n",
       " 'fromkeys',\n",
       " 'get',\n",
       " 'items',\n",
       " 'keys',\n",
       " 'pop',\n",
       " 'popitem',\n",
       " 'setdefault',\n",
       " 'update',\n",
       " 'values']"
      ]
     },
     "execution_count": 155,
     "metadata": {},
     "output_type": "execute_result"
    }
   ],
   "source": [
    "dir(dict)"
   ]
  },
  {
   "cell_type": "code",
   "execution_count": 177,
   "id": "73cd3db7-8dba-4ebd-8b7f-228c2e428aac",
   "metadata": {},
   "outputs": [
    {
     "data": {
      "text/plain": [
       "{'abc': 1}"
      ]
     },
     "execution_count": 177,
     "metadata": {},
     "output_type": "execute_result"
    }
   ],
   "source": [
    "d1={'abc':1,'def':2}\n",
    "d1.pop('def')\n",
    "d1"
   ]
  },
  {
   "cell_type": "code",
   "execution_count": 187,
   "id": "111b4071-4fc0-48e3-a44c-ffc30e773638",
   "metadata": {},
   "outputs": [],
   "source": [
    "# pop is used in dictionary, similar analogy remove is used in list\n",
    "# pop item in dictionary, similar analogy pop in list"
   ]
  },
  {
   "cell_type": "code",
   "execution_count": 189,
   "id": "a4ae082b-26ca-44f6-a32c-034e88df9eb8",
   "metadata": {},
   "outputs": [
    {
     "data": {
      "text/plain": [
       "{'abc': 11, 'def': 12}"
      ]
     },
     "execution_count": 189,
     "metadata": {},
     "output_type": "execute_result"
    }
   ],
   "source": [
    "d2={'abc':11,'def':12,'xyz':13}\n",
    "d2.popitem()\n",
    "d2"
   ]
  },
  {
   "cell_type": "code",
   "execution_count": 203,
   "id": "3e05e50d-f60e-4217-bcbd-ad8b9806b3c3",
   "metadata": {},
   "outputs": [
    {
     "data": {
      "text/plain": [
       "12"
      ]
     },
     "execution_count": 203,
     "metadata": {},
     "output_type": "execute_result"
    }
   ],
   "source": [
    "d2.get('def')"
   ]
  },
  {
   "cell_type": "code",
   "execution_count": 205,
   "id": "72827ee1-0380-4755-977d-033ee3a14899",
   "metadata": {},
   "outputs": [
    {
     "data": {
      "text/plain": [
       "11"
      ]
     },
     "execution_count": 205,
     "metadata": {},
     "output_type": "execute_result"
    }
   ],
   "source": [
    "d2['abc']"
   ]
  },
  {
   "cell_type": "markdown",
   "id": "cb3e5e63-d005-4e46-aa3d-01f5ca17b21a",
   "metadata": {},
   "source": [
    "**update**\n",
    "\n",
    "- update is similar analogy **list extend**\n",
    "- take two dictionarys and apply update method"
   ]
  },
  {
   "cell_type": "code",
   "execution_count": 218,
   "id": "cb93080b-0519-4fd4-a116-59fff494be27",
   "metadata": {},
   "outputs": [
    {
     "data": {
      "text/plain": [
       "{'abc': 11, 'def': 12, 'pqr': 13, 'xyz': 14}"
      ]
     },
     "execution_count": 218,
     "metadata": {},
     "output_type": "execute_result"
    }
   ],
   "source": [
    "d3={'abc':11,'def':12}\n",
    "d4={'pqr':13,'xyz':14}\n",
    "d3.update(d4)\n",
    "d3"
   ]
  },
  {
   "cell_type": "code",
   "execution_count": 226,
   "id": "401bf70c-e634-481e-874e-45431f4a6f1a",
   "metadata": {},
   "outputs": [
    {
     "data": {
      "text/plain": [
       "['abc', 12, 'pqr', 14]"
      ]
     },
     "execution_count": 226,
     "metadata": {},
     "output_type": "execute_result"
    }
   ],
   "source": [
    "l3=['abc',12]\n",
    "l4=['pqr',14]\n",
    "l3.extend(l4)\n",
    "l3"
   ]
  },
  {
   "cell_type": "markdown",
   "id": "3285cb9f-6789-482c-94a9-07fd31da430a",
   "metadata": {},
   "source": [
    "**get**\n",
    "\n",
    "- get is used in dict\n",
    "- index is used in list\n"
   ]
  },
  {
   "cell_type": "markdown",
   "id": "785f714b-a66a-45a7-8de1-25d389fcc70b",
   "metadata": {},
   "source": [
    "**set default**\n",
    "\n",
    "- suppose an already existed dictionary available\n",
    "\n",
    "- we can update the dictionary with new key:value pair\n",
    "\n",
    "- similar analogy like append in list\n",
    "  "
   ]
  },
  {
   "cell_type": "code",
   "execution_count": 236,
   "id": "c6fa5225-5515-49e6-b41a-3f276c4222b2",
   "metadata": {},
   "outputs": [
    {
     "data": {
      "text/plain": [
       "{'abc': 11, 'def': 12, 'xyz': 13, 'Nag': None}"
      ]
     },
     "execution_count": 236,
     "metadata": {},
     "output_type": "execute_result"
    }
   ],
   "source": [
    "d5={'abc':11,'def':12,'xyz':13}\n",
    "d5.setdefault('Nag')\n",
    "d5"
   ]
  },
  {
   "cell_type": "code",
   "execution_count": 240,
   "id": "819db2b4-cb86-4d27-8d2f-9945ed6c6cb4",
   "metadata": {},
   "outputs": [
    {
     "data": {
      "text/plain": [
       "{'abc': 11, 'def': 12, 'xyz': 13, 'Nag': 14}"
      ]
     },
     "execution_count": 240,
     "metadata": {},
     "output_type": "execute_result"
    }
   ],
   "source": [
    "d6={'abc':11,'def':12,'xyz':13}\n",
    "d6.setdefault('Nag',14)\n",
    "d6"
   ]
  },
  {
   "cell_type": "markdown",
   "id": "df92544c-8fa0-4582-95f5-d75aca0361bf",
   "metadata": {},
   "source": [
    "**fromkeys**\n",
    "\n",
    "- create a dictionary with different keys but the same values\n",
    "\n",
    "- fromkeys will take an argument iterable\n",
    "\n",
    "- try to provide an iterator i.e., string, list, tuple"
   ]
  },
  {
   "cell_type": "code",
   "execution_count": 255,
   "id": "50d40019-afc4-4742-9646-a9653636ce97",
   "metadata": {},
   "outputs": [
    {
     "data": {
      "text/plain": [
       "{'Ramesh': 'Python', 'Suresh': 'Python', 'Sathish': 'Python'}"
      ]
     },
     "execution_count": 255,
     "metadata": {},
     "output_type": "execute_result"
    }
   ],
   "source": [
    "d7={}\n",
    "names=['Ramesh','Suresh','Sathish']\n",
    "d7.fromkeys(names,'Python')"
   ]
  },
  {
   "cell_type": "code",
   "execution_count": 257,
   "id": "7b84993f-2724-46a6-9937-65efb4c9b5c9",
   "metadata": {},
   "outputs": [
    {
     "data": {
      "text/plain": [
       "{'Ramesh': 100, 'Suresh': 100, 'Sathish': 100}"
      ]
     },
     "execution_count": 257,
     "metadata": {},
     "output_type": "execute_result"
    }
   ],
   "source": [
    "d7={}\n",
    "names=['Ramesh','Suresh','Sathish']\n",
    "d7.fromkeys(names,100)"
   ]
  },
  {
   "cell_type": "code",
   "execution_count": 263,
   "id": "e93b17cc-e20b-4b82-8fc6-03fb7e54d622",
   "metadata": {},
   "outputs": [
    {
     "data": {
      "text/plain": [
       "{'Ramesh': {'IT'}, 'Suresh': {'IT'}, 'Sathish': {'IT'}}"
      ]
     },
     "execution_count": 263,
     "metadata": {},
     "output_type": "execute_result"
    }
   ],
   "source": [
    "d7={}\n",
    "names=['Ramesh','Suresh','Sathish']\n",
    "d7.fromkeys(names,{'IT'})"
   ]
  },
  {
   "cell_type": "code",
   "execution_count": 267,
   "id": "0e02c293-2346-4581-a89f-94b73594aed0",
   "metadata": {},
   "outputs": [
    {
     "data": {
      "text/plain": [
       "{'Ramesh': [100], 'Suresh': [100], 'Sathish': [100]}"
      ]
     },
     "execution_count": 267,
     "metadata": {},
     "output_type": "execute_result"
    }
   ],
   "source": [
    "d7={}\n",
    "names=['Ramesh','Suresh','Sathish']\n",
    "d7.fromkeys(names,[100])"
   ]
  },
  {
   "cell_type": "code",
   "execution_count": 273,
   "id": "0fbaa2e2-40f2-490c-ac6a-f61d2f8dee21",
   "metadata": {},
   "outputs": [
    {
     "data": {
      "text/plain": [
       "{'Ramesh': 'Nag', 'Suresh': 'Nag', 'Sathish': 'Nag'}"
      ]
     },
     "execution_count": 273,
     "metadata": {},
     "output_type": "execute_result"
    }
   ],
   "source": [
    "d7={}\n",
    "names=['Ramesh','Suresh','Sathish']\n",
    "d7.fromkeys(names,('Nag'))"
   ]
  },
  {
   "cell_type": "code",
   "execution_count": 277,
   "id": "99f68930-0fb5-4eac-8406-9a4be3613979",
   "metadata": {},
   "outputs": [
    {
     "ename": "AttributeError",
     "evalue": "'dict' object has no attribute 'fromkey'",
     "output_type": "error",
     "traceback": [
      "\u001b[1;31m---------------------------------------------------------------------------\u001b[0m",
      "\u001b[1;31mAttributeError\u001b[0m                            Traceback (most recent call last)",
      "Cell \u001b[1;32mIn[277], line 2\u001b[0m\n\u001b[0;32m      1\u001b[0m d8\u001b[38;5;241m=\u001b[39m{}\n\u001b[1;32m----> 2\u001b[0m d8\u001b[38;5;241m.\u001b[39mfromkey(\u001b[38;5;124m'\u001b[39m\u001b[38;5;124mNag\u001b[39m\u001b[38;5;124m'\u001b[39m)\n",
      "\u001b[1;31mAttributeError\u001b[0m: 'dict' object has no attribute 'fromkey'"
     ]
    }
   ],
   "source": [
    "d8={}\n",
    "d8.fromkey('Nag')"
   ]
  },
  {
   "cell_type": "code",
   "execution_count": null,
   "id": "c5e7ed94-b140-4f87-a23e-88b4555752ff",
   "metadata": {},
   "outputs": [],
   "source": []
  }
 ],
 "metadata": {
  "kernelspec": {
   "display_name": "Python [conda env:base] *",
   "language": "python",
   "name": "conda-base-py"
  },
  "language_info": {
   "codemirror_mode": {
    "name": "ipython",
    "version": 3
   },
   "file_extension": ".py",
   "mimetype": "text/x-python",
   "name": "python",
   "nbconvert_exporter": "python",
   "pygments_lexer": "ipython3",
   "version": "3.12.7"
  }
 },
 "nbformat": 4,
 "nbformat_minor": 5
}
