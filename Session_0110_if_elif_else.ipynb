{
 "cells": [
  {
   "cell_type": "markdown",
   "id": "ec3f1c7c-6629-462f-bf1e-2f4ad1cd1fb6",
   "metadata": {},
   "source": [
    "**if-elif-else**\n",
    "\n",
    "- whenever we have multiple conditions we will do **if-elif-else**\n",
    "\n",
    "- if single condition is there we will go if-else\n",
    "\n",
    "- if two conditions are there we will go if-elif-else\n",
    "\n",
    "- if three conditions are there we will go if-elif-elif-else and go on"
   ]
  },
  {
   "cell_type": "code",
   "execution_count": 17,
   "id": "d5bb8f07-8d7d-4c14-a057-eb15b16be48f",
   "metadata": {},
   "outputs": [
    {
     "name": "stdin",
     "output_type": "stream",
     "text": [
      "Enter any number 123\n"
     ]
    },
    {
     "name": "stdout",
     "output_type": "stream",
     "text": [
      "Enter a number between 1 to 3\n"
     ]
    }
   ],
   "source": [
    "n1=input('Enter any number')\n",
    "if(eval(n1)==1):\n",
    "    print(\"the entered number is one,\",n1)\n",
    "elif(eval(n1)==2):\n",
    "    print(\"the entered number is two,\",n1)\n",
    "elif(eval(n1)==3):\n",
    "    print(\"the entered number is three,\",n1)\n",
    "else:\n",
    "    print('Enter a number between 1 to 3')"
   ]
  },
  {
   "cell_type": "code",
   "execution_count": 27,
   "id": "f137eabb-edef-4570-81c0-070f56f9e4a1",
   "metadata": {},
   "outputs": [
    {
     "name": "stdin",
     "output_type": "stream",
     "text": [
      "Enter any number 4\n"
     ]
    },
    {
     "name": "stdout",
     "output_type": "stream",
     "text": [
      "Enter a number between 1 to 3\n"
     ]
    }
   ],
   "source": [
    "n1=eval(input('Enter any number'))\n",
    "if(n1==1):\n",
    "    print(\"the entered number is one,\",n1)\n",
    "elif(n1==2):\n",
    "    print(\"the entered number is two,\",n1)\n",
    "elif(n1==3):\n",
    "    print(\"the entered number is three,\",n1)\n",
    "else:\n",
    "    print('Enter a number between 1 to 3')"
   ]
  },
  {
   "cell_type": "code",
   "execution_count": 43,
   "id": "9a4b173b-c4ef-4b85-a5de-7c58e726f254",
   "metadata": {},
   "outputs": [
    {
     "name": "stdin",
     "output_type": "stream",
     "text": [
      "Enter your percentage of marks 90.01\n"
     ]
    },
    {
     "name": "stdout",
     "output_type": "stream",
     "text": [
      "You got 'A Grade'\n"
     ]
    }
   ],
   "source": [
    "n2=eval(input('Enter your percentage of marks'))\n",
    "if(n2>90):\n",
    "    print(\"You got 'A Grade'\")\n",
    "elif(n2>70):\n",
    "    print(\"You got 'B Grade'\")\n",
    "elif(n2>50):\n",
    "    print(\"You got 'C Grade'\")\n",
    "elif(n2>=35):\n",
    "    print(\"You got 'D Grade'\")\n",
    "else:\n",
    "    print(\"You got 'Failed'\")\n"
   ]
  },
  {
   "cell_type": "code",
   "execution_count": 45,
   "id": "357f1e2d-4b47-40e8-8e55-adf91b9dbb64",
   "metadata": {},
   "outputs": [
    {
     "name": "stdin",
     "output_type": "stream",
     "text": [
      "Enter your percentage of marks 55\n"
     ]
    },
    {
     "name": "stdout",
     "output_type": "stream",
     "text": [
      "You got 'C Grade'\n"
     ]
    }
   ],
   "source": [
    "n2=eval(input('Enter your percentage of marks'))\n",
    "if n2>90:\n",
    "    print(\"You got 'A Grade'\")\n",
    "elif n2>70 :\n",
    "    print(\"You got 'B Grade'\")\n",
    "elif n2>50 :\n",
    "    print(\"You got 'C Grade'\")\n",
    "elif n2>=35 :\n",
    "    print(\"You got 'D Grade'\")\n",
    "else:\n",
    "    print(\"You got 'Failed'\")\n"
   ]
  },
  {
   "cell_type": "code",
   "execution_count": 58,
   "id": "0fa1dfc3-45c0-493b-82f1-e52736d78c21",
   "metadata": {},
   "outputs": [
    {
     "name": "stdin",
     "output_type": "stream",
     "text": [
      "Enter your age: 15\n"
     ]
    },
    {
     "name": "stdout",
     "output_type": "stream",
     "text": [
      "You are a Teenage\n"
     ]
    }
   ],
   "source": [
    "n3=eval(input('Enter your age:'))\n",
    "if n3>=100:\n",
    "    print(\"You are Awesome\")\n",
    "elif n3>=80:\n",
    "    print(\"You are a Old Guy\")\n",
    "elif n3>=60:\n",
    "    print(\"You are a Senior Citizen\")\n",
    "elif n3>=40:\n",
    "    print(\"You are a Middle Aged\")\n",
    "elif n3>=20:\n",
    "    print(\"You are a Young\")\n",
    "elif n3>=10:\n",
    "    print(\"You are a Teenage\")\n",
    "else:\n",
    "    print(\"You are a Kid\")\n"
   ]
  },
  {
   "cell_type": "code",
   "execution_count": 79,
   "id": "67e211ee-1716-49c4-9714-1437ba552f36",
   "metadata": {},
   "outputs": [
    {
     "name": "stdin",
     "output_type": "stream",
     "text": [
      "Enter your gender: Female\n",
      "Enter your age: 35\n"
     ]
    },
    {
     "name": "stdout",
     "output_type": "stream",
     "text": [
      "You are a 'Middle Aged Women'\n"
     ]
    }
   ],
   "source": [
    "import time\n",
    "gen1 = input('Enter your gender:')\n",
    "\n",
    "if gen1==\"Male\":\n",
    "    ag1 = eval(input('Enter your age:'))\n",
    "    if ag1>60:\n",
    "        print(\"You are a 'Senior Citizen Man'\")\n",
    "    elif ag1>=30:\n",
    "        print(\"You are a 'Middle Aged Man'\")\n",
    "    elif ag1>15:\n",
    "        print(\"You are a 'Young Man'\")\n",
    "    else:\n",
    "        print(\"You are a 'Kid'\")\n",
    "\n",
    "elif gen1==\"Female\":\n",
    "    ag1 = eval(input('Enter your age:'))\n",
    "    if ag1>60:\n",
    "        print(\"You are a 'Senior Citizen Women'\")\n",
    "    elif ag1>=30:\n",
    "        print(\"You are a 'Middle Aged Women'\")\n",
    "    elif ag1>15:\n",
    "        print(\"You are a 'Young Women'\")\n",
    "    else:\n",
    "        print(\"You are a 'Kid'\")\n",
    "\n",
    "else:\n",
    "    time.sleep(1)\n",
    "    print(\"Enter a valid Gender\")\n",
    "\n"
   ]
  },
  {
   "cell_type": "code",
   "execution_count": 99,
   "id": "55159dd7-14b9-4a70-8606-9cb22eb5a4c9",
   "metadata": {},
   "outputs": [
    {
     "name": "stdin",
     "output_type": "stream",
     "text": [
      "Enter your gender: d\n",
      "Enter your age: d\n"
     ]
    },
    {
     "ename": "NameError",
     "evalue": "name 'd' is not defined",
     "output_type": "error",
     "traceback": [
      "\u001b[1;31m---------------------------------------------------------------------------\u001b[0m",
      "\u001b[1;31mNameError\u001b[0m                                 Traceback (most recent call last)",
      "Cell \u001b[1;32mIn[99], line 4\u001b[0m\n\u001b[0;32m      2\u001b[0m gen1 \u001b[38;5;241m=\u001b[39m \u001b[38;5;28minput\u001b[39m(\u001b[38;5;124m'\u001b[39m\u001b[38;5;124mEnter your gender:\u001b[39m\u001b[38;5;124m'\u001b[39m)\n\u001b[0;32m      3\u001b[0m \u001b[38;5;28;01mif\u001b[39;00m gen1\u001b[38;5;241m==\u001b[39m\u001b[38;5;124m'\u001b[39m\u001b[38;5;124mMale\u001b[39m\u001b[38;5;124m'\u001b[39m \u001b[38;5;129;01mor\u001b[39;00m \u001b[38;5;124m'\u001b[39m\u001b[38;5;124mFemale\u001b[39m\u001b[38;5;124m'\u001b[39m:\n\u001b[1;32m----> 4\u001b[0m     ag1\u001b[38;5;241m=\u001b[39m\u001b[38;5;28meval\u001b[39m(\u001b[38;5;28minput\u001b[39m(\u001b[38;5;124m\"\u001b[39m\u001b[38;5;124mEnter your age:\u001b[39m\u001b[38;5;124m\"\u001b[39m))\n\u001b[0;32m      6\u001b[0m     \u001b[38;5;28;01mif\u001b[39;00m gen1\u001b[38;5;241m==\u001b[39m\u001b[38;5;124m\"\u001b[39m\u001b[38;5;124mMale\u001b[39m\u001b[38;5;124m\"\u001b[39m \u001b[38;5;129;01mand\u001b[39;00m ag1\u001b[38;5;241m>\u001b[39m\u001b[38;5;241m60\u001b[39m:\n\u001b[0;32m      7\u001b[0m         \u001b[38;5;28mprint\u001b[39m(\u001b[38;5;124m\"\u001b[39m\u001b[38;5;124mYou are a \u001b[39m\u001b[38;5;124m'\u001b[39m\u001b[38;5;124mSenior Citizen Man\u001b[39m\u001b[38;5;124m'\u001b[39m\u001b[38;5;124m\"\u001b[39m)\n",
      "File \u001b[1;32m<string>:1\u001b[0m\n",
      "\u001b[1;31mNameError\u001b[0m: name 'd' is not defined"
     ]
    }
   ],
   "source": [
    "import time\n",
    "gen1 = input('Enter your gender:')\n",
    "\n",
    "if gen1=='Male' or 'Female':\n",
    "    ag1=eval(input(\"Enter your age:\"))\n",
    "\n",
    "    if gen1==\"Male\" and ag1>60:\n",
    "        print(\"You are a 'Senior Citizen Man'\")\n",
    "    elif gen1==\"Male\" and ag1>=30:\n",
    "        print(\"You are a 'Middle Aged Man'\")\n",
    "    elif gen1==\"Male\" and ag1>15:\n",
    "        print(\"You are a 'Young Man'\")\n",
    "    else:\n",
    "        print(\"You are a 'Kid'\")\n",
    "\n",
    "else:\n",
    "    time.sleep(1)\n",
    "    print(\"Enter a valid Gender\")\n",
    "\n"
   ]
  },
  {
   "cell_type": "code",
   "execution_count": null,
   "id": "0c28412e-65a9-4443-ab62-8eb247e15ca8",
   "metadata": {},
   "outputs": [],
   "source": []
  },
  {
   "cell_type": "code",
   "execution_count": null,
   "id": "6ff73c4f-1cd9-43d9-afcd-1990c64ec3ab",
   "metadata": {},
   "outputs": [],
   "source": []
  }
 ],
 "metadata": {
  "kernelspec": {
   "display_name": "Python [conda env:base] *",
   "language": "python",
   "name": "conda-base-py"
  },
  "language_info": {
   "codemirror_mode": {
    "name": "ipython",
    "version": 3
   },
   "file_extension": ".py",
   "mimetype": "text/x-python",
   "name": "python",
   "nbconvert_exporter": "python",
   "pygments_lexer": "ipython3",
   "version": "3.12.7"
  }
 },
 "nbformat": 4,
 "nbformat_minor": 5
}
