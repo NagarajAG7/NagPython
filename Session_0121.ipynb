{
 "cells": [
  {
   "cell_type": "code",
   "execution_count": 1,
   "id": "0b9e88e5-c900-479c-bf76-c459b654690c",
   "metadata": {},
   "outputs": [
    {
     "data": {
      "text/plain": [
       "(3+4j)"
      ]
     },
     "execution_count": 1,
     "metadata": {},
     "output_type": "execute_result"
    }
   ],
   "source": [
    "complex(3,4)"
   ]
  },
  {
   "cell_type": "code",
   "execution_count": 3,
   "id": "5b8c44ad-e941-4bea-8a39-c74ed6074ef0",
   "metadata": {},
   "outputs": [
    {
     "data": {
      "text/plain": [
       "(3+0j)"
      ]
     },
     "execution_count": 3,
     "metadata": {},
     "output_type": "execute_result"
    }
   ],
   "source": [
    "complex(3)"
   ]
  },
  {
   "cell_type": "code",
   "execution_count": 5,
   "id": "e272d7fc-815a-4b9b-b03c-7cc532831a05",
   "metadata": {},
   "outputs": [
    {
     "data": {
      "text/plain": [
       "0j"
      ]
     },
     "execution_count": 5,
     "metadata": {},
     "output_type": "execute_result"
    }
   ],
   "source": [
    "complex()"
   ]
  },
  {
   "cell_type": "code",
   "execution_count": 15,
   "id": "dcc1b67c-e52c-44d7-92c4-92cc193fc66d",
   "metadata": {},
   "outputs": [
    {
     "name": "stdout",
     "output_type": "stream",
     "text": [
      "a: 100\n",
      "b: 200\n",
      "c: 600\n",
      "the sum of the 100, 200 and 600 is: 900\n"
     ]
    }
   ],
   "source": [
    "def add(a,b,c=400):\n",
    "    print('a:',a)\n",
    "    print('b:',b)\n",
    "    print('c:',c)\n",
    "    sum=a+b+c\n",
    "    print(f'the sum of the {a}, {b} and {c} is: {sum}')\n",
    "add(100,200,600)"
   ]
  },
  {
   "cell_type": "code",
   "execution_count": 17,
   "id": "a227df2c-1418-4834-981a-dc1c6fdc919c",
   "metadata": {},
   "outputs": [
    {
     "name": "stdout",
     "output_type": "stream",
     "text": [
      "a: 100\n",
      "b: 200\n",
      "c: 800\n",
      "the sum of the 100, 200 and 800 is: 1100\n"
     ]
    }
   ],
   "source": [
    "def add(a,b,c=400):\n",
    "    c=800\n",
    "    print('a:',a)\n",
    "    print('b:',b)\n",
    "    print('c:',c)\n",
    "    sum=a+b+c\n",
    "    print(f'the sum of the {a}, {b} and {c} is: {sum}')\n",
    "add(100,200,600)"
   ]
  },
  {
   "cell_type": "code",
   "execution_count": 19,
   "id": "0d82fe69-aef5-4e50-b84e-c182a4e52ff3",
   "metadata": {},
   "outputs": [
    {
     "name": "stdout",
     "output_type": "stream",
     "text": [
      "a: 100\n",
      "b: 200\n",
      "c: 600\n",
      "the sum of the 100, 200 and 600 is: 900\n"
     ]
    }
   ],
   "source": [
    "def add(a,b,c=400):\n",
    "    #c=800\n",
    "    print('a:',a)\n",
    "    print('b:',b)\n",
    "    print('c:',c)\n",
    "    sum=a+b+c\n",
    "    print(f'the sum of the {a}, {b} and {c} is: {sum}')\n",
    "add(100,200,600)"
   ]
  },
  {
   "cell_type": "code",
   "execution_count": 25,
   "id": "ff4a8d17-2512-4ba3-8a87-44d588c2b274",
   "metadata": {},
   "outputs": [
    {
     "name": "stdout",
     "output_type": "stream",
     "text": [
      "a: 100\n",
      "b: 200\n",
      "c: 400\n",
      "the sum of the 100, 200 and 400 is: 700\n"
     ]
    }
   ],
   "source": [
    "def add(a,b,c=400):\n",
    "    #c=800\n",
    "    print('a:',a)\n",
    "    print('b:',b)\n",
    "    print('c:',c)\n",
    "    sum=a+b+c\n",
    "    print(f'the sum of the {a}, {b} and {c} is: {sum}')\n",
    "add(100,200)"
   ]
  },
  {
   "cell_type": "code",
   "execution_count": 31,
   "id": "24c85801-ea39-4e16-9e76-7cf9249ec92e",
   "metadata": {},
   "outputs": [
    {
     "name": "stdout",
     "output_type": "stream",
     "text": [
      "a: 100\n",
      "b: 200\n",
      "c: 400\n",
      "the sum of the 100, 200 and 400 is: 700\n"
     ]
    }
   ],
   "source": [
    "def add(a,b,c=400):\n",
    "    #c=800\n",
    "    print('a:',a)\n",
    "    print('b:',b)\n",
    "    print('c:',c)\n",
    "    sum=a+b+c\n",
    "    print(f'the sum of the {a}, {b} and {c} is: {sum}')\n",
    "    c=100\n",
    "add(100,200)"
   ]
  },
  {
   "cell_type": "code",
   "execution_count": 35,
   "id": "199988fe-7a9d-42c1-8ac1-5d44cb41c9b5",
   "metadata": {},
   "outputs": [
    {
     "name": "stdout",
     "output_type": "stream",
     "text": [
      "a: 100\n",
      "b: 200\n",
      "c: 600\n",
      "the sum of the 100, 200 and 600 is: 900\n"
     ]
    }
   ],
   "source": [
    "def add(a,b,c=400):\n",
    "    #c=800\n",
    "    print('a:',a)\n",
    "    print('b:',b)\n",
    "    print('c:',c)\n",
    "    sum=a+b+c\n",
    "    print(f'the sum of the {a}, {b} and {c} is: {sum}')\n",
    "    c=100\n",
    "add(100,200,600)"
   ]
  },
  {
   "cell_type": "code",
   "execution_count": 43,
   "id": "8decac9b-d773-4b51-8b01-33480efbebca",
   "metadata": {},
   "outputs": [
    {
     "name": "stdout",
     "output_type": "stream",
     "text": [
      "a: 100\n",
      "b: 200\n",
      "c: 100\n",
      "the sum of the 100, 200 and 100 is: 400\n"
     ]
    }
   ],
   "source": [
    "def add(a,b,c=400):\n",
    "    #c=800\n",
    "    print('a:',a)\n",
    "    print('b:',b)\n",
    "    c=100\n",
    "    print('c:',c)\n",
    "    sum=a+b+c\n",
    "    print(f'the sum of the {a}, {b} and {c} is: {sum}')\n",
    "    \n",
    "add(100,200,600)"
   ]
  },
  {
   "cell_type": "code",
   "execution_count": 47,
   "id": "3b479799-b53a-4296-bcf7-5490e2e3d45f",
   "metadata": {},
   "outputs": [
    {
     "name": "stdout",
     "output_type": "stream",
     "text": [
      "a: 100\n",
      "b: 200\n",
      "c: 800\n",
      "the sum of the 100, 200 and 800 is: 1100\n"
     ]
    }
   ],
   "source": [
    "c=100\n",
    "def add(a,b,c=400):\n",
    "    c=800\n",
    "    print('a:',a)\n",
    "    print('b:',b)\n",
    "    print('c:',c)\n",
    "    sum=a+b+c\n",
    "    print(f'the sum of the {a}, {b} and {c} is: {sum}')\n",
    "    \n",
    "add(100,200,600)"
   ]
  },
  {
   "cell_type": "code",
   "execution_count": 49,
   "id": "485c65bb-2214-4b79-9bbe-51d0338693bb",
   "metadata": {},
   "outputs": [
    {
     "name": "stdout",
     "output_type": "stream",
     "text": [
      "a: 100\n",
      "b: 200\n",
      "c: 600\n",
      "the sum of the 100, 200 and 600 is: 900\n"
     ]
    }
   ],
   "source": [
    "c=100\n",
    "def add(a,b,c=400):\n",
    "    #c=800\n",
    "    print('a:',a)\n",
    "    print('b:',b)\n",
    "    print('c:',c)\n",
    "    sum=a+b+c\n",
    "    print(f'the sum of the {a}, {b} and {c} is: {sum}')\n",
    "    \n",
    "add(100,200,600)"
   ]
  },
  {
   "cell_type": "code",
   "execution_count": 51,
   "id": "10655ed1-eb74-4ede-9cc4-1d3febeb771d",
   "metadata": {},
   "outputs": [
    {
     "name": "stdout",
     "output_type": "stream",
     "text": [
      "a: 100\n",
      "b: 200\n",
      "c: 400\n",
      "the sum of the 100, 200 and 400 is: 700\n"
     ]
    }
   ],
   "source": [
    "c=100\n",
    "def add(a,b,c=400):\n",
    "    #c=800\n",
    "    print('a:',a)\n",
    "    print('b:',b)\n",
    "    print('c:',c)\n",
    "    sum=a+b+c\n",
    "    print(f'the sum of the {a}, {b} and {c} is: {sum}')\n",
    "    \n",
    "add(100,200)"
   ]
  },
  {
   "cell_type": "code",
   "execution_count": 53,
   "id": "34b0d8be-613a-4eb4-a462-32583c81135a",
   "metadata": {},
   "outputs": [
    {
     "ename": "TypeError",
     "evalue": "add() missing 1 required positional argument: 'c'",
     "output_type": "error",
     "traceback": [
      "\u001b[1;31m---------------------------------------------------------------------------\u001b[0m",
      "\u001b[1;31mTypeError\u001b[0m                                 Traceback (most recent call last)",
      "Cell \u001b[1;32mIn[53], line 10\u001b[0m\n\u001b[0;32m      7\u001b[0m     \u001b[38;5;28msum\u001b[39m\u001b[38;5;241m=\u001b[39ma\u001b[38;5;241m+\u001b[39mb\u001b[38;5;241m+\u001b[39mc\n\u001b[0;32m      8\u001b[0m     \u001b[38;5;28mprint\u001b[39m(\u001b[38;5;124mf\u001b[39m\u001b[38;5;124m'\u001b[39m\u001b[38;5;124mthe sum of the \u001b[39m\u001b[38;5;132;01m{\u001b[39;00ma\u001b[38;5;132;01m}\u001b[39;00m\u001b[38;5;124m, \u001b[39m\u001b[38;5;132;01m{\u001b[39;00mb\u001b[38;5;132;01m}\u001b[39;00m\u001b[38;5;124m and \u001b[39m\u001b[38;5;132;01m{\u001b[39;00mc\u001b[38;5;132;01m}\u001b[39;00m\u001b[38;5;124m is: \u001b[39m\u001b[38;5;132;01m{\u001b[39;00m\u001b[38;5;28msum\u001b[39m\u001b[38;5;132;01m}\u001b[39;00m\u001b[38;5;124m'\u001b[39m)\n\u001b[1;32m---> 10\u001b[0m add(\u001b[38;5;241m100\u001b[39m,\u001b[38;5;241m200\u001b[39m)\n",
      "\u001b[1;31mTypeError\u001b[0m: add() missing 1 required positional argument: 'c'"
     ]
    }
   ],
   "source": [
    "c=100\n",
    "def add(a,b,c):\n",
    "    #c=800\n",
    "    print('a:',a)\n",
    "    print('b:',b)\n",
    "    print('c:',c)\n",
    "    sum=a+b+c\n",
    "    print(f'the sum of the {a}, {b} and {c} is: {sum}')\n",
    "    \n",
    "add(100,200)"
   ]
  },
  {
   "cell_type": "code",
   "execution_count": 67,
   "id": "575eaeec-d5b0-4a28-b096-6081014bc584",
   "metadata": {},
   "outputs": [
    {
     "name": "stdout",
     "output_type": "stream",
     "text": [
      "n: 400\n",
      "m: 500\n",
      "the sum of the 400 and 500 is: 900\n"
     ]
    }
   ],
   "source": [
    "c=200\n",
    "def add1(n,m):\n",
    "    print('n:',n)\n",
    "    print('m:',m)\n",
    "    sum=n+m\n",
    "    print(f'the sum of the {n} and {m} is: {sum}')\n",
    "    \n",
    "add1(400,500)"
   ]
  },
  {
   "cell_type": "code",
   "execution_count": 69,
   "id": "e7d718d7-ef20-489c-b10c-d447dae43676",
   "metadata": {},
   "outputs": [
    {
     "ename": "NameError",
     "evalue": "name 'n' is not defined",
     "output_type": "error",
     "traceback": [
      "\u001b[1;31m---------------------------------------------------------------------------\u001b[0m",
      "\u001b[1;31mNameError\u001b[0m                                 Traceback (most recent call last)",
      "Cell \u001b[1;32mIn[69], line 1\u001b[0m\n\u001b[1;32m----> 1\u001b[0m n\n",
      "\u001b[1;31mNameError\u001b[0m: name 'n' is not defined"
     ]
    }
   ],
   "source": [
    "n"
   ]
  },
  {
   "cell_type": "code",
   "execution_count": 71,
   "id": "e1fcc276-1d5a-4fb1-92b5-df5f09e4dc72",
   "metadata": {},
   "outputs": [
    {
     "data": {
      "text/plain": [
       "200"
      ]
     },
     "execution_count": 71,
     "metadata": {},
     "output_type": "execute_result"
    }
   ],
   "source": [
    "c"
   ]
  },
  {
   "cell_type": "code",
   "execution_count": 79,
   "id": "b1099d7a-04ab-46bd-9c1c-7d6f8ea85390",
   "metadata": {},
   "outputs": [
    {
     "name": "stdout",
     "output_type": "stream",
     "text": [
      "n1: 400\n",
      "n2: 500\n",
      "the sum of the 400 and 500 is: 900\n"
     ]
    }
   ],
   "source": [
    "n1=200\n",
    "n2=300\n",
    "def add1(n1,n2):\n",
    "    print('n1:',n1)\n",
    "    print('n2:',n2)\n",
    "    global sum1\n",
    "    sum1=n1+n2\n",
    "    print(f'the sum of the {n1} and {n2} is: {sum1}')\n",
    "    \n",
    "add1(400,500)"
   ]
  },
  {
   "cell_type": "code",
   "execution_count": 83,
   "id": "af853e8d-a3cd-4fa4-9eae-7195528094ff",
   "metadata": {},
   "outputs": [
    {
     "data": {
      "text/plain": [
       "900"
      ]
     },
     "execution_count": 83,
     "metadata": {},
     "output_type": "execute_result"
    }
   ],
   "source": [
    "sum1"
   ]
  },
  {
   "cell_type": "code",
   "execution_count": 85,
   "id": "3462ef87-6398-4aaf-ac36-874468c7cc26",
   "metadata": {},
   "outputs": [
    {
     "ename": "UnboundLocalError",
     "evalue": "cannot access local variable 's' where it is not associated with a value",
     "output_type": "error",
     "traceback": [
      "\u001b[1;31m---------------------------------------------------------------------------\u001b[0m",
      "\u001b[1;31mUnboundLocalError\u001b[0m                         Traceback (most recent call last)",
      "Cell \u001b[1;32mIn[85], line 5\u001b[0m\n\u001b[0;32m      3\u001b[0m     n1\u001b[38;5;241m=\u001b[39m\u001b[38;5;241m100\u001b[39m\n\u001b[0;32m      4\u001b[0m     s\u001b[38;5;241m=\u001b[39ms\u001b[38;5;241m+\u001b[39mn1\n\u001b[1;32m----> 5\u001b[0m add1()\n",
      "Cell \u001b[1;32mIn[85], line 4\u001b[0m, in \u001b[0;36madd1\u001b[1;34m()\u001b[0m\n\u001b[0;32m      2\u001b[0m \u001b[38;5;28;01mdef\u001b[39;00m \u001b[38;5;21madd1\u001b[39m():\n\u001b[0;32m      3\u001b[0m     n1\u001b[38;5;241m=\u001b[39m\u001b[38;5;241m100\u001b[39m\n\u001b[1;32m----> 4\u001b[0m     s\u001b[38;5;241m=\u001b[39ms\u001b[38;5;241m+\u001b[39mn1\n",
      "\u001b[1;31mUnboundLocalError\u001b[0m: cannot access local variable 's' where it is not associated with a value"
     ]
    }
   ],
   "source": [
    "s=0\n",
    "def add1():\n",
    "    n1=100\n",
    "    s=s+n1\n",
    "add1()"
   ]
  },
  {
   "cell_type": "code",
   "execution_count": 95,
   "id": "b9f4e504-8bf1-41d5-bf18-8e48e25e637c",
   "metadata": {},
   "outputs": [
    {
     "name": "stdout",
     "output_type": "stream",
     "text": [
      "s1: 110\n"
     ]
    }
   ],
   "source": [
    "s=10\n",
    "def add1():\n",
    "    global s1\n",
    "    n1=100\n",
    "    s1=s+n1\n",
    "    print('s1:',s1)\n",
    "add1()"
   ]
  },
  {
   "cell_type": "code",
   "execution_count": 97,
   "id": "13452868-8708-4536-9dd3-bb66598d761e",
   "metadata": {},
   "outputs": [
    {
     "data": {
      "text/plain": [
       "110"
      ]
     },
     "execution_count": 97,
     "metadata": {},
     "output_type": "execute_result"
    }
   ],
   "source": [
    "s1"
   ]
  },
  {
   "cell_type": "code",
   "execution_count": 105,
   "id": "dd698b94-8871-4df4-88f7-b03cd59f7584",
   "metadata": {},
   "outputs": [
    {
     "ename": "UnboundLocalError",
     "evalue": "cannot access local variable 's1' where it is not associated with a value",
     "output_type": "error",
     "traceback": [
      "\u001b[1;31m---------------------------------------------------------------------------\u001b[0m",
      "\u001b[1;31mUnboundLocalError\u001b[0m                         Traceback (most recent call last)",
      "Cell \u001b[1;32mIn[105], line 5\u001b[0m\n\u001b[0;32m      3\u001b[0m     s1\u001b[38;5;241m=\u001b[39ms1\u001b[38;5;241m+\u001b[39mn1\n\u001b[0;32m      4\u001b[0m     \u001b[38;5;28mprint\u001b[39m(\u001b[38;5;124m'\u001b[39m\u001b[38;5;124ms1:\u001b[39m\u001b[38;5;124m'\u001b[39m,s1)\n\u001b[1;32m----> 5\u001b[0m add1()\n",
      "Cell \u001b[1;32mIn[105], line 3\u001b[0m, in \u001b[0;36madd1\u001b[1;34m()\u001b[0m\n\u001b[0;32m      1\u001b[0m \u001b[38;5;28;01mdef\u001b[39;00m \u001b[38;5;21madd1\u001b[39m():\n\u001b[0;32m      2\u001b[0m     n1\u001b[38;5;241m=\u001b[39m\u001b[38;5;241m100\u001b[39m\n\u001b[1;32m----> 3\u001b[0m     s1\u001b[38;5;241m=\u001b[39ms1\u001b[38;5;241m+\u001b[39mn1\n\u001b[0;32m      4\u001b[0m     \u001b[38;5;28mprint\u001b[39m(\u001b[38;5;124m'\u001b[39m\u001b[38;5;124ms1:\u001b[39m\u001b[38;5;124m'\u001b[39m,s1)\n",
      "\u001b[1;31mUnboundLocalError\u001b[0m: cannot access local variable 's1' where it is not associated with a value"
     ]
    }
   ],
   "source": [
    "def add1():\n",
    "    n1=100\n",
    "    s1=s1+n1\n",
    "    print('s1:',s1)\n",
    "add1()"
   ]
  },
  {
   "cell_type": "code",
   "execution_count": 109,
   "id": "e324c788-4b38-4fde-8d92-476c19470690",
   "metadata": {},
   "outputs": [
    {
     "name": "stdout",
     "output_type": "stream",
     "text": [
      "s1: 510\n"
     ]
    }
   ],
   "source": [
    "def add1():\n",
    "    global s1\n",
    "    n1=100\n",
    "    s1=s1+n1\n",
    "    print('s1:',s1)\n",
    "add1()"
   ]
  },
  {
   "cell_type": "code",
   "execution_count": 115,
   "id": "2006d316-95da-4007-9852-0e7dc5ae53a7",
   "metadata": {},
   "outputs": [
    {
     "name": "stdout",
     "output_type": "stream",
     "text": [
      "n6: 110\n"
     ]
    }
   ],
   "source": [
    "def add2():\n",
    "    n5=100\n",
    "    n6=10\n",
    "    n6=n6+n5\n",
    "    print('n6:',n6)\n",
    "add2()"
   ]
  },
  {
   "cell_type": "code",
   "execution_count": 133,
   "id": "2ce75a1a-8784-44d2-b0f1-abbb8639605f",
   "metadata": {},
   "outputs": [
    {
     "name": "stdout",
     "output_type": "stream",
     "text": [
      "60 20.0\n"
     ]
    }
   ],
   "source": [
    "def avg(a,b,c):\n",
    "    add3=a+b+c\n",
    "    avg3=add3/3\n",
    "    print(add3,avg3)\n",
    "avg(10,20,30)"
   ]
  },
  {
   "cell_type": "code",
   "execution_count": 137,
   "id": "0c5ae2b5-4482-4c21-836e-b935f93168c8",
   "metadata": {},
   "outputs": [
    {
     "name": "stdout",
     "output_type": "stream",
     "text": [
      "60 20.0\n"
     ]
    }
   ],
   "source": [
    "def avg(a,b,c):\n",
    "    #global add3,avg3\n",
    "    add3=a+b+c\n",
    "    avg3=add3/3\n",
    "    print(add3,avg3)\n",
    "avg(10,20,30)"
   ]
  },
  {
   "cell_type": "code",
   "execution_count": 139,
   "id": "b1999e8d-5c27-4453-9564-92afa86046f2",
   "metadata": {},
   "outputs": [
    {
     "data": {
      "text/plain": [
       "(60, 20.0)"
      ]
     },
     "execution_count": 139,
     "metadata": {},
     "output_type": "execute_result"
    }
   ],
   "source": [
    "add3, avg3"
   ]
  },
  {
   "cell_type": "code",
   "execution_count": null,
   "id": "aa464b29-7fd4-487f-8250-d5a23bda592d",
   "metadata": {},
   "outputs": [],
   "source": []
  }
 ],
 "metadata": {
  "kernelspec": {
   "display_name": "Python [conda env:base] *",
   "language": "python",
   "name": "conda-base-py"
  },
  "language_info": {
   "codemirror_mode": {
    "name": "ipython",
    "version": 3
   },
   "file_extension": ".py",
   "mimetype": "text/x-python",
   "name": "python",
   "nbconvert_exporter": "python",
   "pygments_lexer": "ipython3",
   "version": "3.12.7"
  }
 },
 "nbformat": 4,
 "nbformat_minor": 5
}
